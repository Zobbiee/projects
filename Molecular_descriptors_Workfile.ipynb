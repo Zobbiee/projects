{
 "cells": [
  {
   "cell_type": "markdown",
   "metadata": {},
   "source": [
    "## molecular_descriptors.csv Dataset description"
   ]
  },
  {
   "cell_type": "markdown",
   "metadata": {},
   "source": [
    "### Context\n",
    "\n",
    "Ligand-based virtual screening methods are based on the search of ligand similarity by comparing molecular structure descriptors and properties. This dataset contains a list of chemical descriptors used to categorize molecules according to their biological functions. These attributes can be used to classify compounds into diverse substructures and can also be used to prepare molecular databases for high-throughput and virtual screening.\n",
    "\n",
    "\n",
    "### Content\n",
    "\n",
    "This dataset contains data on 145 instances (i.e. molecules) belonging to three different classes (1,2 and 3). The three classes correspond to: \n",
    "\n",
    "1) molecules that are known to bind the cyclooxygenase 1 (COX1) enzyme;\n",
    "\n",
    "2) molecules that are known to bind the HIV-1 protease;\n",
    "\n",
    "3) molecules that are known to bind the Cytochrome C peroxidase enzyme.\n",
    "\n",
    "In particular, there are 45 molecules belonging to the first class, 59 to the second and 41 to the third.\n",
    "\n",
    "\n",
    "Each instance of the dataset is characterized by 8 numerical attributes corresponding to 8 molecular descriptors (D1-D8) and 1 categorical attribute (i.e. the corresponding class: 1, 2 or 3).\n"
   ]
  },
  {
   "cell_type": "markdown",
   "metadata": {},
   "source": [
    "1) Import the relevant Python libraries and modules"
   ]
  },
  {
   "cell_type": "code",
   "execution_count": 89,
   "metadata": {},
   "outputs": [],
   "source": [
    "# Importing necessary libraries\n",
    "import pandas as pd  # For handling data in DataFrame format\n",
    "import numpy as np  # For numerical operations and handling arrays\n",
    "import matplotlib.pyplot as plt  # For data visualization and plotting\n",
    "import seaborn as sns  # For statistical data visualization\n",
    "import plotly.express as px  # For interactive graphs and visualizations\n",
    "import plotly.graph_objects as go  # For creating detailed interactive visualizations\n",
    "from plotly.subplots import make_subplots #For creating subplots\n",
    "from sklearn.preprocessing import StandardScaler  # For autoscaling and standardizing data\n",
    "from IPython.display import display  # Import display function to render the DataFrame\n",
    "\n",
    "\n",
    "# Import useful libraries for PCA\n",
    "from sklearn import decomposition  # For performing Principal Component Analysis (PCA)\n",
    "from sklearn.pipeline import make_pipeline  # For creating machine learning pipelines\n"
   ]
  },
  {
   "cell_type": "markdown",
   "metadata": {},
   "source": [
    "2) Read the molecular_descriptors.csv file and import its content as a DataFrame using Pandas"
   ]
  },
  {
   "cell_type": "code",
   "execution_count": 91,
   "metadata": {},
   "outputs": [],
   "source": [
    "moldesc_df = pd.read_csv(\"molecular_descriptors.csv\", sep=\",\", header=0)"
   ]
  },
  {
   "cell_type": "markdown",
   "metadata": {},
   "source": [
    "3) Display the full data and inspect its info"
   ]
  },
  {
   "cell_type": "code",
   "execution_count": 93,
   "metadata": {},
   "outputs": [
    {
     "data": {
      "text/html": [
       "<div>\n",
       "<style scoped>\n",
       "    .dataframe tbody tr th:only-of-type {\n",
       "        vertical-align: middle;\n",
       "    }\n",
       "\n",
       "    .dataframe tbody tr th {\n",
       "        vertical-align: top;\n",
       "    }\n",
       "\n",
       "    .dataframe thead th {\n",
       "        text-align: right;\n",
       "    }\n",
       "</style>\n",
       "<table border=\"1\" class=\"dataframe\">\n",
       "  <thead>\n",
       "    <tr style=\"text-align: right;\">\n",
       "      <th></th>\n",
       "      <th>D1</th>\n",
       "      <th>D2</th>\n",
       "      <th>D3</th>\n",
       "      <th>D4</th>\n",
       "      <th>D5</th>\n",
       "      <th>D6</th>\n",
       "      <th>D7</th>\n",
       "      <th>D8</th>\n",
       "      <th>Class</th>\n",
       "    </tr>\n",
       "  </thead>\n",
       "  <tbody>\n",
       "    <tr>\n",
       "      <th>0</th>\n",
       "      <td>21.996307</td>\n",
       "      <td>119.300545</td>\n",
       "      <td>42</td>\n",
       "      <td>-0.129873</td>\n",
       "      <td>-0.461116</td>\n",
       "      <td>2.354662</td>\n",
       "      <td>0.739296</td>\n",
       "      <td>0.475639</td>\n",
       "      <td>1</td>\n",
       "    </tr>\n",
       "    <tr>\n",
       "      <th>1</th>\n",
       "      <td>18.002651</td>\n",
       "      <td>111.988098</td>\n",
       "      <td>38</td>\n",
       "      <td>-0.192031</td>\n",
       "      <td>-0.003431</td>\n",
       "      <td>0.010324</td>\n",
       "      <td>0.772352</td>\n",
       "      <td>0.479507</td>\n",
       "      <td>1</td>\n",
       "    </tr>\n",
       "    <tr>\n",
       "      <th>2</th>\n",
       "      <td>26.002590</td>\n",
       "      <td>196.702667</td>\n",
       "      <td>56</td>\n",
       "      <td>0.012251</td>\n",
       "      <td>-0.149585</td>\n",
       "      <td>0.937021</td>\n",
       "      <td>0.546386</td>\n",
       "      <td>0.348632</td>\n",
       "      <td>1</td>\n",
       "    </tr>\n",
       "    <tr>\n",
       "      <th>3</th>\n",
       "      <td>22.004517</td>\n",
       "      <td>119.300545</td>\n",
       "      <td>42</td>\n",
       "      <td>-0.103873</td>\n",
       "      <td>-0.357562</td>\n",
       "      <td>1.760567</td>\n",
       "      <td>0.720476</td>\n",
       "      <td>0.462141</td>\n",
       "      <td>1</td>\n",
       "    </tr>\n",
       "    <tr>\n",
       "      <th>4</th>\n",
       "      <td>23.003124</td>\n",
       "      <td>169.373093</td>\n",
       "      <td>50</td>\n",
       "      <td>-0.161954</td>\n",
       "      <td>-0.516773</td>\n",
       "      <td>2.444123</td>\n",
       "      <td>0.743189</td>\n",
       "      <td>0.451499</td>\n",
       "      <td>1</td>\n",
       "    </tr>\n",
       "    <tr>\n",
       "      <th>5</th>\n",
       "      <td>10.001482</td>\n",
       "      <td>45.800003</td>\n",
       "      <td>20</td>\n",
       "      <td>-0.001307</td>\n",
       "      <td>-0.005326</td>\n",
       "      <td>0.025180</td>\n",
       "      <td>0.625161</td>\n",
       "      <td>0.397128</td>\n",
       "      <td>1</td>\n",
       "    </tr>\n",
       "    <tr>\n",
       "      <th>6</th>\n",
       "      <td>20.003008</td>\n",
       "      <td>104.804337</td>\n",
       "      <td>38</td>\n",
       "      <td>-0.155427</td>\n",
       "      <td>-0.316281</td>\n",
       "      <td>1.652655</td>\n",
       "      <td>0.767007</td>\n",
       "      <td>0.502759</td>\n",
       "      <td>1</td>\n",
       "    </tr>\n",
       "    <tr>\n",
       "      <th>7</th>\n",
       "      <td>15.002267</td>\n",
       "      <td>81.028572</td>\n",
       "      <td>30</td>\n",
       "      <td>-0.175913</td>\n",
       "      <td>-0.267525</td>\n",
       "      <td>1.026331</td>\n",
       "      <td>0.742105</td>\n",
       "      <td>0.461606</td>\n",
       "      <td>1</td>\n",
       "    </tr>\n",
       "    <tr>\n",
       "      <th>8</th>\n",
       "      <td>17.003408</td>\n",
       "      <td>101.388100</td>\n",
       "      <td>36</td>\n",
       "      <td>-0.217380</td>\n",
       "      <td>-0.009711</td>\n",
       "      <td>0.039880</td>\n",
       "      <td>0.795678</td>\n",
       "      <td>0.503703</td>\n",
       "      <td>1</td>\n",
       "    </tr>\n",
       "    <tr>\n",
       "      <th>9</th>\n",
       "      <td>29.999311</td>\n",
       "      <td>239.983139</td>\n",
       "      <td>64</td>\n",
       "      <td>-0.062927</td>\n",
       "      <td>-0.130794</td>\n",
       "      <td>0.258319</td>\n",
       "      <td>0.630174</td>\n",
       "      <td>0.377212</td>\n",
       "      <td>1</td>\n",
       "    </tr>\n",
       "    <tr>\n",
       "      <th>10</th>\n",
       "      <td>30.007343</td>\n",
       "      <td>239.983124</td>\n",
       "      <td>64</td>\n",
       "      <td>-0.002348</td>\n",
       "      <td>-0.325625</td>\n",
       "      <td>1.241003</td>\n",
       "      <td>0.567052</td>\n",
       "      <td>0.360075</td>\n",
       "      <td>1</td>\n",
       "    </tr>\n",
       "    <tr>\n",
       "      <th>11</th>\n",
       "      <td>18.998100</td>\n",
       "      <td>121.163500</td>\n",
       "      <td>40</td>\n",
       "      <td>-0.032200</td>\n",
       "      <td>0.009000</td>\n",
       "      <td>0.035900</td>\n",
       "      <td>0.612400</td>\n",
       "      <td>0.374900</td>\n",
       "      <td>1</td>\n",
       "    </tr>\n",
       "    <tr>\n",
       "      <th>12</th>\n",
       "      <td>14.997700</td>\n",
       "      <td>81.903200</td>\n",
       "      <td>30</td>\n",
       "      <td>-0.171400</td>\n",
       "      <td>-0.133500</td>\n",
       "      <td>0.651000</td>\n",
       "      <td>0.759800</td>\n",
       "      <td>0.474200</td>\n",
       "      <td>1</td>\n",
       "    </tr>\n",
       "    <tr>\n",
       "      <th>13</th>\n",
       "      <td>21.997900</td>\n",
       "      <td>119.300500</td>\n",
       "      <td>42</td>\n",
       "      <td>-0.127000</td>\n",
       "      <td>-0.535800</td>\n",
       "      <td>2.857500</td>\n",
       "      <td>0.739100</td>\n",
       "      <td>0.476400</td>\n",
       "      <td>1</td>\n",
       "    </tr>\n",
       "    <tr>\n",
       "      <th>14</th>\n",
       "      <td>19.001600</td>\n",
       "      <td>120.635800</td>\n",
       "      <td>40</td>\n",
       "      <td>-0.178700</td>\n",
       "      <td>-0.026000</td>\n",
       "      <td>0.100300</td>\n",
       "      <td>0.766700</td>\n",
       "      <td>0.474700</td>\n",
       "      <td>1</td>\n",
       "    </tr>\n",
       "    <tr>\n",
       "      <th>15</th>\n",
       "      <td>19.002600</td>\n",
       "      <td>119.508900</td>\n",
       "      <td>40</td>\n",
       "      <td>-0.193200</td>\n",
       "      <td>-0.159200</td>\n",
       "      <td>0.669600</td>\n",
       "      <td>0.761800</td>\n",
       "      <td>0.475700</td>\n",
       "      <td>1</td>\n",
       "    </tr>\n",
       "    <tr>\n",
       "      <th>16</th>\n",
       "      <td>25.002000</td>\n",
       "      <td>188.285200</td>\n",
       "      <td>54</td>\n",
       "      <td>-0.101100</td>\n",
       "      <td>-0.372500</td>\n",
       "      <td>1.405100</td>\n",
       "      <td>0.686300</td>\n",
       "      <td>0.409400</td>\n",
       "      <td>1</td>\n",
       "    </tr>\n",
       "    <tr>\n",
       "      <th>17</th>\n",
       "      <td>13.997200</td>\n",
       "      <td>73.900000</td>\n",
       "      <td>28</td>\n",
       "      <td>-0.161500</td>\n",
       "      <td>-0.224500</td>\n",
       "      <td>0.949500</td>\n",
       "      <td>0.755100</td>\n",
       "      <td>0.474200</td>\n",
       "      <td>1</td>\n",
       "    </tr>\n",
       "    <tr>\n",
       "      <th>18</th>\n",
       "      <td>21.000600</td>\n",
       "      <td>139.818200</td>\n",
       "      <td>44</td>\n",
       "      <td>0.026700</td>\n",
       "      <td>-0.026600</td>\n",
       "      <td>0.132300</td>\n",
       "      <td>0.487500</td>\n",
       "      <td>0.324900</td>\n",
       "      <td>1</td>\n",
       "    </tr>\n",
       "    <tr>\n",
       "      <th>19</th>\n",
       "      <td>12.002200</td>\n",
       "      <td>58.338100</td>\n",
       "      <td>24</td>\n",
       "      <td>-0.186700</td>\n",
       "      <td>0.006800</td>\n",
       "      <td>0.037200</td>\n",
       "      <td>0.771500</td>\n",
       "      <td>0.488300</td>\n",
       "      <td>1</td>\n",
       "    </tr>\n",
       "    <tr>\n",
       "      <th>20</th>\n",
       "      <td>21.003800</td>\n",
       "      <td>148.800000</td>\n",
       "      <td>46</td>\n",
       "      <td>-0.015800</td>\n",
       "      <td>-0.081900</td>\n",
       "      <td>0.329700</td>\n",
       "      <td>0.607200</td>\n",
       "      <td>0.373500</td>\n",
       "      <td>1</td>\n",
       "    </tr>\n",
       "    <tr>\n",
       "      <th>21</th>\n",
       "      <td>21.995600</td>\n",
       "      <td>145.367100</td>\n",
       "      <td>46</td>\n",
       "      <td>-0.272600</td>\n",
       "      <td>0.000000</td>\n",
       "      <td>0.000000</td>\n",
       "      <td>0.827500</td>\n",
       "      <td>0.537600</td>\n",
       "      <td>1</td>\n",
       "    </tr>\n",
       "    <tr>\n",
       "      <th>22</th>\n",
       "      <td>24.996900</td>\n",
       "      <td>184.387800</td>\n",
       "      <td>54</td>\n",
       "      <td>-0.115200</td>\n",
       "      <td>-0.144000</td>\n",
       "      <td>0.955200</td>\n",
       "      <td>0.706100</td>\n",
       "      <td>0.430400</td>\n",
       "      <td>1</td>\n",
       "    </tr>\n",
       "    <tr>\n",
       "      <th>23</th>\n",
       "      <td>15.997900</td>\n",
       "      <td>95.435700</td>\n",
       "      <td>34</td>\n",
       "      <td>-0.104900</td>\n",
       "      <td>-0.114200</td>\n",
       "      <td>0.510700</td>\n",
       "      <td>0.722500</td>\n",
       "      <td>0.453900</td>\n",
       "      <td>1</td>\n",
       "    </tr>\n",
       "    <tr>\n",
       "      <th>24</th>\n",
       "      <td>22.004900</td>\n",
       "      <td>152.595700</td>\n",
       "      <td>48</td>\n",
       "      <td>-0.255400</td>\n",
       "      <td>-0.000200</td>\n",
       "      <td>0.000300</td>\n",
       "      <td>0.806100</td>\n",
       "      <td>0.510500</td>\n",
       "      <td>1</td>\n",
       "    </tr>\n",
       "    <tr>\n",
       "      <th>25</th>\n",
       "      <td>19.003800</td>\n",
       "      <td>121.163500</td>\n",
       "      <td>40</td>\n",
       "      <td>-0.031300</td>\n",
       "      <td>0.026400</td>\n",
       "      <td>0.103700</td>\n",
       "      <td>0.599600</td>\n",
       "      <td>0.371500</td>\n",
       "      <td>1</td>\n",
       "    </tr>\n",
       "    <tr>\n",
       "      <th>26</th>\n",
       "      <td>16.995900</td>\n",
       "      <td>103.557900</td>\n",
       "      <td>36</td>\n",
       "      <td>-0.220900</td>\n",
       "      <td>-0.005200</td>\n",
       "      <td>0.035300</td>\n",
       "      <td>0.772400</td>\n",
       "      <td>0.478800</td>\n",
       "      <td>1</td>\n",
       "    </tr>\n",
       "    <tr>\n",
       "      <th>27</th>\n",
       "      <td>25.007300</td>\n",
       "      <td>188.285200</td>\n",
       "      <td>54</td>\n",
       "      <td>-0.027600</td>\n",
       "      <td>-0.214100</td>\n",
       "      <td>0.716900</td>\n",
       "      <td>0.585700</td>\n",
       "      <td>0.361500</td>\n",
       "      <td>1</td>\n",
       "    </tr>\n",
       "    <tr>\n",
       "      <th>28</th>\n",
       "      <td>19.000500</td>\n",
       "      <td>120.644600</td>\n",
       "      <td>40</td>\n",
       "      <td>-0.203400</td>\n",
       "      <td>-0.034200</td>\n",
       "      <td>0.139600</td>\n",
       "      <td>0.765100</td>\n",
       "      <td>0.476300</td>\n",
       "      <td>1</td>\n",
       "    </tr>\n",
       "    <tr>\n",
       "      <th>29</th>\n",
       "      <td>12.999400</td>\n",
       "      <td>67.566700</td>\n",
       "      <td>26</td>\n",
       "      <td>0.012800</td>\n",
       "      <td>-0.008400</td>\n",
       "      <td>0.133900</td>\n",
       "      <td>0.540600</td>\n",
       "      <td>0.339600</td>\n",
       "      <td>1</td>\n",
       "    </tr>\n",
       "    <tr>\n",
       "      <th>30</th>\n",
       "      <td>17.998800</td>\n",
       "      <td>112.719100</td>\n",
       "      <td>38</td>\n",
       "      <td>-0.080300</td>\n",
       "      <td>0.025100</td>\n",
       "      <td>0.064500</td>\n",
       "      <td>0.668000</td>\n",
       "      <td>0.405000</td>\n",
       "      <td>1</td>\n",
       "    </tr>\n",
       "    <tr>\n",
       "      <th>31</th>\n",
       "      <td>18.003300</td>\n",
       "      <td>113.830900</td>\n",
       "      <td>38</td>\n",
       "      <td>-0.144600</td>\n",
       "      <td>-0.020600</td>\n",
       "      <td>0.123900</td>\n",
       "      <td>0.741300</td>\n",
       "      <td>0.460800</td>\n",
       "      <td>1</td>\n",
       "    </tr>\n",
       "    <tr>\n",
       "      <th>32</th>\n",
       "      <td>19.002000</td>\n",
       "      <td>123.276200</td>\n",
       "      <td>40</td>\n",
       "      <td>-0.064500</td>\n",
       "      <td>0.017000</td>\n",
       "      <td>0.041400</td>\n",
       "      <td>0.643600</td>\n",
       "      <td>0.381200</td>\n",
       "      <td>1</td>\n",
       "    </tr>\n",
       "    <tr>\n",
       "      <th>33</th>\n",
       "      <td>10.002000</td>\n",
       "      <td>45.800000</td>\n",
       "      <td>20</td>\n",
       "      <td>-0.004000</td>\n",
       "      <td>-0.007300</td>\n",
       "      <td>0.034700</td>\n",
       "      <td>0.628600</td>\n",
       "      <td>0.398700</td>\n",
       "      <td>1</td>\n",
       "    </tr>\n",
       "    <tr>\n",
       "      <th>34</th>\n",
       "      <td>19.002300</td>\n",
       "      <td>116.401200</td>\n",
       "      <td>40</td>\n",
       "      <td>-0.266200</td>\n",
       "      <td>-0.034000</td>\n",
       "      <td>0.176900</td>\n",
       "      <td>0.808800</td>\n",
       "      <td>0.518300</td>\n",
       "      <td>1</td>\n",
       "    </tr>\n",
       "    <tr>\n",
       "      <th>35</th>\n",
       "      <td>24.999300</td>\n",
       "      <td>188.285200</td>\n",
       "      <td>54</td>\n",
       "      <td>-0.046400</td>\n",
       "      <td>-0.241300</td>\n",
       "      <td>0.649700</td>\n",
       "      <td>0.612300</td>\n",
       "      <td>0.371200</td>\n",
       "      <td>1</td>\n",
       "    </tr>\n",
       "    <tr>\n",
       "      <th>36</th>\n",
       "      <td>19.999400</td>\n",
       "      <td>130.759500</td>\n",
       "      <td>42</td>\n",
       "      <td>-0.088700</td>\n",
       "      <td>-0.004800</td>\n",
       "      <td>0.018900</td>\n",
       "      <td>0.700500</td>\n",
       "      <td>0.430900</td>\n",
       "      <td>1</td>\n",
       "    </tr>\n",
       "    <tr>\n",
       "      <th>37</th>\n",
       "      <td>17.996900</td>\n",
       "      <td>110.401600</td>\n",
       "      <td>38</td>\n",
       "      <td>-0.159200</td>\n",
       "      <td>-0.078200</td>\n",
       "      <td>0.306000</td>\n",
       "      <td>0.753100</td>\n",
       "      <td>0.471300</td>\n",
       "      <td>1</td>\n",
       "    </tr>\n",
       "    <tr>\n",
       "      <th>38</th>\n",
       "      <td>18.001000</td>\n",
       "      <td>110.401600</td>\n",
       "      <td>38</td>\n",
       "      <td>-0.164300</td>\n",
       "      <td>-0.075200</td>\n",
       "      <td>0.295400</td>\n",
       "      <td>0.755400</td>\n",
       "      <td>0.472900</td>\n",
       "      <td>1</td>\n",
       "    </tr>\n",
       "    <tr>\n",
       "      <th>39</th>\n",
       "      <td>22.004700</td>\n",
       "      <td>149.216700</td>\n",
       "      <td>46</td>\n",
       "      <td>-0.054100</td>\n",
       "      <td>0.007500</td>\n",
       "      <td>0.041400</td>\n",
       "      <td>0.640600</td>\n",
       "      <td>0.395500</td>\n",
       "      <td>1</td>\n",
       "    </tr>\n",
       "    <tr>\n",
       "      <th>40</th>\n",
       "      <td>20.998700</td>\n",
       "      <td>149.471400</td>\n",
       "      <td>46</td>\n",
       "      <td>-0.006100</td>\n",
       "      <td>-0.164300</td>\n",
       "      <td>0.802200</td>\n",
       "      <td>0.553100</td>\n",
       "      <td>0.347800</td>\n",
       "      <td>1</td>\n",
       "    </tr>\n",
       "    <tr>\n",
       "      <th>41</th>\n",
       "      <td>20.996300</td>\n",
       "      <td>142.913000</td>\n",
       "      <td>46</td>\n",
       "      <td>-0.251200</td>\n",
       "      <td>-0.003000</td>\n",
       "      <td>0.013500</td>\n",
       "      <td>0.804300</td>\n",
       "      <td>0.509400</td>\n",
       "      <td>1</td>\n",
       "    </tr>\n",
       "    <tr>\n",
       "      <th>42</th>\n",
       "      <td>18.002700</td>\n",
       "      <td>111.988100</td>\n",
       "      <td>38</td>\n",
       "      <td>-0.207000</td>\n",
       "      <td>-0.000600</td>\n",
       "      <td>0.002100</td>\n",
       "      <td>0.775800</td>\n",
       "      <td>0.480600</td>\n",
       "      <td>1</td>\n",
       "    </tr>\n",
       "    <tr>\n",
       "      <th>43</th>\n",
       "      <td>25.006800</td>\n",
       "      <td>184.387800</td>\n",
       "      <td>54</td>\n",
       "      <td>-0.105200</td>\n",
       "      <td>-0.131300</td>\n",
       "      <td>0.652500</td>\n",
       "      <td>0.700200</td>\n",
       "      <td>0.426100</td>\n",
       "      <td>1</td>\n",
       "    </tr>\n",
       "    <tr>\n",
       "      <th>44</th>\n",
       "      <td>25.992600</td>\n",
       "      <td>195.592700</td>\n",
       "      <td>56</td>\n",
       "      <td>-0.126000</td>\n",
       "      <td>-0.064200</td>\n",
       "      <td>0.483700</td>\n",
       "      <td>0.719300</td>\n",
       "      <td>0.441800</td>\n",
       "      <td>1</td>\n",
       "    </tr>\n",
       "    <tr>\n",
       "      <th>45</th>\n",
       "      <td>35.002251</td>\n",
       "      <td>291.711487</td>\n",
       "      <td>74</td>\n",
       "      <td>-0.059399</td>\n",
       "      <td>-0.001989</td>\n",
       "      <td>0.008828</td>\n",
       "      <td>0.640983</td>\n",
       "      <td>0.376504</td>\n",
       "      <td>2</td>\n",
       "    </tr>\n",
       "    <tr>\n",
       "      <th>46</th>\n",
       "      <td>51.008350</td>\n",
       "      <td>496.531738</td>\n",
       "      <td>106</td>\n",
       "      <td>-0.092846</td>\n",
       "      <td>-0.036752</td>\n",
       "      <td>0.117160</td>\n",
       "      <td>0.687986</td>\n",
       "      <td>0.409205</td>\n",
       "      <td>2</td>\n",
       "    </tr>\n",
       "    <tr>\n",
       "      <th>47</th>\n",
       "      <td>47.987919</td>\n",
       "      <td>469.752777</td>\n",
       "      <td>106</td>\n",
       "      <td>-0.061047</td>\n",
       "      <td>0.000005</td>\n",
       "      <td>0.000797</td>\n",
       "      <td>0.675923</td>\n",
       "      <td>0.408873</td>\n",
       "      <td>2</td>\n",
       "    </tr>\n",
       "    <tr>\n",
       "      <th>48</th>\n",
       "      <td>46.994061</td>\n",
       "      <td>433.694580</td>\n",
       "      <td>100</td>\n",
       "      <td>-0.072264</td>\n",
       "      <td>-0.001063</td>\n",
       "      <td>0.005799</td>\n",
       "      <td>0.681332</td>\n",
       "      <td>0.408497</td>\n",
       "      <td>2</td>\n",
       "    </tr>\n",
       "    <tr>\n",
       "      <th>49</th>\n",
       "      <td>30.991735</td>\n",
       "      <td>244.111542</td>\n",
       "      <td>66</td>\n",
       "      <td>-0.067771</td>\n",
       "      <td>-0.179482</td>\n",
       "      <td>0.754959</td>\n",
       "      <td>0.661258</td>\n",
       "      <td>0.394006</td>\n",
       "      <td>2</td>\n",
       "    </tr>\n",
       "    <tr>\n",
       "      <th>50</th>\n",
       "      <td>59.009369</td>\n",
       "      <td>576.290771</td>\n",
       "      <td>118</td>\n",
       "      <td>-0.163102</td>\n",
       "      <td>-0.167888</td>\n",
       "      <td>0.773824</td>\n",
       "      <td>0.739732</td>\n",
       "      <td>0.453918</td>\n",
       "      <td>2</td>\n",
       "    </tr>\n",
       "    <tr>\n",
       "      <th>51</th>\n",
       "      <td>48.981926</td>\n",
       "      <td>462.398895</td>\n",
       "      <td>104</td>\n",
       "      <td>-0.065094</td>\n",
       "      <td>-0.197664</td>\n",
       "      <td>0.961834</td>\n",
       "      <td>0.647102</td>\n",
       "      <td>0.387991</td>\n",
       "      <td>2</td>\n",
       "    </tr>\n",
       "    <tr>\n",
       "      <th>52</th>\n",
       "      <td>33.005386</td>\n",
       "      <td>252.075912</td>\n",
       "      <td>68</td>\n",
       "      <td>-0.114123</td>\n",
       "      <td>-0.224626</td>\n",
       "      <td>1.133047</td>\n",
       "      <td>0.721692</td>\n",
       "      <td>0.437289</td>\n",
       "      <td>2</td>\n",
       "    </tr>\n",
       "    <tr>\n",
       "      <th>53</th>\n",
       "      <td>42.005699</td>\n",
       "      <td>384.425140</td>\n",
       "      <td>92</td>\n",
       "      <td>-0.138680</td>\n",
       "      <td>-0.056042</td>\n",
       "      <td>0.323529</td>\n",
       "      <td>0.725828</td>\n",
       "      <td>0.431004</td>\n",
       "      <td>2</td>\n",
       "    </tr>\n",
       "    <tr>\n",
       "      <th>54</th>\n",
       "      <td>63.025597</td>\n",
       "      <td>675.784546</td>\n",
       "      <td>134</td>\n",
       "      <td>-0.190126</td>\n",
       "      <td>-0.002324</td>\n",
       "      <td>0.018053</td>\n",
       "      <td>0.762475</td>\n",
       "      <td>0.464900</td>\n",
       "      <td>2</td>\n",
       "    </tr>\n",
       "    <tr>\n",
       "      <th>55</th>\n",
       "      <td>40.999294</td>\n",
       "      <td>349.725311</td>\n",
       "      <td>84</td>\n",
       "      <td>-0.201789</td>\n",
       "      <td>-0.047584</td>\n",
       "      <td>0.166645</td>\n",
       "      <td>0.782750</td>\n",
       "      <td>0.486290</td>\n",
       "      <td>2</td>\n",
       "    </tr>\n",
       "    <tr>\n",
       "      <th>56</th>\n",
       "      <td>37.993641</td>\n",
       "      <td>331.137482</td>\n",
       "      <td>82</td>\n",
       "      <td>-0.100505</td>\n",
       "      <td>-0.006323</td>\n",
       "      <td>0.038131</td>\n",
       "      <td>0.692607</td>\n",
       "      <td>0.408740</td>\n",
       "      <td>2</td>\n",
       "    </tr>\n",
       "    <tr>\n",
       "      <th>57</th>\n",
       "      <td>48.986355</td>\n",
       "      <td>476.854370</td>\n",
       "      <td>106</td>\n",
       "      <td>-0.063554</td>\n",
       "      <td>-0.025406</td>\n",
       "      <td>0.064584</td>\n",
       "      <td>0.658095</td>\n",
       "      <td>0.393934</td>\n",
       "      <td>2</td>\n",
       "    </tr>\n",
       "    <tr>\n",
       "      <th>58</th>\n",
       "      <td>40.015846</td>\n",
       "      <td>369.143921</td>\n",
       "      <td>88</td>\n",
       "      <td>-0.024769</td>\n",
       "      <td>-0.000052</td>\n",
       "      <td>0.000075</td>\n",
       "      <td>0.589869</td>\n",
       "      <td>0.339982</td>\n",
       "      <td>2</td>\n",
       "    </tr>\n",
       "    <tr>\n",
       "      <th>59</th>\n",
       "      <td>40.006294</td>\n",
       "      <td>376.762573</td>\n",
       "      <td>88</td>\n",
       "      <td>-0.028853</td>\n",
       "      <td>-0.000723</td>\n",
       "      <td>0.001875</td>\n",
       "      <td>0.592110</td>\n",
       "      <td>0.340645</td>\n",
       "      <td>2</td>\n",
       "    </tr>\n",
       "    <tr>\n",
       "      <th>60</th>\n",
       "      <td>42.015957</td>\n",
       "      <td>399.018341</td>\n",
       "      <td>92</td>\n",
       "      <td>-0.042770</td>\n",
       "      <td>0.000082</td>\n",
       "      <td>0.000084</td>\n",
       "      <td>0.602926</td>\n",
       "      <td>0.346052</td>\n",
       "      <td>2</td>\n",
       "    </tr>\n",
       "    <tr>\n",
       "      <th>61</th>\n",
       "      <td>45.980476</td>\n",
       "      <td>436.200439</td>\n",
       "      <td>98</td>\n",
       "      <td>-0.081615</td>\n",
       "      <td>-0.004404</td>\n",
       "      <td>0.010918</td>\n",
       "      <td>0.694612</td>\n",
       "      <td>0.418760</td>\n",
       "      <td>2</td>\n",
       "    </tr>\n",
       "    <tr>\n",
       "      <th>62</th>\n",
       "      <td>44.997509</td>\n",
       "      <td>419.433289</td>\n",
       "      <td>98</td>\n",
       "      <td>-0.045016</td>\n",
       "      <td>0.000262</td>\n",
       "      <td>0.006351</td>\n",
       "      <td>0.649960</td>\n",
       "      <td>0.391499</td>\n",
       "      <td>2</td>\n",
       "    </tr>\n",
       "    <tr>\n",
       "      <th>63</th>\n",
       "      <td>45.990517</td>\n",
       "      <td>430.221771</td>\n",
       "      <td>94</td>\n",
       "      <td>-0.084316</td>\n",
       "      <td>-0.000052</td>\n",
       "      <td>0.003361</td>\n",
       "      <td>0.695730</td>\n",
       "      <td>0.414558</td>\n",
       "      <td>2</td>\n",
       "    </tr>\n",
       "    <tr>\n",
       "      <th>64</th>\n",
       "      <td>49.977581</td>\n",
       "      <td>498.277222</td>\n",
       "      <td>110</td>\n",
       "      <td>-0.050818</td>\n",
       "      <td>-0.000368</td>\n",
       "      <td>0.001852</td>\n",
       "      <td>0.658793</td>\n",
       "      <td>0.397906</td>\n",
       "      <td>2</td>\n",
       "    </tr>\n",
       "    <tr>\n",
       "      <th>65</th>\n",
       "      <td>50.007343</td>\n",
       "      <td>500.494629</td>\n",
       "      <td>110</td>\n",
       "      <td>-0.050342</td>\n",
       "      <td>0.000007</td>\n",
       "      <td>0.000314</td>\n",
       "      <td>0.660975</td>\n",
       "      <td>0.397199</td>\n",
       "      <td>2</td>\n",
       "    </tr>\n",
       "    <tr>\n",
       "      <th>66</th>\n",
       "      <td>40.989933</td>\n",
       "      <td>388.169342</td>\n",
       "      <td>90</td>\n",
       "      <td>-0.033293</td>\n",
       "      <td>-0.013752</td>\n",
       "      <td>0.057745</td>\n",
       "      <td>0.608711</td>\n",
       "      <td>0.356196</td>\n",
       "      <td>2</td>\n",
       "    </tr>\n",
       "    <tr>\n",
       "      <th>67</th>\n",
       "      <td>51.989788</td>\n",
       "      <td>528.593994</td>\n",
       "      <td>114</td>\n",
       "      <td>-0.050181</td>\n",
       "      <td>-0.000189</td>\n",
       "      <td>0.001036</td>\n",
       "      <td>0.659014</td>\n",
       "      <td>0.395579</td>\n",
       "      <td>2</td>\n",
       "    </tr>\n",
       "    <tr>\n",
       "      <th>68</th>\n",
       "      <td>52.013168</td>\n",
       "      <td>530.638123</td>\n",
       "      <td>114</td>\n",
       "      <td>-0.044553</td>\n",
       "      <td>-0.000182</td>\n",
       "      <td>0.000964</td>\n",
       "      <td>0.650158</td>\n",
       "      <td>0.390803</td>\n",
       "      <td>2</td>\n",
       "    </tr>\n",
       "    <tr>\n",
       "      <th>69</th>\n",
       "      <td>52.015873</td>\n",
       "      <td>530.104797</td>\n",
       "      <td>114</td>\n",
       "      <td>-0.050778</td>\n",
       "      <td>-0.000008</td>\n",
       "      <td>0.000035</td>\n",
       "      <td>0.662203</td>\n",
       "      <td>0.398514</td>\n",
       "      <td>2</td>\n",
       "    </tr>\n",
       "    <tr>\n",
       "      <th>70</th>\n",
       "      <td>54.014034</td>\n",
       "      <td>536.217651</td>\n",
       "      <td>114</td>\n",
       "      <td>-0.131443</td>\n",
       "      <td>-0.053384</td>\n",
       "      <td>0.219370</td>\n",
       "      <td>0.720425</td>\n",
       "      <td>0.433686</td>\n",
       "      <td>2</td>\n",
       "    </tr>\n",
       "    <tr>\n",
       "      <th>71</th>\n",
       "      <td>46.994884</td>\n",
       "      <td>450.390137</td>\n",
       "      <td>104</td>\n",
       "      <td>-0.058804</td>\n",
       "      <td>-0.000012</td>\n",
       "      <td>0.000600</td>\n",
       "      <td>0.674761</td>\n",
       "      <td>0.409552</td>\n",
       "      <td>2</td>\n",
       "    </tr>\n",
       "    <tr>\n",
       "      <th>72</th>\n",
       "      <td>55.977230</td>\n",
       "      <td>562.537109</td>\n",
       "      <td>118</td>\n",
       "      <td>-0.142934</td>\n",
       "      <td>-0.060878</td>\n",
       "      <td>0.253439</td>\n",
       "      <td>0.728838</td>\n",
       "      <td>0.439721</td>\n",
       "      <td>2</td>\n",
       "    </tr>\n",
       "    <tr>\n",
       "      <th>73</th>\n",
       "      <td>39.003159</td>\n",
       "      <td>338.550415</td>\n",
       "      <td>82</td>\n",
       "      <td>-0.069586</td>\n",
       "      <td>-0.000689</td>\n",
       "      <td>0.005279</td>\n",
       "      <td>0.680977</td>\n",
       "      <td>0.411917</td>\n",
       "      <td>2</td>\n",
       "    </tr>\n",
       "    <tr>\n",
       "      <th>74</th>\n",
       "      <td>55.993900</td>\n",
       "      <td>561.240906</td>\n",
       "      <td>118</td>\n",
       "      <td>-0.162477</td>\n",
       "      <td>-0.013197</td>\n",
       "      <td>0.059142</td>\n",
       "      <td>0.743544</td>\n",
       "      <td>0.445352</td>\n",
       "      <td>2</td>\n",
       "    </tr>\n",
       "    <tr>\n",
       "      <th>75</th>\n",
       "      <td>58.015995</td>\n",
       "      <td>590.939941</td>\n",
       "      <td>122</td>\n",
       "      <td>-0.144651</td>\n",
       "      <td>-0.000157</td>\n",
       "      <td>0.000479</td>\n",
       "      <td>0.737630</td>\n",
       "      <td>0.439964</td>\n",
       "      <td>2</td>\n",
       "    </tr>\n",
       "    <tr>\n",
       "      <th>76</th>\n",
       "      <td>41.991051</td>\n",
       "      <td>373.147583</td>\n",
       "      <td>86</td>\n",
       "      <td>-0.146331</td>\n",
       "      <td>-0.000924</td>\n",
       "      <td>0.008568</td>\n",
       "      <td>0.744701</td>\n",
       "      <td>0.451812</td>\n",
       "      <td>2</td>\n",
       "    </tr>\n",
       "    <tr>\n",
       "      <th>77</th>\n",
       "      <td>41.016750</td>\n",
       "      <td>360.532227</td>\n",
       "      <td>84</td>\n",
       "      <td>-0.049244</td>\n",
       "      <td>-0.000275</td>\n",
       "      <td>0.002080</td>\n",
       "      <td>0.652664</td>\n",
       "      <td>0.386140</td>\n",
       "      <td>2</td>\n",
       "    </tr>\n",
       "    <tr>\n",
       "      <th>78</th>\n",
       "      <td>40.995365</td>\n",
       "      <td>360.838043</td>\n",
       "      <td>88</td>\n",
       "      <td>-0.147620</td>\n",
       "      <td>-0.000461</td>\n",
       "      <td>0.001545</td>\n",
       "      <td>0.720137</td>\n",
       "      <td>0.421548</td>\n",
       "      <td>2</td>\n",
       "    </tr>\n",
       "    <tr>\n",
       "      <th>79</th>\n",
       "      <td>39.014606</td>\n",
       "      <td>342.556946</td>\n",
       "      <td>84</td>\n",
       "      <td>-0.133061</td>\n",
       "      <td>-0.033553</td>\n",
       "      <td>0.183828</td>\n",
       "      <td>0.714568</td>\n",
       "      <td>0.422425</td>\n",
       "      <td>2</td>\n",
       "    </tr>\n",
       "    <tr>\n",
       "      <th>80</th>\n",
       "      <td>48.015408</td>\n",
       "      <td>456.583130</td>\n",
       "      <td>106</td>\n",
       "      <td>-0.095465</td>\n",
       "      <td>-0.192202</td>\n",
       "      <td>0.744726</td>\n",
       "      <td>0.675578</td>\n",
       "      <td>0.405066</td>\n",
       "      <td>2</td>\n",
       "    </tr>\n",
       "    <tr>\n",
       "      <th>81</th>\n",
       "      <td>45.998219</td>\n",
       "      <td>450.064880</td>\n",
       "      <td>102</td>\n",
       "      <td>-0.044083</td>\n",
       "      <td>-0.004412</td>\n",
       "      <td>0.053675</td>\n",
       "      <td>0.648577</td>\n",
       "      <td>0.387530</td>\n",
       "      <td>2</td>\n",
       "    </tr>\n",
       "    <tr>\n",
       "      <th>82</th>\n",
       "      <td>51.007839</td>\n",
       "      <td>503.755432</td>\n",
       "      <td>110</td>\n",
       "      <td>-0.078732</td>\n",
       "      <td>-0.028378</td>\n",
       "      <td>0.086027</td>\n",
       "      <td>0.685053</td>\n",
       "      <td>0.414574</td>\n",
       "      <td>2</td>\n",
       "    </tr>\n",
       "    <tr>\n",
       "      <th>83</th>\n",
       "      <td>58.008533</td>\n",
       "      <td>590.939941</td>\n",
       "      <td>122</td>\n",
       "      <td>-0.150382</td>\n",
       "      <td>-0.000063</td>\n",
       "      <td>0.000129</td>\n",
       "      <td>0.740694</td>\n",
       "      <td>0.440715</td>\n",
       "      <td>2</td>\n",
       "    </tr>\n",
       "    <tr>\n",
       "      <th>84</th>\n",
       "      <td>51.000004</td>\n",
       "      <td>478.954010</td>\n",
       "      <td>108</td>\n",
       "      <td>-0.175846</td>\n",
       "      <td>-0.059593</td>\n",
       "      <td>0.274520</td>\n",
       "      <td>0.742174</td>\n",
       "      <td>0.448909</td>\n",
       "      <td>2</td>\n",
       "    </tr>\n",
       "    <tr>\n",
       "      <th>85</th>\n",
       "      <td>47.018047</td>\n",
       "      <td>441.185028</td>\n",
       "      <td>102</td>\n",
       "      <td>-0.154417</td>\n",
       "      <td>-0.064879</td>\n",
       "      <td>0.331124</td>\n",
       "      <td>0.727675</td>\n",
       "      <td>0.432806</td>\n",
       "      <td>2</td>\n",
       "    </tr>\n",
       "    <tr>\n",
       "      <th>86</th>\n",
       "      <td>47.010860</td>\n",
       "      <td>465.533295</td>\n",
       "      <td>102</td>\n",
       "      <td>-0.048442</td>\n",
       "      <td>-0.018026</td>\n",
       "      <td>0.051812</td>\n",
       "      <td>0.628981</td>\n",
       "      <td>0.371043</td>\n",
       "      <td>2</td>\n",
       "    </tr>\n",
       "    <tr>\n",
       "      <th>87</th>\n",
       "      <td>43.009041</td>\n",
       "      <td>419.727936</td>\n",
       "      <td>94</td>\n",
       "      <td>-0.023466</td>\n",
       "      <td>-0.005565</td>\n",
       "      <td>0.021207</td>\n",
       "      <td>0.585241</td>\n",
       "      <td>0.340873</td>\n",
       "      <td>2</td>\n",
       "    </tr>\n",
       "    <tr>\n",
       "      <th>88</th>\n",
       "      <td>48.002605</td>\n",
       "      <td>451.519043</td>\n",
       "      <td>98</td>\n",
       "      <td>-0.129501</td>\n",
       "      <td>-0.001607</td>\n",
       "      <td>0.007517</td>\n",
       "      <td>0.734231</td>\n",
       "      <td>0.444648</td>\n",
       "      <td>2</td>\n",
       "    </tr>\n",
       "    <tr>\n",
       "      <th>89</th>\n",
       "      <td>40.988037</td>\n",
       "      <td>368.419434</td>\n",
       "      <td>88</td>\n",
       "      <td>-0.132085</td>\n",
       "      <td>-0.058272</td>\n",
       "      <td>0.312480</td>\n",
       "      <td>0.719883</td>\n",
       "      <td>0.426898</td>\n",
       "      <td>2</td>\n",
       "    </tr>\n",
       "    <tr>\n",
       "      <th>90</th>\n",
       "      <td>40.012447</td>\n",
       "      <td>358.815704</td>\n",
       "      <td>86</td>\n",
       "      <td>-0.102127</td>\n",
       "      <td>-0.015262</td>\n",
       "      <td>0.101642</td>\n",
       "      <td>0.698164</td>\n",
       "      <td>0.413691</td>\n",
       "      <td>2</td>\n",
       "    </tr>\n",
       "    <tr>\n",
       "      <th>91</th>\n",
       "      <td>51.015411</td>\n",
       "      <td>496.531708</td>\n",
       "      <td>106</td>\n",
       "      <td>-0.091886</td>\n",
       "      <td>-0.053912</td>\n",
       "      <td>0.172637</td>\n",
       "      <td>0.687863</td>\n",
       "      <td>0.409682</td>\n",
       "      <td>2</td>\n",
       "    </tr>\n",
       "    <tr>\n",
       "      <th>92</th>\n",
       "      <td>59.997257</td>\n",
       "      <td>631.815186</td>\n",
       "      <td>128</td>\n",
       "      <td>-0.187306</td>\n",
       "      <td>-0.000196</td>\n",
       "      <td>0.001251</td>\n",
       "      <td>0.757601</td>\n",
       "      <td>0.458315</td>\n",
       "      <td>2</td>\n",
       "    </tr>\n",
       "    <tr>\n",
       "      <th>93</th>\n",
       "      <td>39.008621</td>\n",
       "      <td>340.956604</td>\n",
       "      <td>84</td>\n",
       "      <td>-0.122630</td>\n",
       "      <td>-0.027623</td>\n",
       "      <td>0.146857</td>\n",
       "      <td>0.708412</td>\n",
       "      <td>0.417351</td>\n",
       "      <td>2</td>\n",
       "    </tr>\n",
       "    <tr>\n",
       "      <th>94</th>\n",
       "      <td>46.008797</td>\n",
       "      <td>447.441895</td>\n",
       "      <td>102</td>\n",
       "      <td>-0.057728</td>\n",
       "      <td>-0.000755</td>\n",
       "      <td>0.024943</td>\n",
       "      <td>0.660892</td>\n",
       "      <td>0.392663</td>\n",
       "      <td>2</td>\n",
       "    </tr>\n",
       "    <tr>\n",
       "      <th>95</th>\n",
       "      <td>46.990685</td>\n",
       "      <td>443.999084</td>\n",
       "      <td>100</td>\n",
       "      <td>-0.082566</td>\n",
       "      <td>-0.006544</td>\n",
       "      <td>0.019707</td>\n",
       "      <td>0.696008</td>\n",
       "      <td>0.423070</td>\n",
       "      <td>2</td>\n",
       "    </tr>\n",
       "    <tr>\n",
       "      <th>96</th>\n",
       "      <td>48.008808</td>\n",
       "      <td>462.583099</td>\n",
       "      <td>102</td>\n",
       "      <td>-0.063893</td>\n",
       "      <td>-0.001150</td>\n",
       "      <td>0.004818</td>\n",
       "      <td>0.675382</td>\n",
       "      <td>0.406148</td>\n",
       "      <td>2</td>\n",
       "    </tr>\n",
       "    <tr>\n",
       "      <th>97</th>\n",
       "      <td>44.007874</td>\n",
       "      <td>421.264374</td>\n",
       "      <td>98</td>\n",
       "      <td>-0.057306</td>\n",
       "      <td>-0.010695</td>\n",
       "      <td>0.061250</td>\n",
       "      <td>0.656482</td>\n",
       "      <td>0.390359</td>\n",
       "      <td>2</td>\n",
       "    </tr>\n",
       "    <tr>\n",
       "      <th>98</th>\n",
       "      <td>45.998219</td>\n",
       "      <td>450.064850</td>\n",
       "      <td>102</td>\n",
       "      <td>-0.044083</td>\n",
       "      <td>-0.004412</td>\n",
       "      <td>0.053675</td>\n",
       "      <td>0.648577</td>\n",
       "      <td>0.387530</td>\n",
       "      <td>2</td>\n",
       "    </tr>\n",
       "    <tr>\n",
       "      <th>99</th>\n",
       "      <td>49.006977</td>\n",
       "      <td>476.191589</td>\n",
       "      <td>102</td>\n",
       "      <td>-0.127119</td>\n",
       "      <td>-0.001565</td>\n",
       "      <td>0.009721</td>\n",
       "      <td>0.732402</td>\n",
       "      <td>0.443092</td>\n",
       "      <td>2</td>\n",
       "    </tr>\n",
       "    <tr>\n",
       "      <th>100</th>\n",
       "      <td>47.986160</td>\n",
       "      <td>459.793976</td>\n",
       "      <td>100</td>\n",
       "      <td>-0.127869</td>\n",
       "      <td>-0.003147</td>\n",
       "      <td>0.013363</td>\n",
       "      <td>0.732381</td>\n",
       "      <td>0.443783</td>\n",
       "      <td>2</td>\n",
       "    </tr>\n",
       "    <tr>\n",
       "      <th>101</th>\n",
       "      <td>48.007408</td>\n",
       "      <td>461.067993</td>\n",
       "      <td>102</td>\n",
       "      <td>-0.111352</td>\n",
       "      <td>-0.547209</td>\n",
       "      <td>2.519987</td>\n",
       "      <td>0.691810</td>\n",
       "      <td>0.412389</td>\n",
       "      <td>2</td>\n",
       "    </tr>\n",
       "    <tr>\n",
       "      <th>102</th>\n",
       "      <td>45.004894</td>\n",
       "      <td>413.678680</td>\n",
       "      <td>96</td>\n",
       "      <td>-0.088364</td>\n",
       "      <td>-0.131926</td>\n",
       "      <td>0.632666</td>\n",
       "      <td>0.671319</td>\n",
       "      <td>0.399279</td>\n",
       "      <td>2</td>\n",
       "    </tr>\n",
       "    <tr>\n",
       "      <th>103</th>\n",
       "      <td>41.995422</td>\n",
       "      <td>360.643524</td>\n",
       "      <td>84</td>\n",
       "      <td>-0.085317</td>\n",
       "      <td>-0.012750</td>\n",
       "      <td>0.038481</td>\n",
       "      <td>0.682639</td>\n",
       "      <td>0.410769</td>\n",
       "      <td>2</td>\n",
       "    </tr>\n",
       "    <tr>\n",
       "      <th>104</th>\n",
       "      <td>6.998700</td>\n",
       "      <td>25.833300</td>\n",
       "      <td>14</td>\n",
       "      <td>-0.006900</td>\n",
       "      <td>-0.059600</td>\n",
       "      <td>0.288100</td>\n",
       "      <td>0.640300</td>\n",
       "      <td>0.416000</td>\n",
       "      <td>3</td>\n",
       "    </tr>\n",
       "    <tr>\n",
       "      <th>105</th>\n",
       "      <td>9.001500</td>\n",
       "      <td>41.000000</td>\n",
       "      <td>20</td>\n",
       "      <td>-0.033900</td>\n",
       "      <td>0.000000</td>\n",
       "      <td>0.000100</td>\n",
       "      <td>0.675300</td>\n",
       "      <td>0.424300</td>\n",
       "      <td>3</td>\n",
       "    </tr>\n",
       "    <tr>\n",
       "      <th>106</th>\n",
       "      <td>9.000000</td>\n",
       "      <td>41.000000</td>\n",
       "      <td>20</td>\n",
       "      <td>-0.034400</td>\n",
       "      <td>-0.000400</td>\n",
       "      <td>0.001300</td>\n",
       "      <td>0.671400</td>\n",
       "      <td>0.419600</td>\n",
       "      <td>3</td>\n",
       "    </tr>\n",
       "    <tr>\n",
       "      <th>107</th>\n",
       "      <td>9.001000</td>\n",
       "      <td>41.000000</td>\n",
       "      <td>20</td>\n",
       "      <td>-0.034300</td>\n",
       "      <td>0.000000</td>\n",
       "      <td>0.000100</td>\n",
       "      <td>0.674900</td>\n",
       "      <td>0.423600</td>\n",
       "      <td>3</td>\n",
       "    </tr>\n",
       "    <tr>\n",
       "      <th>108</th>\n",
       "      <td>8.000800</td>\n",
       "      <td>31.566700</td>\n",
       "      <td>16</td>\n",
       "      <td>-0.085500</td>\n",
       "      <td>-0.274600</td>\n",
       "      <td>1.468200</td>\n",
       "      <td>0.705100</td>\n",
       "      <td>0.447800</td>\n",
       "      <td>3</td>\n",
       "    </tr>\n",
       "    <tr>\n",
       "      <th>109</th>\n",
       "      <td>7.998700</td>\n",
       "      <td>32.166700</td>\n",
       "      <td>16</td>\n",
       "      <td>-0.006100</td>\n",
       "      <td>-0.164800</td>\n",
       "      <td>0.775300</td>\n",
       "      <td>0.612500</td>\n",
       "      <td>0.397600</td>\n",
       "      <td>3</td>\n",
       "    </tr>\n",
       "    <tr>\n",
       "      <th>110</th>\n",
       "      <td>7.999600</td>\n",
       "      <td>32.066700</td>\n",
       "      <td>16</td>\n",
       "      <td>-0.095100</td>\n",
       "      <td>-0.000300</td>\n",
       "      <td>0.001800</td>\n",
       "      <td>0.698600</td>\n",
       "      <td>0.436100</td>\n",
       "      <td>3</td>\n",
       "    </tr>\n",
       "    <tr>\n",
       "      <th>111</th>\n",
       "      <td>7.999600</td>\n",
       "      <td>31.566700</td>\n",
       "      <td>16</td>\n",
       "      <td>-0.081400</td>\n",
       "      <td>-0.131500</td>\n",
       "      <td>0.683800</td>\n",
       "      <td>0.715400</td>\n",
       "      <td>0.454800</td>\n",
       "      <td>3</td>\n",
       "    </tr>\n",
       "    <tr>\n",
       "      <th>112</th>\n",
       "      <td>6.999100</td>\n",
       "      <td>25.833300</td>\n",
       "      <td>14</td>\n",
       "      <td>-0.012900</td>\n",
       "      <td>-0.058100</td>\n",
       "      <td>0.281800</td>\n",
       "      <td>0.647200</td>\n",
       "      <td>0.419000</td>\n",
       "      <td>3</td>\n",
       "    </tr>\n",
       "    <tr>\n",
       "      <th>113</th>\n",
       "      <td>7.000400</td>\n",
       "      <td>25.833300</td>\n",
       "      <td>14</td>\n",
       "      <td>-0.010900</td>\n",
       "      <td>-0.046800</td>\n",
       "      <td>0.224500</td>\n",
       "      <td>0.644000</td>\n",
       "      <td>0.417400</td>\n",
       "      <td>3</td>\n",
       "    </tr>\n",
       "    <tr>\n",
       "      <th>114</th>\n",
       "      <td>6.998800</td>\n",
       "      <td>25.666700</td>\n",
       "      <td>14</td>\n",
       "      <td>-0.112300</td>\n",
       "      <td>-0.214000</td>\n",
       "      <td>1.200700</td>\n",
       "      <td>0.737900</td>\n",
       "      <td>0.479100</td>\n",
       "      <td>3</td>\n",
       "    </tr>\n",
       "    <tr>\n",
       "      <th>115</th>\n",
       "      <td>6.998700</td>\n",
       "      <td>25.833300</td>\n",
       "      <td>14</td>\n",
       "      <td>-0.007600</td>\n",
       "      <td>-0.047800</td>\n",
       "      <td>0.225700</td>\n",
       "      <td>0.639600</td>\n",
       "      <td>0.414800</td>\n",
       "      <td>3</td>\n",
       "    </tr>\n",
       "    <tr>\n",
       "      <th>116</th>\n",
       "      <td>8.001400</td>\n",
       "      <td>32.166700</td>\n",
       "      <td>16</td>\n",
       "      <td>0.006000</td>\n",
       "      <td>-0.088600</td>\n",
       "      <td>0.413300</td>\n",
       "      <td>0.600000</td>\n",
       "      <td>0.393700</td>\n",
       "      <td>3</td>\n",
       "    </tr>\n",
       "    <tr>\n",
       "      <th>117</th>\n",
       "      <td>8.999500</td>\n",
       "      <td>39.333300</td>\n",
       "      <td>18</td>\n",
       "      <td>0.043600</td>\n",
       "      <td>-0.004500</td>\n",
       "      <td>0.021500</td>\n",
       "      <td>0.512600</td>\n",
       "      <td>0.336400</td>\n",
       "      <td>3</td>\n",
       "    </tr>\n",
       "    <tr>\n",
       "      <th>118</th>\n",
       "      <td>7.998700</td>\n",
       "      <td>32.066700</td>\n",
       "      <td>16</td>\n",
       "      <td>-0.091900</td>\n",
       "      <td>0.000000</td>\n",
       "      <td>0.000000</td>\n",
       "      <td>0.700700</td>\n",
       "      <td>0.439600</td>\n",
       "      <td>3</td>\n",
       "    </tr>\n",
       "    <tr>\n",
       "      <th>119</th>\n",
       "      <td>8.000900</td>\n",
       "      <td>32.166700</td>\n",
       "      <td>16</td>\n",
       "      <td>0.004200</td>\n",
       "      <td>-0.094300</td>\n",
       "      <td>0.439700</td>\n",
       "      <td>0.601200</td>\n",
       "      <td>0.392100</td>\n",
       "      <td>3</td>\n",
       "    </tr>\n",
       "    <tr>\n",
       "      <th>120</th>\n",
       "      <td>7.000800</td>\n",
       "      <td>25.666700</td>\n",
       "      <td>14</td>\n",
       "      <td>-0.094100</td>\n",
       "      <td>-0.118800</td>\n",
       "      <td>0.591300</td>\n",
       "      <td>0.717300</td>\n",
       "      <td>0.464300</td>\n",
       "      <td>3</td>\n",
       "    </tr>\n",
       "    <tr>\n",
       "      <th>121</th>\n",
       "      <td>7.999600</td>\n",
       "      <td>32.833300</td>\n",
       "      <td>16</td>\n",
       "      <td>0.022000</td>\n",
       "      <td>-0.002200</td>\n",
       "      <td>0.013700</td>\n",
       "      <td>0.571300</td>\n",
       "      <td>0.368400</td>\n",
       "      <td>3</td>\n",
       "    </tr>\n",
       "    <tr>\n",
       "      <th>122</th>\n",
       "      <td>8.001700</td>\n",
       "      <td>32.000000</td>\n",
       "      <td>16</td>\n",
       "      <td>-0.084200</td>\n",
       "      <td>-0.000600</td>\n",
       "      <td>0.001000</td>\n",
       "      <td>0.707200</td>\n",
       "      <td>0.456200</td>\n",
       "      <td>3</td>\n",
       "    </tr>\n",
       "    <tr>\n",
       "      <th>123</th>\n",
       "      <td>6.999600</td>\n",
       "      <td>26.333300</td>\n",
       "      <td>14</td>\n",
       "      <td>0.045600</td>\n",
       "      <td>-0.144300</td>\n",
       "      <td>0.712800</td>\n",
       "      <td>0.503300</td>\n",
       "      <td>0.349000</td>\n",
       "      <td>3</td>\n",
       "    </tr>\n",
       "    <tr>\n",
       "      <th>124</th>\n",
       "      <td>7.001200</td>\n",
       "      <td>26.166700</td>\n",
       "      <td>14</td>\n",
       "      <td>-0.048900</td>\n",
       "      <td>-0.063500</td>\n",
       "      <td>0.295600</td>\n",
       "      <td>0.660600</td>\n",
       "      <td>0.432600</td>\n",
       "      <td>3</td>\n",
       "    </tr>\n",
       "    <tr>\n",
       "      <th>125</th>\n",
       "      <td>6.999200</td>\n",
       "      <td>25.666700</td>\n",
       "      <td>14</td>\n",
       "      <td>-0.122600</td>\n",
       "      <td>-0.379500</td>\n",
       "      <td>2.065000</td>\n",
       "      <td>0.735900</td>\n",
       "      <td>0.477300</td>\n",
       "      <td>3</td>\n",
       "    </tr>\n",
       "    <tr>\n",
       "      <th>126</th>\n",
       "      <td>7.000000</td>\n",
       "      <td>25.833300</td>\n",
       "      <td>14</td>\n",
       "      <td>-0.007600</td>\n",
       "      <td>-0.047300</td>\n",
       "      <td>0.116200</td>\n",
       "      <td>0.629600</td>\n",
       "      <td>0.410600</td>\n",
       "      <td>3</td>\n",
       "    </tr>\n",
       "    <tr>\n",
       "      <th>127</th>\n",
       "      <td>7.000800</td>\n",
       "      <td>26.333300</td>\n",
       "      <td>14</td>\n",
       "      <td>0.037500</td>\n",
       "      <td>-0.017900</td>\n",
       "      <td>0.083200</td>\n",
       "      <td>0.533500</td>\n",
       "      <td>0.354700</td>\n",
       "      <td>3</td>\n",
       "    </tr>\n",
       "    <tr>\n",
       "      <th>128</th>\n",
       "      <td>7.000400</td>\n",
       "      <td>25.666700</td>\n",
       "      <td>14</td>\n",
       "      <td>-0.116900</td>\n",
       "      <td>-0.272200</td>\n",
       "      <td>1.431700</td>\n",
       "      <td>0.743200</td>\n",
       "      <td>0.483600</td>\n",
       "      <td>3</td>\n",
       "    </tr>\n",
       "    <tr>\n",
       "      <th>129</th>\n",
       "      <td>8.000400</td>\n",
       "      <td>32.833300</td>\n",
       "      <td>16</td>\n",
       "      <td>0.025200</td>\n",
       "      <td>-0.001900</td>\n",
       "      <td>0.009500</td>\n",
       "      <td>0.561900</td>\n",
       "      <td>0.361100</td>\n",
       "      <td>3</td>\n",
       "    </tr>\n",
       "    <tr>\n",
       "      <th>130</th>\n",
       "      <td>7.998200</td>\n",
       "      <td>32.166700</td>\n",
       "      <td>16</td>\n",
       "      <td>0.001000</td>\n",
       "      <td>-0.126400</td>\n",
       "      <td>0.592000</td>\n",
       "      <td>0.604100</td>\n",
       "      <td>0.394400</td>\n",
       "      <td>3</td>\n",
       "    </tr>\n",
       "    <tr>\n",
       "      <th>131</th>\n",
       "      <td>6.999600</td>\n",
       "      <td>26.166700</td>\n",
       "      <td>14</td>\n",
       "      <td>-0.118600</td>\n",
       "      <td>-0.018600</td>\n",
       "      <td>0.090200</td>\n",
       "      <td>0.713200</td>\n",
       "      <td>0.457000</td>\n",
       "      <td>3</td>\n",
       "    </tr>\n",
       "    <tr>\n",
       "      <th>132</th>\n",
       "      <td>7.000400</td>\n",
       "      <td>25.833300</td>\n",
       "      <td>14</td>\n",
       "      <td>-0.009100</td>\n",
       "      <td>-0.055900</td>\n",
       "      <td>0.269900</td>\n",
       "      <td>0.642000</td>\n",
       "      <td>0.416000</td>\n",
       "      <td>3</td>\n",
       "    </tr>\n",
       "    <tr>\n",
       "      <th>133</th>\n",
       "      <td>10.998900</td>\n",
       "      <td>55.700000</td>\n",
       "      <td>24</td>\n",
       "      <td>0.000000</td>\n",
       "      <td>-0.004200</td>\n",
       "      <td>0.019900</td>\n",
       "      <td>0.623400</td>\n",
       "      <td>0.393500</td>\n",
       "      <td>3</td>\n",
       "    </tr>\n",
       "    <tr>\n",
       "      <th>134</th>\n",
       "      <td>9.001300</td>\n",
       "      <td>37.366700</td>\n",
       "      <td>18</td>\n",
       "      <td>-0.095900</td>\n",
       "      <td>-0.206400</td>\n",
       "      <td>0.771900</td>\n",
       "      <td>0.710400</td>\n",
       "      <td>0.451800</td>\n",
       "      <td>3</td>\n",
       "    </tr>\n",
       "    <tr>\n",
       "      <th>135</th>\n",
       "      <td>8.001700</td>\n",
       "      <td>32.000000</td>\n",
       "      <td>16</td>\n",
       "      <td>-0.080000</td>\n",
       "      <td>-0.000100</td>\n",
       "      <td>0.006300</td>\n",
       "      <td>0.705900</td>\n",
       "      <td>0.455300</td>\n",
       "      <td>3</td>\n",
       "    </tr>\n",
       "    <tr>\n",
       "      <th>136</th>\n",
       "      <td>8.998600</td>\n",
       "      <td>39.066700</td>\n",
       "      <td>18</td>\n",
       "      <td>-0.019500</td>\n",
       "      <td>-0.004500</td>\n",
       "      <td>0.020700</td>\n",
       "      <td>0.629700</td>\n",
       "      <td>0.395600</td>\n",
       "      <td>3</td>\n",
       "    </tr>\n",
       "    <tr>\n",
       "      <th>137</th>\n",
       "      <td>8.000400</td>\n",
       "      <td>32.166700</td>\n",
       "      <td>16</td>\n",
       "      <td>0.001100</td>\n",
       "      <td>-0.404400</td>\n",
       "      <td>2.274500</td>\n",
       "      <td>0.598500</td>\n",
       "      <td>0.395800</td>\n",
       "      <td>3</td>\n",
       "    </tr>\n",
       "    <tr>\n",
       "      <th>138</th>\n",
       "      <td>7.999100</td>\n",
       "      <td>32.166700</td>\n",
       "      <td>16</td>\n",
       "      <td>0.005300</td>\n",
       "      <td>-0.044500</td>\n",
       "      <td>0.317300</td>\n",
       "      <td>0.598100</td>\n",
       "      <td>0.395100</td>\n",
       "      <td>3</td>\n",
       "    </tr>\n",
       "    <tr>\n",
       "      <th>139</th>\n",
       "      <td>7.998700</td>\n",
       "      <td>31.566700</td>\n",
       "      <td>16</td>\n",
       "      <td>-0.063700</td>\n",
       "      <td>-0.111000</td>\n",
       "      <td>0.531700</td>\n",
       "      <td>0.692900</td>\n",
       "      <td>0.439400</td>\n",
       "      <td>3</td>\n",
       "    </tr>\n",
       "    <tr>\n",
       "      <th>140</th>\n",
       "      <td>7.998300</td>\n",
       "      <td>32.166700</td>\n",
       "      <td>16</td>\n",
       "      <td>-0.002600</td>\n",
       "      <td>-0.096900</td>\n",
       "      <td>0.436400</td>\n",
       "      <td>0.605700</td>\n",
       "      <td>0.395700</td>\n",
       "      <td>3</td>\n",
       "    </tr>\n",
       "    <tr>\n",
       "      <th>141</th>\n",
       "      <td>7.998700</td>\n",
       "      <td>32.666700</td>\n",
       "      <td>16</td>\n",
       "      <td>-0.004500</td>\n",
       "      <td>-0.010500</td>\n",
       "      <td>0.008300</td>\n",
       "      <td>0.587500</td>\n",
       "      <td>0.376000</td>\n",
       "      <td>3</td>\n",
       "    </tr>\n",
       "    <tr>\n",
       "      <th>142</th>\n",
       "      <td>8.998600</td>\n",
       "      <td>38.566700</td>\n",
       "      <td>18</td>\n",
       "      <td>0.015500</td>\n",
       "      <td>-0.110600</td>\n",
       "      <td>0.526600</td>\n",
       "      <td>0.586500</td>\n",
       "      <td>0.379700</td>\n",
       "      <td>3</td>\n",
       "    </tr>\n",
       "    <tr>\n",
       "      <th>143</th>\n",
       "      <td>9.000500</td>\n",
       "      <td>39.000000</td>\n",
       "      <td>18</td>\n",
       "      <td>0.047700</td>\n",
       "      <td>-0.000800</td>\n",
       "      <td>0.003400</td>\n",
       "      <td>0.456700</td>\n",
       "      <td>0.324500</td>\n",
       "      <td>3</td>\n",
       "    </tr>\n",
       "    <tr>\n",
       "      <th>144</th>\n",
       "      <td>9.001800</td>\n",
       "      <td>38.300000</td>\n",
       "      <td>18</td>\n",
       "      <td>-0.083100</td>\n",
       "      <td>0.008700</td>\n",
       "      <td>0.038500</td>\n",
       "      <td>0.710600</td>\n",
       "      <td>0.452800</td>\n",
       "      <td>3</td>\n",
       "    </tr>\n",
       "  </tbody>\n",
       "</table>\n",
       "</div>"
      ],
      "text/plain": [
       "            D1          D2   D3        D4        D5        D6        D7  \\\n",
       "0    21.996307  119.300545   42 -0.129873 -0.461116  2.354662  0.739296   \n",
       "1    18.002651  111.988098   38 -0.192031 -0.003431  0.010324  0.772352   \n",
       "2    26.002590  196.702667   56  0.012251 -0.149585  0.937021  0.546386   \n",
       "3    22.004517  119.300545   42 -0.103873 -0.357562  1.760567  0.720476   \n",
       "4    23.003124  169.373093   50 -0.161954 -0.516773  2.444123  0.743189   \n",
       "5    10.001482   45.800003   20 -0.001307 -0.005326  0.025180  0.625161   \n",
       "6    20.003008  104.804337   38 -0.155427 -0.316281  1.652655  0.767007   \n",
       "7    15.002267   81.028572   30 -0.175913 -0.267525  1.026331  0.742105   \n",
       "8    17.003408  101.388100   36 -0.217380 -0.009711  0.039880  0.795678   \n",
       "9    29.999311  239.983139   64 -0.062927 -0.130794  0.258319  0.630174   \n",
       "10   30.007343  239.983124   64 -0.002348 -0.325625  1.241003  0.567052   \n",
       "11   18.998100  121.163500   40 -0.032200  0.009000  0.035900  0.612400   \n",
       "12   14.997700   81.903200   30 -0.171400 -0.133500  0.651000  0.759800   \n",
       "13   21.997900  119.300500   42 -0.127000 -0.535800  2.857500  0.739100   \n",
       "14   19.001600  120.635800   40 -0.178700 -0.026000  0.100300  0.766700   \n",
       "15   19.002600  119.508900   40 -0.193200 -0.159200  0.669600  0.761800   \n",
       "16   25.002000  188.285200   54 -0.101100 -0.372500  1.405100  0.686300   \n",
       "17   13.997200   73.900000   28 -0.161500 -0.224500  0.949500  0.755100   \n",
       "18   21.000600  139.818200   44  0.026700 -0.026600  0.132300  0.487500   \n",
       "19   12.002200   58.338100   24 -0.186700  0.006800  0.037200  0.771500   \n",
       "20   21.003800  148.800000   46 -0.015800 -0.081900  0.329700  0.607200   \n",
       "21   21.995600  145.367100   46 -0.272600  0.000000  0.000000  0.827500   \n",
       "22   24.996900  184.387800   54 -0.115200 -0.144000  0.955200  0.706100   \n",
       "23   15.997900   95.435700   34 -0.104900 -0.114200  0.510700  0.722500   \n",
       "24   22.004900  152.595700   48 -0.255400 -0.000200  0.000300  0.806100   \n",
       "25   19.003800  121.163500   40 -0.031300  0.026400  0.103700  0.599600   \n",
       "26   16.995900  103.557900   36 -0.220900 -0.005200  0.035300  0.772400   \n",
       "27   25.007300  188.285200   54 -0.027600 -0.214100  0.716900  0.585700   \n",
       "28   19.000500  120.644600   40 -0.203400 -0.034200  0.139600  0.765100   \n",
       "29   12.999400   67.566700   26  0.012800 -0.008400  0.133900  0.540600   \n",
       "30   17.998800  112.719100   38 -0.080300  0.025100  0.064500  0.668000   \n",
       "31   18.003300  113.830900   38 -0.144600 -0.020600  0.123900  0.741300   \n",
       "32   19.002000  123.276200   40 -0.064500  0.017000  0.041400  0.643600   \n",
       "33   10.002000   45.800000   20 -0.004000 -0.007300  0.034700  0.628600   \n",
       "34   19.002300  116.401200   40 -0.266200 -0.034000  0.176900  0.808800   \n",
       "35   24.999300  188.285200   54 -0.046400 -0.241300  0.649700  0.612300   \n",
       "36   19.999400  130.759500   42 -0.088700 -0.004800  0.018900  0.700500   \n",
       "37   17.996900  110.401600   38 -0.159200 -0.078200  0.306000  0.753100   \n",
       "38   18.001000  110.401600   38 -0.164300 -0.075200  0.295400  0.755400   \n",
       "39   22.004700  149.216700   46 -0.054100  0.007500  0.041400  0.640600   \n",
       "40   20.998700  149.471400   46 -0.006100 -0.164300  0.802200  0.553100   \n",
       "41   20.996300  142.913000   46 -0.251200 -0.003000  0.013500  0.804300   \n",
       "42   18.002700  111.988100   38 -0.207000 -0.000600  0.002100  0.775800   \n",
       "43   25.006800  184.387800   54 -0.105200 -0.131300  0.652500  0.700200   \n",
       "44   25.992600  195.592700   56 -0.126000 -0.064200  0.483700  0.719300   \n",
       "45   35.002251  291.711487   74 -0.059399 -0.001989  0.008828  0.640983   \n",
       "46   51.008350  496.531738  106 -0.092846 -0.036752  0.117160  0.687986   \n",
       "47   47.987919  469.752777  106 -0.061047  0.000005  0.000797  0.675923   \n",
       "48   46.994061  433.694580  100 -0.072264 -0.001063  0.005799  0.681332   \n",
       "49   30.991735  244.111542   66 -0.067771 -0.179482  0.754959  0.661258   \n",
       "50   59.009369  576.290771  118 -0.163102 -0.167888  0.773824  0.739732   \n",
       "51   48.981926  462.398895  104 -0.065094 -0.197664  0.961834  0.647102   \n",
       "52   33.005386  252.075912   68 -0.114123 -0.224626  1.133047  0.721692   \n",
       "53   42.005699  384.425140   92 -0.138680 -0.056042  0.323529  0.725828   \n",
       "54   63.025597  675.784546  134 -0.190126 -0.002324  0.018053  0.762475   \n",
       "55   40.999294  349.725311   84 -0.201789 -0.047584  0.166645  0.782750   \n",
       "56   37.993641  331.137482   82 -0.100505 -0.006323  0.038131  0.692607   \n",
       "57   48.986355  476.854370  106 -0.063554 -0.025406  0.064584  0.658095   \n",
       "58   40.015846  369.143921   88 -0.024769 -0.000052  0.000075  0.589869   \n",
       "59   40.006294  376.762573   88 -0.028853 -0.000723  0.001875  0.592110   \n",
       "60   42.015957  399.018341   92 -0.042770  0.000082  0.000084  0.602926   \n",
       "61   45.980476  436.200439   98 -0.081615 -0.004404  0.010918  0.694612   \n",
       "62   44.997509  419.433289   98 -0.045016  0.000262  0.006351  0.649960   \n",
       "63   45.990517  430.221771   94 -0.084316 -0.000052  0.003361  0.695730   \n",
       "64   49.977581  498.277222  110 -0.050818 -0.000368  0.001852  0.658793   \n",
       "65   50.007343  500.494629  110 -0.050342  0.000007  0.000314  0.660975   \n",
       "66   40.989933  388.169342   90 -0.033293 -0.013752  0.057745  0.608711   \n",
       "67   51.989788  528.593994  114 -0.050181 -0.000189  0.001036  0.659014   \n",
       "68   52.013168  530.638123  114 -0.044553 -0.000182  0.000964  0.650158   \n",
       "69   52.015873  530.104797  114 -0.050778 -0.000008  0.000035  0.662203   \n",
       "70   54.014034  536.217651  114 -0.131443 -0.053384  0.219370  0.720425   \n",
       "71   46.994884  450.390137  104 -0.058804 -0.000012  0.000600  0.674761   \n",
       "72   55.977230  562.537109  118 -0.142934 -0.060878  0.253439  0.728838   \n",
       "73   39.003159  338.550415   82 -0.069586 -0.000689  0.005279  0.680977   \n",
       "74   55.993900  561.240906  118 -0.162477 -0.013197  0.059142  0.743544   \n",
       "75   58.015995  590.939941  122 -0.144651 -0.000157  0.000479  0.737630   \n",
       "76   41.991051  373.147583   86 -0.146331 -0.000924  0.008568  0.744701   \n",
       "77   41.016750  360.532227   84 -0.049244 -0.000275  0.002080  0.652664   \n",
       "78   40.995365  360.838043   88 -0.147620 -0.000461  0.001545  0.720137   \n",
       "79   39.014606  342.556946   84 -0.133061 -0.033553  0.183828  0.714568   \n",
       "80   48.015408  456.583130  106 -0.095465 -0.192202  0.744726  0.675578   \n",
       "81   45.998219  450.064880  102 -0.044083 -0.004412  0.053675  0.648577   \n",
       "82   51.007839  503.755432  110 -0.078732 -0.028378  0.086027  0.685053   \n",
       "83   58.008533  590.939941  122 -0.150382 -0.000063  0.000129  0.740694   \n",
       "84   51.000004  478.954010  108 -0.175846 -0.059593  0.274520  0.742174   \n",
       "85   47.018047  441.185028  102 -0.154417 -0.064879  0.331124  0.727675   \n",
       "86   47.010860  465.533295  102 -0.048442 -0.018026  0.051812  0.628981   \n",
       "87   43.009041  419.727936   94 -0.023466 -0.005565  0.021207  0.585241   \n",
       "88   48.002605  451.519043   98 -0.129501 -0.001607  0.007517  0.734231   \n",
       "89   40.988037  368.419434   88 -0.132085 -0.058272  0.312480  0.719883   \n",
       "90   40.012447  358.815704   86 -0.102127 -0.015262  0.101642  0.698164   \n",
       "91   51.015411  496.531708  106 -0.091886 -0.053912  0.172637  0.687863   \n",
       "92   59.997257  631.815186  128 -0.187306 -0.000196  0.001251  0.757601   \n",
       "93   39.008621  340.956604   84 -0.122630 -0.027623  0.146857  0.708412   \n",
       "94   46.008797  447.441895  102 -0.057728 -0.000755  0.024943  0.660892   \n",
       "95   46.990685  443.999084  100 -0.082566 -0.006544  0.019707  0.696008   \n",
       "96   48.008808  462.583099  102 -0.063893 -0.001150  0.004818  0.675382   \n",
       "97   44.007874  421.264374   98 -0.057306 -0.010695  0.061250  0.656482   \n",
       "98   45.998219  450.064850  102 -0.044083 -0.004412  0.053675  0.648577   \n",
       "99   49.006977  476.191589  102 -0.127119 -0.001565  0.009721  0.732402   \n",
       "100  47.986160  459.793976  100 -0.127869 -0.003147  0.013363  0.732381   \n",
       "101  48.007408  461.067993  102 -0.111352 -0.547209  2.519987  0.691810   \n",
       "102  45.004894  413.678680   96 -0.088364 -0.131926  0.632666  0.671319   \n",
       "103  41.995422  360.643524   84 -0.085317 -0.012750  0.038481  0.682639   \n",
       "104   6.998700   25.833300   14 -0.006900 -0.059600  0.288100  0.640300   \n",
       "105   9.001500   41.000000   20 -0.033900  0.000000  0.000100  0.675300   \n",
       "106   9.000000   41.000000   20 -0.034400 -0.000400  0.001300  0.671400   \n",
       "107   9.001000   41.000000   20 -0.034300  0.000000  0.000100  0.674900   \n",
       "108   8.000800   31.566700   16 -0.085500 -0.274600  1.468200  0.705100   \n",
       "109   7.998700   32.166700   16 -0.006100 -0.164800  0.775300  0.612500   \n",
       "110   7.999600   32.066700   16 -0.095100 -0.000300  0.001800  0.698600   \n",
       "111   7.999600   31.566700   16 -0.081400 -0.131500  0.683800  0.715400   \n",
       "112   6.999100   25.833300   14 -0.012900 -0.058100  0.281800  0.647200   \n",
       "113   7.000400   25.833300   14 -0.010900 -0.046800  0.224500  0.644000   \n",
       "114   6.998800   25.666700   14 -0.112300 -0.214000  1.200700  0.737900   \n",
       "115   6.998700   25.833300   14 -0.007600 -0.047800  0.225700  0.639600   \n",
       "116   8.001400   32.166700   16  0.006000 -0.088600  0.413300  0.600000   \n",
       "117   8.999500   39.333300   18  0.043600 -0.004500  0.021500  0.512600   \n",
       "118   7.998700   32.066700   16 -0.091900  0.000000  0.000000  0.700700   \n",
       "119   8.000900   32.166700   16  0.004200 -0.094300  0.439700  0.601200   \n",
       "120   7.000800   25.666700   14 -0.094100 -0.118800  0.591300  0.717300   \n",
       "121   7.999600   32.833300   16  0.022000 -0.002200  0.013700  0.571300   \n",
       "122   8.001700   32.000000   16 -0.084200 -0.000600  0.001000  0.707200   \n",
       "123   6.999600   26.333300   14  0.045600 -0.144300  0.712800  0.503300   \n",
       "124   7.001200   26.166700   14 -0.048900 -0.063500  0.295600  0.660600   \n",
       "125   6.999200   25.666700   14 -0.122600 -0.379500  2.065000  0.735900   \n",
       "126   7.000000   25.833300   14 -0.007600 -0.047300  0.116200  0.629600   \n",
       "127   7.000800   26.333300   14  0.037500 -0.017900  0.083200  0.533500   \n",
       "128   7.000400   25.666700   14 -0.116900 -0.272200  1.431700  0.743200   \n",
       "129   8.000400   32.833300   16  0.025200 -0.001900  0.009500  0.561900   \n",
       "130   7.998200   32.166700   16  0.001000 -0.126400  0.592000  0.604100   \n",
       "131   6.999600   26.166700   14 -0.118600 -0.018600  0.090200  0.713200   \n",
       "132   7.000400   25.833300   14 -0.009100 -0.055900  0.269900  0.642000   \n",
       "133  10.998900   55.700000   24  0.000000 -0.004200  0.019900  0.623400   \n",
       "134   9.001300   37.366700   18 -0.095900 -0.206400  0.771900  0.710400   \n",
       "135   8.001700   32.000000   16 -0.080000 -0.000100  0.006300  0.705900   \n",
       "136   8.998600   39.066700   18 -0.019500 -0.004500  0.020700  0.629700   \n",
       "137   8.000400   32.166700   16  0.001100 -0.404400  2.274500  0.598500   \n",
       "138   7.999100   32.166700   16  0.005300 -0.044500  0.317300  0.598100   \n",
       "139   7.998700   31.566700   16 -0.063700 -0.111000  0.531700  0.692900   \n",
       "140   7.998300   32.166700   16 -0.002600 -0.096900  0.436400  0.605700   \n",
       "141   7.998700   32.666700   16 -0.004500 -0.010500  0.008300  0.587500   \n",
       "142   8.998600   38.566700   18  0.015500 -0.110600  0.526600  0.586500   \n",
       "143   9.000500   39.000000   18  0.047700 -0.000800  0.003400  0.456700   \n",
       "144   9.001800   38.300000   18 -0.083100  0.008700  0.038500  0.710600   \n",
       "\n",
       "           D8  Class  \n",
       "0    0.475639      1  \n",
       "1    0.479507      1  \n",
       "2    0.348632      1  \n",
       "3    0.462141      1  \n",
       "4    0.451499      1  \n",
       "5    0.397128      1  \n",
       "6    0.502759      1  \n",
       "7    0.461606      1  \n",
       "8    0.503703      1  \n",
       "9    0.377212      1  \n",
       "10   0.360075      1  \n",
       "11   0.374900      1  \n",
       "12   0.474200      1  \n",
       "13   0.476400      1  \n",
       "14   0.474700      1  \n",
       "15   0.475700      1  \n",
       "16   0.409400      1  \n",
       "17   0.474200      1  \n",
       "18   0.324900      1  \n",
       "19   0.488300      1  \n",
       "20   0.373500      1  \n",
       "21   0.537600      1  \n",
       "22   0.430400      1  \n",
       "23   0.453900      1  \n",
       "24   0.510500      1  \n",
       "25   0.371500      1  \n",
       "26   0.478800      1  \n",
       "27   0.361500      1  \n",
       "28   0.476300      1  \n",
       "29   0.339600      1  \n",
       "30   0.405000      1  \n",
       "31   0.460800      1  \n",
       "32   0.381200      1  \n",
       "33   0.398700      1  \n",
       "34   0.518300      1  \n",
       "35   0.371200      1  \n",
       "36   0.430900      1  \n",
       "37   0.471300      1  \n",
       "38   0.472900      1  \n",
       "39   0.395500      1  \n",
       "40   0.347800      1  \n",
       "41   0.509400      1  \n",
       "42   0.480600      1  \n",
       "43   0.426100      1  \n",
       "44   0.441800      1  \n",
       "45   0.376504      2  \n",
       "46   0.409205      2  \n",
       "47   0.408873      2  \n",
       "48   0.408497      2  \n",
       "49   0.394006      2  \n",
       "50   0.453918      2  \n",
       "51   0.387991      2  \n",
       "52   0.437289      2  \n",
       "53   0.431004      2  \n",
       "54   0.464900      2  \n",
       "55   0.486290      2  \n",
       "56   0.408740      2  \n",
       "57   0.393934      2  \n",
       "58   0.339982      2  \n",
       "59   0.340645      2  \n",
       "60   0.346052      2  \n",
       "61   0.418760      2  \n",
       "62   0.391499      2  \n",
       "63   0.414558      2  \n",
       "64   0.397906      2  \n",
       "65   0.397199      2  \n",
       "66   0.356196      2  \n",
       "67   0.395579      2  \n",
       "68   0.390803      2  \n",
       "69   0.398514      2  \n",
       "70   0.433686      2  \n",
       "71   0.409552      2  \n",
       "72   0.439721      2  \n",
       "73   0.411917      2  \n",
       "74   0.445352      2  \n",
       "75   0.439964      2  \n",
       "76   0.451812      2  \n",
       "77   0.386140      2  \n",
       "78   0.421548      2  \n",
       "79   0.422425      2  \n",
       "80   0.405066      2  \n",
       "81   0.387530      2  \n",
       "82   0.414574      2  \n",
       "83   0.440715      2  \n",
       "84   0.448909      2  \n",
       "85   0.432806      2  \n",
       "86   0.371043      2  \n",
       "87   0.340873      2  \n",
       "88   0.444648      2  \n",
       "89   0.426898      2  \n",
       "90   0.413691      2  \n",
       "91   0.409682      2  \n",
       "92   0.458315      2  \n",
       "93   0.417351      2  \n",
       "94   0.392663      2  \n",
       "95   0.423070      2  \n",
       "96   0.406148      2  \n",
       "97   0.390359      2  \n",
       "98   0.387530      2  \n",
       "99   0.443092      2  \n",
       "100  0.443783      2  \n",
       "101  0.412389      2  \n",
       "102  0.399279      2  \n",
       "103  0.410769      2  \n",
       "104  0.416000      3  \n",
       "105  0.424300      3  \n",
       "106  0.419600      3  \n",
       "107  0.423600      3  \n",
       "108  0.447800      3  \n",
       "109  0.397600      3  \n",
       "110  0.436100      3  \n",
       "111  0.454800      3  \n",
       "112  0.419000      3  \n",
       "113  0.417400      3  \n",
       "114  0.479100      3  \n",
       "115  0.414800      3  \n",
       "116  0.393700      3  \n",
       "117  0.336400      3  \n",
       "118  0.439600      3  \n",
       "119  0.392100      3  \n",
       "120  0.464300      3  \n",
       "121  0.368400      3  \n",
       "122  0.456200      3  \n",
       "123  0.349000      3  \n",
       "124  0.432600      3  \n",
       "125  0.477300      3  \n",
       "126  0.410600      3  \n",
       "127  0.354700      3  \n",
       "128  0.483600      3  \n",
       "129  0.361100      3  \n",
       "130  0.394400      3  \n",
       "131  0.457000      3  \n",
       "132  0.416000      3  \n",
       "133  0.393500      3  \n",
       "134  0.451800      3  \n",
       "135  0.455300      3  \n",
       "136  0.395600      3  \n",
       "137  0.395800      3  \n",
       "138  0.395100      3  \n",
       "139  0.439400      3  \n",
       "140  0.395700      3  \n",
       "141  0.376000      3  \n",
       "142  0.379700      3  \n",
       "143  0.324500      3  \n",
       "144  0.452800      3  "
      ]
     },
     "metadata": {},
     "output_type": "display_data"
    }
   ],
   "source": [
    "# Display the full data in a scrollable format \n",
    "pd.set_option('display.max_rows', None)  # Show all rows in the output\n",
    "pd.set_option('display.max_columns', None)  # Show all columns in the output\n",
    "display(moldesc_df)  # Display the complete DataFrame"
   ]
  },
  {
   "cell_type": "code",
   "execution_count": 94,
   "metadata": {},
   "outputs": [
    {
     "name": "stdout",
     "output_type": "stream",
     "text": [
      "<class 'pandas.core.frame.DataFrame'>\n",
      "RangeIndex: 145 entries, 0 to 144\n",
      "Data columns (total 9 columns):\n",
      " #   Column  Non-Null Count  Dtype  \n",
      "---  ------  --------------  -----  \n",
      " 0   D1      145 non-null    float64\n",
      " 1   D2      145 non-null    float64\n",
      " 2   D3      145 non-null    int64  \n",
      " 3   D4      145 non-null    float64\n",
      " 4   D5      145 non-null    float64\n",
      " 5   D6      145 non-null    float64\n",
      " 6   D7      145 non-null    float64\n",
      " 7   D8      145 non-null    float64\n",
      " 8   Class   145 non-null    int64  \n",
      "dtypes: float64(7), int64(2)\n",
      "memory usage: 10.3 KB\n"
     ]
    }
   ],
   "source": [
    "#Inspect its info\n",
    "moldesc_df.info()"
   ]
  },
  {
   "cell_type": "markdown",
   "metadata": {},
   "source": [
    "- The dataset consists of **145 molecular instances**, each characterized by **8 numerical attributes** (D1-D8) and **1 categorical attribute** (Class).\n",
    "- Data types are as follows:\n",
    "  - **7 attributes** (D1-D8) are of type `float64`, representing continuous numerical values.\n",
    "  - **2 attributes** (D3 and Class) are of type `int64`, representing discrete values.\n",
    "- The \"Class\" attribute categorizes molecules into three distinct groups (1, 2, and 3).\n"
   ]
  },
  {
   "cell_type": "markdown",
   "metadata": {},
   "source": [
    "4) Produce a scatter plot for the attribute \"D1\", where the instances need to be colored according to their respective class"
   ]
  },
  {
   "cell_type": "code",
   "execution_count": 97,
   "metadata": {},
   "outputs": [
    {
     "data": {
      "application/vnd.plotly.v1+json": {
       "config": {
        "plotlyServerURL": "https://plot.ly"
       },
       "data": [
        {
         "customdata": [
          [
           1
          ],
          [
           1
          ],
          [
           1
          ],
          [
           1
          ],
          [
           1
          ],
          [
           1
          ],
          [
           1
          ],
          [
           1
          ],
          [
           1
          ],
          [
           1
          ],
          [
           1
          ],
          [
           1
          ],
          [
           1
          ],
          [
           1
          ],
          [
           1
          ],
          [
           1
          ],
          [
           1
          ],
          [
           1
          ],
          [
           1
          ],
          [
           1
          ],
          [
           1
          ],
          [
           1
          ],
          [
           1
          ],
          [
           1
          ],
          [
           1
          ],
          [
           1
          ],
          [
           1
          ],
          [
           1
          ],
          [
           1
          ],
          [
           1
          ],
          [
           1
          ],
          [
           1
          ],
          [
           1
          ],
          [
           1
          ],
          [
           1
          ],
          [
           1
          ],
          [
           1
          ],
          [
           1
          ],
          [
           1
          ],
          [
           1
          ],
          [
           1
          ],
          [
           1
          ],
          [
           1
          ],
          [
           1
          ],
          [
           1
          ],
          [
           2
          ],
          [
           2
          ],
          [
           2
          ],
          [
           2
          ],
          [
           2
          ],
          [
           2
          ],
          [
           2
          ],
          [
           2
          ],
          [
           2
          ],
          [
           2
          ],
          [
           2
          ],
          [
           2
          ],
          [
           2
          ],
          [
           2
          ],
          [
           2
          ],
          [
           2
          ],
          [
           2
          ],
          [
           2
          ],
          [
           2
          ],
          [
           2
          ],
          [
           2
          ],
          [
           2
          ],
          [
           2
          ],
          [
           2
          ],
          [
           2
          ],
          [
           2
          ],
          [
           2
          ],
          [
           2
          ],
          [
           2
          ],
          [
           2
          ],
          [
           2
          ],
          [
           2
          ],
          [
           2
          ],
          [
           2
          ],
          [
           2
          ],
          [
           2
          ],
          [
           2
          ],
          [
           2
          ],
          [
           2
          ],
          [
           2
          ],
          [
           2
          ],
          [
           2
          ],
          [
           2
          ],
          [
           2
          ],
          [
           2
          ],
          [
           2
          ],
          [
           2
          ],
          [
           2
          ],
          [
           2
          ],
          [
           2
          ],
          [
           2
          ],
          [
           2
          ],
          [
           2
          ],
          [
           2
          ],
          [
           2
          ],
          [
           2
          ],
          [
           2
          ],
          [
           2
          ],
          [
           2
          ],
          [
           3
          ],
          [
           3
          ],
          [
           3
          ],
          [
           3
          ],
          [
           3
          ],
          [
           3
          ],
          [
           3
          ],
          [
           3
          ],
          [
           3
          ],
          [
           3
          ],
          [
           3
          ],
          [
           3
          ],
          [
           3
          ],
          [
           3
          ],
          [
           3
          ],
          [
           3
          ],
          [
           3
          ],
          [
           3
          ],
          [
           3
          ],
          [
           3
          ],
          [
           3
          ],
          [
           3
          ],
          [
           3
          ],
          [
           3
          ],
          [
           3
          ],
          [
           3
          ],
          [
           3
          ],
          [
           3
          ],
          [
           3
          ],
          [
           3
          ],
          [
           3
          ],
          [
           3
          ],
          [
           3
          ],
          [
           3
          ],
          [
           3
          ],
          [
           3
          ],
          [
           3
          ],
          [
           3
          ],
          [
           3
          ],
          [
           3
          ],
          [
           3
          ]
         ],
         "hovertemplate": "index=%{x}<br>D1=%{y}<br>Class=%{marker.color}<extra></extra>",
         "legendgroup": "",
         "marker": {
          "color": [
           1,
           1,
           1,
           1,
           1,
           1,
           1,
           1,
           1,
           1,
           1,
           1,
           1,
           1,
           1,
           1,
           1,
           1,
           1,
           1,
           1,
           1,
           1,
           1,
           1,
           1,
           1,
           1,
           1,
           1,
           1,
           1,
           1,
           1,
           1,
           1,
           1,
           1,
           1,
           1,
           1,
           1,
           1,
           1,
           1,
           2,
           2,
           2,
           2,
           2,
           2,
           2,
           2,
           2,
           2,
           2,
           2,
           2,
           2,
           2,
           2,
           2,
           2,
           2,
           2,
           2,
           2,
           2,
           2,
           2,
           2,
           2,
           2,
           2,
           2,
           2,
           2,
           2,
           2,
           2,
           2,
           2,
           2,
           2,
           2,
           2,
           2,
           2,
           2,
           2,
           2,
           2,
           2,
           2,
           2,
           2,
           2,
           2,
           2,
           2,
           2,
           2,
           2,
           2,
           3,
           3,
           3,
           3,
           3,
           3,
           3,
           3,
           3,
           3,
           3,
           3,
           3,
           3,
           3,
           3,
           3,
           3,
           3,
           3,
           3,
           3,
           3,
           3,
           3,
           3,
           3,
           3,
           3,
           3,
           3,
           3,
           3,
           3,
           3,
           3,
           3,
           3,
           3,
           3,
           3
          ],
          "coloraxis": "coloraxis",
          "symbol": "circle"
         },
         "mode": "markers",
         "name": "",
         "orientation": "v",
         "showlegend": false,
         "type": "scatter",
         "x": [
          0,
          1,
          2,
          3,
          4,
          5,
          6,
          7,
          8,
          9,
          10,
          11,
          12,
          13,
          14,
          15,
          16,
          17,
          18,
          19,
          20,
          21,
          22,
          23,
          24,
          25,
          26,
          27,
          28,
          29,
          30,
          31,
          32,
          33,
          34,
          35,
          36,
          37,
          38,
          39,
          40,
          41,
          42,
          43,
          44,
          45,
          46,
          47,
          48,
          49,
          50,
          51,
          52,
          53,
          54,
          55,
          56,
          57,
          58,
          59,
          60,
          61,
          62,
          63,
          64,
          65,
          66,
          67,
          68,
          69,
          70,
          71,
          72,
          73,
          74,
          75,
          76,
          77,
          78,
          79,
          80,
          81,
          82,
          83,
          84,
          85,
          86,
          87,
          88,
          89,
          90,
          91,
          92,
          93,
          94,
          95,
          96,
          97,
          98,
          99,
          100,
          101,
          102,
          103,
          104,
          105,
          106,
          107,
          108,
          109,
          110,
          111,
          112,
          113,
          114,
          115,
          116,
          117,
          118,
          119,
          120,
          121,
          122,
          123,
          124,
          125,
          126,
          127,
          128,
          129,
          130,
          131,
          132,
          133,
          134,
          135,
          136,
          137,
          138,
          139,
          140,
          141,
          142,
          143,
          144
         ],
         "xaxis": "x",
         "y": [
          21.996307,
          18.002651,
          26.00259,
          22.004517,
          23.003124,
          10.001482,
          20.003008,
          15.002267,
          17.003408,
          29.999311,
          30.007343,
          18.9981,
          14.9977,
          21.9979,
          19.0016,
          19.0026,
          25.002,
          13.9972,
          21.0006,
          12.0022,
          21.0038,
          21.9956,
          24.9969,
          15.9979,
          22.0049,
          19.0038,
          16.9959,
          25.0073,
          19.0005,
          12.9994,
          17.9988,
          18.0033,
          19.002,
          10.002,
          19.0023,
          24.9993,
          19.9994,
          17.9969,
          18.001,
          22.0047,
          20.9987,
          20.9963,
          18.0027,
          25.0068,
          25.9926,
          35.002251,
          51.00835,
          47.987919,
          46.994061,
          30.991735,
          59.009369,
          48.981926,
          33.005386,
          42.005699,
          63.025597,
          40.999294,
          37.993641,
          48.986355,
          40.015846,
          40.006294,
          42.015957,
          45.980476,
          44.997509,
          45.990517,
          49.977581,
          50.007343,
          40.989933,
          51.989788,
          52.013168,
          52.015873,
          54.014034,
          46.994884,
          55.97723,
          39.003159,
          55.9939,
          58.015995,
          41.991051,
          41.01675,
          40.995365,
          39.014606,
          48.015408,
          45.998219,
          51.007839,
          58.008533,
          51.000004,
          47.018047,
          47.01086,
          43.009041,
          48.002605,
          40.988037,
          40.012447,
          51.015411,
          59.997257,
          39.008621,
          46.008797,
          46.990685,
          48.008808,
          44.007874,
          45.998219,
          49.006977,
          47.98616,
          48.007408,
          45.004894,
          41.995422,
          6.9987,
          9.0015,
          9,
          9.001,
          8.0008,
          7.9987,
          7.9996,
          7.9996,
          6.9991,
          7.0004,
          6.9988,
          6.9987,
          8.0014,
          8.9995,
          7.9987,
          8.0009,
          7.0008,
          7.9996,
          8.0017,
          6.9996,
          7.0012,
          6.9992,
          7,
          7.0008,
          7.0004,
          8.0004,
          7.9982,
          6.9996,
          7.0004,
          10.9989,
          9.0013,
          8.0017,
          8.9986,
          8.0004,
          7.9991,
          7.9987,
          7.9983,
          7.9987,
          8.9986,
          9.0005,
          9.0018
         ],
         "yaxis": "y"
        }
       ],
       "layout": {
        "coloraxis": {
         "colorbar": {
          "title": {
           "text": "Class"
          }
         },
         "colorscale": [
          [
           0,
           "#0d0887"
          ],
          [
           0.1111111111111111,
           "#46039f"
          ],
          [
           0.2222222222222222,
           "#7201a8"
          ],
          [
           0.3333333333333333,
           "#9c179e"
          ],
          [
           0.4444444444444444,
           "#bd3786"
          ],
          [
           0.5555555555555556,
           "#d8576b"
          ],
          [
           0.6666666666666666,
           "#ed7953"
          ],
          [
           0.7777777777777778,
           "#fb9f3a"
          ],
          [
           0.8888888888888888,
           "#fdca26"
          ],
          [
           1,
           "#f0f921"
          ]
         ]
        },
        "height": 600,
        "legend": {
         "tracegroupgap": 0
        },
        "margin": {
         "t": 60
        },
        "template": {
         "data": {
          "bar": [
           {
            "error_x": {
             "color": "#2a3f5f"
            },
            "error_y": {
             "color": "#2a3f5f"
            },
            "marker": {
             "line": {
              "color": "#E5ECF6",
              "width": 0.5
             },
             "pattern": {
              "fillmode": "overlay",
              "size": 10,
              "solidity": 0.2
             }
            },
            "type": "bar"
           }
          ],
          "barpolar": [
           {
            "marker": {
             "line": {
              "color": "#E5ECF6",
              "width": 0.5
             },
             "pattern": {
              "fillmode": "overlay",
              "size": 10,
              "solidity": 0.2
             }
            },
            "type": "barpolar"
           }
          ],
          "carpet": [
           {
            "aaxis": {
             "endlinecolor": "#2a3f5f",
             "gridcolor": "white",
             "linecolor": "white",
             "minorgridcolor": "white",
             "startlinecolor": "#2a3f5f"
            },
            "baxis": {
             "endlinecolor": "#2a3f5f",
             "gridcolor": "white",
             "linecolor": "white",
             "minorgridcolor": "white",
             "startlinecolor": "#2a3f5f"
            },
            "type": "carpet"
           }
          ],
          "choropleth": [
           {
            "colorbar": {
             "outlinewidth": 0,
             "ticks": ""
            },
            "type": "choropleth"
           }
          ],
          "contour": [
           {
            "colorbar": {
             "outlinewidth": 0,
             "ticks": ""
            },
            "colorscale": [
             [
              0,
              "#0d0887"
             ],
             [
              0.1111111111111111,
              "#46039f"
             ],
             [
              0.2222222222222222,
              "#7201a8"
             ],
             [
              0.3333333333333333,
              "#9c179e"
             ],
             [
              0.4444444444444444,
              "#bd3786"
             ],
             [
              0.5555555555555556,
              "#d8576b"
             ],
             [
              0.6666666666666666,
              "#ed7953"
             ],
             [
              0.7777777777777778,
              "#fb9f3a"
             ],
             [
              0.8888888888888888,
              "#fdca26"
             ],
             [
              1,
              "#f0f921"
             ]
            ],
            "type": "contour"
           }
          ],
          "contourcarpet": [
           {
            "colorbar": {
             "outlinewidth": 0,
             "ticks": ""
            },
            "type": "contourcarpet"
           }
          ],
          "heatmap": [
           {
            "colorbar": {
             "outlinewidth": 0,
             "ticks": ""
            },
            "colorscale": [
             [
              0,
              "#0d0887"
             ],
             [
              0.1111111111111111,
              "#46039f"
             ],
             [
              0.2222222222222222,
              "#7201a8"
             ],
             [
              0.3333333333333333,
              "#9c179e"
             ],
             [
              0.4444444444444444,
              "#bd3786"
             ],
             [
              0.5555555555555556,
              "#d8576b"
             ],
             [
              0.6666666666666666,
              "#ed7953"
             ],
             [
              0.7777777777777778,
              "#fb9f3a"
             ],
             [
              0.8888888888888888,
              "#fdca26"
             ],
             [
              1,
              "#f0f921"
             ]
            ],
            "type": "heatmap"
           }
          ],
          "heatmapgl": [
           {
            "colorbar": {
             "outlinewidth": 0,
             "ticks": ""
            },
            "colorscale": [
             [
              0,
              "#0d0887"
             ],
             [
              0.1111111111111111,
              "#46039f"
             ],
             [
              0.2222222222222222,
              "#7201a8"
             ],
             [
              0.3333333333333333,
              "#9c179e"
             ],
             [
              0.4444444444444444,
              "#bd3786"
             ],
             [
              0.5555555555555556,
              "#d8576b"
             ],
             [
              0.6666666666666666,
              "#ed7953"
             ],
             [
              0.7777777777777778,
              "#fb9f3a"
             ],
             [
              0.8888888888888888,
              "#fdca26"
             ],
             [
              1,
              "#f0f921"
             ]
            ],
            "type": "heatmapgl"
           }
          ],
          "histogram": [
           {
            "marker": {
             "pattern": {
              "fillmode": "overlay",
              "size": 10,
              "solidity": 0.2
             }
            },
            "type": "histogram"
           }
          ],
          "histogram2d": [
           {
            "colorbar": {
             "outlinewidth": 0,
             "ticks": ""
            },
            "colorscale": [
             [
              0,
              "#0d0887"
             ],
             [
              0.1111111111111111,
              "#46039f"
             ],
             [
              0.2222222222222222,
              "#7201a8"
             ],
             [
              0.3333333333333333,
              "#9c179e"
             ],
             [
              0.4444444444444444,
              "#bd3786"
             ],
             [
              0.5555555555555556,
              "#d8576b"
             ],
             [
              0.6666666666666666,
              "#ed7953"
             ],
             [
              0.7777777777777778,
              "#fb9f3a"
             ],
             [
              0.8888888888888888,
              "#fdca26"
             ],
             [
              1,
              "#f0f921"
             ]
            ],
            "type": "histogram2d"
           }
          ],
          "histogram2dcontour": [
           {
            "colorbar": {
             "outlinewidth": 0,
             "ticks": ""
            },
            "colorscale": [
             [
              0,
              "#0d0887"
             ],
             [
              0.1111111111111111,
              "#46039f"
             ],
             [
              0.2222222222222222,
              "#7201a8"
             ],
             [
              0.3333333333333333,
              "#9c179e"
             ],
             [
              0.4444444444444444,
              "#bd3786"
             ],
             [
              0.5555555555555556,
              "#d8576b"
             ],
             [
              0.6666666666666666,
              "#ed7953"
             ],
             [
              0.7777777777777778,
              "#fb9f3a"
             ],
             [
              0.8888888888888888,
              "#fdca26"
             ],
             [
              1,
              "#f0f921"
             ]
            ],
            "type": "histogram2dcontour"
           }
          ],
          "mesh3d": [
           {
            "colorbar": {
             "outlinewidth": 0,
             "ticks": ""
            },
            "type": "mesh3d"
           }
          ],
          "parcoords": [
           {
            "line": {
             "colorbar": {
              "outlinewidth": 0,
              "ticks": ""
             }
            },
            "type": "parcoords"
           }
          ],
          "pie": [
           {
            "automargin": true,
            "type": "pie"
           }
          ],
          "scatter": [
           {
            "fillpattern": {
             "fillmode": "overlay",
             "size": 10,
             "solidity": 0.2
            },
            "type": "scatter"
           }
          ],
          "scatter3d": [
           {
            "line": {
             "colorbar": {
              "outlinewidth": 0,
              "ticks": ""
             }
            },
            "marker": {
             "colorbar": {
              "outlinewidth": 0,
              "ticks": ""
             }
            },
            "type": "scatter3d"
           }
          ],
          "scattercarpet": [
           {
            "marker": {
             "colorbar": {
              "outlinewidth": 0,
              "ticks": ""
             }
            },
            "type": "scattercarpet"
           }
          ],
          "scattergeo": [
           {
            "marker": {
             "colorbar": {
              "outlinewidth": 0,
              "ticks": ""
             }
            },
            "type": "scattergeo"
           }
          ],
          "scattergl": [
           {
            "marker": {
             "colorbar": {
              "outlinewidth": 0,
              "ticks": ""
             }
            },
            "type": "scattergl"
           }
          ],
          "scattermapbox": [
           {
            "marker": {
             "colorbar": {
              "outlinewidth": 0,
              "ticks": ""
             }
            },
            "type": "scattermapbox"
           }
          ],
          "scatterpolar": [
           {
            "marker": {
             "colorbar": {
              "outlinewidth": 0,
              "ticks": ""
             }
            },
            "type": "scatterpolar"
           }
          ],
          "scatterpolargl": [
           {
            "marker": {
             "colorbar": {
              "outlinewidth": 0,
              "ticks": ""
             }
            },
            "type": "scatterpolargl"
           }
          ],
          "scatterternary": [
           {
            "marker": {
             "colorbar": {
              "outlinewidth": 0,
              "ticks": ""
             }
            },
            "type": "scatterternary"
           }
          ],
          "surface": [
           {
            "colorbar": {
             "outlinewidth": 0,
             "ticks": ""
            },
            "colorscale": [
             [
              0,
              "#0d0887"
             ],
             [
              0.1111111111111111,
              "#46039f"
             ],
             [
              0.2222222222222222,
              "#7201a8"
             ],
             [
              0.3333333333333333,
              "#9c179e"
             ],
             [
              0.4444444444444444,
              "#bd3786"
             ],
             [
              0.5555555555555556,
              "#d8576b"
             ],
             [
              0.6666666666666666,
              "#ed7953"
             ],
             [
              0.7777777777777778,
              "#fb9f3a"
             ],
             [
              0.8888888888888888,
              "#fdca26"
             ],
             [
              1,
              "#f0f921"
             ]
            ],
            "type": "surface"
           }
          ],
          "table": [
           {
            "cells": {
             "fill": {
              "color": "#EBF0F8"
             },
             "line": {
              "color": "white"
             }
            },
            "header": {
             "fill": {
              "color": "#C8D4E3"
             },
             "line": {
              "color": "white"
             }
            },
            "type": "table"
           }
          ]
         },
         "layout": {
          "annotationdefaults": {
           "arrowcolor": "#2a3f5f",
           "arrowhead": 0,
           "arrowwidth": 1
          },
          "autotypenumbers": "strict",
          "coloraxis": {
           "colorbar": {
            "outlinewidth": 0,
            "ticks": ""
           }
          },
          "colorscale": {
           "diverging": [
            [
             0,
             "#8e0152"
            ],
            [
             0.1,
             "#c51b7d"
            ],
            [
             0.2,
             "#de77ae"
            ],
            [
             0.3,
             "#f1b6da"
            ],
            [
             0.4,
             "#fde0ef"
            ],
            [
             0.5,
             "#f7f7f7"
            ],
            [
             0.6,
             "#e6f5d0"
            ],
            [
             0.7,
             "#b8e186"
            ],
            [
             0.8,
             "#7fbc41"
            ],
            [
             0.9,
             "#4d9221"
            ],
            [
             1,
             "#276419"
            ]
           ],
           "sequential": [
            [
             0,
             "#0d0887"
            ],
            [
             0.1111111111111111,
             "#46039f"
            ],
            [
             0.2222222222222222,
             "#7201a8"
            ],
            [
             0.3333333333333333,
             "#9c179e"
            ],
            [
             0.4444444444444444,
             "#bd3786"
            ],
            [
             0.5555555555555556,
             "#d8576b"
            ],
            [
             0.6666666666666666,
             "#ed7953"
            ],
            [
             0.7777777777777778,
             "#fb9f3a"
            ],
            [
             0.8888888888888888,
             "#fdca26"
            ],
            [
             1,
             "#f0f921"
            ]
           ],
           "sequentialminus": [
            [
             0,
             "#0d0887"
            ],
            [
             0.1111111111111111,
             "#46039f"
            ],
            [
             0.2222222222222222,
             "#7201a8"
            ],
            [
             0.3333333333333333,
             "#9c179e"
            ],
            [
             0.4444444444444444,
             "#bd3786"
            ],
            [
             0.5555555555555556,
             "#d8576b"
            ],
            [
             0.6666666666666666,
             "#ed7953"
            ],
            [
             0.7777777777777778,
             "#fb9f3a"
            ],
            [
             0.8888888888888888,
             "#fdca26"
            ],
            [
             1,
             "#f0f921"
            ]
           ]
          },
          "colorway": [
           "#636efa",
           "#EF553B",
           "#00cc96",
           "#ab63fa",
           "#FFA15A",
           "#19d3f3",
           "#FF6692",
           "#B6E880",
           "#FF97FF",
           "#FECB52"
          ],
          "font": {
           "color": "#2a3f5f"
          },
          "geo": {
           "bgcolor": "white",
           "lakecolor": "white",
           "landcolor": "#E5ECF6",
           "showlakes": true,
           "showland": true,
           "subunitcolor": "white"
          },
          "hoverlabel": {
           "align": "left"
          },
          "hovermode": "closest",
          "mapbox": {
           "style": "light"
          },
          "paper_bgcolor": "white",
          "plot_bgcolor": "#E5ECF6",
          "polar": {
           "angularaxis": {
            "gridcolor": "white",
            "linecolor": "white",
            "ticks": ""
           },
           "bgcolor": "#E5ECF6",
           "radialaxis": {
            "gridcolor": "white",
            "linecolor": "white",
            "ticks": ""
           }
          },
          "scene": {
           "xaxis": {
            "backgroundcolor": "#E5ECF6",
            "gridcolor": "white",
            "gridwidth": 2,
            "linecolor": "white",
            "showbackground": true,
            "ticks": "",
            "zerolinecolor": "white"
           },
           "yaxis": {
            "backgroundcolor": "#E5ECF6",
            "gridcolor": "white",
            "gridwidth": 2,
            "linecolor": "white",
            "showbackground": true,
            "ticks": "",
            "zerolinecolor": "white"
           },
           "zaxis": {
            "backgroundcolor": "#E5ECF6",
            "gridcolor": "white",
            "gridwidth": 2,
            "linecolor": "white",
            "showbackground": true,
            "ticks": "",
            "zerolinecolor": "white"
           }
          },
          "shapedefaults": {
           "line": {
            "color": "#2a3f5f"
           }
          },
          "ternary": {
           "aaxis": {
            "gridcolor": "white",
            "linecolor": "white",
            "ticks": ""
           },
           "baxis": {
            "gridcolor": "white",
            "linecolor": "white",
            "ticks": ""
           },
           "bgcolor": "#E5ECF6",
           "caxis": {
            "gridcolor": "white",
            "linecolor": "white",
            "ticks": ""
           }
          },
          "title": {
           "x": 0.05
          },
          "xaxis": {
           "automargin": true,
           "gridcolor": "white",
           "linecolor": "white",
           "ticks": "",
           "title": {
            "standoff": 15
           },
           "zerolinecolor": "white",
           "zerolinewidth": 2
          },
          "yaxis": {
           "automargin": true,
           "gridcolor": "white",
           "linecolor": "white",
           "ticks": "",
           "title": {
            "standoff": 15
           },
           "zerolinecolor": "white",
           "zerolinewidth": 2
          }
         }
        },
        "title": {
         "text": "Scatter plot of D1 by class"
        },
        "width": 800,
        "xaxis": {
         "anchor": "y",
         "autorange": true,
         "domain": [
          0,
          1
         ],
         "range": [
          -9.075847229693384,
          153.07584722969338
         ],
         "title": {
          "text": "Instance index"
         },
         "type": "linear"
        },
        "yaxis": {
         "anchor": "x",
         "autorange": true,
         "domain": [
          0,
          1
         ],
         "range": [
          3.3118131740467405,
          66.71248382595326
         ],
         "title": {
          "text": "D1"
         },
         "type": "linear"
        }
       }
      },
      "text/html": [
       "<div>                            <div id=\"f9cd2fcd-e753-45c1-ad9b-09654b1fb4e3\" class=\"plotly-graph-div\" style=\"height:600px; width:800px;\"></div>            <script type=\"text/javascript\">                require([\"plotly\"], function(Plotly) {                    window.PLOTLYENV=window.PLOTLYENV || {};                                    if (document.getElementById(\"f9cd2fcd-e753-45c1-ad9b-09654b1fb4e3\")) {                    Plotly.newPlot(                        \"f9cd2fcd-e753-45c1-ad9b-09654b1fb4e3\",                        [{\"customdata\":[[1],[1],[1],[1],[1],[1],[1],[1],[1],[1],[1],[1],[1],[1],[1],[1],[1],[1],[1],[1],[1],[1],[1],[1],[1],[1],[1],[1],[1],[1],[1],[1],[1],[1],[1],[1],[1],[1],[1],[1],[1],[1],[1],[1],[1],[2],[2],[2],[2],[2],[2],[2],[2],[2],[2],[2],[2],[2],[2],[2],[2],[2],[2],[2],[2],[2],[2],[2],[2],[2],[2],[2],[2],[2],[2],[2],[2],[2],[2],[2],[2],[2],[2],[2],[2],[2],[2],[2],[2],[2],[2],[2],[2],[2],[2],[2],[2],[2],[2],[2],[2],[2],[2],[2],[3],[3],[3],[3],[3],[3],[3],[3],[3],[3],[3],[3],[3],[3],[3],[3],[3],[3],[3],[3],[3],[3],[3],[3],[3],[3],[3],[3],[3],[3],[3],[3],[3],[3],[3],[3],[3],[3],[3],[3],[3]],\"hovertemplate\":\"index=%{x}\\u003cbr\\u003eD1=%{y}\\u003cbr\\u003eClass=%{marker.color}\\u003cextra\\u003e\\u003c\\u002fextra\\u003e\",\"legendgroup\":\"\",\"marker\":{\"color\":[1,1,1,1,1,1,1,1,1,1,1,1,1,1,1,1,1,1,1,1,1,1,1,1,1,1,1,1,1,1,1,1,1,1,1,1,1,1,1,1,1,1,1,1,1,2,2,2,2,2,2,2,2,2,2,2,2,2,2,2,2,2,2,2,2,2,2,2,2,2,2,2,2,2,2,2,2,2,2,2,2,2,2,2,2,2,2,2,2,2,2,2,2,2,2,2,2,2,2,2,2,2,2,2,3,3,3,3,3,3,3,3,3,3,3,3,3,3,3,3,3,3,3,3,3,3,3,3,3,3,3,3,3,3,3,3,3,3,3,3,3,3,3,3,3],\"coloraxis\":\"coloraxis\",\"symbol\":\"circle\"},\"mode\":\"markers\",\"name\":\"\",\"orientation\":\"v\",\"showlegend\":false,\"x\":[0,1,2,3,4,5,6,7,8,9,10,11,12,13,14,15,16,17,18,19,20,21,22,23,24,25,26,27,28,29,30,31,32,33,34,35,36,37,38,39,40,41,42,43,44,45,46,47,48,49,50,51,52,53,54,55,56,57,58,59,60,61,62,63,64,65,66,67,68,69,70,71,72,73,74,75,76,77,78,79,80,81,82,83,84,85,86,87,88,89,90,91,92,93,94,95,96,97,98,99,100,101,102,103,104,105,106,107,108,109,110,111,112,113,114,115,116,117,118,119,120,121,122,123,124,125,126,127,128,129,130,131,132,133,134,135,136,137,138,139,140,141,142,143,144],\"xaxis\":\"x\",\"y\":[21.996307,18.002651,26.00259,22.004517,23.003124,10.001482,20.003008,15.002267,17.003408,29.999311,30.007343,18.9981,14.9977,21.9979,19.0016,19.0026,25.002,13.9972,21.0006,12.0022,21.0038,21.9956,24.9969,15.9979,22.0049,19.0038,16.9959,25.0073,19.0005,12.9994,17.9988,18.0033,19.002,10.002,19.0023,24.9993,19.9994,17.9969,18.001,22.0047,20.9987,20.9963,18.0027,25.0068,25.9926,35.002251,51.00835,47.987919,46.994061,30.991735,59.009369,48.981926,33.005386,42.005699,63.025597,40.999294,37.993641,48.986355,40.015846,40.006294,42.015957,45.980476,44.997509,45.990517,49.977581,50.007343,40.989933,51.989788,52.013168,52.015873,54.014034,46.994884,55.97723,39.003159,55.9939,58.015995,41.991051,41.01675,40.995365,39.014606,48.015408,45.998219,51.007839,58.008533,51.000004,47.018047,47.01086,43.009041,48.002605,40.988037,40.012447,51.015411,59.997257,39.008621,46.008797,46.990685,48.008808,44.007874,45.998219,49.006977,47.98616,48.007408,45.004894,41.995422,6.9987,9.0015,9.0,9.001,8.0008,7.9987,7.9996,7.9996,6.9991,7.0004,6.9988,6.9987,8.0014,8.9995,7.9987,8.0009,7.0008,7.9996,8.0017,6.9996,7.0012,6.9992,7.0,7.0008,7.0004,8.0004,7.9982,6.9996,7.0004,10.9989,9.0013,8.0017,8.9986,8.0004,7.9991,7.9987,7.9983,7.9987,8.9986,9.0005,9.0018],\"yaxis\":\"y\",\"type\":\"scatter\"}],                        {\"template\":{\"data\":{\"histogram2dcontour\":[{\"type\":\"histogram2dcontour\",\"colorbar\":{\"outlinewidth\":0,\"ticks\":\"\"},\"colorscale\":[[0.0,\"#0d0887\"],[0.1111111111111111,\"#46039f\"],[0.2222222222222222,\"#7201a8\"],[0.3333333333333333,\"#9c179e\"],[0.4444444444444444,\"#bd3786\"],[0.5555555555555556,\"#d8576b\"],[0.6666666666666666,\"#ed7953\"],[0.7777777777777778,\"#fb9f3a\"],[0.8888888888888888,\"#fdca26\"],[1.0,\"#f0f921\"]]}],\"choropleth\":[{\"type\":\"choropleth\",\"colorbar\":{\"outlinewidth\":0,\"ticks\":\"\"}}],\"histogram2d\":[{\"type\":\"histogram2d\",\"colorbar\":{\"outlinewidth\":0,\"ticks\":\"\"},\"colorscale\":[[0.0,\"#0d0887\"],[0.1111111111111111,\"#46039f\"],[0.2222222222222222,\"#7201a8\"],[0.3333333333333333,\"#9c179e\"],[0.4444444444444444,\"#bd3786\"],[0.5555555555555556,\"#d8576b\"],[0.6666666666666666,\"#ed7953\"],[0.7777777777777778,\"#fb9f3a\"],[0.8888888888888888,\"#fdca26\"],[1.0,\"#f0f921\"]]}],\"heatmap\":[{\"type\":\"heatmap\",\"colorbar\":{\"outlinewidth\":0,\"ticks\":\"\"},\"colorscale\":[[0.0,\"#0d0887\"],[0.1111111111111111,\"#46039f\"],[0.2222222222222222,\"#7201a8\"],[0.3333333333333333,\"#9c179e\"],[0.4444444444444444,\"#bd3786\"],[0.5555555555555556,\"#d8576b\"],[0.6666666666666666,\"#ed7953\"],[0.7777777777777778,\"#fb9f3a\"],[0.8888888888888888,\"#fdca26\"],[1.0,\"#f0f921\"]]}],\"heatmapgl\":[{\"type\":\"heatmapgl\",\"colorbar\":{\"outlinewidth\":0,\"ticks\":\"\"},\"colorscale\":[[0.0,\"#0d0887\"],[0.1111111111111111,\"#46039f\"],[0.2222222222222222,\"#7201a8\"],[0.3333333333333333,\"#9c179e\"],[0.4444444444444444,\"#bd3786\"],[0.5555555555555556,\"#d8576b\"],[0.6666666666666666,\"#ed7953\"],[0.7777777777777778,\"#fb9f3a\"],[0.8888888888888888,\"#fdca26\"],[1.0,\"#f0f921\"]]}],\"contourcarpet\":[{\"type\":\"contourcarpet\",\"colorbar\":{\"outlinewidth\":0,\"ticks\":\"\"}}],\"contour\":[{\"type\":\"contour\",\"colorbar\":{\"outlinewidth\":0,\"ticks\":\"\"},\"colorscale\":[[0.0,\"#0d0887\"],[0.1111111111111111,\"#46039f\"],[0.2222222222222222,\"#7201a8\"],[0.3333333333333333,\"#9c179e\"],[0.4444444444444444,\"#bd3786\"],[0.5555555555555556,\"#d8576b\"],[0.6666666666666666,\"#ed7953\"],[0.7777777777777778,\"#fb9f3a\"],[0.8888888888888888,\"#fdca26\"],[1.0,\"#f0f921\"]]}],\"surface\":[{\"type\":\"surface\",\"colorbar\":{\"outlinewidth\":0,\"ticks\":\"\"},\"colorscale\":[[0.0,\"#0d0887\"],[0.1111111111111111,\"#46039f\"],[0.2222222222222222,\"#7201a8\"],[0.3333333333333333,\"#9c179e\"],[0.4444444444444444,\"#bd3786\"],[0.5555555555555556,\"#d8576b\"],[0.6666666666666666,\"#ed7953\"],[0.7777777777777778,\"#fb9f3a\"],[0.8888888888888888,\"#fdca26\"],[1.0,\"#f0f921\"]]}],\"mesh3d\":[{\"type\":\"mesh3d\",\"colorbar\":{\"outlinewidth\":0,\"ticks\":\"\"}}],\"scatter\":[{\"fillpattern\":{\"fillmode\":\"overlay\",\"size\":10,\"solidity\":0.2},\"type\":\"scatter\"}],\"parcoords\":[{\"type\":\"parcoords\",\"line\":{\"colorbar\":{\"outlinewidth\":0,\"ticks\":\"\"}}}],\"scatterpolargl\":[{\"type\":\"scatterpolargl\",\"marker\":{\"colorbar\":{\"outlinewidth\":0,\"ticks\":\"\"}}}],\"bar\":[{\"error_x\":{\"color\":\"#2a3f5f\"},\"error_y\":{\"color\":\"#2a3f5f\"},\"marker\":{\"line\":{\"color\":\"#E5ECF6\",\"width\":0.5},\"pattern\":{\"fillmode\":\"overlay\",\"size\":10,\"solidity\":0.2}},\"type\":\"bar\"}],\"scattergeo\":[{\"type\":\"scattergeo\",\"marker\":{\"colorbar\":{\"outlinewidth\":0,\"ticks\":\"\"}}}],\"scatterpolar\":[{\"type\":\"scatterpolar\",\"marker\":{\"colorbar\":{\"outlinewidth\":0,\"ticks\":\"\"}}}],\"histogram\":[{\"marker\":{\"pattern\":{\"fillmode\":\"overlay\",\"size\":10,\"solidity\":0.2}},\"type\":\"histogram\"}],\"scattergl\":[{\"type\":\"scattergl\",\"marker\":{\"colorbar\":{\"outlinewidth\":0,\"ticks\":\"\"}}}],\"scatter3d\":[{\"type\":\"scatter3d\",\"line\":{\"colorbar\":{\"outlinewidth\":0,\"ticks\":\"\"}},\"marker\":{\"colorbar\":{\"outlinewidth\":0,\"ticks\":\"\"}}}],\"scattermapbox\":[{\"type\":\"scattermapbox\",\"marker\":{\"colorbar\":{\"outlinewidth\":0,\"ticks\":\"\"}}}],\"scatterternary\":[{\"type\":\"scatterternary\",\"marker\":{\"colorbar\":{\"outlinewidth\":0,\"ticks\":\"\"}}}],\"scattercarpet\":[{\"type\":\"scattercarpet\",\"marker\":{\"colorbar\":{\"outlinewidth\":0,\"ticks\":\"\"}}}],\"carpet\":[{\"aaxis\":{\"endlinecolor\":\"#2a3f5f\",\"gridcolor\":\"white\",\"linecolor\":\"white\",\"minorgridcolor\":\"white\",\"startlinecolor\":\"#2a3f5f\"},\"baxis\":{\"endlinecolor\":\"#2a3f5f\",\"gridcolor\":\"white\",\"linecolor\":\"white\",\"minorgridcolor\":\"white\",\"startlinecolor\":\"#2a3f5f\"},\"type\":\"carpet\"}],\"table\":[{\"cells\":{\"fill\":{\"color\":\"#EBF0F8\"},\"line\":{\"color\":\"white\"}},\"header\":{\"fill\":{\"color\":\"#C8D4E3\"},\"line\":{\"color\":\"white\"}},\"type\":\"table\"}],\"barpolar\":[{\"marker\":{\"line\":{\"color\":\"#E5ECF6\",\"width\":0.5},\"pattern\":{\"fillmode\":\"overlay\",\"size\":10,\"solidity\":0.2}},\"type\":\"barpolar\"}],\"pie\":[{\"automargin\":true,\"type\":\"pie\"}]},\"layout\":{\"autotypenumbers\":\"strict\",\"colorway\":[\"#636efa\",\"#EF553B\",\"#00cc96\",\"#ab63fa\",\"#FFA15A\",\"#19d3f3\",\"#FF6692\",\"#B6E880\",\"#FF97FF\",\"#FECB52\"],\"font\":{\"color\":\"#2a3f5f\"},\"hovermode\":\"closest\",\"hoverlabel\":{\"align\":\"left\"},\"paper_bgcolor\":\"white\",\"plot_bgcolor\":\"#E5ECF6\",\"polar\":{\"bgcolor\":\"#E5ECF6\",\"angularaxis\":{\"gridcolor\":\"white\",\"linecolor\":\"white\",\"ticks\":\"\"},\"radialaxis\":{\"gridcolor\":\"white\",\"linecolor\":\"white\",\"ticks\":\"\"}},\"ternary\":{\"bgcolor\":\"#E5ECF6\",\"aaxis\":{\"gridcolor\":\"white\",\"linecolor\":\"white\",\"ticks\":\"\"},\"baxis\":{\"gridcolor\":\"white\",\"linecolor\":\"white\",\"ticks\":\"\"},\"caxis\":{\"gridcolor\":\"white\",\"linecolor\":\"white\",\"ticks\":\"\"}},\"coloraxis\":{\"colorbar\":{\"outlinewidth\":0,\"ticks\":\"\"}},\"colorscale\":{\"sequential\":[[0.0,\"#0d0887\"],[0.1111111111111111,\"#46039f\"],[0.2222222222222222,\"#7201a8\"],[0.3333333333333333,\"#9c179e\"],[0.4444444444444444,\"#bd3786\"],[0.5555555555555556,\"#d8576b\"],[0.6666666666666666,\"#ed7953\"],[0.7777777777777778,\"#fb9f3a\"],[0.8888888888888888,\"#fdca26\"],[1.0,\"#f0f921\"]],\"sequentialminus\":[[0.0,\"#0d0887\"],[0.1111111111111111,\"#46039f\"],[0.2222222222222222,\"#7201a8\"],[0.3333333333333333,\"#9c179e\"],[0.4444444444444444,\"#bd3786\"],[0.5555555555555556,\"#d8576b\"],[0.6666666666666666,\"#ed7953\"],[0.7777777777777778,\"#fb9f3a\"],[0.8888888888888888,\"#fdca26\"],[1.0,\"#f0f921\"]],\"diverging\":[[0,\"#8e0152\"],[0.1,\"#c51b7d\"],[0.2,\"#de77ae\"],[0.3,\"#f1b6da\"],[0.4,\"#fde0ef\"],[0.5,\"#f7f7f7\"],[0.6,\"#e6f5d0\"],[0.7,\"#b8e186\"],[0.8,\"#7fbc41\"],[0.9,\"#4d9221\"],[1,\"#276419\"]]},\"xaxis\":{\"gridcolor\":\"white\",\"linecolor\":\"white\",\"ticks\":\"\",\"title\":{\"standoff\":15},\"zerolinecolor\":\"white\",\"automargin\":true,\"zerolinewidth\":2},\"yaxis\":{\"gridcolor\":\"white\",\"linecolor\":\"white\",\"ticks\":\"\",\"title\":{\"standoff\":15},\"zerolinecolor\":\"white\",\"automargin\":true,\"zerolinewidth\":2},\"scene\":{\"xaxis\":{\"backgroundcolor\":\"#E5ECF6\",\"gridcolor\":\"white\",\"linecolor\":\"white\",\"showbackground\":true,\"ticks\":\"\",\"zerolinecolor\":\"white\",\"gridwidth\":2},\"yaxis\":{\"backgroundcolor\":\"#E5ECF6\",\"gridcolor\":\"white\",\"linecolor\":\"white\",\"showbackground\":true,\"ticks\":\"\",\"zerolinecolor\":\"white\",\"gridwidth\":2},\"zaxis\":{\"backgroundcolor\":\"#E5ECF6\",\"gridcolor\":\"white\",\"linecolor\":\"white\",\"showbackground\":true,\"ticks\":\"\",\"zerolinecolor\":\"white\",\"gridwidth\":2}},\"shapedefaults\":{\"line\":{\"color\":\"#2a3f5f\"}},\"annotationdefaults\":{\"arrowcolor\":\"#2a3f5f\",\"arrowhead\":0,\"arrowwidth\":1},\"geo\":{\"bgcolor\":\"white\",\"landcolor\":\"#E5ECF6\",\"subunitcolor\":\"white\",\"showland\":true,\"showlakes\":true,\"lakecolor\":\"white\"},\"title\":{\"x\":0.05},\"mapbox\":{\"style\":\"light\"}}},\"xaxis\":{\"anchor\":\"y\",\"domain\":[0.0,1.0],\"title\":{\"text\":\"Instance index\"}},\"yaxis\":{\"anchor\":\"x\",\"domain\":[0.0,1.0],\"title\":{\"text\":\"D1\"}},\"coloraxis\":{\"colorbar\":{\"title\":{\"text\":\"Class\"}},\"colorscale\":[[0.0,\"#0d0887\"],[0.1111111111111111,\"#46039f\"],[0.2222222222222222,\"#7201a8\"],[0.3333333333333333,\"#9c179e\"],[0.4444444444444444,\"#bd3786\"],[0.5555555555555556,\"#d8576b\"],[0.6666666666666666,\"#ed7953\"],[0.7777777777777778,\"#fb9f3a\"],[0.8888888888888888,\"#fdca26\"],[1.0,\"#f0f921\"]]},\"legend\":{\"tracegroupgap\":0},\"margin\":{\"t\":60},\"title\":{\"text\":\"Scatter plot of D1 by class\"},\"height\":600,\"width\":800},                        {\"responsive\": true}                    ).then(function(){\n",
       "                            \n",
       "var gd = document.getElementById('f9cd2fcd-e753-45c1-ad9b-09654b1fb4e3');\n",
       "var x = new MutationObserver(function (mutations, observer) {{\n",
       "        var display = window.getComputedStyle(gd).display;\n",
       "        if (!display || display === 'none') {{\n",
       "            console.log([gd, 'removed!']);\n",
       "            Plotly.purge(gd);\n",
       "            observer.disconnect();\n",
       "        }}\n",
       "}});\n",
       "\n",
       "// Listen for the removal of the full notebook cells\n",
       "var notebookContainer = gd.closest('#notebook-container');\n",
       "if (notebookContainer) {{\n",
       "    x.observe(notebookContainer, {childList: true});\n",
       "}}\n",
       "\n",
       "// Listen for the clearing of the current output cell\n",
       "var outputEl = gd.closest('.output');\n",
       "if (outputEl) {{\n",
       "    x.observe(outputEl, {childList: true});\n",
       "}}\n",
       "\n",
       "                        })                };                });            </script>        </div>"
      ]
     },
     "metadata": {},
     "output_type": "display_data"
    }
   ],
   "source": [
    "import plotly.express as px\n",
    "\n",
    "\n",
    "scatter_fig = px.scatter(\n",
    "    moldesc_df,\n",
    "    x=moldesc_df.index,        # Uses the DataFrame index as the x-axis\n",
    "    y=\"D1\",                    # \"Descriptor 1\" as the y-axis\n",
    "    color=\"Class\",             # Colors the points based on \"Class\"\n",
    "    hover_data=['Class']       # Displays the class information on hovering\n",
    "    \n",
    ")\n",
    "\n",
    "\n",
    "scatter_fig.update_layout(\n",
    "    height=600,\n",
    "    width=800,\n",
    "    title_text='Scatter plot of D1 by class',\n",
    "    xaxis_title='Instance index',\n",
    "    yaxis_title='D1'\n",
    ")\n",
    "\n",
    "\n",
    "scatter_fig.show()\n"
   ]
  },
  {
   "cell_type": "markdown",
   "metadata": {},
   "source": [
    "This scatter plot visualizes the molecular descriptor **D1**, categorized by molecular classes. In this visualization, the color bar representation is used to distinguish the classes. However, since the \"Class\" attribute contains only three discrete values (1, 2, and 3), representing them with a continuous color bar is not meaningful.\n",
    "\n",
    "- Treating categorical variables as discrete categories ensures consistency in data visualization best practices.\n",
    "- Converting the \"Class\" attribute to string format avoids the automatic generation of a continuous color scale and presents the data more accurately."
   ]
  },
  {
   "cell_type": "code",
   "execution_count": 99,
   "metadata": {},
   "outputs": [
    {
     "data": {
      "application/vnd.plotly.v1+json": {
       "config": {
        "plotlyServerURL": "https://plot.ly"
       },
       "data": [
        {
         "customdata": [
          [
           1
          ],
          [
           1
          ],
          [
           1
          ],
          [
           1
          ],
          [
           1
          ],
          [
           1
          ],
          [
           1
          ],
          [
           1
          ],
          [
           1
          ],
          [
           1
          ],
          [
           1
          ],
          [
           1
          ],
          [
           1
          ],
          [
           1
          ],
          [
           1
          ],
          [
           1
          ],
          [
           1
          ],
          [
           1
          ],
          [
           1
          ],
          [
           1
          ],
          [
           1
          ],
          [
           1
          ],
          [
           1
          ],
          [
           1
          ],
          [
           1
          ],
          [
           1
          ],
          [
           1
          ],
          [
           1
          ],
          [
           1
          ],
          [
           1
          ],
          [
           1
          ],
          [
           1
          ],
          [
           1
          ],
          [
           1
          ],
          [
           1
          ],
          [
           1
          ],
          [
           1
          ],
          [
           1
          ],
          [
           1
          ],
          [
           1
          ],
          [
           1
          ],
          [
           1
          ],
          [
           1
          ],
          [
           1
          ],
          [
           1
          ]
         ],
         "hovertemplate": "color=1<br>index=%{x}<br>D1=%{y}<br>Class=%{customdata[0]}<extra></extra>",
         "legendgroup": "1",
         "marker": {
          "color": "#636efa",
          "symbol": "circle"
         },
         "mode": "markers",
         "name": "1",
         "orientation": "v",
         "showlegend": true,
         "type": "scatter",
         "x": [
          0,
          1,
          2,
          3,
          4,
          5,
          6,
          7,
          8,
          9,
          10,
          11,
          12,
          13,
          14,
          15,
          16,
          17,
          18,
          19,
          20,
          21,
          22,
          23,
          24,
          25,
          26,
          27,
          28,
          29,
          30,
          31,
          32,
          33,
          34,
          35,
          36,
          37,
          38,
          39,
          40,
          41,
          42,
          43,
          44
         ],
         "xaxis": "x",
         "y": [
          21.996307,
          18.002651,
          26.00259,
          22.004517,
          23.003124,
          10.001482,
          20.003008,
          15.002267,
          17.003408,
          29.999311,
          30.007343,
          18.9981,
          14.9977,
          21.9979,
          19.0016,
          19.0026,
          25.002,
          13.9972,
          21.0006,
          12.0022,
          21.0038,
          21.9956,
          24.9969,
          15.9979,
          22.0049,
          19.0038,
          16.9959,
          25.0073,
          19.0005,
          12.9994,
          17.9988,
          18.0033,
          19.002,
          10.002,
          19.0023,
          24.9993,
          19.9994,
          17.9969,
          18.001,
          22.0047,
          20.9987,
          20.9963,
          18.0027,
          25.0068,
          25.9926
         ],
         "yaxis": "y"
        },
        {
         "customdata": [
          [
           2
          ],
          [
           2
          ],
          [
           2
          ],
          [
           2
          ],
          [
           2
          ],
          [
           2
          ],
          [
           2
          ],
          [
           2
          ],
          [
           2
          ],
          [
           2
          ],
          [
           2
          ],
          [
           2
          ],
          [
           2
          ],
          [
           2
          ],
          [
           2
          ],
          [
           2
          ],
          [
           2
          ],
          [
           2
          ],
          [
           2
          ],
          [
           2
          ],
          [
           2
          ],
          [
           2
          ],
          [
           2
          ],
          [
           2
          ],
          [
           2
          ],
          [
           2
          ],
          [
           2
          ],
          [
           2
          ],
          [
           2
          ],
          [
           2
          ],
          [
           2
          ],
          [
           2
          ],
          [
           2
          ],
          [
           2
          ],
          [
           2
          ],
          [
           2
          ],
          [
           2
          ],
          [
           2
          ],
          [
           2
          ],
          [
           2
          ],
          [
           2
          ],
          [
           2
          ],
          [
           2
          ],
          [
           2
          ],
          [
           2
          ],
          [
           2
          ],
          [
           2
          ],
          [
           2
          ],
          [
           2
          ],
          [
           2
          ],
          [
           2
          ],
          [
           2
          ],
          [
           2
          ],
          [
           2
          ],
          [
           2
          ],
          [
           2
          ],
          [
           2
          ],
          [
           2
          ],
          [
           2
          ]
         ],
         "hovertemplate": "color=2<br>index=%{x}<br>D1=%{y}<br>Class=%{customdata[0]}<extra></extra>",
         "legendgroup": "2",
         "marker": {
          "color": "#EF553B",
          "symbol": "circle"
         },
         "mode": "markers",
         "name": "2",
         "orientation": "v",
         "showlegend": true,
         "type": "scatter",
         "x": [
          45,
          46,
          47,
          48,
          49,
          50,
          51,
          52,
          53,
          54,
          55,
          56,
          57,
          58,
          59,
          60,
          61,
          62,
          63,
          64,
          65,
          66,
          67,
          68,
          69,
          70,
          71,
          72,
          73,
          74,
          75,
          76,
          77,
          78,
          79,
          80,
          81,
          82,
          83,
          84,
          85,
          86,
          87,
          88,
          89,
          90,
          91,
          92,
          93,
          94,
          95,
          96,
          97,
          98,
          99,
          100,
          101,
          102,
          103
         ],
         "xaxis": "x",
         "y": [
          35.002251,
          51.00835,
          47.987919,
          46.994061,
          30.991735,
          59.009369,
          48.981926,
          33.005386,
          42.005699,
          63.025597,
          40.999294,
          37.993641,
          48.986355,
          40.015846,
          40.006294,
          42.015957,
          45.980476,
          44.997509,
          45.990517,
          49.977581,
          50.007343,
          40.989933,
          51.989788,
          52.013168,
          52.015873,
          54.014034,
          46.994884,
          55.97723,
          39.003159,
          55.9939,
          58.015995,
          41.991051,
          41.01675,
          40.995365,
          39.014606,
          48.015408,
          45.998219,
          51.007839,
          58.008533,
          51.000004,
          47.018047,
          47.01086,
          43.009041,
          48.002605,
          40.988037,
          40.012447,
          51.015411,
          59.997257,
          39.008621,
          46.008797,
          46.990685,
          48.008808,
          44.007874,
          45.998219,
          49.006977,
          47.98616,
          48.007408,
          45.004894,
          41.995422
         ],
         "yaxis": "y"
        },
        {
         "customdata": [
          [
           3
          ],
          [
           3
          ],
          [
           3
          ],
          [
           3
          ],
          [
           3
          ],
          [
           3
          ],
          [
           3
          ],
          [
           3
          ],
          [
           3
          ],
          [
           3
          ],
          [
           3
          ],
          [
           3
          ],
          [
           3
          ],
          [
           3
          ],
          [
           3
          ],
          [
           3
          ],
          [
           3
          ],
          [
           3
          ],
          [
           3
          ],
          [
           3
          ],
          [
           3
          ],
          [
           3
          ],
          [
           3
          ],
          [
           3
          ],
          [
           3
          ],
          [
           3
          ],
          [
           3
          ],
          [
           3
          ],
          [
           3
          ],
          [
           3
          ],
          [
           3
          ],
          [
           3
          ],
          [
           3
          ],
          [
           3
          ],
          [
           3
          ],
          [
           3
          ],
          [
           3
          ],
          [
           3
          ],
          [
           3
          ],
          [
           3
          ],
          [
           3
          ]
         ],
         "hovertemplate": "color=3<br>index=%{x}<br>D1=%{y}<br>Class=%{customdata[0]}<extra></extra>",
         "legendgroup": "3",
         "marker": {
          "color": "#00cc96",
          "symbol": "circle"
         },
         "mode": "markers",
         "name": "3",
         "orientation": "v",
         "showlegend": true,
         "type": "scatter",
         "x": [
          104,
          105,
          106,
          107,
          108,
          109,
          110,
          111,
          112,
          113,
          114,
          115,
          116,
          117,
          118,
          119,
          120,
          121,
          122,
          123,
          124,
          125,
          126,
          127,
          128,
          129,
          130,
          131,
          132,
          133,
          134,
          135,
          136,
          137,
          138,
          139,
          140,
          141,
          142,
          143,
          144
         ],
         "xaxis": "x",
         "y": [
          6.9987,
          9.0015,
          9,
          9.001,
          8.0008,
          7.9987,
          7.9996,
          7.9996,
          6.9991,
          7.0004,
          6.9988,
          6.9987,
          8.0014,
          8.9995,
          7.9987,
          8.0009,
          7.0008,
          7.9996,
          8.0017,
          6.9996,
          7.0012,
          6.9992,
          7,
          7.0008,
          7.0004,
          8.0004,
          7.9982,
          6.9996,
          7.0004,
          10.9989,
          9.0013,
          8.0017,
          8.9986,
          8.0004,
          7.9991,
          7.9987,
          7.9983,
          7.9987,
          8.9986,
          9.0005,
          9.0018
         ],
         "yaxis": "y"
        }
       ],
       "layout": {
        "height": 600,
        "legend": {
         "title": {
          "text": "Class"
         },
         "tracegroupgap": 0
        },
        "margin": {
         "t": 60
        },
        "template": {
         "data": {
          "bar": [
           {
            "error_x": {
             "color": "#2a3f5f"
            },
            "error_y": {
             "color": "#2a3f5f"
            },
            "marker": {
             "line": {
              "color": "#E5ECF6",
              "width": 0.5
             },
             "pattern": {
              "fillmode": "overlay",
              "size": 10,
              "solidity": 0.2
             }
            },
            "type": "bar"
           }
          ],
          "barpolar": [
           {
            "marker": {
             "line": {
              "color": "#E5ECF6",
              "width": 0.5
             },
             "pattern": {
              "fillmode": "overlay",
              "size": 10,
              "solidity": 0.2
             }
            },
            "type": "barpolar"
           }
          ],
          "carpet": [
           {
            "aaxis": {
             "endlinecolor": "#2a3f5f",
             "gridcolor": "white",
             "linecolor": "white",
             "minorgridcolor": "white",
             "startlinecolor": "#2a3f5f"
            },
            "baxis": {
             "endlinecolor": "#2a3f5f",
             "gridcolor": "white",
             "linecolor": "white",
             "minorgridcolor": "white",
             "startlinecolor": "#2a3f5f"
            },
            "type": "carpet"
           }
          ],
          "choropleth": [
           {
            "colorbar": {
             "outlinewidth": 0,
             "ticks": ""
            },
            "type": "choropleth"
           }
          ],
          "contour": [
           {
            "colorbar": {
             "outlinewidth": 0,
             "ticks": ""
            },
            "colorscale": [
             [
              0,
              "#0d0887"
             ],
             [
              0.1111111111111111,
              "#46039f"
             ],
             [
              0.2222222222222222,
              "#7201a8"
             ],
             [
              0.3333333333333333,
              "#9c179e"
             ],
             [
              0.4444444444444444,
              "#bd3786"
             ],
             [
              0.5555555555555556,
              "#d8576b"
             ],
             [
              0.6666666666666666,
              "#ed7953"
             ],
             [
              0.7777777777777778,
              "#fb9f3a"
             ],
             [
              0.8888888888888888,
              "#fdca26"
             ],
             [
              1,
              "#f0f921"
             ]
            ],
            "type": "contour"
           }
          ],
          "contourcarpet": [
           {
            "colorbar": {
             "outlinewidth": 0,
             "ticks": ""
            },
            "type": "contourcarpet"
           }
          ],
          "heatmap": [
           {
            "colorbar": {
             "outlinewidth": 0,
             "ticks": ""
            },
            "colorscale": [
             [
              0,
              "#0d0887"
             ],
             [
              0.1111111111111111,
              "#46039f"
             ],
             [
              0.2222222222222222,
              "#7201a8"
             ],
             [
              0.3333333333333333,
              "#9c179e"
             ],
             [
              0.4444444444444444,
              "#bd3786"
             ],
             [
              0.5555555555555556,
              "#d8576b"
             ],
             [
              0.6666666666666666,
              "#ed7953"
             ],
             [
              0.7777777777777778,
              "#fb9f3a"
             ],
             [
              0.8888888888888888,
              "#fdca26"
             ],
             [
              1,
              "#f0f921"
             ]
            ],
            "type": "heatmap"
           }
          ],
          "heatmapgl": [
           {
            "colorbar": {
             "outlinewidth": 0,
             "ticks": ""
            },
            "colorscale": [
             [
              0,
              "#0d0887"
             ],
             [
              0.1111111111111111,
              "#46039f"
             ],
             [
              0.2222222222222222,
              "#7201a8"
             ],
             [
              0.3333333333333333,
              "#9c179e"
             ],
             [
              0.4444444444444444,
              "#bd3786"
             ],
             [
              0.5555555555555556,
              "#d8576b"
             ],
             [
              0.6666666666666666,
              "#ed7953"
             ],
             [
              0.7777777777777778,
              "#fb9f3a"
             ],
             [
              0.8888888888888888,
              "#fdca26"
             ],
             [
              1,
              "#f0f921"
             ]
            ],
            "type": "heatmapgl"
           }
          ],
          "histogram": [
           {
            "marker": {
             "pattern": {
              "fillmode": "overlay",
              "size": 10,
              "solidity": 0.2
             }
            },
            "type": "histogram"
           }
          ],
          "histogram2d": [
           {
            "colorbar": {
             "outlinewidth": 0,
             "ticks": ""
            },
            "colorscale": [
             [
              0,
              "#0d0887"
             ],
             [
              0.1111111111111111,
              "#46039f"
             ],
             [
              0.2222222222222222,
              "#7201a8"
             ],
             [
              0.3333333333333333,
              "#9c179e"
             ],
             [
              0.4444444444444444,
              "#bd3786"
             ],
             [
              0.5555555555555556,
              "#d8576b"
             ],
             [
              0.6666666666666666,
              "#ed7953"
             ],
             [
              0.7777777777777778,
              "#fb9f3a"
             ],
             [
              0.8888888888888888,
              "#fdca26"
             ],
             [
              1,
              "#f0f921"
             ]
            ],
            "type": "histogram2d"
           }
          ],
          "histogram2dcontour": [
           {
            "colorbar": {
             "outlinewidth": 0,
             "ticks": ""
            },
            "colorscale": [
             [
              0,
              "#0d0887"
             ],
             [
              0.1111111111111111,
              "#46039f"
             ],
             [
              0.2222222222222222,
              "#7201a8"
             ],
             [
              0.3333333333333333,
              "#9c179e"
             ],
             [
              0.4444444444444444,
              "#bd3786"
             ],
             [
              0.5555555555555556,
              "#d8576b"
             ],
             [
              0.6666666666666666,
              "#ed7953"
             ],
             [
              0.7777777777777778,
              "#fb9f3a"
             ],
             [
              0.8888888888888888,
              "#fdca26"
             ],
             [
              1,
              "#f0f921"
             ]
            ],
            "type": "histogram2dcontour"
           }
          ],
          "mesh3d": [
           {
            "colorbar": {
             "outlinewidth": 0,
             "ticks": ""
            },
            "type": "mesh3d"
           }
          ],
          "parcoords": [
           {
            "line": {
             "colorbar": {
              "outlinewidth": 0,
              "ticks": ""
             }
            },
            "type": "parcoords"
           }
          ],
          "pie": [
           {
            "automargin": true,
            "type": "pie"
           }
          ],
          "scatter": [
           {
            "fillpattern": {
             "fillmode": "overlay",
             "size": 10,
             "solidity": 0.2
            },
            "type": "scatter"
           }
          ],
          "scatter3d": [
           {
            "line": {
             "colorbar": {
              "outlinewidth": 0,
              "ticks": ""
             }
            },
            "marker": {
             "colorbar": {
              "outlinewidth": 0,
              "ticks": ""
             }
            },
            "type": "scatter3d"
           }
          ],
          "scattercarpet": [
           {
            "marker": {
             "colorbar": {
              "outlinewidth": 0,
              "ticks": ""
             }
            },
            "type": "scattercarpet"
           }
          ],
          "scattergeo": [
           {
            "marker": {
             "colorbar": {
              "outlinewidth": 0,
              "ticks": ""
             }
            },
            "type": "scattergeo"
           }
          ],
          "scattergl": [
           {
            "marker": {
             "colorbar": {
              "outlinewidth": 0,
              "ticks": ""
             }
            },
            "type": "scattergl"
           }
          ],
          "scattermapbox": [
           {
            "marker": {
             "colorbar": {
              "outlinewidth": 0,
              "ticks": ""
             }
            },
            "type": "scattermapbox"
           }
          ],
          "scatterpolar": [
           {
            "marker": {
             "colorbar": {
              "outlinewidth": 0,
              "ticks": ""
             }
            },
            "type": "scatterpolar"
           }
          ],
          "scatterpolargl": [
           {
            "marker": {
             "colorbar": {
              "outlinewidth": 0,
              "ticks": ""
             }
            },
            "type": "scatterpolargl"
           }
          ],
          "scatterternary": [
           {
            "marker": {
             "colorbar": {
              "outlinewidth": 0,
              "ticks": ""
             }
            },
            "type": "scatterternary"
           }
          ],
          "surface": [
           {
            "colorbar": {
             "outlinewidth": 0,
             "ticks": ""
            },
            "colorscale": [
             [
              0,
              "#0d0887"
             ],
             [
              0.1111111111111111,
              "#46039f"
             ],
             [
              0.2222222222222222,
              "#7201a8"
             ],
             [
              0.3333333333333333,
              "#9c179e"
             ],
             [
              0.4444444444444444,
              "#bd3786"
             ],
             [
              0.5555555555555556,
              "#d8576b"
             ],
             [
              0.6666666666666666,
              "#ed7953"
             ],
             [
              0.7777777777777778,
              "#fb9f3a"
             ],
             [
              0.8888888888888888,
              "#fdca26"
             ],
             [
              1,
              "#f0f921"
             ]
            ],
            "type": "surface"
           }
          ],
          "table": [
           {
            "cells": {
             "fill": {
              "color": "#EBF0F8"
             },
             "line": {
              "color": "white"
             }
            },
            "header": {
             "fill": {
              "color": "#C8D4E3"
             },
             "line": {
              "color": "white"
             }
            },
            "type": "table"
           }
          ]
         },
         "layout": {
          "annotationdefaults": {
           "arrowcolor": "#2a3f5f",
           "arrowhead": 0,
           "arrowwidth": 1
          },
          "autotypenumbers": "strict",
          "coloraxis": {
           "colorbar": {
            "outlinewidth": 0,
            "ticks": ""
           }
          },
          "colorscale": {
           "diverging": [
            [
             0,
             "#8e0152"
            ],
            [
             0.1,
             "#c51b7d"
            ],
            [
             0.2,
             "#de77ae"
            ],
            [
             0.3,
             "#f1b6da"
            ],
            [
             0.4,
             "#fde0ef"
            ],
            [
             0.5,
             "#f7f7f7"
            ],
            [
             0.6,
             "#e6f5d0"
            ],
            [
             0.7,
             "#b8e186"
            ],
            [
             0.8,
             "#7fbc41"
            ],
            [
             0.9,
             "#4d9221"
            ],
            [
             1,
             "#276419"
            ]
           ],
           "sequential": [
            [
             0,
             "#0d0887"
            ],
            [
             0.1111111111111111,
             "#46039f"
            ],
            [
             0.2222222222222222,
             "#7201a8"
            ],
            [
             0.3333333333333333,
             "#9c179e"
            ],
            [
             0.4444444444444444,
             "#bd3786"
            ],
            [
             0.5555555555555556,
             "#d8576b"
            ],
            [
             0.6666666666666666,
             "#ed7953"
            ],
            [
             0.7777777777777778,
             "#fb9f3a"
            ],
            [
             0.8888888888888888,
             "#fdca26"
            ],
            [
             1,
             "#f0f921"
            ]
           ],
           "sequentialminus": [
            [
             0,
             "#0d0887"
            ],
            [
             0.1111111111111111,
             "#46039f"
            ],
            [
             0.2222222222222222,
             "#7201a8"
            ],
            [
             0.3333333333333333,
             "#9c179e"
            ],
            [
             0.4444444444444444,
             "#bd3786"
            ],
            [
             0.5555555555555556,
             "#d8576b"
            ],
            [
             0.6666666666666666,
             "#ed7953"
            ],
            [
             0.7777777777777778,
             "#fb9f3a"
            ],
            [
             0.8888888888888888,
             "#fdca26"
            ],
            [
             1,
             "#f0f921"
            ]
           ]
          },
          "colorway": [
           "#636efa",
           "#EF553B",
           "#00cc96",
           "#ab63fa",
           "#FFA15A",
           "#19d3f3",
           "#FF6692",
           "#B6E880",
           "#FF97FF",
           "#FECB52"
          ],
          "font": {
           "color": "#2a3f5f"
          },
          "geo": {
           "bgcolor": "white",
           "lakecolor": "white",
           "landcolor": "#E5ECF6",
           "showlakes": true,
           "showland": true,
           "subunitcolor": "white"
          },
          "hoverlabel": {
           "align": "left"
          },
          "hovermode": "closest",
          "mapbox": {
           "style": "light"
          },
          "paper_bgcolor": "white",
          "plot_bgcolor": "#E5ECF6",
          "polar": {
           "angularaxis": {
            "gridcolor": "white",
            "linecolor": "white",
            "ticks": ""
           },
           "bgcolor": "#E5ECF6",
           "radialaxis": {
            "gridcolor": "white",
            "linecolor": "white",
            "ticks": ""
           }
          },
          "scene": {
           "xaxis": {
            "backgroundcolor": "#E5ECF6",
            "gridcolor": "white",
            "gridwidth": 2,
            "linecolor": "white",
            "showbackground": true,
            "ticks": "",
            "zerolinecolor": "white"
           },
           "yaxis": {
            "backgroundcolor": "#E5ECF6",
            "gridcolor": "white",
            "gridwidth": 2,
            "linecolor": "white",
            "showbackground": true,
            "ticks": "",
            "zerolinecolor": "white"
           },
           "zaxis": {
            "backgroundcolor": "#E5ECF6",
            "gridcolor": "white",
            "gridwidth": 2,
            "linecolor": "white",
            "showbackground": true,
            "ticks": "",
            "zerolinecolor": "white"
           }
          },
          "shapedefaults": {
           "line": {
            "color": "#2a3f5f"
           }
          },
          "ternary": {
           "aaxis": {
            "gridcolor": "white",
            "linecolor": "white",
            "ticks": ""
           },
           "baxis": {
            "gridcolor": "white",
            "linecolor": "white",
            "ticks": ""
           },
           "bgcolor": "#E5ECF6",
           "caxis": {
            "gridcolor": "white",
            "linecolor": "white",
            "ticks": ""
           }
          },
          "title": {
           "x": 0.05
          },
          "xaxis": {
           "automargin": true,
           "gridcolor": "white",
           "linecolor": "white",
           "ticks": "",
           "title": {
            "standoff": 15
           },
           "zerolinecolor": "white",
           "zerolinewidth": 2
          },
          "yaxis": {
           "automargin": true,
           "gridcolor": "white",
           "linecolor": "white",
           "ticks": "",
           "title": {
            "standoff": 15
           },
           "zerolinecolor": "white",
           "zerolinewidth": 2
          }
         }
        },
        "title": {
         "text": "Scatter plot of D1 by class"
        },
        "width": 800,
        "xaxis": {
         "anchor": "y",
         "autorange": true,
         "domain": [
          0,
          1
         ],
         "range": [
          -9.055408970976254,
          153.05540897097626
         ],
         "title": {
          "text": "Instance index"
         },
         "type": "linear"
        },
        "yaxis": {
         "anchor": "x",
         "autorange": true,
         "domain": [
          0,
          1
         ],
         "range": [
          3.3118131740467405,
          66.71248382595326
         ],
         "title": {
          "text": "D1 value"
         },
         "type": "linear"
        }
       }
      },
      "text/html": [
       "<div>                            <div id=\"3f47344b-95bc-43d0-bab7-b470c8b7af0b\" class=\"plotly-graph-div\" style=\"height:600px; width:800px;\"></div>            <script type=\"text/javascript\">                require([\"plotly\"], function(Plotly) {                    window.PLOTLYENV=window.PLOTLYENV || {};                                    if (document.getElementById(\"3f47344b-95bc-43d0-bab7-b470c8b7af0b\")) {                    Plotly.newPlot(                        \"3f47344b-95bc-43d0-bab7-b470c8b7af0b\",                        [{\"customdata\":[[1],[1],[1],[1],[1],[1],[1],[1],[1],[1],[1],[1],[1],[1],[1],[1],[1],[1],[1],[1],[1],[1],[1],[1],[1],[1],[1],[1],[1],[1],[1],[1],[1],[1],[1],[1],[1],[1],[1],[1],[1],[1],[1],[1],[1]],\"hovertemplate\":\"color=1\\u003cbr\\u003eindex=%{x}\\u003cbr\\u003eD1=%{y}\\u003cbr\\u003eClass=%{customdata[0]}\\u003cextra\\u003e\\u003c\\u002fextra\\u003e\",\"legendgroup\":\"1\",\"marker\":{\"color\":\"#636efa\",\"symbol\":\"circle\"},\"mode\":\"markers\",\"name\":\"1\",\"orientation\":\"v\",\"showlegend\":true,\"x\":[0,1,2,3,4,5,6,7,8,9,10,11,12,13,14,15,16,17,18,19,20,21,22,23,24,25,26,27,28,29,30,31,32,33,34,35,36,37,38,39,40,41,42,43,44],\"xaxis\":\"x\",\"y\":[21.996307,18.002651,26.00259,22.004517,23.003124,10.001482,20.003008,15.002267,17.003408,29.999311,30.007343,18.9981,14.9977,21.9979,19.0016,19.0026,25.002,13.9972,21.0006,12.0022,21.0038,21.9956,24.9969,15.9979,22.0049,19.0038,16.9959,25.0073,19.0005,12.9994,17.9988,18.0033,19.002,10.002,19.0023,24.9993,19.9994,17.9969,18.001,22.0047,20.9987,20.9963,18.0027,25.0068,25.9926],\"yaxis\":\"y\",\"type\":\"scatter\"},{\"customdata\":[[2],[2],[2],[2],[2],[2],[2],[2],[2],[2],[2],[2],[2],[2],[2],[2],[2],[2],[2],[2],[2],[2],[2],[2],[2],[2],[2],[2],[2],[2],[2],[2],[2],[2],[2],[2],[2],[2],[2],[2],[2],[2],[2],[2],[2],[2],[2],[2],[2],[2],[2],[2],[2],[2],[2],[2],[2],[2],[2]],\"hovertemplate\":\"color=2\\u003cbr\\u003eindex=%{x}\\u003cbr\\u003eD1=%{y}\\u003cbr\\u003eClass=%{customdata[0]}\\u003cextra\\u003e\\u003c\\u002fextra\\u003e\",\"legendgroup\":\"2\",\"marker\":{\"color\":\"#EF553B\",\"symbol\":\"circle\"},\"mode\":\"markers\",\"name\":\"2\",\"orientation\":\"v\",\"showlegend\":true,\"x\":[45,46,47,48,49,50,51,52,53,54,55,56,57,58,59,60,61,62,63,64,65,66,67,68,69,70,71,72,73,74,75,76,77,78,79,80,81,82,83,84,85,86,87,88,89,90,91,92,93,94,95,96,97,98,99,100,101,102,103],\"xaxis\":\"x\",\"y\":[35.002251,51.00835,47.987919,46.994061,30.991735,59.009369,48.981926,33.005386,42.005699,63.025597,40.999294,37.993641,48.986355,40.015846,40.006294,42.015957,45.980476,44.997509,45.990517,49.977581,50.007343,40.989933,51.989788,52.013168,52.015873,54.014034,46.994884,55.97723,39.003159,55.9939,58.015995,41.991051,41.01675,40.995365,39.014606,48.015408,45.998219,51.007839,58.008533,51.000004,47.018047,47.01086,43.009041,48.002605,40.988037,40.012447,51.015411,59.997257,39.008621,46.008797,46.990685,48.008808,44.007874,45.998219,49.006977,47.98616,48.007408,45.004894,41.995422],\"yaxis\":\"y\",\"type\":\"scatter\"},{\"customdata\":[[3],[3],[3],[3],[3],[3],[3],[3],[3],[3],[3],[3],[3],[3],[3],[3],[3],[3],[3],[3],[3],[3],[3],[3],[3],[3],[3],[3],[3],[3],[3],[3],[3],[3],[3],[3],[3],[3],[3],[3],[3]],\"hovertemplate\":\"color=3\\u003cbr\\u003eindex=%{x}\\u003cbr\\u003eD1=%{y}\\u003cbr\\u003eClass=%{customdata[0]}\\u003cextra\\u003e\\u003c\\u002fextra\\u003e\",\"legendgroup\":\"3\",\"marker\":{\"color\":\"#00cc96\",\"symbol\":\"circle\"},\"mode\":\"markers\",\"name\":\"3\",\"orientation\":\"v\",\"showlegend\":true,\"x\":[104,105,106,107,108,109,110,111,112,113,114,115,116,117,118,119,120,121,122,123,124,125,126,127,128,129,130,131,132,133,134,135,136,137,138,139,140,141,142,143,144],\"xaxis\":\"x\",\"y\":[6.9987,9.0015,9.0,9.001,8.0008,7.9987,7.9996,7.9996,6.9991,7.0004,6.9988,6.9987,8.0014,8.9995,7.9987,8.0009,7.0008,7.9996,8.0017,6.9996,7.0012,6.9992,7.0,7.0008,7.0004,8.0004,7.9982,6.9996,7.0004,10.9989,9.0013,8.0017,8.9986,8.0004,7.9991,7.9987,7.9983,7.9987,8.9986,9.0005,9.0018],\"yaxis\":\"y\",\"type\":\"scatter\"}],                        {\"template\":{\"data\":{\"histogram2dcontour\":[{\"type\":\"histogram2dcontour\",\"colorbar\":{\"outlinewidth\":0,\"ticks\":\"\"},\"colorscale\":[[0.0,\"#0d0887\"],[0.1111111111111111,\"#46039f\"],[0.2222222222222222,\"#7201a8\"],[0.3333333333333333,\"#9c179e\"],[0.4444444444444444,\"#bd3786\"],[0.5555555555555556,\"#d8576b\"],[0.6666666666666666,\"#ed7953\"],[0.7777777777777778,\"#fb9f3a\"],[0.8888888888888888,\"#fdca26\"],[1.0,\"#f0f921\"]]}],\"choropleth\":[{\"type\":\"choropleth\",\"colorbar\":{\"outlinewidth\":0,\"ticks\":\"\"}}],\"histogram2d\":[{\"type\":\"histogram2d\",\"colorbar\":{\"outlinewidth\":0,\"ticks\":\"\"},\"colorscale\":[[0.0,\"#0d0887\"],[0.1111111111111111,\"#46039f\"],[0.2222222222222222,\"#7201a8\"],[0.3333333333333333,\"#9c179e\"],[0.4444444444444444,\"#bd3786\"],[0.5555555555555556,\"#d8576b\"],[0.6666666666666666,\"#ed7953\"],[0.7777777777777778,\"#fb9f3a\"],[0.8888888888888888,\"#fdca26\"],[1.0,\"#f0f921\"]]}],\"heatmap\":[{\"type\":\"heatmap\",\"colorbar\":{\"outlinewidth\":0,\"ticks\":\"\"},\"colorscale\":[[0.0,\"#0d0887\"],[0.1111111111111111,\"#46039f\"],[0.2222222222222222,\"#7201a8\"],[0.3333333333333333,\"#9c179e\"],[0.4444444444444444,\"#bd3786\"],[0.5555555555555556,\"#d8576b\"],[0.6666666666666666,\"#ed7953\"],[0.7777777777777778,\"#fb9f3a\"],[0.8888888888888888,\"#fdca26\"],[1.0,\"#f0f921\"]]}],\"heatmapgl\":[{\"type\":\"heatmapgl\",\"colorbar\":{\"outlinewidth\":0,\"ticks\":\"\"},\"colorscale\":[[0.0,\"#0d0887\"],[0.1111111111111111,\"#46039f\"],[0.2222222222222222,\"#7201a8\"],[0.3333333333333333,\"#9c179e\"],[0.4444444444444444,\"#bd3786\"],[0.5555555555555556,\"#d8576b\"],[0.6666666666666666,\"#ed7953\"],[0.7777777777777778,\"#fb9f3a\"],[0.8888888888888888,\"#fdca26\"],[1.0,\"#f0f921\"]]}],\"contourcarpet\":[{\"type\":\"contourcarpet\",\"colorbar\":{\"outlinewidth\":0,\"ticks\":\"\"}}],\"contour\":[{\"type\":\"contour\",\"colorbar\":{\"outlinewidth\":0,\"ticks\":\"\"},\"colorscale\":[[0.0,\"#0d0887\"],[0.1111111111111111,\"#46039f\"],[0.2222222222222222,\"#7201a8\"],[0.3333333333333333,\"#9c179e\"],[0.4444444444444444,\"#bd3786\"],[0.5555555555555556,\"#d8576b\"],[0.6666666666666666,\"#ed7953\"],[0.7777777777777778,\"#fb9f3a\"],[0.8888888888888888,\"#fdca26\"],[1.0,\"#f0f921\"]]}],\"surface\":[{\"type\":\"surface\",\"colorbar\":{\"outlinewidth\":0,\"ticks\":\"\"},\"colorscale\":[[0.0,\"#0d0887\"],[0.1111111111111111,\"#46039f\"],[0.2222222222222222,\"#7201a8\"],[0.3333333333333333,\"#9c179e\"],[0.4444444444444444,\"#bd3786\"],[0.5555555555555556,\"#d8576b\"],[0.6666666666666666,\"#ed7953\"],[0.7777777777777778,\"#fb9f3a\"],[0.8888888888888888,\"#fdca26\"],[1.0,\"#f0f921\"]]}],\"mesh3d\":[{\"type\":\"mesh3d\",\"colorbar\":{\"outlinewidth\":0,\"ticks\":\"\"}}],\"scatter\":[{\"fillpattern\":{\"fillmode\":\"overlay\",\"size\":10,\"solidity\":0.2},\"type\":\"scatter\"}],\"parcoords\":[{\"type\":\"parcoords\",\"line\":{\"colorbar\":{\"outlinewidth\":0,\"ticks\":\"\"}}}],\"scatterpolargl\":[{\"type\":\"scatterpolargl\",\"marker\":{\"colorbar\":{\"outlinewidth\":0,\"ticks\":\"\"}}}],\"bar\":[{\"error_x\":{\"color\":\"#2a3f5f\"},\"error_y\":{\"color\":\"#2a3f5f\"},\"marker\":{\"line\":{\"color\":\"#E5ECF6\",\"width\":0.5},\"pattern\":{\"fillmode\":\"overlay\",\"size\":10,\"solidity\":0.2}},\"type\":\"bar\"}],\"scattergeo\":[{\"type\":\"scattergeo\",\"marker\":{\"colorbar\":{\"outlinewidth\":0,\"ticks\":\"\"}}}],\"scatterpolar\":[{\"type\":\"scatterpolar\",\"marker\":{\"colorbar\":{\"outlinewidth\":0,\"ticks\":\"\"}}}],\"histogram\":[{\"marker\":{\"pattern\":{\"fillmode\":\"overlay\",\"size\":10,\"solidity\":0.2}},\"type\":\"histogram\"}],\"scattergl\":[{\"type\":\"scattergl\",\"marker\":{\"colorbar\":{\"outlinewidth\":0,\"ticks\":\"\"}}}],\"scatter3d\":[{\"type\":\"scatter3d\",\"line\":{\"colorbar\":{\"outlinewidth\":0,\"ticks\":\"\"}},\"marker\":{\"colorbar\":{\"outlinewidth\":0,\"ticks\":\"\"}}}],\"scattermapbox\":[{\"type\":\"scattermapbox\",\"marker\":{\"colorbar\":{\"outlinewidth\":0,\"ticks\":\"\"}}}],\"scatterternary\":[{\"type\":\"scatterternary\",\"marker\":{\"colorbar\":{\"outlinewidth\":0,\"ticks\":\"\"}}}],\"scattercarpet\":[{\"type\":\"scattercarpet\",\"marker\":{\"colorbar\":{\"outlinewidth\":0,\"ticks\":\"\"}}}],\"carpet\":[{\"aaxis\":{\"endlinecolor\":\"#2a3f5f\",\"gridcolor\":\"white\",\"linecolor\":\"white\",\"minorgridcolor\":\"white\",\"startlinecolor\":\"#2a3f5f\"},\"baxis\":{\"endlinecolor\":\"#2a3f5f\",\"gridcolor\":\"white\",\"linecolor\":\"white\",\"minorgridcolor\":\"white\",\"startlinecolor\":\"#2a3f5f\"},\"type\":\"carpet\"}],\"table\":[{\"cells\":{\"fill\":{\"color\":\"#EBF0F8\"},\"line\":{\"color\":\"white\"}},\"header\":{\"fill\":{\"color\":\"#C8D4E3\"},\"line\":{\"color\":\"white\"}},\"type\":\"table\"}],\"barpolar\":[{\"marker\":{\"line\":{\"color\":\"#E5ECF6\",\"width\":0.5},\"pattern\":{\"fillmode\":\"overlay\",\"size\":10,\"solidity\":0.2}},\"type\":\"barpolar\"}],\"pie\":[{\"automargin\":true,\"type\":\"pie\"}]},\"layout\":{\"autotypenumbers\":\"strict\",\"colorway\":[\"#636efa\",\"#EF553B\",\"#00cc96\",\"#ab63fa\",\"#FFA15A\",\"#19d3f3\",\"#FF6692\",\"#B6E880\",\"#FF97FF\",\"#FECB52\"],\"font\":{\"color\":\"#2a3f5f\"},\"hovermode\":\"closest\",\"hoverlabel\":{\"align\":\"left\"},\"paper_bgcolor\":\"white\",\"plot_bgcolor\":\"#E5ECF6\",\"polar\":{\"bgcolor\":\"#E5ECF6\",\"angularaxis\":{\"gridcolor\":\"white\",\"linecolor\":\"white\",\"ticks\":\"\"},\"radialaxis\":{\"gridcolor\":\"white\",\"linecolor\":\"white\",\"ticks\":\"\"}},\"ternary\":{\"bgcolor\":\"#E5ECF6\",\"aaxis\":{\"gridcolor\":\"white\",\"linecolor\":\"white\",\"ticks\":\"\"},\"baxis\":{\"gridcolor\":\"white\",\"linecolor\":\"white\",\"ticks\":\"\"},\"caxis\":{\"gridcolor\":\"white\",\"linecolor\":\"white\",\"ticks\":\"\"}},\"coloraxis\":{\"colorbar\":{\"outlinewidth\":0,\"ticks\":\"\"}},\"colorscale\":{\"sequential\":[[0.0,\"#0d0887\"],[0.1111111111111111,\"#46039f\"],[0.2222222222222222,\"#7201a8\"],[0.3333333333333333,\"#9c179e\"],[0.4444444444444444,\"#bd3786\"],[0.5555555555555556,\"#d8576b\"],[0.6666666666666666,\"#ed7953\"],[0.7777777777777778,\"#fb9f3a\"],[0.8888888888888888,\"#fdca26\"],[1.0,\"#f0f921\"]],\"sequentialminus\":[[0.0,\"#0d0887\"],[0.1111111111111111,\"#46039f\"],[0.2222222222222222,\"#7201a8\"],[0.3333333333333333,\"#9c179e\"],[0.4444444444444444,\"#bd3786\"],[0.5555555555555556,\"#d8576b\"],[0.6666666666666666,\"#ed7953\"],[0.7777777777777778,\"#fb9f3a\"],[0.8888888888888888,\"#fdca26\"],[1.0,\"#f0f921\"]],\"diverging\":[[0,\"#8e0152\"],[0.1,\"#c51b7d\"],[0.2,\"#de77ae\"],[0.3,\"#f1b6da\"],[0.4,\"#fde0ef\"],[0.5,\"#f7f7f7\"],[0.6,\"#e6f5d0\"],[0.7,\"#b8e186\"],[0.8,\"#7fbc41\"],[0.9,\"#4d9221\"],[1,\"#276419\"]]},\"xaxis\":{\"gridcolor\":\"white\",\"linecolor\":\"white\",\"ticks\":\"\",\"title\":{\"standoff\":15},\"zerolinecolor\":\"white\",\"automargin\":true,\"zerolinewidth\":2},\"yaxis\":{\"gridcolor\":\"white\",\"linecolor\":\"white\",\"ticks\":\"\",\"title\":{\"standoff\":15},\"zerolinecolor\":\"white\",\"automargin\":true,\"zerolinewidth\":2},\"scene\":{\"xaxis\":{\"backgroundcolor\":\"#E5ECF6\",\"gridcolor\":\"white\",\"linecolor\":\"white\",\"showbackground\":true,\"ticks\":\"\",\"zerolinecolor\":\"white\",\"gridwidth\":2},\"yaxis\":{\"backgroundcolor\":\"#E5ECF6\",\"gridcolor\":\"white\",\"linecolor\":\"white\",\"showbackground\":true,\"ticks\":\"\",\"zerolinecolor\":\"white\",\"gridwidth\":2},\"zaxis\":{\"backgroundcolor\":\"#E5ECF6\",\"gridcolor\":\"white\",\"linecolor\":\"white\",\"showbackground\":true,\"ticks\":\"\",\"zerolinecolor\":\"white\",\"gridwidth\":2}},\"shapedefaults\":{\"line\":{\"color\":\"#2a3f5f\"}},\"annotationdefaults\":{\"arrowcolor\":\"#2a3f5f\",\"arrowhead\":0,\"arrowwidth\":1},\"geo\":{\"bgcolor\":\"white\",\"landcolor\":\"#E5ECF6\",\"subunitcolor\":\"white\",\"showland\":true,\"showlakes\":true,\"lakecolor\":\"white\"},\"title\":{\"x\":0.05},\"mapbox\":{\"style\":\"light\"}}},\"xaxis\":{\"anchor\":\"y\",\"domain\":[0.0,1.0],\"title\":{\"text\":\"Instance index\"}},\"yaxis\":{\"anchor\":\"x\",\"domain\":[0.0,1.0],\"title\":{\"text\":\"D1 value\"}},\"legend\":{\"title\":{\"text\":\"Class\"},\"tracegroupgap\":0},\"margin\":{\"t\":60},\"title\":{\"text\":\"Scatter plot of D1 by class\"},\"height\":600,\"width\":800},                        {\"responsive\": true}                    ).then(function(){\n",
       "                            \n",
       "var gd = document.getElementById('3f47344b-95bc-43d0-bab7-b470c8b7af0b');\n",
       "var x = new MutationObserver(function (mutations, observer) {{\n",
       "        var display = window.getComputedStyle(gd).display;\n",
       "        if (!display || display === 'none') {{\n",
       "            console.log([gd, 'removed!']);\n",
       "            Plotly.purge(gd);\n",
       "            observer.disconnect();\n",
       "        }}\n",
       "}});\n",
       "\n",
       "// Listen for the removal of the full notebook cells\n",
       "var notebookContainer = gd.closest('#notebook-container');\n",
       "if (notebookContainer) {{\n",
       "    x.observe(notebookContainer, {childList: true});\n",
       "}}\n",
       "\n",
       "// Listen for the clearing of the current output cell\n",
       "var outputEl = gd.closest('.output');\n",
       "if (outputEl) {{\n",
       "    x.observe(outputEl, {childList: true});\n",
       "}}\n",
       "\n",
       "                        })                };                });            </script>        </div>"
      ]
     },
     "metadata": {},
     "output_type": "display_data"
    }
   ],
   "source": [
    "import plotly.express as px\n",
    "\n",
    "# Create the scatter plot with Plotly\n",
    "fig = px.scatter(\n",
    "    moldesc_df,\n",
    "    x=moldesc_df.index,        # Use the DataFrame index as the x-axis\n",
    "    y=\"D1\",                    # \"D1\" as the y-axis\n",
    "    color=moldesc_df['Class'].astype(str),  # Convert \"Class\" to string to avoid a color bar\n",
    "    hover_data=['Class']       # Display the class information on hover\n",
    ")\n",
    "\n",
    "# Update the layout of the plot\n",
    "fig.update_layout(\n",
    "    height=600,\n",
    "    width=800,\n",
    "    title_text='Scatter plot of D1 by class',\n",
    "    xaxis_title='Instance index',\n",
    "    yaxis_title='D1 value',\n",
    "    legend_title_text='Class'  # Update legend title\n",
    ")\n",
    "\n",
    "# Show the plot\n",
    "fig.show()\n"
   ]
  },
  {
   "cell_type": "markdown",
   "metadata": {},
   "source": [
    "### Scatter plot analysis of D1 by class\n",
    "\n",
    "- The data points are distinctly clustered, suggesting that the \"D1\" descriptor provides a clear differentiation among the three molecular classes.\n",
    "- Class 1 (colored blue) has lower values of D1, primarily in the range of **10-30**.\n",
    "- Class 2 (colored red) shows higher values, mostly in the range of **30-65**.\n",
    "- Class 3 (colored green) exhibits the lowest values, concentrated in the range of **5-10**, indicating a different molecular behavior.\n",
    "\n",
    "- There is a noticeable gap between the clusters of classes, which may suggest that the descriptor D1 alone could provide meaningful classification insights.\n"
   ]
  },
  {
   "cell_type": "markdown",
   "metadata": {},
   "source": [
    "5) Produce an image (by using Seaborn functionalities) with 3 box-plots (one per class) to show the distribution of values of the \"D2\" attribute"
   ]
  },
  {
   "cell_type": "code",
   "execution_count": 102,
   "metadata": {},
   "outputs": [
    {
     "data": {
      "image/png": "[encoded data removed]",
      "text/plain": [
       "<Figure size 1258.88x800 with 1 Axes>"
      ]
     },
     "metadata": {},
     "output_type": "display_data"
    }
   ],
   "source": [
    "sns.catplot(moldesc_df, \n",
    "            x=moldesc_df[\"D2\"], \n",
    "            hue=moldesc_df[\"Class\"], \n",
    "            aspect = 1.5, \n",
    "            kind=\"box\",\n",
    "            height = 8)\n",
    "\n",
    "plt.xlabel(\"D2 value\")\n",
    "plt.title(\"Distribution of D2 by class\")\n",
    "plt.show()"
   ]
  },
  {
   "cell_type": "markdown",
   "metadata": {},
   "source": [
    "### Box Plot analysis of D2 by class\n",
    " \n",
    "   - Class 1 and Class 3 have relatively narrow distributions, with Class 3 showing the smallest range of D2 values.\n",
    "   - Class 2 exhibits the widest range, indicating greater variability in D2 values.\n",
    "\n",
    "\n",
    "   - Class 1 and Class 3 contain a few outliers, while Class 2 does not show any visible outliers, indicating a more consistent spread.\n",
    "\n",
    "   - Class 3 has the lowest values, Class 1 falls within a mid-range, and Class 2 covers the highest values, suggesting that D2 could be a useful descriptor for distinguishing between these molecular classes.\n"
   ]
  },
  {
   "cell_type": "markdown",
   "metadata": {},
   "source": [
    "6) Build the 8x8 Correlation Matrix (just for the first 8 numerical attributes), print it and plot it (by using Seaborn functionalities) with a color scale"
   ]
  },
  {
   "cell_type": "code",
   "execution_count": 105,
   "metadata": {},
   "outputs": [
    {
     "data": {
      "text/html": [
       "<div>\n",
       "<style scoped>\n",
       "    .dataframe tbody tr th:only-of-type {\n",
       "        vertical-align: middle;\n",
       "    }\n",
       "\n",
       "    .dataframe tbody tr th {\n",
       "        vertical-align: top;\n",
       "    }\n",
       "\n",
       "    .dataframe thead th {\n",
       "        text-align: right;\n",
       "    }\n",
       "</style>\n",
       "<table border=\"1\" class=\"dataframe\">\n",
       "  <thead>\n",
       "    <tr style=\"text-align: right;\">\n",
       "      <th></th>\n",
       "      <th>D1</th>\n",
       "      <th>D2</th>\n",
       "      <th>D3</th>\n",
       "      <th>D4</th>\n",
       "      <th>D5</th>\n",
       "      <th>D6</th>\n",
       "      <th>D7</th>\n",
       "      <th>D8</th>\n",
       "    </tr>\n",
       "  </thead>\n",
       "  <tbody>\n",
       "    <tr>\n",
       "      <th>D1</th>\n",
       "      <td>1.000000</td>\n",
       "      <td>0.995182</td>\n",
       "      <td>0.998650</td>\n",
       "      <td>-0.255810</td>\n",
       "      <td>0.174931</td>\n",
       "      <td>-0.196771</td>\n",
       "      <td>0.195719</td>\n",
       "      <td>-0.090956</td>\n",
       "    </tr>\n",
       "    <tr>\n",
       "      <th>D2</th>\n",
       "      <td>0.995182</td>\n",
       "      <td>1.000000</td>\n",
       "      <td>0.995364</td>\n",
       "      <td>-0.218168</td>\n",
       "      <td>0.203504</td>\n",
       "      <td>-0.224917</td>\n",
       "      <td>0.168198</td>\n",
       "      <td>-0.112945</td>\n",
       "    </tr>\n",
       "    <tr>\n",
       "      <th>D3</th>\n",
       "      <td>0.998650</td>\n",
       "      <td>0.995364</td>\n",
       "      <td>1.000000</td>\n",
       "      <td>-0.243285</td>\n",
       "      <td>0.186418</td>\n",
       "      <td>-0.208930</td>\n",
       "      <td>0.182235</td>\n",
       "      <td>-0.107476</td>\n",
       "    </tr>\n",
       "    <tr>\n",
       "      <th>D4</th>\n",
       "      <td>-0.255810</td>\n",
       "      <td>-0.218168</td>\n",
       "      <td>-0.243285</td>\n",
       "      <td>1.000000</td>\n",
       "      <td>0.077383</td>\n",
       "      <td>-0.075836</td>\n",
       "      <td>-0.938369</td>\n",
       "      <td>-0.862068</td>\n",
       "    </tr>\n",
       "    <tr>\n",
       "      <th>D5</th>\n",
       "      <td>0.174931</td>\n",
       "      <td>0.203504</td>\n",
       "      <td>0.186418</td>\n",
       "      <td>0.077383</td>\n",
       "      <td>1.000000</td>\n",
       "      <td>-0.982521</td>\n",
       "      <td>-0.088560</td>\n",
       "      <td>-0.170986</td>\n",
       "    </tr>\n",
       "    <tr>\n",
       "      <th>D6</th>\n",
       "      <td>-0.196771</td>\n",
       "      <td>-0.224917</td>\n",
       "      <td>-0.208930</td>\n",
       "      <td>-0.075836</td>\n",
       "      <td>-0.982521</td>\n",
       "      <td>1.000000</td>\n",
       "      <td>0.098398</td>\n",
       "      <td>0.192691</td>\n",
       "    </tr>\n",
       "    <tr>\n",
       "      <th>D7</th>\n",
       "      <td>0.195719</td>\n",
       "      <td>0.168198</td>\n",
       "      <td>0.182235</td>\n",
       "      <td>-0.938369</td>\n",
       "      <td>-0.088560</td>\n",
       "      <td>0.098398</td>\n",
       "      <td>1.000000</td>\n",
       "      <td>0.937839</td>\n",
       "    </tr>\n",
       "    <tr>\n",
       "      <th>D8</th>\n",
       "      <td>-0.090956</td>\n",
       "      <td>-0.112945</td>\n",
       "      <td>-0.107476</td>\n",
       "      <td>-0.862068</td>\n",
       "      <td>-0.170986</td>\n",
       "      <td>0.192691</td>\n",
       "      <td>0.937839</td>\n",
       "      <td>1.000000</td>\n",
       "    </tr>\n",
       "  </tbody>\n",
       "</table>\n",
       "</div>"
      ],
      "text/plain": [
       "          D1        D2        D3        D4        D5        D6        D7  \\\n",
       "D1  1.000000  0.995182  0.998650 -0.255810  0.174931 -0.196771  0.195719   \n",
       "D2  0.995182  1.000000  0.995364 -0.218168  0.203504 -0.224917  0.168198   \n",
       "D3  0.998650  0.995364  1.000000 -0.243285  0.186418 -0.208930  0.182235   \n",
       "D4 -0.255810 -0.218168 -0.243285  1.000000  0.077383 -0.075836 -0.938369   \n",
       "D5  0.174931  0.203504  0.186418  0.077383  1.000000 -0.982521 -0.088560   \n",
       "D6 -0.196771 -0.224917 -0.208930 -0.075836 -0.982521  1.000000  0.098398   \n",
       "D7  0.195719  0.168198  0.182235 -0.938369 -0.088560  0.098398  1.000000   \n",
       "D8 -0.090956 -0.112945 -0.107476 -0.862068 -0.170986  0.192691  0.937839   \n",
       "\n",
       "          D8  \n",
       "D1 -0.090956  \n",
       "D2 -0.112945  \n",
       "D3 -0.107476  \n",
       "D4 -0.862068  \n",
       "D5 -0.170986  \n",
       "D6  0.192691  \n",
       "D7  0.937839  \n",
       "D8  1.000000  "
      ]
     },
     "execution_count": 105,
     "metadata": {},
     "output_type": "execute_result"
    }
   ],
   "source": [
    "#Computing correlation matrix of the 8 attributes \n",
    "moldesc_df[moldesc_df.columns[0:8]].corr()"
   ]
  },
  {
   "cell_type": "code",
   "execution_count": 106,
   "metadata": {},
   "outputs": [
    {
     "data": {
      "image/png": "[encoded data removed]",
      "text/plain": [
       "<Figure size 800x800 with 2 Axes>"
      ]
     },
     "metadata": {},
     "output_type": "display_data"
    }
   ],
   "source": [
    "#Visual analysis of correlation\n",
    "\n",
    "cmap= sns.color_palette(\"Spectral\", as_cmap=True) #Diverging palette for better visualization\n",
    "\n",
    "plt.figure(figsize=(8, 8))\n",
    "sns.heatmap(moldesc_df[moldesc_df.columns[0:8]].corr(), annot=True, fmt='.3f', cmap = cmap, square=True)\n",
    "\n",
    "plt.show()"
   ]
  },
  {
   "cell_type": "markdown",
   "metadata": {},
   "source": [
    "### Correlation Matrix analysis\n",
    "\n",
    "- D1, D2, and D3 are highly correlated (close to 1).\n",
    "- D7 and D8 also show a strong positive correlation (0.938), while D5 and D6 exhibit a strong negative correlation (-0.983), indicating that as one increases, the other decreases sharply.\n",
    "- D4 shows a negative correlation with both D7 and D8, implying an inverse relationship between these descriptors.\n",
    "\n",
    "- Highly correlated features (such as D1, D2, D3) could be considered for dimensionality reduction techniques such as PCA.\n",
    "- Attributes with low correlations may represent diverse molecular properties and should be explored further for their individual contributions to classification tasks.\n"
   ]
  },
  {
   "cell_type": "markdown",
   "metadata": {},
   "source": [
    "Now we need to run a Principal Component Analysis (PCA) on the data \n",
    "\n",
    "7) Define a new Dataset without the categorical attribute and perform its auto-scaling\n"
   ]
  },
  {
   "cell_type": "code",
   "execution_count": 109,
   "metadata": {},
   "outputs": [
    {
     "name": "stdout",
     "output_type": "stream",
     "text": [
      "<class 'pandas.core.frame.DataFrame'>\n",
      "RangeIndex: 145 entries, 0 to 144\n",
      "Data columns (total 9 columns):\n",
      " #   Column  Non-Null Count  Dtype   \n",
      "---  ------  --------------  -----   \n",
      " 0   D1      145 non-null    float64 \n",
      " 1   D2      145 non-null    float64 \n",
      " 2   D3      145 non-null    int64   \n",
      " 3   D4      145 non-null    float64 \n",
      " 4   D5      145 non-null    float64 \n",
      " 5   D6      145 non-null    float64 \n",
      " 6   D7      145 non-null    float64 \n",
      " 7   D8      145 non-null    float64 \n",
      " 8   Class   145 non-null    category\n",
      "dtypes: category(1), float64(7), int64(1)\n",
      "memory usage: 9.5 KB\n"
     ]
    }
   ],
   "source": [
    "# Convert 'Class' to categorical variable (from data type int to category)\n",
    "\n",
    "moldesc_df['Class'] = moldesc_df['Class'].astype('category')\n",
    "\n",
    "moldesc_df.info()"
   ]
  },
  {
   "cell_type": "code",
   "execution_count": 110,
   "metadata": {},
   "outputs": [
    {
     "name": "stdout",
     "output_type": "stream",
     "text": [
      "<class 'pandas.core.frame.DataFrame'>\n",
      "RangeIndex: 145 entries, 0 to 144\n",
      "Data columns (total 8 columns):\n",
      " #   Column  Non-Null Count  Dtype  \n",
      "---  ------  --------------  -----  \n",
      " 0   D1      145 non-null    float64\n",
      " 1   D2      145 non-null    float64\n",
      " 2   D3      145 non-null    int64  \n",
      " 3   D4      145 non-null    float64\n",
      " 4   D5      145 non-null    float64\n",
      " 5   D6      145 non-null    float64\n",
      " 6   D7      145 non-null    float64\n",
      " 7   D8      145 non-null    float64\n",
      "dtypes: float64(7), int64(1)\n",
      "memory usage: 9.2 KB\n"
     ]
    }
   ],
   "source": [
    "#Separating dataset w/o categorical attribute\n",
    "\n",
    "moldesc2df = moldesc_df.drop(columns=['Class'])\n",
    "moldesc2df.info()"
   ]
  },
  {
   "cell_type": "markdown",
   "metadata": {},
   "source": [
    "The 'Class' column, which was originally an integer type, was converted to a categorical data type and was removed from the dataset to avoid any unintended influence on the principal component calculations.\n",
    "This results in a new dataset containing only the 8 numerical molecular descriptors (D1-D8)."
   ]
  },
  {
   "cell_type": "code",
   "execution_count": 112,
   "metadata": {},
   "outputs": [
    {
     "data": {
      "text/html": [
       "<div>\n",
       "<style scoped>\n",
       "    .dataframe tbody tr th:only-of-type {\n",
       "        vertical-align: middle;\n",
       "    }\n",
       "\n",
       "    .dataframe tbody tr th {\n",
       "        vertical-align: top;\n",
       "    }\n",
       "\n",
       "    .dataframe thead th {\n",
       "        text-align: right;\n",
       "    }\n",
       "</style>\n",
       "<table border=\"1\" class=\"dataframe\">\n",
       "  <thead>\n",
       "    <tr style=\"text-align: right;\">\n",
       "      <th></th>\n",
       "      <th>D1</th>\n",
       "      <th>D2</th>\n",
       "      <th>D3</th>\n",
       "      <th>D4</th>\n",
       "      <th>D5</th>\n",
       "      <th>D6</th>\n",
       "      <th>D7</th>\n",
       "      <th>D8</th>\n",
       "    </tr>\n",
       "  </thead>\n",
       "  <tbody>\n",
       "    <tr>\n",
       "      <th>0</th>\n",
       "      <td>21.996307</td>\n",
       "      <td>119.300545</td>\n",
       "      <td>42</td>\n",
       "      <td>-0.129873</td>\n",
       "      <td>-0.461116</td>\n",
       "      <td>2.354662</td>\n",
       "      <td>0.739296</td>\n",
       "      <td>0.475639</td>\n",
       "    </tr>\n",
       "    <tr>\n",
       "      <th>1</th>\n",
       "      <td>18.002651</td>\n",
       "      <td>111.988098</td>\n",
       "      <td>38</td>\n",
       "      <td>-0.192031</td>\n",
       "      <td>-0.003431</td>\n",
       "      <td>0.010324</td>\n",
       "      <td>0.772352</td>\n",
       "      <td>0.479507</td>\n",
       "    </tr>\n",
       "    <tr>\n",
       "      <th>2</th>\n",
       "      <td>26.002590</td>\n",
       "      <td>196.702667</td>\n",
       "      <td>56</td>\n",
       "      <td>0.012251</td>\n",
       "      <td>-0.149585</td>\n",
       "      <td>0.937021</td>\n",
       "      <td>0.546386</td>\n",
       "      <td>0.348632</td>\n",
       "    </tr>\n",
       "    <tr>\n",
       "      <th>3</th>\n",
       "      <td>22.004517</td>\n",
       "      <td>119.300545</td>\n",
       "      <td>42</td>\n",
       "      <td>-0.103873</td>\n",
       "      <td>-0.357562</td>\n",
       "      <td>1.760567</td>\n",
       "      <td>0.720476</td>\n",
       "      <td>0.462141</td>\n",
       "    </tr>\n",
       "    <tr>\n",
       "      <th>4</th>\n",
       "      <td>23.003124</td>\n",
       "      <td>169.373093</td>\n",
       "      <td>50</td>\n",
       "      <td>-0.161954</td>\n",
       "      <td>-0.516773</td>\n",
       "      <td>2.444123</td>\n",
       "      <td>0.743189</td>\n",
       "      <td>0.451499</td>\n",
       "    </tr>\n",
       "    <tr>\n",
       "      <th>5</th>\n",
       "      <td>10.001482</td>\n",
       "      <td>45.800003</td>\n",
       "      <td>20</td>\n",
       "      <td>-0.001307</td>\n",
       "      <td>-0.005326</td>\n",
       "      <td>0.025180</td>\n",
       "      <td>0.625161</td>\n",
       "      <td>0.397128</td>\n",
       "    </tr>\n",
       "    <tr>\n",
       "      <th>6</th>\n",
       "      <td>20.003008</td>\n",
       "      <td>104.804337</td>\n",
       "      <td>38</td>\n",
       "      <td>-0.155427</td>\n",
       "      <td>-0.316281</td>\n",
       "      <td>1.652655</td>\n",
       "      <td>0.767007</td>\n",
       "      <td>0.502759</td>\n",
       "    </tr>\n",
       "    <tr>\n",
       "      <th>7</th>\n",
       "      <td>15.002267</td>\n",
       "      <td>81.028572</td>\n",
       "      <td>30</td>\n",
       "      <td>-0.175913</td>\n",
       "      <td>-0.267525</td>\n",
       "      <td>1.026331</td>\n",
       "      <td>0.742105</td>\n",
       "      <td>0.461606</td>\n",
       "    </tr>\n",
       "    <tr>\n",
       "      <th>8</th>\n",
       "      <td>17.003408</td>\n",
       "      <td>101.388100</td>\n",
       "      <td>36</td>\n",
       "      <td>-0.217380</td>\n",
       "      <td>-0.009711</td>\n",
       "      <td>0.039880</td>\n",
       "      <td>0.795678</td>\n",
       "      <td>0.503703</td>\n",
       "    </tr>\n",
       "    <tr>\n",
       "      <th>9</th>\n",
       "      <td>29.999311</td>\n",
       "      <td>239.983139</td>\n",
       "      <td>64</td>\n",
       "      <td>-0.062927</td>\n",
       "      <td>-0.130794</td>\n",
       "      <td>0.258319</td>\n",
       "      <td>0.630174</td>\n",
       "      <td>0.377212</td>\n",
       "    </tr>\n",
       "    <tr>\n",
       "      <th>10</th>\n",
       "      <td>30.007343</td>\n",
       "      <td>239.983124</td>\n",
       "      <td>64</td>\n",
       "      <td>-0.002348</td>\n",
       "      <td>-0.325625</td>\n",
       "      <td>1.241003</td>\n",
       "      <td>0.567052</td>\n",
       "      <td>0.360075</td>\n",
       "    </tr>\n",
       "    <tr>\n",
       "      <th>11</th>\n",
       "      <td>18.998100</td>\n",
       "      <td>121.163500</td>\n",
       "      <td>40</td>\n",
       "      <td>-0.032200</td>\n",
       "      <td>0.009000</td>\n",
       "      <td>0.035900</td>\n",
       "      <td>0.612400</td>\n",
       "      <td>0.374900</td>\n",
       "    </tr>\n",
       "    <tr>\n",
       "      <th>12</th>\n",
       "      <td>14.997700</td>\n",
       "      <td>81.903200</td>\n",
       "      <td>30</td>\n",
       "      <td>-0.171400</td>\n",
       "      <td>-0.133500</td>\n",
       "      <td>0.651000</td>\n",
       "      <td>0.759800</td>\n",
       "      <td>0.474200</td>\n",
       "    </tr>\n",
       "    <tr>\n",
       "      <th>13</th>\n",
       "      <td>21.997900</td>\n",
       "      <td>119.300500</td>\n",
       "      <td>42</td>\n",
       "      <td>-0.127000</td>\n",
       "      <td>-0.535800</td>\n",
       "      <td>2.857500</td>\n",
       "      <td>0.739100</td>\n",
       "      <td>0.476400</td>\n",
       "    </tr>\n",
       "    <tr>\n",
       "      <th>14</th>\n",
       "      <td>19.001600</td>\n",
       "      <td>120.635800</td>\n",
       "      <td>40</td>\n",
       "      <td>-0.178700</td>\n",
       "      <td>-0.026000</td>\n",
       "      <td>0.100300</td>\n",
       "      <td>0.766700</td>\n",
       "      <td>0.474700</td>\n",
       "    </tr>\n",
       "    <tr>\n",
       "      <th>15</th>\n",
       "      <td>19.002600</td>\n",
       "      <td>119.508900</td>\n",
       "      <td>40</td>\n",
       "      <td>-0.193200</td>\n",
       "      <td>-0.159200</td>\n",
       "      <td>0.669600</td>\n",
       "      <td>0.761800</td>\n",
       "      <td>0.475700</td>\n",
       "    </tr>\n",
       "    <tr>\n",
       "      <th>16</th>\n",
       "      <td>25.002000</td>\n",
       "      <td>188.285200</td>\n",
       "      <td>54</td>\n",
       "      <td>-0.101100</td>\n",
       "      <td>-0.372500</td>\n",
       "      <td>1.405100</td>\n",
       "      <td>0.686300</td>\n",
       "      <td>0.409400</td>\n",
       "    </tr>\n",
       "    <tr>\n",
       "      <th>17</th>\n",
       "      <td>13.997200</td>\n",
       "      <td>73.900000</td>\n",
       "      <td>28</td>\n",
       "      <td>-0.161500</td>\n",
       "      <td>-0.224500</td>\n",
       "      <td>0.949500</td>\n",
       "      <td>0.755100</td>\n",
       "      <td>0.474200</td>\n",
       "    </tr>\n",
       "    <tr>\n",
       "      <th>18</th>\n",
       "      <td>21.000600</td>\n",
       "      <td>139.818200</td>\n",
       "      <td>44</td>\n",
       "      <td>0.026700</td>\n",
       "      <td>-0.026600</td>\n",
       "      <td>0.132300</td>\n",
       "      <td>0.487500</td>\n",
       "      <td>0.324900</td>\n",
       "    </tr>\n",
       "    <tr>\n",
       "      <th>19</th>\n",
       "      <td>12.002200</td>\n",
       "      <td>58.338100</td>\n",
       "      <td>24</td>\n",
       "      <td>-0.186700</td>\n",
       "      <td>0.006800</td>\n",
       "      <td>0.037200</td>\n",
       "      <td>0.771500</td>\n",
       "      <td>0.488300</td>\n",
       "    </tr>\n",
       "    <tr>\n",
       "      <th>20</th>\n",
       "      <td>21.003800</td>\n",
       "      <td>148.800000</td>\n",
       "      <td>46</td>\n",
       "      <td>-0.015800</td>\n",
       "      <td>-0.081900</td>\n",
       "      <td>0.329700</td>\n",
       "      <td>0.607200</td>\n",
       "      <td>0.373500</td>\n",
       "    </tr>\n",
       "    <tr>\n",
       "      <th>21</th>\n",
       "      <td>21.995600</td>\n",
       "      <td>145.367100</td>\n",
       "      <td>46</td>\n",
       "      <td>-0.272600</td>\n",
       "      <td>0.000000</td>\n",
       "      <td>0.000000</td>\n",
       "      <td>0.827500</td>\n",
       "      <td>0.537600</td>\n",
       "    </tr>\n",
       "    <tr>\n",
       "      <th>22</th>\n",
       "      <td>24.996900</td>\n",
       "      <td>184.387800</td>\n",
       "      <td>54</td>\n",
       "      <td>-0.115200</td>\n",
       "      <td>-0.144000</td>\n",
       "      <td>0.955200</td>\n",
       "      <td>0.706100</td>\n",
       "      <td>0.430400</td>\n",
       "    </tr>\n",
       "    <tr>\n",
       "      <th>23</th>\n",
       "      <td>15.997900</td>\n",
       "      <td>95.435700</td>\n",
       "      <td>34</td>\n",
       "      <td>-0.104900</td>\n",
       "      <td>-0.114200</td>\n",
       "      <td>0.510700</td>\n",
       "      <td>0.722500</td>\n",
       "      <td>0.453900</td>\n",
       "    </tr>\n",
       "    <tr>\n",
       "      <th>24</th>\n",
       "      <td>22.004900</td>\n",
       "      <td>152.595700</td>\n",
       "      <td>48</td>\n",
       "      <td>-0.255400</td>\n",
       "      <td>-0.000200</td>\n",
       "      <td>0.000300</td>\n",
       "      <td>0.806100</td>\n",
       "      <td>0.510500</td>\n",
       "    </tr>\n",
       "    <tr>\n",
       "      <th>25</th>\n",
       "      <td>19.003800</td>\n",
       "      <td>121.163500</td>\n",
       "      <td>40</td>\n",
       "      <td>-0.031300</td>\n",
       "      <td>0.026400</td>\n",
       "      <td>0.103700</td>\n",
       "      <td>0.599600</td>\n",
       "      <td>0.371500</td>\n",
       "    </tr>\n",
       "    <tr>\n",
       "      <th>26</th>\n",
       "      <td>16.995900</td>\n",
       "      <td>103.557900</td>\n",
       "      <td>36</td>\n",
       "      <td>-0.220900</td>\n",
       "      <td>-0.005200</td>\n",
       "      <td>0.035300</td>\n",
       "      <td>0.772400</td>\n",
       "      <td>0.478800</td>\n",
       "    </tr>\n",
       "    <tr>\n",
       "      <th>27</th>\n",
       "      <td>25.007300</td>\n",
       "      <td>188.285200</td>\n",
       "      <td>54</td>\n",
       "      <td>-0.027600</td>\n",
       "      <td>-0.214100</td>\n",
       "      <td>0.716900</td>\n",
       "      <td>0.585700</td>\n",
       "      <td>0.361500</td>\n",
       "    </tr>\n",
       "    <tr>\n",
       "      <th>28</th>\n",
       "      <td>19.000500</td>\n",
       "      <td>120.644600</td>\n",
       "      <td>40</td>\n",
       "      <td>-0.203400</td>\n",
       "      <td>-0.034200</td>\n",
       "      <td>0.139600</td>\n",
       "      <td>0.765100</td>\n",
       "      <td>0.476300</td>\n",
       "    </tr>\n",
       "    <tr>\n",
       "      <th>29</th>\n",
       "      <td>12.999400</td>\n",
       "      <td>67.566700</td>\n",
       "      <td>26</td>\n",
       "      <td>0.012800</td>\n",
       "      <td>-0.008400</td>\n",
       "      <td>0.133900</td>\n",
       "      <td>0.540600</td>\n",
       "      <td>0.339600</td>\n",
       "    </tr>\n",
       "    <tr>\n",
       "      <th>30</th>\n",
       "      <td>17.998800</td>\n",
       "      <td>112.719100</td>\n",
       "      <td>38</td>\n",
       "      <td>-0.080300</td>\n",
       "      <td>0.025100</td>\n",
       "      <td>0.064500</td>\n",
       "      <td>0.668000</td>\n",
       "      <td>0.405000</td>\n",
       "    </tr>\n",
       "    <tr>\n",
       "      <th>31</th>\n",
       "      <td>18.003300</td>\n",
       "      <td>113.830900</td>\n",
       "      <td>38</td>\n",
       "      <td>-0.144600</td>\n",
       "      <td>-0.020600</td>\n",
       "      <td>0.123900</td>\n",
       "      <td>0.741300</td>\n",
       "      <td>0.460800</td>\n",
       "    </tr>\n",
       "    <tr>\n",
       "      <th>32</th>\n",
       "      <td>19.002000</td>\n",
       "      <td>123.276200</td>\n",
       "      <td>40</td>\n",
       "      <td>-0.064500</td>\n",
       "      <td>0.017000</td>\n",
       "      <td>0.041400</td>\n",
       "      <td>0.643600</td>\n",
       "      <td>0.381200</td>\n",
       "    </tr>\n",
       "    <tr>\n",
       "      <th>33</th>\n",
       "      <td>10.002000</td>\n",
       "      <td>45.800000</td>\n",
       "      <td>20</td>\n",
       "      <td>-0.004000</td>\n",
       "      <td>-0.007300</td>\n",
       "      <td>0.034700</td>\n",
       "      <td>0.628600</td>\n",
       "      <td>0.398700</td>\n",
       "    </tr>\n",
       "    <tr>\n",
       "      <th>34</th>\n",
       "      <td>19.002300</td>\n",
       "      <td>116.401200</td>\n",
       "      <td>40</td>\n",
       "      <td>-0.266200</td>\n",
       "      <td>-0.034000</td>\n",
       "      <td>0.176900</td>\n",
       "      <td>0.808800</td>\n",
       "      <td>0.518300</td>\n",
       "    </tr>\n",
       "    <tr>\n",
       "      <th>35</th>\n",
       "      <td>24.999300</td>\n",
       "      <td>188.285200</td>\n",
       "      <td>54</td>\n",
       "      <td>-0.046400</td>\n",
       "      <td>-0.241300</td>\n",
       "      <td>0.649700</td>\n",
       "      <td>0.612300</td>\n",
       "      <td>0.371200</td>\n",
       "    </tr>\n",
       "    <tr>\n",
       "      <th>36</th>\n",
       "      <td>19.999400</td>\n",
       "      <td>130.759500</td>\n",
       "      <td>42</td>\n",
       "      <td>-0.088700</td>\n",
       "      <td>-0.004800</td>\n",
       "      <td>0.018900</td>\n",
       "      <td>0.700500</td>\n",
       "      <td>0.430900</td>\n",
       "    </tr>\n",
       "    <tr>\n",
       "      <th>37</th>\n",
       "      <td>17.996900</td>\n",
       "      <td>110.401600</td>\n",
       "      <td>38</td>\n",
       "      <td>-0.159200</td>\n",
       "      <td>-0.078200</td>\n",
       "      <td>0.306000</td>\n",
       "      <td>0.753100</td>\n",
       "      <td>0.471300</td>\n",
       "    </tr>\n",
       "    <tr>\n",
       "      <th>38</th>\n",
       "      <td>18.001000</td>\n",
       "      <td>110.401600</td>\n",
       "      <td>38</td>\n",
       "      <td>-0.164300</td>\n",
       "      <td>-0.075200</td>\n",
       "      <td>0.295400</td>\n",
       "      <td>0.755400</td>\n",
       "      <td>0.472900</td>\n",
       "    </tr>\n",
       "    <tr>\n",
       "      <th>39</th>\n",
       "      <td>22.004700</td>\n",
       "      <td>149.216700</td>\n",
       "      <td>46</td>\n",
       "      <td>-0.054100</td>\n",
       "      <td>0.007500</td>\n",
       "      <td>0.041400</td>\n",
       "      <td>0.640600</td>\n",
       "      <td>0.395500</td>\n",
       "    </tr>\n",
       "    <tr>\n",
       "      <th>40</th>\n",
       "      <td>20.998700</td>\n",
       "      <td>149.471400</td>\n",
       "      <td>46</td>\n",
       "      <td>-0.006100</td>\n",
       "      <td>-0.164300</td>\n",
       "      <td>0.802200</td>\n",
       "      <td>0.553100</td>\n",
       "      <td>0.347800</td>\n",
       "    </tr>\n",
       "    <tr>\n",
       "      <th>41</th>\n",
       "      <td>20.996300</td>\n",
       "      <td>142.913000</td>\n",
       "      <td>46</td>\n",
       "      <td>-0.251200</td>\n",
       "      <td>-0.003000</td>\n",
       "      <td>0.013500</td>\n",
       "      <td>0.804300</td>\n",
       "      <td>0.509400</td>\n",
       "    </tr>\n",
       "    <tr>\n",
       "      <th>42</th>\n",
       "      <td>18.002700</td>\n",
       "      <td>111.988100</td>\n",
       "      <td>38</td>\n",
       "      <td>-0.207000</td>\n",
       "      <td>-0.000600</td>\n",
       "      <td>0.002100</td>\n",
       "      <td>0.775800</td>\n",
       "      <td>0.480600</td>\n",
       "    </tr>\n",
       "    <tr>\n",
       "      <th>43</th>\n",
       "      <td>25.006800</td>\n",
       "      <td>184.387800</td>\n",
       "      <td>54</td>\n",
       "      <td>-0.105200</td>\n",
       "      <td>-0.131300</td>\n",
       "      <td>0.652500</td>\n",
       "      <td>0.700200</td>\n",
       "      <td>0.426100</td>\n",
       "    </tr>\n",
       "    <tr>\n",
       "      <th>44</th>\n",
       "      <td>25.992600</td>\n",
       "      <td>195.592700</td>\n",
       "      <td>56</td>\n",
       "      <td>-0.126000</td>\n",
       "      <td>-0.064200</td>\n",
       "      <td>0.483700</td>\n",
       "      <td>0.719300</td>\n",
       "      <td>0.441800</td>\n",
       "    </tr>\n",
       "    <tr>\n",
       "      <th>45</th>\n",
       "      <td>35.002251</td>\n",
       "      <td>291.711487</td>\n",
       "      <td>74</td>\n",
       "      <td>-0.059399</td>\n",
       "      <td>-0.001989</td>\n",
       "      <td>0.008828</td>\n",
       "      <td>0.640983</td>\n",
       "      <td>0.376504</td>\n",
       "    </tr>\n",
       "    <tr>\n",
       "      <th>46</th>\n",
       "      <td>51.008350</td>\n",
       "      <td>496.531738</td>\n",
       "      <td>106</td>\n",
       "      <td>-0.092846</td>\n",
       "      <td>-0.036752</td>\n",
       "      <td>0.117160</td>\n",
       "      <td>0.687986</td>\n",
       "      <td>0.409205</td>\n",
       "    </tr>\n",
       "    <tr>\n",
       "      <th>47</th>\n",
       "      <td>47.987919</td>\n",
       "      <td>469.752777</td>\n",
       "      <td>106</td>\n",
       "      <td>-0.061047</td>\n",
       "      <td>0.000005</td>\n",
       "      <td>0.000797</td>\n",
       "      <td>0.675923</td>\n",
       "      <td>0.408873</td>\n",
       "    </tr>\n",
       "    <tr>\n",
       "      <th>48</th>\n",
       "      <td>46.994061</td>\n",
       "      <td>433.694580</td>\n",
       "      <td>100</td>\n",
       "      <td>-0.072264</td>\n",
       "      <td>-0.001063</td>\n",
       "      <td>0.005799</td>\n",
       "      <td>0.681332</td>\n",
       "      <td>0.408497</td>\n",
       "    </tr>\n",
       "    <tr>\n",
       "      <th>49</th>\n",
       "      <td>30.991735</td>\n",
       "      <td>244.111542</td>\n",
       "      <td>66</td>\n",
       "      <td>-0.067771</td>\n",
       "      <td>-0.179482</td>\n",
       "      <td>0.754959</td>\n",
       "      <td>0.661258</td>\n",
       "      <td>0.394006</td>\n",
       "    </tr>\n",
       "    <tr>\n",
       "      <th>50</th>\n",
       "      <td>59.009369</td>\n",
       "      <td>576.290771</td>\n",
       "      <td>118</td>\n",
       "      <td>-0.163102</td>\n",
       "      <td>-0.167888</td>\n",
       "      <td>0.773824</td>\n",
       "      <td>0.739732</td>\n",
       "      <td>0.453918</td>\n",
       "    </tr>\n",
       "    <tr>\n",
       "      <th>51</th>\n",
       "      <td>48.981926</td>\n",
       "      <td>462.398895</td>\n",
       "      <td>104</td>\n",
       "      <td>-0.065094</td>\n",
       "      <td>-0.197664</td>\n",
       "      <td>0.961834</td>\n",
       "      <td>0.647102</td>\n",
       "      <td>0.387991</td>\n",
       "    </tr>\n",
       "    <tr>\n",
       "      <th>52</th>\n",
       "      <td>33.005386</td>\n",
       "      <td>252.075912</td>\n",
       "      <td>68</td>\n",
       "      <td>-0.114123</td>\n",
       "      <td>-0.224626</td>\n",
       "      <td>1.133047</td>\n",
       "      <td>0.721692</td>\n",
       "      <td>0.437289</td>\n",
       "    </tr>\n",
       "    <tr>\n",
       "      <th>53</th>\n",
       "      <td>42.005699</td>\n",
       "      <td>384.425140</td>\n",
       "      <td>92</td>\n",
       "      <td>-0.138680</td>\n",
       "      <td>-0.056042</td>\n",
       "      <td>0.323529</td>\n",
       "      <td>0.725828</td>\n",
       "      <td>0.431004</td>\n",
       "    </tr>\n",
       "    <tr>\n",
       "      <th>54</th>\n",
       "      <td>63.025597</td>\n",
       "      <td>675.784546</td>\n",
       "      <td>134</td>\n",
       "      <td>-0.190126</td>\n",
       "      <td>-0.002324</td>\n",
       "      <td>0.018053</td>\n",
       "      <td>0.762475</td>\n",
       "      <td>0.464900</td>\n",
       "    </tr>\n",
       "    <tr>\n",
       "      <th>55</th>\n",
       "      <td>40.999294</td>\n",
       "      <td>349.725311</td>\n",
       "      <td>84</td>\n",
       "      <td>-0.201789</td>\n",
       "      <td>-0.047584</td>\n",
       "      <td>0.166645</td>\n",
       "      <td>0.782750</td>\n",
       "      <td>0.486290</td>\n",
       "    </tr>\n",
       "    <tr>\n",
       "      <th>56</th>\n",
       "      <td>37.993641</td>\n",
       "      <td>331.137482</td>\n",
       "      <td>82</td>\n",
       "      <td>-0.100505</td>\n",
       "      <td>-0.006323</td>\n",
       "      <td>0.038131</td>\n",
       "      <td>0.692607</td>\n",
       "      <td>0.408740</td>\n",
       "    </tr>\n",
       "    <tr>\n",
       "      <th>57</th>\n",
       "      <td>48.986355</td>\n",
       "      <td>476.854370</td>\n",
       "      <td>106</td>\n",
       "      <td>-0.063554</td>\n",
       "      <td>-0.025406</td>\n",
       "      <td>0.064584</td>\n",
       "      <td>0.658095</td>\n",
       "      <td>0.393934</td>\n",
       "    </tr>\n",
       "    <tr>\n",
       "      <th>58</th>\n",
       "      <td>40.015846</td>\n",
       "      <td>369.143921</td>\n",
       "      <td>88</td>\n",
       "      <td>-0.024769</td>\n",
       "      <td>-0.000052</td>\n",
       "      <td>0.000075</td>\n",
       "      <td>0.589869</td>\n",
       "      <td>0.339982</td>\n",
       "    </tr>\n",
       "    <tr>\n",
       "      <th>59</th>\n",
       "      <td>40.006294</td>\n",
       "      <td>376.762573</td>\n",
       "      <td>88</td>\n",
       "      <td>-0.028853</td>\n",
       "      <td>-0.000723</td>\n",
       "      <td>0.001875</td>\n",
       "      <td>0.592110</td>\n",
       "      <td>0.340645</td>\n",
       "    </tr>\n",
       "    <tr>\n",
       "      <th>60</th>\n",
       "      <td>42.015957</td>\n",
       "      <td>399.018341</td>\n",
       "      <td>92</td>\n",
       "      <td>-0.042770</td>\n",
       "      <td>0.000082</td>\n",
       "      <td>0.000084</td>\n",
       "      <td>0.602926</td>\n",
       "      <td>0.346052</td>\n",
       "    </tr>\n",
       "    <tr>\n",
       "      <th>61</th>\n",
       "      <td>45.980476</td>\n",
       "      <td>436.200439</td>\n",
       "      <td>98</td>\n",
       "      <td>-0.081615</td>\n",
       "      <td>-0.004404</td>\n",
       "      <td>0.010918</td>\n",
       "      <td>0.694612</td>\n",
       "      <td>0.418760</td>\n",
       "    </tr>\n",
       "    <tr>\n",
       "      <th>62</th>\n",
       "      <td>44.997509</td>\n",
       "      <td>419.433289</td>\n",
       "      <td>98</td>\n",
       "      <td>-0.045016</td>\n",
       "      <td>0.000262</td>\n",
       "      <td>0.006351</td>\n",
       "      <td>0.649960</td>\n",
       "      <td>0.391499</td>\n",
       "    </tr>\n",
       "    <tr>\n",
       "      <th>63</th>\n",
       "      <td>45.990517</td>\n",
       "      <td>430.221771</td>\n",
       "      <td>94</td>\n",
       "      <td>-0.084316</td>\n",
       "      <td>-0.000052</td>\n",
       "      <td>0.003361</td>\n",
       "      <td>0.695730</td>\n",
       "      <td>0.414558</td>\n",
       "    </tr>\n",
       "    <tr>\n",
       "      <th>64</th>\n",
       "      <td>49.977581</td>\n",
       "      <td>498.277222</td>\n",
       "      <td>110</td>\n",
       "      <td>-0.050818</td>\n",
       "      <td>-0.000368</td>\n",
       "      <td>0.001852</td>\n",
       "      <td>0.658793</td>\n",
       "      <td>0.397906</td>\n",
       "    </tr>\n",
       "    <tr>\n",
       "      <th>65</th>\n",
       "      <td>50.007343</td>\n",
       "      <td>500.494629</td>\n",
       "      <td>110</td>\n",
       "      <td>-0.050342</td>\n",
       "      <td>0.000007</td>\n",
       "      <td>0.000314</td>\n",
       "      <td>0.660975</td>\n",
       "      <td>0.397199</td>\n",
       "    </tr>\n",
       "    <tr>\n",
       "      <th>66</th>\n",
       "      <td>40.989933</td>\n",
       "      <td>388.169342</td>\n",
       "      <td>90</td>\n",
       "      <td>-0.033293</td>\n",
       "      <td>-0.013752</td>\n",
       "      <td>0.057745</td>\n",
       "      <td>0.608711</td>\n",
       "      <td>0.356196</td>\n",
       "    </tr>\n",
       "    <tr>\n",
       "      <th>67</th>\n",
       "      <td>51.989788</td>\n",
       "      <td>528.593994</td>\n",
       "      <td>114</td>\n",
       "      <td>-0.050181</td>\n",
       "      <td>-0.000189</td>\n",
       "      <td>0.001036</td>\n",
       "      <td>0.659014</td>\n",
       "      <td>0.395579</td>\n",
       "    </tr>\n",
       "    <tr>\n",
       "      <th>68</th>\n",
       "      <td>52.013168</td>\n",
       "      <td>530.638123</td>\n",
       "      <td>114</td>\n",
       "      <td>-0.044553</td>\n",
       "      <td>-0.000182</td>\n",
       "      <td>0.000964</td>\n",
       "      <td>0.650158</td>\n",
       "      <td>0.390803</td>\n",
       "    </tr>\n",
       "    <tr>\n",
       "      <th>69</th>\n",
       "      <td>52.015873</td>\n",
       "      <td>530.104797</td>\n",
       "      <td>114</td>\n",
       "      <td>-0.050778</td>\n",
       "      <td>-0.000008</td>\n",
       "      <td>0.000035</td>\n",
       "      <td>0.662203</td>\n",
       "      <td>0.398514</td>\n",
       "    </tr>\n",
       "    <tr>\n",
       "      <th>70</th>\n",
       "      <td>54.014034</td>\n",
       "      <td>536.217651</td>\n",
       "      <td>114</td>\n",
       "      <td>-0.131443</td>\n",
       "      <td>-0.053384</td>\n",
       "      <td>0.219370</td>\n",
       "      <td>0.720425</td>\n",
       "      <td>0.433686</td>\n",
       "    </tr>\n",
       "    <tr>\n",
       "      <th>71</th>\n",
       "      <td>46.994884</td>\n",
       "      <td>450.390137</td>\n",
       "      <td>104</td>\n",
       "      <td>-0.058804</td>\n",
       "      <td>-0.000012</td>\n",
       "      <td>0.000600</td>\n",
       "      <td>0.674761</td>\n",
       "      <td>0.409552</td>\n",
       "    </tr>\n",
       "    <tr>\n",
       "      <th>72</th>\n",
       "      <td>55.977230</td>\n",
       "      <td>562.537109</td>\n",
       "      <td>118</td>\n",
       "      <td>-0.142934</td>\n",
       "      <td>-0.060878</td>\n",
       "      <td>0.253439</td>\n",
       "      <td>0.728838</td>\n",
       "      <td>0.439721</td>\n",
       "    </tr>\n",
       "    <tr>\n",
       "      <th>73</th>\n",
       "      <td>39.003159</td>\n",
       "      <td>338.550415</td>\n",
       "      <td>82</td>\n",
       "      <td>-0.069586</td>\n",
       "      <td>-0.000689</td>\n",
       "      <td>0.005279</td>\n",
       "      <td>0.680977</td>\n",
       "      <td>0.411917</td>\n",
       "    </tr>\n",
       "    <tr>\n",
       "      <th>74</th>\n",
       "      <td>55.993900</td>\n",
       "      <td>561.240906</td>\n",
       "      <td>118</td>\n",
       "      <td>-0.162477</td>\n",
       "      <td>-0.013197</td>\n",
       "      <td>0.059142</td>\n",
       "      <td>0.743544</td>\n",
       "      <td>0.445352</td>\n",
       "    </tr>\n",
       "    <tr>\n",
       "      <th>75</th>\n",
       "      <td>58.015995</td>\n",
       "      <td>590.939941</td>\n",
       "      <td>122</td>\n",
       "      <td>-0.144651</td>\n",
       "      <td>-0.000157</td>\n",
       "      <td>0.000479</td>\n",
       "      <td>0.737630</td>\n",
       "      <td>0.439964</td>\n",
       "    </tr>\n",
       "    <tr>\n",
       "      <th>76</th>\n",
       "      <td>41.991051</td>\n",
       "      <td>373.147583</td>\n",
       "      <td>86</td>\n",
       "      <td>-0.146331</td>\n",
       "      <td>-0.000924</td>\n",
       "      <td>0.008568</td>\n",
       "      <td>0.744701</td>\n",
       "      <td>0.451812</td>\n",
       "    </tr>\n",
       "    <tr>\n",
       "      <th>77</th>\n",
       "      <td>41.016750</td>\n",
       "      <td>360.532227</td>\n",
       "      <td>84</td>\n",
       "      <td>-0.049244</td>\n",
       "      <td>-0.000275</td>\n",
       "      <td>0.002080</td>\n",
       "      <td>0.652664</td>\n",
       "      <td>0.386140</td>\n",
       "    </tr>\n",
       "    <tr>\n",
       "      <th>78</th>\n",
       "      <td>40.995365</td>\n",
       "      <td>360.838043</td>\n",
       "      <td>88</td>\n",
       "      <td>-0.147620</td>\n",
       "      <td>-0.000461</td>\n",
       "      <td>0.001545</td>\n",
       "      <td>0.720137</td>\n",
       "      <td>0.421548</td>\n",
       "    </tr>\n",
       "    <tr>\n",
       "      <th>79</th>\n",
       "      <td>39.014606</td>\n",
       "      <td>342.556946</td>\n",
       "      <td>84</td>\n",
       "      <td>-0.133061</td>\n",
       "      <td>-0.033553</td>\n",
       "      <td>0.183828</td>\n",
       "      <td>0.714568</td>\n",
       "      <td>0.422425</td>\n",
       "    </tr>\n",
       "    <tr>\n",
       "      <th>80</th>\n",
       "      <td>48.015408</td>\n",
       "      <td>456.583130</td>\n",
       "      <td>106</td>\n",
       "      <td>-0.095465</td>\n",
       "      <td>-0.192202</td>\n",
       "      <td>0.744726</td>\n",
       "      <td>0.675578</td>\n",
       "      <td>0.405066</td>\n",
       "    </tr>\n",
       "    <tr>\n",
       "      <th>81</th>\n",
       "      <td>45.998219</td>\n",
       "      <td>450.064880</td>\n",
       "      <td>102</td>\n",
       "      <td>-0.044083</td>\n",
       "      <td>-0.004412</td>\n",
       "      <td>0.053675</td>\n",
       "      <td>0.648577</td>\n",
       "      <td>0.387530</td>\n",
       "    </tr>\n",
       "    <tr>\n",
       "      <th>82</th>\n",
       "      <td>51.007839</td>\n",
       "      <td>503.755432</td>\n",
       "      <td>110</td>\n",
       "      <td>-0.078732</td>\n",
       "      <td>-0.028378</td>\n",
       "      <td>0.086027</td>\n",
       "      <td>0.685053</td>\n",
       "      <td>0.414574</td>\n",
       "    </tr>\n",
       "    <tr>\n",
       "      <th>83</th>\n",
       "      <td>58.008533</td>\n",
       "      <td>590.939941</td>\n",
       "      <td>122</td>\n",
       "      <td>-0.150382</td>\n",
       "      <td>-0.000063</td>\n",
       "      <td>0.000129</td>\n",
       "      <td>0.740694</td>\n",
       "      <td>0.440715</td>\n",
       "    </tr>\n",
       "    <tr>\n",
       "      <th>84</th>\n",
       "      <td>51.000004</td>\n",
       "      <td>478.954010</td>\n",
       "      <td>108</td>\n",
       "      <td>-0.175846</td>\n",
       "      <td>-0.059593</td>\n",
       "      <td>0.274520</td>\n",
       "      <td>0.742174</td>\n",
       "      <td>0.448909</td>\n",
       "    </tr>\n",
       "    <tr>\n",
       "      <th>85</th>\n",
       "      <td>47.018047</td>\n",
       "      <td>441.185028</td>\n",
       "      <td>102</td>\n",
       "      <td>-0.154417</td>\n",
       "      <td>-0.064879</td>\n",
       "      <td>0.331124</td>\n",
       "      <td>0.727675</td>\n",
       "      <td>0.432806</td>\n",
       "    </tr>\n",
       "    <tr>\n",
       "      <th>86</th>\n",
       "      <td>47.010860</td>\n",
       "      <td>465.533295</td>\n",
       "      <td>102</td>\n",
       "      <td>-0.048442</td>\n",
       "      <td>-0.018026</td>\n",
       "      <td>0.051812</td>\n",
       "      <td>0.628981</td>\n",
       "      <td>0.371043</td>\n",
       "    </tr>\n",
       "    <tr>\n",
       "      <th>87</th>\n",
       "      <td>43.009041</td>\n",
       "      <td>419.727936</td>\n",
       "      <td>94</td>\n",
       "      <td>-0.023466</td>\n",
       "      <td>-0.005565</td>\n",
       "      <td>0.021207</td>\n",
       "      <td>0.585241</td>\n",
       "      <td>0.340873</td>\n",
       "    </tr>\n",
       "    <tr>\n",
       "      <th>88</th>\n",
       "      <td>48.002605</td>\n",
       "      <td>451.519043</td>\n",
       "      <td>98</td>\n",
       "      <td>-0.129501</td>\n",
       "      <td>-0.001607</td>\n",
       "      <td>0.007517</td>\n",
       "      <td>0.734231</td>\n",
       "      <td>0.444648</td>\n",
       "    </tr>\n",
       "    <tr>\n",
       "      <th>89</th>\n",
       "      <td>40.988037</td>\n",
       "      <td>368.419434</td>\n",
       "      <td>88</td>\n",
       "      <td>-0.132085</td>\n",
       "      <td>-0.058272</td>\n",
       "      <td>0.312480</td>\n",
       "      <td>0.719883</td>\n",
       "      <td>0.426898</td>\n",
       "    </tr>\n",
       "    <tr>\n",
       "      <th>90</th>\n",
       "      <td>40.012447</td>\n",
       "      <td>358.815704</td>\n",
       "      <td>86</td>\n",
       "      <td>-0.102127</td>\n",
       "      <td>-0.015262</td>\n",
       "      <td>0.101642</td>\n",
       "      <td>0.698164</td>\n",
       "      <td>0.413691</td>\n",
       "    </tr>\n",
       "    <tr>\n",
       "      <th>91</th>\n",
       "      <td>51.015411</td>\n",
       "      <td>496.531708</td>\n",
       "      <td>106</td>\n",
       "      <td>-0.091886</td>\n",
       "      <td>-0.053912</td>\n",
       "      <td>0.172637</td>\n",
       "      <td>0.687863</td>\n",
       "      <td>0.409682</td>\n",
       "    </tr>\n",
       "    <tr>\n",
       "      <th>92</th>\n",
       "      <td>59.997257</td>\n",
       "      <td>631.815186</td>\n",
       "      <td>128</td>\n",
       "      <td>-0.187306</td>\n",
       "      <td>-0.000196</td>\n",
       "      <td>0.001251</td>\n",
       "      <td>0.757601</td>\n",
       "      <td>0.458315</td>\n",
       "    </tr>\n",
       "    <tr>\n",
       "      <th>93</th>\n",
       "      <td>39.008621</td>\n",
       "      <td>340.956604</td>\n",
       "      <td>84</td>\n",
       "      <td>-0.122630</td>\n",
       "      <td>-0.027623</td>\n",
       "      <td>0.146857</td>\n",
       "      <td>0.708412</td>\n",
       "      <td>0.417351</td>\n",
       "    </tr>\n",
       "    <tr>\n",
       "      <th>94</th>\n",
       "      <td>46.008797</td>\n",
       "      <td>447.441895</td>\n",
       "      <td>102</td>\n",
       "      <td>-0.057728</td>\n",
       "      <td>-0.000755</td>\n",
       "      <td>0.024943</td>\n",
       "      <td>0.660892</td>\n",
       "      <td>0.392663</td>\n",
       "    </tr>\n",
       "    <tr>\n",
       "      <th>95</th>\n",
       "      <td>46.990685</td>\n",
       "      <td>443.999084</td>\n",
       "      <td>100</td>\n",
       "      <td>-0.082566</td>\n",
       "      <td>-0.006544</td>\n",
       "      <td>0.019707</td>\n",
       "      <td>0.696008</td>\n",
       "      <td>0.423070</td>\n",
       "    </tr>\n",
       "    <tr>\n",
       "      <th>96</th>\n",
       "      <td>48.008808</td>\n",
       "      <td>462.583099</td>\n",
       "      <td>102</td>\n",
       "      <td>-0.063893</td>\n",
       "      <td>-0.001150</td>\n",
       "      <td>0.004818</td>\n",
       "      <td>0.675382</td>\n",
       "      <td>0.406148</td>\n",
       "    </tr>\n",
       "    <tr>\n",
       "      <th>97</th>\n",
       "      <td>44.007874</td>\n",
       "      <td>421.264374</td>\n",
       "      <td>98</td>\n",
       "      <td>-0.057306</td>\n",
       "      <td>-0.010695</td>\n",
       "      <td>0.061250</td>\n",
       "      <td>0.656482</td>\n",
       "      <td>0.390359</td>\n",
       "    </tr>\n",
       "    <tr>\n",
       "      <th>98</th>\n",
       "      <td>45.998219</td>\n",
       "      <td>450.064850</td>\n",
       "      <td>102</td>\n",
       "      <td>-0.044083</td>\n",
       "      <td>-0.004412</td>\n",
       "      <td>0.053675</td>\n",
       "      <td>0.648577</td>\n",
       "      <td>0.387530</td>\n",
       "    </tr>\n",
       "    <tr>\n",
       "      <th>99</th>\n",
       "      <td>49.006977</td>\n",
       "      <td>476.191589</td>\n",
       "      <td>102</td>\n",
       "      <td>-0.127119</td>\n",
       "      <td>-0.001565</td>\n",
       "      <td>0.009721</td>\n",
       "      <td>0.732402</td>\n",
       "      <td>0.443092</td>\n",
       "    </tr>\n",
       "    <tr>\n",
       "      <th>100</th>\n",
       "      <td>47.986160</td>\n",
       "      <td>459.793976</td>\n",
       "      <td>100</td>\n",
       "      <td>-0.127869</td>\n",
       "      <td>-0.003147</td>\n",
       "      <td>0.013363</td>\n",
       "      <td>0.732381</td>\n",
       "      <td>0.443783</td>\n",
       "    </tr>\n",
       "    <tr>\n",
       "      <th>101</th>\n",
       "      <td>48.007408</td>\n",
       "      <td>461.067993</td>\n",
       "      <td>102</td>\n",
       "      <td>-0.111352</td>\n",
       "      <td>-0.547209</td>\n",
       "      <td>2.519987</td>\n",
       "      <td>0.691810</td>\n",
       "      <td>0.412389</td>\n",
       "    </tr>\n",
       "    <tr>\n",
       "      <th>102</th>\n",
       "      <td>45.004894</td>\n",
       "      <td>413.678680</td>\n",
       "      <td>96</td>\n",
       "      <td>-0.088364</td>\n",
       "      <td>-0.131926</td>\n",
       "      <td>0.632666</td>\n",
       "      <td>0.671319</td>\n",
       "      <td>0.399279</td>\n",
       "    </tr>\n",
       "    <tr>\n",
       "      <th>103</th>\n",
       "      <td>41.995422</td>\n",
       "      <td>360.643524</td>\n",
       "      <td>84</td>\n",
       "      <td>-0.085317</td>\n",
       "      <td>-0.012750</td>\n",
       "      <td>0.038481</td>\n",
       "      <td>0.682639</td>\n",
       "      <td>0.410769</td>\n",
       "    </tr>\n",
       "    <tr>\n",
       "      <th>104</th>\n",
       "      <td>6.998700</td>\n",
       "      <td>25.833300</td>\n",
       "      <td>14</td>\n",
       "      <td>-0.006900</td>\n",
       "      <td>-0.059600</td>\n",
       "      <td>0.288100</td>\n",
       "      <td>0.640300</td>\n",
       "      <td>0.416000</td>\n",
       "    </tr>\n",
       "    <tr>\n",
       "      <th>105</th>\n",
       "      <td>9.001500</td>\n",
       "      <td>41.000000</td>\n",
       "      <td>20</td>\n",
       "      <td>-0.033900</td>\n",
       "      <td>0.000000</td>\n",
       "      <td>0.000100</td>\n",
       "      <td>0.675300</td>\n",
       "      <td>0.424300</td>\n",
       "    </tr>\n",
       "    <tr>\n",
       "      <th>106</th>\n",
       "      <td>9.000000</td>\n",
       "      <td>41.000000</td>\n",
       "      <td>20</td>\n",
       "      <td>-0.034400</td>\n",
       "      <td>-0.000400</td>\n",
       "      <td>0.001300</td>\n",
       "      <td>0.671400</td>\n",
       "      <td>0.419600</td>\n",
       "    </tr>\n",
       "    <tr>\n",
       "      <th>107</th>\n",
       "      <td>9.001000</td>\n",
       "      <td>41.000000</td>\n",
       "      <td>20</td>\n",
       "      <td>-0.034300</td>\n",
       "      <td>0.000000</td>\n",
       "      <td>0.000100</td>\n",
       "      <td>0.674900</td>\n",
       "      <td>0.423600</td>\n",
       "    </tr>\n",
       "    <tr>\n",
       "      <th>108</th>\n",
       "      <td>8.000800</td>\n",
       "      <td>31.566700</td>\n",
       "      <td>16</td>\n",
       "      <td>-0.085500</td>\n",
       "      <td>-0.274600</td>\n",
       "      <td>1.468200</td>\n",
       "      <td>0.705100</td>\n",
       "      <td>0.447800</td>\n",
       "    </tr>\n",
       "    <tr>\n",
       "      <th>109</th>\n",
       "      <td>7.998700</td>\n",
       "      <td>32.166700</td>\n",
       "      <td>16</td>\n",
       "      <td>-0.006100</td>\n",
       "      <td>-0.164800</td>\n",
       "      <td>0.775300</td>\n",
       "      <td>0.612500</td>\n",
       "      <td>0.397600</td>\n",
       "    </tr>\n",
       "    <tr>\n",
       "      <th>110</th>\n",
       "      <td>7.999600</td>\n",
       "      <td>32.066700</td>\n",
       "      <td>16</td>\n",
       "      <td>-0.095100</td>\n",
       "      <td>-0.000300</td>\n",
       "      <td>0.001800</td>\n",
       "      <td>0.698600</td>\n",
       "      <td>0.436100</td>\n",
       "    </tr>\n",
       "    <tr>\n",
       "      <th>111</th>\n",
       "      <td>7.999600</td>\n",
       "      <td>31.566700</td>\n",
       "      <td>16</td>\n",
       "      <td>-0.081400</td>\n",
       "      <td>-0.131500</td>\n",
       "      <td>0.683800</td>\n",
       "      <td>0.715400</td>\n",
       "      <td>0.454800</td>\n",
       "    </tr>\n",
       "    <tr>\n",
       "      <th>112</th>\n",
       "      <td>6.999100</td>\n",
       "      <td>25.833300</td>\n",
       "      <td>14</td>\n",
       "      <td>-0.012900</td>\n",
       "      <td>-0.058100</td>\n",
       "      <td>0.281800</td>\n",
       "      <td>0.647200</td>\n",
       "      <td>0.419000</td>\n",
       "    </tr>\n",
       "    <tr>\n",
       "      <th>113</th>\n",
       "      <td>7.000400</td>\n",
       "      <td>25.833300</td>\n",
       "      <td>14</td>\n",
       "      <td>-0.010900</td>\n",
       "      <td>-0.046800</td>\n",
       "      <td>0.224500</td>\n",
       "      <td>0.644000</td>\n",
       "      <td>0.417400</td>\n",
       "    </tr>\n",
       "    <tr>\n",
       "      <th>114</th>\n",
       "      <td>6.998800</td>\n",
       "      <td>25.666700</td>\n",
       "      <td>14</td>\n",
       "      <td>-0.112300</td>\n",
       "      <td>-0.214000</td>\n",
       "      <td>1.200700</td>\n",
       "      <td>0.737900</td>\n",
       "      <td>0.479100</td>\n",
       "    </tr>\n",
       "    <tr>\n",
       "      <th>115</th>\n",
       "      <td>6.998700</td>\n",
       "      <td>25.833300</td>\n",
       "      <td>14</td>\n",
       "      <td>-0.007600</td>\n",
       "      <td>-0.047800</td>\n",
       "      <td>0.225700</td>\n",
       "      <td>0.639600</td>\n",
       "      <td>0.414800</td>\n",
       "    </tr>\n",
       "    <tr>\n",
       "      <th>116</th>\n",
       "      <td>8.001400</td>\n",
       "      <td>32.166700</td>\n",
       "      <td>16</td>\n",
       "      <td>0.006000</td>\n",
       "      <td>-0.088600</td>\n",
       "      <td>0.413300</td>\n",
       "      <td>0.600000</td>\n",
       "      <td>0.393700</td>\n",
       "    </tr>\n",
       "    <tr>\n",
       "      <th>117</th>\n",
       "      <td>8.999500</td>\n",
       "      <td>39.333300</td>\n",
       "      <td>18</td>\n",
       "      <td>0.043600</td>\n",
       "      <td>-0.004500</td>\n",
       "      <td>0.021500</td>\n",
       "      <td>0.512600</td>\n",
       "      <td>0.336400</td>\n",
       "    </tr>\n",
       "    <tr>\n",
       "      <th>118</th>\n",
       "      <td>7.998700</td>\n",
       "      <td>32.066700</td>\n",
       "      <td>16</td>\n",
       "      <td>-0.091900</td>\n",
       "      <td>0.000000</td>\n",
       "      <td>0.000000</td>\n",
       "      <td>0.700700</td>\n",
       "      <td>0.439600</td>\n",
       "    </tr>\n",
       "    <tr>\n",
       "      <th>119</th>\n",
       "      <td>8.000900</td>\n",
       "      <td>32.166700</td>\n",
       "      <td>16</td>\n",
       "      <td>0.004200</td>\n",
       "      <td>-0.094300</td>\n",
       "      <td>0.439700</td>\n",
       "      <td>0.601200</td>\n",
       "      <td>0.392100</td>\n",
       "    </tr>\n",
       "    <tr>\n",
       "      <th>120</th>\n",
       "      <td>7.000800</td>\n",
       "      <td>25.666700</td>\n",
       "      <td>14</td>\n",
       "      <td>-0.094100</td>\n",
       "      <td>-0.118800</td>\n",
       "      <td>0.591300</td>\n",
       "      <td>0.717300</td>\n",
       "      <td>0.464300</td>\n",
       "    </tr>\n",
       "    <tr>\n",
       "      <th>121</th>\n",
       "      <td>7.999600</td>\n",
       "      <td>32.833300</td>\n",
       "      <td>16</td>\n",
       "      <td>0.022000</td>\n",
       "      <td>-0.002200</td>\n",
       "      <td>0.013700</td>\n",
       "      <td>0.571300</td>\n",
       "      <td>0.368400</td>\n",
       "    </tr>\n",
       "    <tr>\n",
       "      <th>122</th>\n",
       "      <td>8.001700</td>\n",
       "      <td>32.000000</td>\n",
       "      <td>16</td>\n",
       "      <td>-0.084200</td>\n",
       "      <td>-0.000600</td>\n",
       "      <td>0.001000</td>\n",
       "      <td>0.707200</td>\n",
       "      <td>0.456200</td>\n",
       "    </tr>\n",
       "    <tr>\n",
       "      <th>123</th>\n",
       "      <td>6.999600</td>\n",
       "      <td>26.333300</td>\n",
       "      <td>14</td>\n",
       "      <td>0.045600</td>\n",
       "      <td>-0.144300</td>\n",
       "      <td>0.712800</td>\n",
       "      <td>0.503300</td>\n",
       "      <td>0.349000</td>\n",
       "    </tr>\n",
       "    <tr>\n",
       "      <th>124</th>\n",
       "      <td>7.001200</td>\n",
       "      <td>26.166700</td>\n",
       "      <td>14</td>\n",
       "      <td>-0.048900</td>\n",
       "      <td>-0.063500</td>\n",
       "      <td>0.295600</td>\n",
       "      <td>0.660600</td>\n",
       "      <td>0.432600</td>\n",
       "    </tr>\n",
       "    <tr>\n",
       "      <th>125</th>\n",
       "      <td>6.999200</td>\n",
       "      <td>25.666700</td>\n",
       "      <td>14</td>\n",
       "      <td>-0.122600</td>\n",
       "      <td>-0.379500</td>\n",
       "      <td>2.065000</td>\n",
       "      <td>0.735900</td>\n",
       "      <td>0.477300</td>\n",
       "    </tr>\n",
       "    <tr>\n",
       "      <th>126</th>\n",
       "      <td>7.000000</td>\n",
       "      <td>25.833300</td>\n",
       "      <td>14</td>\n",
       "      <td>-0.007600</td>\n",
       "      <td>-0.047300</td>\n",
       "      <td>0.116200</td>\n",
       "      <td>0.629600</td>\n",
       "      <td>0.410600</td>\n",
       "    </tr>\n",
       "    <tr>\n",
       "      <th>127</th>\n",
       "      <td>7.000800</td>\n",
       "      <td>26.333300</td>\n",
       "      <td>14</td>\n",
       "      <td>0.037500</td>\n",
       "      <td>-0.017900</td>\n",
       "      <td>0.083200</td>\n",
       "      <td>0.533500</td>\n",
       "      <td>0.354700</td>\n",
       "    </tr>\n",
       "    <tr>\n",
       "      <th>128</th>\n",
       "      <td>7.000400</td>\n",
       "      <td>25.666700</td>\n",
       "      <td>14</td>\n",
       "      <td>-0.116900</td>\n",
       "      <td>-0.272200</td>\n",
       "      <td>1.431700</td>\n",
       "      <td>0.743200</td>\n",
       "      <td>0.483600</td>\n",
       "    </tr>\n",
       "    <tr>\n",
       "      <th>129</th>\n",
       "      <td>8.000400</td>\n",
       "      <td>32.833300</td>\n",
       "      <td>16</td>\n",
       "      <td>0.025200</td>\n",
       "      <td>-0.001900</td>\n",
       "      <td>0.009500</td>\n",
       "      <td>0.561900</td>\n",
       "      <td>0.361100</td>\n",
       "    </tr>\n",
       "    <tr>\n",
       "      <th>130</th>\n",
       "      <td>7.998200</td>\n",
       "      <td>32.166700</td>\n",
       "      <td>16</td>\n",
       "      <td>0.001000</td>\n",
       "      <td>-0.126400</td>\n",
       "      <td>0.592000</td>\n",
       "      <td>0.604100</td>\n",
       "      <td>0.394400</td>\n",
       "    </tr>\n",
       "    <tr>\n",
       "      <th>131</th>\n",
       "      <td>6.999600</td>\n",
       "      <td>26.166700</td>\n",
       "      <td>14</td>\n",
       "      <td>-0.118600</td>\n",
       "      <td>-0.018600</td>\n",
       "      <td>0.090200</td>\n",
       "      <td>0.713200</td>\n",
       "      <td>0.457000</td>\n",
       "    </tr>\n",
       "    <tr>\n",
       "      <th>132</th>\n",
       "      <td>7.000400</td>\n",
       "      <td>25.833300</td>\n",
       "      <td>14</td>\n",
       "      <td>-0.009100</td>\n",
       "      <td>-0.055900</td>\n",
       "      <td>0.269900</td>\n",
       "      <td>0.642000</td>\n",
       "      <td>0.416000</td>\n",
       "    </tr>\n",
       "    <tr>\n",
       "      <th>133</th>\n",
       "      <td>10.998900</td>\n",
       "      <td>55.700000</td>\n",
       "      <td>24</td>\n",
       "      <td>0.000000</td>\n",
       "      <td>-0.004200</td>\n",
       "      <td>0.019900</td>\n",
       "      <td>0.623400</td>\n",
       "      <td>0.393500</td>\n",
       "    </tr>\n",
       "    <tr>\n",
       "      <th>134</th>\n",
       "      <td>9.001300</td>\n",
       "      <td>37.366700</td>\n",
       "      <td>18</td>\n",
       "      <td>-0.095900</td>\n",
       "      <td>-0.206400</td>\n",
       "      <td>0.771900</td>\n",
       "      <td>0.710400</td>\n",
       "      <td>0.451800</td>\n",
       "    </tr>\n",
       "    <tr>\n",
       "      <th>135</th>\n",
       "      <td>8.001700</td>\n",
       "      <td>32.000000</td>\n",
       "      <td>16</td>\n",
       "      <td>-0.080000</td>\n",
       "      <td>-0.000100</td>\n",
       "      <td>0.006300</td>\n",
       "      <td>0.705900</td>\n",
       "      <td>0.455300</td>\n",
       "    </tr>\n",
       "    <tr>\n",
       "      <th>136</th>\n",
       "      <td>8.998600</td>\n",
       "      <td>39.066700</td>\n",
       "      <td>18</td>\n",
       "      <td>-0.019500</td>\n",
       "      <td>-0.004500</td>\n",
       "      <td>0.020700</td>\n",
       "      <td>0.629700</td>\n",
       "      <td>0.395600</td>\n",
       "    </tr>\n",
       "    <tr>\n",
       "      <th>137</th>\n",
       "      <td>8.000400</td>\n",
       "      <td>32.166700</td>\n",
       "      <td>16</td>\n",
       "      <td>0.001100</td>\n",
       "      <td>-0.404400</td>\n",
       "      <td>2.274500</td>\n",
       "      <td>0.598500</td>\n",
       "      <td>0.395800</td>\n",
       "    </tr>\n",
       "    <tr>\n",
       "      <th>138</th>\n",
       "      <td>7.999100</td>\n",
       "      <td>32.166700</td>\n",
       "      <td>16</td>\n",
       "      <td>0.005300</td>\n",
       "      <td>-0.044500</td>\n",
       "      <td>0.317300</td>\n",
       "      <td>0.598100</td>\n",
       "      <td>0.395100</td>\n",
       "    </tr>\n",
       "    <tr>\n",
       "      <th>139</th>\n",
       "      <td>7.998700</td>\n",
       "      <td>31.566700</td>\n",
       "      <td>16</td>\n",
       "      <td>-0.063700</td>\n",
       "      <td>-0.111000</td>\n",
       "      <td>0.531700</td>\n",
       "      <td>0.692900</td>\n",
       "      <td>0.439400</td>\n",
       "    </tr>\n",
       "    <tr>\n",
       "      <th>140</th>\n",
       "      <td>7.998300</td>\n",
       "      <td>32.166700</td>\n",
       "      <td>16</td>\n",
       "      <td>-0.002600</td>\n",
       "      <td>-0.096900</td>\n",
       "      <td>0.436400</td>\n",
       "      <td>0.605700</td>\n",
       "      <td>0.395700</td>\n",
       "    </tr>\n",
       "    <tr>\n",
       "      <th>141</th>\n",
       "      <td>7.998700</td>\n",
       "      <td>32.666700</td>\n",
       "      <td>16</td>\n",
       "      <td>-0.004500</td>\n",
       "      <td>-0.010500</td>\n",
       "      <td>0.008300</td>\n",
       "      <td>0.587500</td>\n",
       "      <td>0.376000</td>\n",
       "    </tr>\n",
       "    <tr>\n",
       "      <th>142</th>\n",
       "      <td>8.998600</td>\n",
       "      <td>38.566700</td>\n",
       "      <td>18</td>\n",
       "      <td>0.015500</td>\n",
       "      <td>-0.110600</td>\n",
       "      <td>0.526600</td>\n",
       "      <td>0.586500</td>\n",
       "      <td>0.379700</td>\n",
       "    </tr>\n",
       "    <tr>\n",
       "      <th>143</th>\n",
       "      <td>9.000500</td>\n",
       "      <td>39.000000</td>\n",
       "      <td>18</td>\n",
       "      <td>0.047700</td>\n",
       "      <td>-0.000800</td>\n",
       "      <td>0.003400</td>\n",
       "      <td>0.456700</td>\n",
       "      <td>0.324500</td>\n",
       "    </tr>\n",
       "    <tr>\n",
       "      <th>144</th>\n",
       "      <td>9.001800</td>\n",
       "      <td>38.300000</td>\n",
       "      <td>18</td>\n",
       "      <td>-0.083100</td>\n",
       "      <td>0.008700</td>\n",
       "      <td>0.038500</td>\n",
       "      <td>0.710600</td>\n",
       "      <td>0.452800</td>\n",
       "    </tr>\n",
       "  </tbody>\n",
       "</table>\n",
       "</div>"
      ],
      "text/plain": [
       "            D1          D2   D3        D4        D5        D6        D7  \\\n",
       "0    21.996307  119.300545   42 -0.129873 -0.461116  2.354662  0.739296   \n",
       "1    18.002651  111.988098   38 -0.192031 -0.003431  0.010324  0.772352   \n",
       "2    26.002590  196.702667   56  0.012251 -0.149585  0.937021  0.546386   \n",
       "3    22.004517  119.300545   42 -0.103873 -0.357562  1.760567  0.720476   \n",
       "4    23.003124  169.373093   50 -0.161954 -0.516773  2.444123  0.743189   \n",
       "5    10.001482   45.800003   20 -0.001307 -0.005326  0.025180  0.625161   \n",
       "6    20.003008  104.804337   38 -0.155427 -0.316281  1.652655  0.767007   \n",
       "7    15.002267   81.028572   30 -0.175913 -0.267525  1.026331  0.742105   \n",
       "8    17.003408  101.388100   36 -0.217380 -0.009711  0.039880  0.795678   \n",
       "9    29.999311  239.983139   64 -0.062927 -0.130794  0.258319  0.630174   \n",
       "10   30.007343  239.983124   64 -0.002348 -0.325625  1.241003  0.567052   \n",
       "11   18.998100  121.163500   40 -0.032200  0.009000  0.035900  0.612400   \n",
       "12   14.997700   81.903200   30 -0.171400 -0.133500  0.651000  0.759800   \n",
       "13   21.997900  119.300500   42 -0.127000 -0.535800  2.857500  0.739100   \n",
       "14   19.001600  120.635800   40 -0.178700 -0.026000  0.100300  0.766700   \n",
       "15   19.002600  119.508900   40 -0.193200 -0.159200  0.669600  0.761800   \n",
       "16   25.002000  188.285200   54 -0.101100 -0.372500  1.405100  0.686300   \n",
       "17   13.997200   73.900000   28 -0.161500 -0.224500  0.949500  0.755100   \n",
       "18   21.000600  139.818200   44  0.026700 -0.026600  0.132300  0.487500   \n",
       "19   12.002200   58.338100   24 -0.186700  0.006800  0.037200  0.771500   \n",
       "20   21.003800  148.800000   46 -0.015800 -0.081900  0.329700  0.607200   \n",
       "21   21.995600  145.367100   46 -0.272600  0.000000  0.000000  0.827500   \n",
       "22   24.996900  184.387800   54 -0.115200 -0.144000  0.955200  0.706100   \n",
       "23   15.997900   95.435700   34 -0.104900 -0.114200  0.510700  0.722500   \n",
       "24   22.004900  152.595700   48 -0.255400 -0.000200  0.000300  0.806100   \n",
       "25   19.003800  121.163500   40 -0.031300  0.026400  0.103700  0.599600   \n",
       "26   16.995900  103.557900   36 -0.220900 -0.005200  0.035300  0.772400   \n",
       "27   25.007300  188.285200   54 -0.027600 -0.214100  0.716900  0.585700   \n",
       "28   19.000500  120.644600   40 -0.203400 -0.034200  0.139600  0.765100   \n",
       "29   12.999400   67.566700   26  0.012800 -0.008400  0.133900  0.540600   \n",
       "30   17.998800  112.719100   38 -0.080300  0.025100  0.064500  0.668000   \n",
       "31   18.003300  113.830900   38 -0.144600 -0.020600  0.123900  0.741300   \n",
       "32   19.002000  123.276200   40 -0.064500  0.017000  0.041400  0.643600   \n",
       "33   10.002000   45.800000   20 -0.004000 -0.007300  0.034700  0.628600   \n",
       "34   19.002300  116.401200   40 -0.266200 -0.034000  0.176900  0.808800   \n",
       "35   24.999300  188.285200   54 -0.046400 -0.241300  0.649700  0.612300   \n",
       "36   19.999400  130.759500   42 -0.088700 -0.004800  0.018900  0.700500   \n",
       "37   17.996900  110.401600   38 -0.159200 -0.078200  0.306000  0.753100   \n",
       "38   18.001000  110.401600   38 -0.164300 -0.075200  0.295400  0.755400   \n",
       "39   22.004700  149.216700   46 -0.054100  0.007500  0.041400  0.640600   \n",
       "40   20.998700  149.471400   46 -0.006100 -0.164300  0.802200  0.553100   \n",
       "41   20.996300  142.913000   46 -0.251200 -0.003000  0.013500  0.804300   \n",
       "42   18.002700  111.988100   38 -0.207000 -0.000600  0.002100  0.775800   \n",
       "43   25.006800  184.387800   54 -0.105200 -0.131300  0.652500  0.700200   \n",
       "44   25.992600  195.592700   56 -0.126000 -0.064200  0.483700  0.719300   \n",
       "45   35.002251  291.711487   74 -0.059399 -0.001989  0.008828  0.640983   \n",
       "46   51.008350  496.531738  106 -0.092846 -0.036752  0.117160  0.687986   \n",
       "47   47.987919  469.752777  106 -0.061047  0.000005  0.000797  0.675923   \n",
       "48   46.994061  433.694580  100 -0.072264 -0.001063  0.005799  0.681332   \n",
       "49   30.991735  244.111542   66 -0.067771 -0.179482  0.754959  0.661258   \n",
       "50   59.009369  576.290771  118 -0.163102 -0.167888  0.773824  0.739732   \n",
       "51   48.981926  462.398895  104 -0.065094 -0.197664  0.961834  0.647102   \n",
       "52   33.005386  252.075912   68 -0.114123 -0.224626  1.133047  0.721692   \n",
       "53   42.005699  384.425140   92 -0.138680 -0.056042  0.323529  0.725828   \n",
       "54   63.025597  675.784546  134 -0.190126 -0.002324  0.018053  0.762475   \n",
       "55   40.999294  349.725311   84 -0.201789 -0.047584  0.166645  0.782750   \n",
       "56   37.993641  331.137482   82 -0.100505 -0.006323  0.038131  0.692607   \n",
       "57   48.986355  476.854370  106 -0.063554 -0.025406  0.064584  0.658095   \n",
       "58   40.015846  369.143921   88 -0.024769 -0.000052  0.000075  0.589869   \n",
       "59   40.006294  376.762573   88 -0.028853 -0.000723  0.001875  0.592110   \n",
       "60   42.015957  399.018341   92 -0.042770  0.000082  0.000084  0.602926   \n",
       "61   45.980476  436.200439   98 -0.081615 -0.004404  0.010918  0.694612   \n",
       "62   44.997509  419.433289   98 -0.045016  0.000262  0.006351  0.649960   \n",
       "63   45.990517  430.221771   94 -0.084316 -0.000052  0.003361  0.695730   \n",
       "64   49.977581  498.277222  110 -0.050818 -0.000368  0.001852  0.658793   \n",
       "65   50.007343  500.494629  110 -0.050342  0.000007  0.000314  0.660975   \n",
       "66   40.989933  388.169342   90 -0.033293 -0.013752  0.057745  0.608711   \n",
       "67   51.989788  528.593994  114 -0.050181 -0.000189  0.001036  0.659014   \n",
       "68   52.013168  530.638123  114 -0.044553 -0.000182  0.000964  0.650158   \n",
       "69   52.015873  530.104797  114 -0.050778 -0.000008  0.000035  0.662203   \n",
       "70   54.014034  536.217651  114 -0.131443 -0.053384  0.219370  0.720425   \n",
       "71   46.994884  450.390137  104 -0.058804 -0.000012  0.000600  0.674761   \n",
       "72   55.977230  562.537109  118 -0.142934 -0.060878  0.253439  0.728838   \n",
       "73   39.003159  338.550415   82 -0.069586 -0.000689  0.005279  0.680977   \n",
       "74   55.993900  561.240906  118 -0.162477 -0.013197  0.059142  0.743544   \n",
       "75   58.015995  590.939941  122 -0.144651 -0.000157  0.000479  0.737630   \n",
       "76   41.991051  373.147583   86 -0.146331 -0.000924  0.008568  0.744701   \n",
       "77   41.016750  360.532227   84 -0.049244 -0.000275  0.002080  0.652664   \n",
       "78   40.995365  360.838043   88 -0.147620 -0.000461  0.001545  0.720137   \n",
       "79   39.014606  342.556946   84 -0.133061 -0.033553  0.183828  0.714568   \n",
       "80   48.015408  456.583130  106 -0.095465 -0.192202  0.744726  0.675578   \n",
       "81   45.998219  450.064880  102 -0.044083 -0.004412  0.053675  0.648577   \n",
       "82   51.007839  503.755432  110 -0.078732 -0.028378  0.086027  0.685053   \n",
       "83   58.008533  590.939941  122 -0.150382 -0.000063  0.000129  0.740694   \n",
       "84   51.000004  478.954010  108 -0.175846 -0.059593  0.274520  0.742174   \n",
       "85   47.018047  441.185028  102 -0.154417 -0.064879  0.331124  0.727675   \n",
       "86   47.010860  465.533295  102 -0.048442 -0.018026  0.051812  0.628981   \n",
       "87   43.009041  419.727936   94 -0.023466 -0.005565  0.021207  0.585241   \n",
       "88   48.002605  451.519043   98 -0.129501 -0.001607  0.007517  0.734231   \n",
       "89   40.988037  368.419434   88 -0.132085 -0.058272  0.312480  0.719883   \n",
       "90   40.012447  358.815704   86 -0.102127 -0.015262  0.101642  0.698164   \n",
       "91   51.015411  496.531708  106 -0.091886 -0.053912  0.172637  0.687863   \n",
       "92   59.997257  631.815186  128 -0.187306 -0.000196  0.001251  0.757601   \n",
       "93   39.008621  340.956604   84 -0.122630 -0.027623  0.146857  0.708412   \n",
       "94   46.008797  447.441895  102 -0.057728 -0.000755  0.024943  0.660892   \n",
       "95   46.990685  443.999084  100 -0.082566 -0.006544  0.019707  0.696008   \n",
       "96   48.008808  462.583099  102 -0.063893 -0.001150  0.004818  0.675382   \n",
       "97   44.007874  421.264374   98 -0.057306 -0.010695  0.061250  0.656482   \n",
       "98   45.998219  450.064850  102 -0.044083 -0.004412  0.053675  0.648577   \n",
       "99   49.006977  476.191589  102 -0.127119 -0.001565  0.009721  0.732402   \n",
       "100  47.986160  459.793976  100 -0.127869 -0.003147  0.013363  0.732381   \n",
       "101  48.007408  461.067993  102 -0.111352 -0.547209  2.519987  0.691810   \n",
       "102  45.004894  413.678680   96 -0.088364 -0.131926  0.632666  0.671319   \n",
       "103  41.995422  360.643524   84 -0.085317 -0.012750  0.038481  0.682639   \n",
       "104   6.998700   25.833300   14 -0.006900 -0.059600  0.288100  0.640300   \n",
       "105   9.001500   41.000000   20 -0.033900  0.000000  0.000100  0.675300   \n",
       "106   9.000000   41.000000   20 -0.034400 -0.000400  0.001300  0.671400   \n",
       "107   9.001000   41.000000   20 -0.034300  0.000000  0.000100  0.674900   \n",
       "108   8.000800   31.566700   16 -0.085500 -0.274600  1.468200  0.705100   \n",
       "109   7.998700   32.166700   16 -0.006100 -0.164800  0.775300  0.612500   \n",
       "110   7.999600   32.066700   16 -0.095100 -0.000300  0.001800  0.698600   \n",
       "111   7.999600   31.566700   16 -0.081400 -0.131500  0.683800  0.715400   \n",
       "112   6.999100   25.833300   14 -0.012900 -0.058100  0.281800  0.647200   \n",
       "113   7.000400   25.833300   14 -0.010900 -0.046800  0.224500  0.644000   \n",
       "114   6.998800   25.666700   14 -0.112300 -0.214000  1.200700  0.737900   \n",
       "115   6.998700   25.833300   14 -0.007600 -0.047800  0.225700  0.639600   \n",
       "116   8.001400   32.166700   16  0.006000 -0.088600  0.413300  0.600000   \n",
       "117   8.999500   39.333300   18  0.043600 -0.004500  0.021500  0.512600   \n",
       "118   7.998700   32.066700   16 -0.091900  0.000000  0.000000  0.700700   \n",
       "119   8.000900   32.166700   16  0.004200 -0.094300  0.439700  0.601200   \n",
       "120   7.000800   25.666700   14 -0.094100 -0.118800  0.591300  0.717300   \n",
       "121   7.999600   32.833300   16  0.022000 -0.002200  0.013700  0.571300   \n",
       "122   8.001700   32.000000   16 -0.084200 -0.000600  0.001000  0.707200   \n",
       "123   6.999600   26.333300   14  0.045600 -0.144300  0.712800  0.503300   \n",
       "124   7.001200   26.166700   14 -0.048900 -0.063500  0.295600  0.660600   \n",
       "125   6.999200   25.666700   14 -0.122600 -0.379500  2.065000  0.735900   \n",
       "126   7.000000   25.833300   14 -0.007600 -0.047300  0.116200  0.629600   \n",
       "127   7.000800   26.333300   14  0.037500 -0.017900  0.083200  0.533500   \n",
       "128   7.000400   25.666700   14 -0.116900 -0.272200  1.431700  0.743200   \n",
       "129   8.000400   32.833300   16  0.025200 -0.001900  0.009500  0.561900   \n",
       "130   7.998200   32.166700   16  0.001000 -0.126400  0.592000  0.604100   \n",
       "131   6.999600   26.166700   14 -0.118600 -0.018600  0.090200  0.713200   \n",
       "132   7.000400   25.833300   14 -0.009100 -0.055900  0.269900  0.642000   \n",
       "133  10.998900   55.700000   24  0.000000 -0.004200  0.019900  0.623400   \n",
       "134   9.001300   37.366700   18 -0.095900 -0.206400  0.771900  0.710400   \n",
       "135   8.001700   32.000000   16 -0.080000 -0.000100  0.006300  0.705900   \n",
       "136   8.998600   39.066700   18 -0.019500 -0.004500  0.020700  0.629700   \n",
       "137   8.000400   32.166700   16  0.001100 -0.404400  2.274500  0.598500   \n",
       "138   7.999100   32.166700   16  0.005300 -0.044500  0.317300  0.598100   \n",
       "139   7.998700   31.566700   16 -0.063700 -0.111000  0.531700  0.692900   \n",
       "140   7.998300   32.166700   16 -0.002600 -0.096900  0.436400  0.605700   \n",
       "141   7.998700   32.666700   16 -0.004500 -0.010500  0.008300  0.587500   \n",
       "142   8.998600   38.566700   18  0.015500 -0.110600  0.526600  0.586500   \n",
       "143   9.000500   39.000000   18  0.047700 -0.000800  0.003400  0.456700   \n",
       "144   9.001800   38.300000   18 -0.083100  0.008700  0.038500  0.710600   \n",
       "\n",
       "           D8  \n",
       "0    0.475639  \n",
       "1    0.479507  \n",
       "2    0.348632  \n",
       "3    0.462141  \n",
       "4    0.451499  \n",
       "5    0.397128  \n",
       "6    0.502759  \n",
       "7    0.461606  \n",
       "8    0.503703  \n",
       "9    0.377212  \n",
       "10   0.360075  \n",
       "11   0.374900  \n",
       "12   0.474200  \n",
       "13   0.476400  \n",
       "14   0.474700  \n",
       "15   0.475700  \n",
       "16   0.409400  \n",
       "17   0.474200  \n",
       "18   0.324900  \n",
       "19   0.488300  \n",
       "20   0.373500  \n",
       "21   0.537600  \n",
       "22   0.430400  \n",
       "23   0.453900  \n",
       "24   0.510500  \n",
       "25   0.371500  \n",
       "26   0.478800  \n",
       "27   0.361500  \n",
       "28   0.476300  \n",
       "29   0.339600  \n",
       "30   0.405000  \n",
       "31   0.460800  \n",
       "32   0.381200  \n",
       "33   0.398700  \n",
       "34   0.518300  \n",
       "35   0.371200  \n",
       "36   0.430900  \n",
       "37   0.471300  \n",
       "38   0.472900  \n",
       "39   0.395500  \n",
       "40   0.347800  \n",
       "41   0.509400  \n",
       "42   0.480600  \n",
       "43   0.426100  \n",
       "44   0.441800  \n",
       "45   0.376504  \n",
       "46   0.409205  \n",
       "47   0.408873  \n",
       "48   0.408497  \n",
       "49   0.394006  \n",
       "50   0.453918  \n",
       "51   0.387991  \n",
       "52   0.437289  \n",
       "53   0.431004  \n",
       "54   0.464900  \n",
       "55   0.486290  \n",
       "56   0.408740  \n",
       "57   0.393934  \n",
       "58   0.339982  \n",
       "59   0.340645  \n",
       "60   0.346052  \n",
       "61   0.418760  \n",
       "62   0.391499  \n",
       "63   0.414558  \n",
       "64   0.397906  \n",
       "65   0.397199  \n",
       "66   0.356196  \n",
       "67   0.395579  \n",
       "68   0.390803  \n",
       "69   0.398514  \n",
       "70   0.433686  \n",
       "71   0.409552  \n",
       "72   0.439721  \n",
       "73   0.411917  \n",
       "74   0.445352  \n",
       "75   0.439964  \n",
       "76   0.451812  \n",
       "77   0.386140  \n",
       "78   0.421548  \n",
       "79   0.422425  \n",
       "80   0.405066  \n",
       "81   0.387530  \n",
       "82   0.414574  \n",
       "83   0.440715  \n",
       "84   0.448909  \n",
       "85   0.432806  \n",
       "86   0.371043  \n",
       "87   0.340873  \n",
       "88   0.444648  \n",
       "89   0.426898  \n",
       "90   0.413691  \n",
       "91   0.409682  \n",
       "92   0.458315  \n",
       "93   0.417351  \n",
       "94   0.392663  \n",
       "95   0.423070  \n",
       "96   0.406148  \n",
       "97   0.390359  \n",
       "98   0.387530  \n",
       "99   0.443092  \n",
       "100  0.443783  \n",
       "101  0.412389  \n",
       "102  0.399279  \n",
       "103  0.410769  \n",
       "104  0.416000  \n",
       "105  0.424300  \n",
       "106  0.419600  \n",
       "107  0.423600  \n",
       "108  0.447800  \n",
       "109  0.397600  \n",
       "110  0.436100  \n",
       "111  0.454800  \n",
       "112  0.419000  \n",
       "113  0.417400  \n",
       "114  0.479100  \n",
       "115  0.414800  \n",
       "116  0.393700  \n",
       "117  0.336400  \n",
       "118  0.439600  \n",
       "119  0.392100  \n",
       "120  0.464300  \n",
       "121  0.368400  \n",
       "122  0.456200  \n",
       "123  0.349000  \n",
       "124  0.432600  \n",
       "125  0.477300  \n",
       "126  0.410600  \n",
       "127  0.354700  \n",
       "128  0.483600  \n",
       "129  0.361100  \n",
       "130  0.394400  \n",
       "131  0.457000  \n",
       "132  0.416000  \n",
       "133  0.393500  \n",
       "134  0.451800  \n",
       "135  0.455300  \n",
       "136  0.395600  \n",
       "137  0.395800  \n",
       "138  0.395100  \n",
       "139  0.439400  \n",
       "140  0.395700  \n",
       "141  0.376000  \n",
       "142  0.379700  \n",
       "143  0.324500  \n",
       "144  0.452800  "
      ]
     },
     "execution_count": 112,
     "metadata": {},
     "output_type": "execute_result"
    }
   ],
   "source": [
    "moldesc2df"
   ]
  },
  {
   "cell_type": "markdown",
   "metadata": {},
   "source": [
    "Before applying Principal Component Analysis (PCA), it is crucial to standardize the dataset to ensure that all numerical features contribute equally to the analysis."
   ]
  },
  {
   "cell_type": "code",
   "execution_count": 114,
   "metadata": {},
   "outputs": [
    {
     "data": {
      "text/html": [
       "<div>\n",
       "<style scoped>\n",
       "    .dataframe tbody tr th:only-of-type {\n",
       "        vertical-align: middle;\n",
       "    }\n",
       "\n",
       "    .dataframe tbody tr th {\n",
       "        vertical-align: top;\n",
       "    }\n",
       "\n",
       "    .dataframe thead th {\n",
       "        text-align: right;\n",
       "    }\n",
       "</style>\n",
       "<table border=\"1\" class=\"dataframe\">\n",
       "  <thead>\n",
       "    <tr style=\"text-align: right;\">\n",
       "      <th></th>\n",
       "      <th>D1</th>\n",
       "      <th>D2</th>\n",
       "      <th>D3</th>\n",
       "      <th>D4</th>\n",
       "      <th>D5</th>\n",
       "      <th>D6</th>\n",
       "      <th>D7</th>\n",
       "      <th>D8</th>\n",
       "    </tr>\n",
       "  </thead>\n",
       "  <tbody>\n",
       "    <tr>\n",
       "      <th>0</th>\n",
       "      <td>-0.311986</td>\n",
       "      <td>-0.580564</td>\n",
       "      <td>-0.429585</td>\n",
       "      <td>-0.654378</td>\n",
       "      <td>-3.232894</td>\n",
       "      <td>3.453128</td>\n",
       "      <td>0.883433</td>\n",
       "      <td>1.284370</td>\n",
       "    </tr>\n",
       "    <tr>\n",
       "      <th>1</th>\n",
       "      <td>-0.543405</td>\n",
       "      <td>-0.618878</td>\n",
       "      <td>-0.536796</td>\n",
       "      <td>-1.540196</td>\n",
       "      <td>0.618624</td>\n",
       "      <td>-0.621476</td>\n",
       "      <td>1.356215</td>\n",
       "      <td>1.373242</td>\n",
       "    </tr>\n",
       "    <tr>\n",
       "      <th>2</th>\n",
       "      <td>-0.079836</td>\n",
       "      <td>-0.175010</td>\n",
       "      <td>-0.054345</td>\n",
       "      <td>1.371042</td>\n",
       "      <td>-0.611293</td>\n",
       "      <td>0.989181</td>\n",
       "      <td>-1.875652</td>\n",
       "      <td>-1.633766</td>\n",
       "    </tr>\n",
       "    <tr>\n",
       "      <th>3</th>\n",
       "      <td>-0.311511</td>\n",
       "      <td>-0.580564</td>\n",
       "      <td>-0.429585</td>\n",
       "      <td>-0.283850</td>\n",
       "      <td>-2.361464</td>\n",
       "      <td>2.420554</td>\n",
       "      <td>0.614261</td>\n",
       "      <td>0.974238</td>\n",
       "    </tr>\n",
       "    <tr>\n",
       "      <th>4</th>\n",
       "      <td>-0.253645</td>\n",
       "      <td>-0.318205</td>\n",
       "      <td>-0.215162</td>\n",
       "      <td>-1.111567</td>\n",
       "      <td>-3.701259</td>\n",
       "      <td>3.608617</td>\n",
       "      <td>0.939112</td>\n",
       "      <td>0.729725</td>\n",
       "    </tr>\n",
       "    <tr>\n",
       "      <th>5</th>\n",
       "      <td>-1.007044</td>\n",
       "      <td>-0.965675</td>\n",
       "      <td>-1.019247</td>\n",
       "      <td>1.177825</td>\n",
       "      <td>0.602677</td>\n",
       "      <td>-0.595655</td>\n",
       "      <td>-0.748976</td>\n",
       "      <td>-0.519513</td>\n",
       "    </tr>\n",
       "    <tr>\n",
       "      <th>6</th>\n",
       "      <td>-0.427491</td>\n",
       "      <td>-0.656518</td>\n",
       "      <td>-0.536796</td>\n",
       "      <td>-1.018550</td>\n",
       "      <td>-2.014076</td>\n",
       "      <td>2.232997</td>\n",
       "      <td>1.279768</td>\n",
       "      <td>1.907485</td>\n",
       "    </tr>\n",
       "    <tr>\n",
       "      <th>7</th>\n",
       "      <td>-0.717266</td>\n",
       "      <td>-0.781093</td>\n",
       "      <td>-0.751218</td>\n",
       "      <td>-1.310498</td>\n",
       "      <td>-1.603784</td>\n",
       "      <td>1.144407</td>\n",
       "      <td>0.923609</td>\n",
       "      <td>0.961946</td>\n",
       "    </tr>\n",
       "    <tr>\n",
       "      <th>8</th>\n",
       "      <td>-0.601307</td>\n",
       "      <td>-0.674418</td>\n",
       "      <td>-0.590401</td>\n",
       "      <td>-1.901447</td>\n",
       "      <td>0.565777</td>\n",
       "      <td>-0.570106</td>\n",
       "      <td>1.689833</td>\n",
       "      <td>1.929174</td>\n",
       "    </tr>\n",
       "    <tr>\n",
       "      <th>9</th>\n",
       "      <td>0.151759</td>\n",
       "      <td>0.051761</td>\n",
       "      <td>0.160078</td>\n",
       "      <td>0.299674</td>\n",
       "      <td>-0.453163</td>\n",
       "      <td>-0.190445</td>\n",
       "      <td>-0.677278</td>\n",
       "      <td>-0.977107</td>\n",
       "    </tr>\n",
       "    <tr>\n",
       "      <th>10</th>\n",
       "      <td>0.152225</td>\n",
       "      <td>0.051761</td>\n",
       "      <td>0.160078</td>\n",
       "      <td>1.162990</td>\n",
       "      <td>-2.092708</td>\n",
       "      <td>1.517520</td>\n",
       "      <td>-1.580077</td>\n",
       "      <td>-1.370850</td>\n",
       "    </tr>\n",
       "    <tr>\n",
       "      <th>11</th>\n",
       "      <td>-0.485722</td>\n",
       "      <td>-0.570803</td>\n",
       "      <td>-0.483190</td>\n",
       "      <td>0.737567</td>\n",
       "      <td>0.723234</td>\n",
       "      <td>-0.577023</td>\n",
       "      <td>-0.931490</td>\n",
       "      <td>-1.030228</td>\n",
       "    </tr>\n",
       "    <tr>\n",
       "      <th>12</th>\n",
       "      <td>-0.717531</td>\n",
       "      <td>-0.776510</td>\n",
       "      <td>-0.751218</td>\n",
       "      <td>-1.246183</td>\n",
       "      <td>-0.475934</td>\n",
       "      <td>0.492058</td>\n",
       "      <td>1.176690</td>\n",
       "      <td>1.251308</td>\n",
       "    </tr>\n",
       "    <tr>\n",
       "      <th>13</th>\n",
       "      <td>-0.311894</td>\n",
       "      <td>-0.580564</td>\n",
       "      <td>-0.429585</td>\n",
       "      <td>-0.613435</td>\n",
       "      <td>-3.861376</td>\n",
       "      <td>4.327092</td>\n",
       "      <td>0.880630</td>\n",
       "      <td>1.301855</td>\n",
       "    </tr>\n",
       "    <tr>\n",
       "      <th>14</th>\n",
       "      <td>-0.485519</td>\n",
       "      <td>-0.573568</td>\n",
       "      <td>-0.483190</td>\n",
       "      <td>-1.350215</td>\n",
       "      <td>0.428701</td>\n",
       "      <td>-0.465092</td>\n",
       "      <td>1.275377</td>\n",
       "      <td>1.262796</td>\n",
       "    </tr>\n",
       "    <tr>\n",
       "      <th>15</th>\n",
       "      <td>-0.485461</td>\n",
       "      <td>-0.579472</td>\n",
       "      <td>-0.483190</td>\n",
       "      <td>-1.556856</td>\n",
       "      <td>-0.692205</td>\n",
       "      <td>0.524386</td>\n",
       "      <td>1.205295</td>\n",
       "      <td>1.285772</td>\n",
       "    </tr>\n",
       "    <tr>\n",
       "      <th>16</th>\n",
       "      <td>-0.137817</td>\n",
       "      <td>-0.219114</td>\n",
       "      <td>-0.107951</td>\n",
       "      <td>-0.244332</td>\n",
       "      <td>-2.487171</td>\n",
       "      <td>1.802731</td>\n",
       "      <td>0.125461</td>\n",
       "      <td>-0.237549</td>\n",
       "    </tr>\n",
       "    <tr>\n",
       "      <th>17</th>\n",
       "      <td>-0.775506</td>\n",
       "      <td>-0.818443</td>\n",
       "      <td>-0.804824</td>\n",
       "      <td>-1.105097</td>\n",
       "      <td>-1.241719</td>\n",
       "      <td>1.010870</td>\n",
       "      <td>1.109469</td>\n",
       "      <td>1.251308</td>\n",
       "    </tr>\n",
       "    <tr>\n",
       "      <th>18</th>\n",
       "      <td>-0.369684</td>\n",
       "      <td>-0.473060</td>\n",
       "      <td>-0.375979</td>\n",
       "      <td>1.576955</td>\n",
       "      <td>0.423652</td>\n",
       "      <td>-0.409474</td>\n",
       "      <td>-2.717865</td>\n",
       "      <td>-2.179037</td>\n",
       "    </tr>\n",
       "    <tr>\n",
       "      <th>19</th>\n",
       "      <td>-0.891109</td>\n",
       "      <td>-0.899981</td>\n",
       "      <td>-0.912035</td>\n",
       "      <td>-1.464224</td>\n",
       "      <td>0.704720</td>\n",
       "      <td>-0.574764</td>\n",
       "      <td>1.344029</td>\n",
       "      <td>1.575272</td>\n",
       "    </tr>\n",
       "    <tr>\n",
       "      <th>20</th>\n",
       "      <td>-0.369499</td>\n",
       "      <td>-0.426000</td>\n",
       "      <td>-0.322373</td>\n",
       "      <td>0.971285</td>\n",
       "      <td>-0.041709</td>\n",
       "      <td>-0.066381</td>\n",
       "      <td>-1.005863</td>\n",
       "      <td>-1.062394</td>\n",
       "    </tr>\n",
       "    <tr>\n",
       "      <th>21</th>\n",
       "      <td>-0.312027</td>\n",
       "      <td>-0.443986</td>\n",
       "      <td>-0.322373</td>\n",
       "      <td>-2.688391</td>\n",
       "      <td>0.647497</td>\n",
       "      <td>-0.639420</td>\n",
       "      <td>2.144966</td>\n",
       "      <td>2.707998</td>\n",
       "    </tr>\n",
       "    <tr>\n",
       "      <th>22</th>\n",
       "      <td>-0.138113</td>\n",
       "      <td>-0.239535</td>\n",
       "      <td>-0.107951</td>\n",
       "      <td>-0.445272</td>\n",
       "      <td>-0.564294</td>\n",
       "      <td>1.020777</td>\n",
       "      <td>0.408649</td>\n",
       "      <td>0.244951</td>\n",
       "    </tr>\n",
       "    <tr>\n",
       "      <th>23</th>\n",
       "      <td>-0.659573</td>\n",
       "      <td>-0.705606</td>\n",
       "      <td>-0.644007</td>\n",
       "      <td>-0.298486</td>\n",
       "      <td>-0.313521</td>\n",
       "      <td>0.248208</td>\n",
       "      <td>0.643209</td>\n",
       "      <td>0.784891</td>\n",
       "    </tr>\n",
       "    <tr>\n",
       "      <th>24</th>\n",
       "      <td>-0.311488</td>\n",
       "      <td>-0.406112</td>\n",
       "      <td>-0.268768</td>\n",
       "      <td>-2.443273</td>\n",
       "      <td>0.645814</td>\n",
       "      <td>-0.638898</td>\n",
       "      <td>1.838893</td>\n",
       "      <td>2.085343</td>\n",
       "    </tr>\n",
       "    <tr>\n",
       "      <th>25</th>\n",
       "      <td>-0.485391</td>\n",
       "      <td>-0.570803</td>\n",
       "      <td>-0.483190</td>\n",
       "      <td>0.750393</td>\n",
       "      <td>0.869658</td>\n",
       "      <td>-0.459183</td>\n",
       "      <td>-1.114561</td>\n",
       "      <td>-1.108347</td>\n",
       "    </tr>\n",
       "    <tr>\n",
       "      <th>26</th>\n",
       "      <td>-0.601742</td>\n",
       "      <td>-0.663049</td>\n",
       "      <td>-0.590401</td>\n",
       "      <td>-1.951611</td>\n",
       "      <td>0.603738</td>\n",
       "      <td>-0.578066</td>\n",
       "      <td>1.356901</td>\n",
       "      <td>1.356998</td>\n",
       "    </tr>\n",
       "    <tr>\n",
       "      <th>27</th>\n",
       "      <td>-0.137510</td>\n",
       "      <td>-0.219114</td>\n",
       "      <td>-0.107951</td>\n",
       "      <td>0.803122</td>\n",
       "      <td>-1.154201</td>\n",
       "      <td>0.606597</td>\n",
       "      <td>-1.313365</td>\n",
       "      <td>-1.338109</td>\n",
       "    </tr>\n",
       "    <tr>\n",
       "      <th>28</th>\n",
       "      <td>-0.485583</td>\n",
       "      <td>-0.573522</td>\n",
       "      <td>-0.483190</td>\n",
       "      <td>-1.702217</td>\n",
       "      <td>0.359696</td>\n",
       "      <td>-0.396786</td>\n",
       "      <td>1.252493</td>\n",
       "      <td>1.299558</td>\n",
       "    </tr>\n",
       "    <tr>\n",
       "      <th>29</th>\n",
       "      <td>-0.833325</td>\n",
       "      <td>-0.851627</td>\n",
       "      <td>-0.858430</td>\n",
       "      <td>1.378865</td>\n",
       "      <td>0.576809</td>\n",
       "      <td>-0.406693</td>\n",
       "      <td>-1.958405</td>\n",
       "      <td>-1.841287</td>\n",
       "    </tr>\n",
       "    <tr>\n",
       "      <th>30</th>\n",
       "      <td>-0.543628</td>\n",
       "      <td>-0.615048</td>\n",
       "      <td>-0.536796</td>\n",
       "      <td>0.052090</td>\n",
       "      <td>0.858719</td>\n",
       "      <td>-0.527315</td>\n",
       "      <td>-0.136274</td>\n",
       "      <td>-0.338644</td>\n",
       "    </tr>\n",
       "    <tr>\n",
       "      <th>31</th>\n",
       "      <td>-0.543367</td>\n",
       "      <td>-0.609223</td>\n",
       "      <td>-0.536796</td>\n",
       "      <td>-0.864254</td>\n",
       "      <td>0.474143</td>\n",
       "      <td>-0.424074</td>\n",
       "      <td>0.912095</td>\n",
       "      <td>0.943427</td>\n",
       "    </tr>\n",
       "    <tr>\n",
       "      <th>32</th>\n",
       "      <td>-0.485496</td>\n",
       "      <td>-0.559733</td>\n",
       "      <td>-0.483190</td>\n",
       "      <td>0.277257</td>\n",
       "      <td>0.790555</td>\n",
       "      <td>-0.567464</td>\n",
       "      <td>-0.485254</td>\n",
       "      <td>-0.885478</td>\n",
       "    </tr>\n",
       "    <tr>\n",
       "      <th>33</th>\n",
       "      <td>-1.007014</td>\n",
       "      <td>-0.965675</td>\n",
       "      <td>-1.019247</td>\n",
       "      <td>1.139447</td>\n",
       "      <td>0.586066</td>\n",
       "      <td>-0.579109</td>\n",
       "      <td>-0.699790</td>\n",
       "      <td>-0.483394</td>\n",
       "    </tr>\n",
       "    <tr>\n",
       "      <th>34</th>\n",
       "      <td>-0.485478</td>\n",
       "      <td>-0.595755</td>\n",
       "      <td>-0.483190</td>\n",
       "      <td>-2.597184</td>\n",
       "      <td>0.361379</td>\n",
       "      <td>-0.331957</td>\n",
       "      <td>1.877510</td>\n",
       "      <td>2.264558</td>\n",
       "    </tr>\n",
       "    <tr>\n",
       "      <th>35</th>\n",
       "      <td>-0.137974</td>\n",
       "      <td>-0.219114</td>\n",
       "      <td>-0.107951</td>\n",
       "      <td>0.535202</td>\n",
       "      <td>-1.383095</td>\n",
       "      <td>0.489799</td>\n",
       "      <td>-0.932920</td>\n",
       "      <td>-1.115240</td>\n",
       "    </tr>\n",
       "    <tr>\n",
       "      <th>36</th>\n",
       "      <td>-0.427700</td>\n",
       "      <td>-0.520524</td>\n",
       "      <td>-0.429585</td>\n",
       "      <td>-0.067619</td>\n",
       "      <td>0.607104</td>\n",
       "      <td>-0.606571</td>\n",
       "      <td>0.328555</td>\n",
       "      <td>0.256439</td>\n",
       "    </tr>\n",
       "    <tr>\n",
       "      <th>37</th>\n",
       "      <td>-0.543738</td>\n",
       "      <td>-0.627191</td>\n",
       "      <td>-0.536796</td>\n",
       "      <td>-1.072319</td>\n",
       "      <td>-0.010573</td>\n",
       "      <td>-0.107573</td>\n",
       "      <td>1.080864</td>\n",
       "      <td>1.184677</td>\n",
       "    </tr>\n",
       "    <tr>\n",
       "      <th>38</th>\n",
       "      <td>-0.543500</td>\n",
       "      <td>-0.627191</td>\n",
       "      <td>-0.536796</td>\n",
       "      <td>-1.145000</td>\n",
       "      <td>0.014673</td>\n",
       "      <td>-0.125996</td>\n",
       "      <td>1.113760</td>\n",
       "      <td>1.221439</td>\n",
       "    </tr>\n",
       "    <tr>\n",
       "      <th>39</th>\n",
       "      <td>-0.311500</td>\n",
       "      <td>-0.423816</td>\n",
       "      <td>-0.322373</td>\n",
       "      <td>0.425468</td>\n",
       "      <td>0.710611</td>\n",
       "      <td>-0.567464</td>\n",
       "      <td>-0.528161</td>\n",
       "      <td>-0.556918</td>\n",
       "    </tr>\n",
       "    <tr>\n",
       "      <th>40</th>\n",
       "      <td>-0.369794</td>\n",
       "      <td>-0.422482</td>\n",
       "      <td>-0.322373</td>\n",
       "      <td>1.109520</td>\n",
       "      <td>-0.735123</td>\n",
       "      <td>0.754853</td>\n",
       "      <td>-1.779625</td>\n",
       "      <td>-1.652882</td>\n",
       "    </tr>\n",
       "    <tr>\n",
       "      <th>41</th>\n",
       "      <td>-0.369933</td>\n",
       "      <td>-0.456845</td>\n",
       "      <td>-0.322373</td>\n",
       "      <td>-2.383418</td>\n",
       "      <td>0.622251</td>\n",
       "      <td>-0.615956</td>\n",
       "      <td>1.813149</td>\n",
       "      <td>2.060069</td>\n",
       "    </tr>\n",
       "    <tr>\n",
       "      <th>42</th>\n",
       "      <td>-0.543402</td>\n",
       "      <td>-0.618878</td>\n",
       "      <td>-0.536796</td>\n",
       "      <td>-1.753521</td>\n",
       "      <td>0.642448</td>\n",
       "      <td>-0.635770</td>\n",
       "      <td>1.405529</td>\n",
       "      <td>1.398355</td>\n",
       "    </tr>\n",
       "    <tr>\n",
       "      <th>43</th>\n",
       "      <td>-0.137539</td>\n",
       "      <td>-0.239535</td>\n",
       "      <td>-0.107951</td>\n",
       "      <td>-0.302761</td>\n",
       "      <td>-0.457421</td>\n",
       "      <td>0.494665</td>\n",
       "      <td>0.324265</td>\n",
       "      <td>0.146153</td>\n",
       "    </tr>\n",
       "    <tr>\n",
       "      <th>44</th>\n",
       "      <td>-0.080415</td>\n",
       "      <td>-0.180826</td>\n",
       "      <td>-0.054345</td>\n",
       "      <td>-0.599184</td>\n",
       "      <td>0.107240</td>\n",
       "      <td>0.201281</td>\n",
       "      <td>0.597441</td>\n",
       "      <td>0.506879</td>\n",
       "    </tr>\n",
       "    <tr>\n",
       "      <th>45</th>\n",
       "      <td>0.441662</td>\n",
       "      <td>0.322795</td>\n",
       "      <td>0.428106</td>\n",
       "      <td>0.349952</td>\n",
       "      <td>0.630759</td>\n",
       "      <td>-0.624076</td>\n",
       "      <td>-0.522683</td>\n",
       "      <td>-0.993374</td>\n",
       "    </tr>\n",
       "    <tr>\n",
       "      <th>46</th>\n",
       "      <td>1.369159</td>\n",
       "      <td>1.395965</td>\n",
       "      <td>1.285796</td>\n",
       "      <td>-0.126704</td>\n",
       "      <td>0.338221</td>\n",
       "      <td>-0.435789</td>\n",
       "      <td>0.149575</td>\n",
       "      <td>-0.242030</td>\n",
       "    </tr>\n",
       "    <tr>\n",
       "      <th>47</th>\n",
       "      <td>1.194135</td>\n",
       "      <td>1.255655</td>\n",
       "      <td>1.285796</td>\n",
       "      <td>0.326466</td>\n",
       "      <td>0.647539</td>\n",
       "      <td>-0.638035</td>\n",
       "      <td>-0.022956</td>\n",
       "      <td>-0.249658</td>\n",
       "    </tr>\n",
       "    <tr>\n",
       "      <th>48</th>\n",
       "      <td>1.136545</td>\n",
       "      <td>1.066726</td>\n",
       "      <td>1.124979</td>\n",
       "      <td>0.166612</td>\n",
       "      <td>0.638551</td>\n",
       "      <td>-0.629341</td>\n",
       "      <td>0.054406</td>\n",
       "      <td>-0.258297</td>\n",
       "    </tr>\n",
       "    <tr>\n",
       "      <th>49</th>\n",
       "      <td>0.209267</td>\n",
       "      <td>0.073392</td>\n",
       "      <td>0.213683</td>\n",
       "      <td>0.230642</td>\n",
       "      <td>-0.862883</td>\n",
       "      <td>0.672746</td>\n",
       "      <td>-0.232701</td>\n",
       "      <td>-0.591245</td>\n",
       "    </tr>\n",
       "    <tr>\n",
       "      <th>50</th>\n",
       "      <td>1.832789</td>\n",
       "      <td>1.813868</td>\n",
       "      <td>1.607430</td>\n",
       "      <td>-1.127927</td>\n",
       "      <td>-0.765317</td>\n",
       "      <td>0.705534</td>\n",
       "      <td>0.889669</td>\n",
       "      <td>0.785305</td>\n",
       "    </tr>\n",
       "    <tr>\n",
       "      <th>51</th>\n",
       "      <td>1.251735</td>\n",
       "      <td>1.217124</td>\n",
       "      <td>1.232190</td>\n",
       "      <td>0.268792</td>\n",
       "      <td>-1.015888</td>\n",
       "      <td>1.032307</td>\n",
       "      <td>-0.435167</td>\n",
       "      <td>-0.729446</td>\n",
       "    </tr>\n",
       "    <tr>\n",
       "      <th>52</th>\n",
       "      <td>0.325951</td>\n",
       "      <td>0.115122</td>\n",
       "      <td>0.267289</td>\n",
       "      <td>-0.429924</td>\n",
       "      <td>-1.242779</td>\n",
       "      <td>1.329886</td>\n",
       "      <td>0.631653</td>\n",
       "      <td>0.403234</td>\n",
       "    </tr>\n",
       "    <tr>\n",
       "      <th>53</th>\n",
       "      <td>0.847487</td>\n",
       "      <td>0.808575</td>\n",
       "      <td>0.910557</td>\n",
       "      <td>-0.779887</td>\n",
       "      <td>0.175891</td>\n",
       "      <td>-0.077106</td>\n",
       "      <td>0.690808</td>\n",
       "      <td>0.258828</td>\n",
       "    </tr>\n",
       "    <tr>\n",
       "      <th>54</th>\n",
       "      <td>2.065516</td>\n",
       "      <td>2.335173</td>\n",
       "      <td>2.036275</td>\n",
       "      <td>-1.513048</td>\n",
       "      <td>0.627940</td>\n",
       "      <td>-0.608043</td>\n",
       "      <td>1.214949</td>\n",
       "      <td>1.037629</td>\n",
       "    </tr>\n",
       "    <tr>\n",
       "      <th>55</th>\n",
       "      <td>0.789169</td>\n",
       "      <td>0.626763</td>\n",
       "      <td>0.696134</td>\n",
       "      <td>-1.679258</td>\n",
       "      <td>0.247067</td>\n",
       "      <td>-0.349781</td>\n",
       "      <td>1.504931</td>\n",
       "      <td>1.529090</td>\n",
       "    </tr>\n",
       "    <tr>\n",
       "      <th>56</th>\n",
       "      <td>0.615002</td>\n",
       "      <td>0.529370</td>\n",
       "      <td>0.642528</td>\n",
       "      <td>-0.235853</td>\n",
       "      <td>0.594287</td>\n",
       "      <td>-0.573146</td>\n",
       "      <td>0.215666</td>\n",
       "      <td>-0.252713</td>\n",
       "    </tr>\n",
       "    <tr>\n",
       "      <th>57</th>\n",
       "      <td>1.251991</td>\n",
       "      <td>1.292864</td>\n",
       "      <td>1.285796</td>\n",
       "      <td>0.290739</td>\n",
       "      <td>0.433700</td>\n",
       "      <td>-0.527169</td>\n",
       "      <td>-0.277940</td>\n",
       "      <td>-0.592899</td>\n",
       "    </tr>\n",
       "    <tr>\n",
       "      <th>58</th>\n",
       "      <td>0.732182</td>\n",
       "      <td>0.728508</td>\n",
       "      <td>0.803345</td>\n",
       "      <td>0.843467</td>\n",
       "      <td>0.647059</td>\n",
       "      <td>-0.639290</td>\n",
       "      <td>-1.253738</td>\n",
       "      <td>-1.832510</td>\n",
       "    </tr>\n",
       "    <tr>\n",
       "      <th>59</th>\n",
       "      <td>0.731629</td>\n",
       "      <td>0.768426</td>\n",
       "      <td>0.803345</td>\n",
       "      <td>0.785265</td>\n",
       "      <td>0.641413</td>\n",
       "      <td>-0.636161</td>\n",
       "      <td>-1.221687</td>\n",
       "      <td>-1.817277</td>\n",
       "    </tr>\n",
       "    <tr>\n",
       "      <th>60</th>\n",
       "      <td>0.848081</td>\n",
       "      <td>0.885037</td>\n",
       "      <td>0.910557</td>\n",
       "      <td>0.586933</td>\n",
       "      <td>0.648187</td>\n",
       "      <td>-0.639274</td>\n",
       "      <td>-1.066991</td>\n",
       "      <td>-1.693045</td>\n",
       "    </tr>\n",
       "    <tr>\n",
       "      <th>61</th>\n",
       "      <td>1.077811</td>\n",
       "      <td>1.079855</td>\n",
       "      <td>1.071373</td>\n",
       "      <td>0.033350</td>\n",
       "      <td>0.610436</td>\n",
       "      <td>-0.620444</td>\n",
       "      <td>0.244343</td>\n",
       "      <td>-0.022492</td>\n",
       "    </tr>\n",
       "    <tr>\n",
       "      <th>62</th>\n",
       "      <td>1.020852</td>\n",
       "      <td>0.992003</td>\n",
       "      <td>1.071373</td>\n",
       "      <td>0.554925</td>\n",
       "      <td>0.649702</td>\n",
       "      <td>-0.628381</td>\n",
       "      <td>-0.394290</td>\n",
       "      <td>-0.648846</td>\n",
       "    </tr>\n",
       "    <tr>\n",
       "      <th>63</th>\n",
       "      <td>1.078393</td>\n",
       "      <td>1.048530</td>\n",
       "      <td>0.964162</td>\n",
       "      <td>-0.005142</td>\n",
       "      <td>0.647059</td>\n",
       "      <td>-0.633578</td>\n",
       "      <td>0.260333</td>\n",
       "      <td>-0.119038</td>\n",
       "    </tr>\n",
       "    <tr>\n",
       "      <th>64</th>\n",
       "      <td>1.309429</td>\n",
       "      <td>1.405111</td>\n",
       "      <td>1.393007</td>\n",
       "      <td>0.472241</td>\n",
       "      <td>0.644400</td>\n",
       "      <td>-0.636201</td>\n",
       "      <td>-0.267957</td>\n",
       "      <td>-0.501637</td>\n",
       "    </tr>\n",
       "    <tr>\n",
       "      <th>65</th>\n",
       "      <td>1.311154</td>\n",
       "      <td>1.416729</td>\n",
       "      <td>1.393007</td>\n",
       "      <td>0.479024</td>\n",
       "      <td>0.647556</td>\n",
       "      <td>-0.638874</td>\n",
       "      <td>-0.236749</td>\n",
       "      <td>-0.517882</td>\n",
       "    </tr>\n",
       "    <tr>\n",
       "      <th>66</th>\n",
       "      <td>0.788627</td>\n",
       "      <td>0.828193</td>\n",
       "      <td>0.856951</td>\n",
       "      <td>0.721991</td>\n",
       "      <td>0.531771</td>\n",
       "      <td>-0.539056</td>\n",
       "      <td>-0.984252</td>\n",
       "      <td>-1.459974</td>\n",
       "    </tr>\n",
       "    <tr>\n",
       "      <th>67</th>\n",
       "      <td>1.426030</td>\n",
       "      <td>1.563958</td>\n",
       "      <td>1.500219</td>\n",
       "      <td>0.481318</td>\n",
       "      <td>0.645906</td>\n",
       "      <td>-0.637619</td>\n",
       "      <td>-0.264796</td>\n",
       "      <td>-0.555103</td>\n",
       "    </tr>\n",
       "    <tr>\n",
       "      <th>68</th>\n",
       "      <td>1.427384</td>\n",
       "      <td>1.574668</td>\n",
       "      <td>1.500219</td>\n",
       "      <td>0.561523</td>\n",
       "      <td>0.645965</td>\n",
       "      <td>-0.637744</td>\n",
       "      <td>-0.391458</td>\n",
       "      <td>-0.664837</td>\n",
       "    </tr>\n",
       "    <tr>\n",
       "      <th>69</th>\n",
       "      <td>1.427541</td>\n",
       "      <td>1.571874</td>\n",
       "      <td>1.500219</td>\n",
       "      <td>0.472811</td>\n",
       "      <td>0.647429</td>\n",
       "      <td>-0.639359</td>\n",
       "      <td>-0.219185</td>\n",
       "      <td>-0.487668</td>\n",
       "    </tr>\n",
       "    <tr>\n",
       "      <th>70</th>\n",
       "      <td>1.543327</td>\n",
       "      <td>1.603902</td>\n",
       "      <td>1.500219</td>\n",
       "      <td>-0.676752</td>\n",
       "      <td>0.198259</td>\n",
       "      <td>-0.258141</td>\n",
       "      <td>0.613532</td>\n",
       "      <td>0.320450</td>\n",
       "    </tr>\n",
       "    <tr>\n",
       "      <th>71</th>\n",
       "      <td>1.136593</td>\n",
       "      <td>1.154203</td>\n",
       "      <td>1.232190</td>\n",
       "      <td>0.358431</td>\n",
       "      <td>0.647396</td>\n",
       "      <td>-0.638377</td>\n",
       "      <td>-0.039575</td>\n",
       "      <td>-0.234057</td>\n",
       "    </tr>\n",
       "    <tr>\n",
       "      <th>72</th>\n",
       "      <td>1.657088</td>\n",
       "      <td>1.741805</td>\n",
       "      <td>1.607430</td>\n",
       "      <td>-0.840511</td>\n",
       "      <td>0.135195</td>\n",
       "      <td>-0.198927</td>\n",
       "      <td>0.733858</td>\n",
       "      <td>0.459112</td>\n",
       "    </tr>\n",
       "    <tr>\n",
       "      <th>73</th>\n",
       "      <td>0.673500</td>\n",
       "      <td>0.568211</td>\n",
       "      <td>0.642528</td>\n",
       "      <td>0.204776</td>\n",
       "      <td>0.641699</td>\n",
       "      <td>-0.630245</td>\n",
       "      <td>0.049329</td>\n",
       "      <td>-0.179718</td>\n",
       "    </tr>\n",
       "    <tr>\n",
       "      <th>74</th>\n",
       "      <td>1.658054</td>\n",
       "      <td>1.735014</td>\n",
       "      <td>1.607430</td>\n",
       "      <td>-1.119020</td>\n",
       "      <td>0.536441</td>\n",
       "      <td>-0.536627</td>\n",
       "      <td>0.944190</td>\n",
       "      <td>0.588491</td>\n",
       "    </tr>\n",
       "    <tr>\n",
       "      <th>75</th>\n",
       "      <td>1.775227</td>\n",
       "      <td>1.890624</td>\n",
       "      <td>1.714641</td>\n",
       "      <td>-0.864981</td>\n",
       "      <td>0.646176</td>\n",
       "      <td>-0.638587</td>\n",
       "      <td>0.859605</td>\n",
       "      <td>0.464695</td>\n",
       "    </tr>\n",
       "    <tr>\n",
       "      <th>76</th>\n",
       "      <td>0.846638</td>\n",
       "      <td>0.749485</td>\n",
       "      <td>0.749740</td>\n",
       "      <td>-0.888922</td>\n",
       "      <td>0.639721</td>\n",
       "      <td>-0.624528</td>\n",
       "      <td>0.960738</td>\n",
       "      <td>0.736917</td>\n",
       "    </tr>\n",
       "    <tr>\n",
       "      <th>77</th>\n",
       "      <td>0.790181</td>\n",
       "      <td>0.683386</td>\n",
       "      <td>0.696134</td>\n",
       "      <td>0.494672</td>\n",
       "      <td>0.645183</td>\n",
       "      <td>-0.635805</td>\n",
       "      <td>-0.355616</td>\n",
       "      <td>-0.771975</td>\n",
       "    </tr>\n",
       "    <tr>\n",
       "      <th>78</th>\n",
       "      <td>0.788942</td>\n",
       "      <td>0.684989</td>\n",
       "      <td>0.803345</td>\n",
       "      <td>-0.907292</td>\n",
       "      <td>0.643617</td>\n",
       "      <td>-0.636735</td>\n",
       "      <td>0.609412</td>\n",
       "      <td>0.041566</td>\n",
       "    </tr>\n",
       "    <tr>\n",
       "      <th>79</th>\n",
       "      <td>0.674164</td>\n",
       "      <td>0.589204</td>\n",
       "      <td>0.696134</td>\n",
       "      <td>-0.699811</td>\n",
       "      <td>0.365141</td>\n",
       "      <td>-0.319915</td>\n",
       "      <td>0.529762</td>\n",
       "      <td>0.061716</td>\n",
       "    </tr>\n",
       "    <tr>\n",
       "      <th>80</th>\n",
       "      <td>1.195728</td>\n",
       "      <td>1.186652</td>\n",
       "      <td>1.285796</td>\n",
       "      <td>-0.164027</td>\n",
       "      <td>-0.969924</td>\n",
       "      <td>0.654960</td>\n",
       "      <td>-0.027890</td>\n",
       "      <td>-0.337128</td>\n",
       "    </tr>\n",
       "    <tr>\n",
       "      <th>81</th>\n",
       "      <td>1.078839</td>\n",
       "      <td>1.152499</td>\n",
       "      <td>1.178585</td>\n",
       "      <td>0.568221</td>\n",
       "      <td>0.610369</td>\n",
       "      <td>-0.546129</td>\n",
       "      <td>-0.414070</td>\n",
       "      <td>-0.740038</td>\n",
       "    </tr>\n",
       "    <tr>\n",
       "      <th>82</th>\n",
       "      <td>1.369129</td>\n",
       "      <td>1.433814</td>\n",
       "      <td>1.393007</td>\n",
       "      <td>0.074436</td>\n",
       "      <td>0.408690</td>\n",
       "      <td>-0.489900</td>\n",
       "      <td>0.107625</td>\n",
       "      <td>-0.118670</td>\n",
       "    </tr>\n",
       "    <tr>\n",
       "      <th>83</th>\n",
       "      <td>1.774795</td>\n",
       "      <td>1.890624</td>\n",
       "      <td>1.714641</td>\n",
       "      <td>-0.946653</td>\n",
       "      <td>0.646967</td>\n",
       "      <td>-0.639196</td>\n",
       "      <td>0.903428</td>\n",
       "      <td>0.481950</td>\n",
       "    </tr>\n",
       "    <tr>\n",
       "      <th>84</th>\n",
       "      <td>1.368675</td>\n",
       "      <td>1.303866</td>\n",
       "      <td>1.339402</td>\n",
       "      <td>-1.309543</td>\n",
       "      <td>0.146009</td>\n",
       "      <td>-0.162287</td>\n",
       "      <td>0.924595</td>\n",
       "      <td>0.670217</td>\n",
       "    </tr>\n",
       "    <tr>\n",
       "      <th>85</th>\n",
       "      <td>1.137935</td>\n",
       "      <td>1.105972</td>\n",
       "      <td>1.178585</td>\n",
       "      <td>-1.004157</td>\n",
       "      <td>0.101526</td>\n",
       "      <td>-0.063906</td>\n",
       "      <td>0.717224</td>\n",
       "      <td>0.300231</td>\n",
       "    </tr>\n",
       "    <tr>\n",
       "      <th>86</th>\n",
       "      <td>1.137518</td>\n",
       "      <td>1.233547</td>\n",
       "      <td>1.178585</td>\n",
       "      <td>0.506101</td>\n",
       "      <td>0.495804</td>\n",
       "      <td>-0.549367</td>\n",
       "      <td>-0.694341</td>\n",
       "      <td>-1.118847</td>\n",
       "    </tr>\n",
       "    <tr>\n",
       "      <th>87</th>\n",
       "      <td>0.905627</td>\n",
       "      <td>0.993546</td>\n",
       "      <td>0.964162</td>\n",
       "      <td>0.862036</td>\n",
       "      <td>0.600666</td>\n",
       "      <td>-0.602561</td>\n",
       "      <td>-1.319930</td>\n",
       "      <td>-1.812038</td>\n",
       "    </tr>\n",
       "    <tr>\n",
       "      <th>88</th>\n",
       "      <td>1.194986</td>\n",
       "      <td>1.160118</td>\n",
       "      <td>1.071373</td>\n",
       "      <td>-0.649077</td>\n",
       "      <td>0.633974</td>\n",
       "      <td>-0.626355</td>\n",
       "      <td>0.810991</td>\n",
       "      <td>0.572315</td>\n",
       "    </tr>\n",
       "    <tr>\n",
       "      <th>89</th>\n",
       "      <td>0.788517</td>\n",
       "      <td>0.724712</td>\n",
       "      <td>0.803345</td>\n",
       "      <td>-0.685902</td>\n",
       "      <td>0.157125</td>\n",
       "      <td>-0.096310</td>\n",
       "      <td>0.605780</td>\n",
       "      <td>0.164488</td>\n",
       "    </tr>\n",
       "    <tr>\n",
       "      <th>90</th>\n",
       "      <td>0.731985</td>\n",
       "      <td>0.674392</td>\n",
       "      <td>0.749740</td>\n",
       "      <td>-0.258968</td>\n",
       "      <td>0.519064</td>\n",
       "      <td>-0.462760</td>\n",
       "      <td>0.295145</td>\n",
       "      <td>-0.138958</td>\n",
       "    </tr>\n",
       "    <tr>\n",
       "      <th>91</th>\n",
       "      <td>1.369568</td>\n",
       "      <td>1.395965</td>\n",
       "      <td>1.285796</td>\n",
       "      <td>-0.113023</td>\n",
       "      <td>0.193816</td>\n",
       "      <td>-0.339366</td>\n",
       "      <td>0.147815</td>\n",
       "      <td>-0.231070</td>\n",
       "    </tr>\n",
       "    <tr>\n",
       "      <th>92</th>\n",
       "      <td>1.890034</td>\n",
       "      <td>2.104792</td>\n",
       "      <td>1.875458</td>\n",
       "      <td>-1.472860</td>\n",
       "      <td>0.645847</td>\n",
       "      <td>-0.637246</td>\n",
       "      <td>1.145239</td>\n",
       "      <td>0.886331</td>\n",
       "    </tr>\n",
       "    <tr>\n",
       "      <th>93</th>\n",
       "      <td>0.673817</td>\n",
       "      <td>0.580818</td>\n",
       "      <td>0.696134</td>\n",
       "      <td>-0.551158</td>\n",
       "      <td>0.415043</td>\n",
       "      <td>-0.384173</td>\n",
       "      <td>0.441716</td>\n",
       "      <td>-0.054866</td>\n",
       "    </tr>\n",
       "    <tr>\n",
       "      <th>94</th>\n",
       "      <td>1.079452</td>\n",
       "      <td>1.138756</td>\n",
       "      <td>1.178585</td>\n",
       "      <td>0.373766</td>\n",
       "      <td>0.641143</td>\n",
       "      <td>-0.596067</td>\n",
       "      <td>-0.237936</td>\n",
       "      <td>-0.622102</td>\n",
       "    </tr>\n",
       "    <tr>\n",
       "      <th>95</th>\n",
       "      <td>1.136349</td>\n",
       "      <td>1.120717</td>\n",
       "      <td>1.124979</td>\n",
       "      <td>0.019797</td>\n",
       "      <td>0.592428</td>\n",
       "      <td>-0.605168</td>\n",
       "      <td>0.264309</td>\n",
       "      <td>0.076535</td>\n",
       "    </tr>\n",
       "    <tr>\n",
       "      <th>96</th>\n",
       "      <td>1.195346</td>\n",
       "      <td>1.218089</td>\n",
       "      <td>1.178585</td>\n",
       "      <td>0.285908</td>\n",
       "      <td>0.637819</td>\n",
       "      <td>-0.631046</td>\n",
       "      <td>-0.030693</td>\n",
       "      <td>-0.312268</td>\n",
       "    </tr>\n",
       "    <tr>\n",
       "      <th>97</th>\n",
       "      <td>0.963506</td>\n",
       "      <td>1.001597</td>\n",
       "      <td>1.071373</td>\n",
       "      <td>0.379780</td>\n",
       "      <td>0.557496</td>\n",
       "      <td>-0.532964</td>\n",
       "      <td>-0.301010</td>\n",
       "      <td>-0.675039</td>\n",
       "    </tr>\n",
       "    <tr>\n",
       "      <th>98</th>\n",
       "      <td>1.078839</td>\n",
       "      <td>1.152499</td>\n",
       "      <td>1.178585</td>\n",
       "      <td>0.568221</td>\n",
       "      <td>0.610369</td>\n",
       "      <td>-0.546129</td>\n",
       "      <td>-0.414070</td>\n",
       "      <td>-0.740038</td>\n",
       "    </tr>\n",
       "    <tr>\n",
       "      <th>99</th>\n",
       "      <td>1.253186</td>\n",
       "      <td>1.289392</td>\n",
       "      <td>1.178585</td>\n",
       "      <td>-0.615131</td>\n",
       "      <td>0.634327</td>\n",
       "      <td>-0.622524</td>\n",
       "      <td>0.784832</td>\n",
       "      <td>0.536564</td>\n",
       "    </tr>\n",
       "    <tr>\n",
       "      <th>100</th>\n",
       "      <td>1.194034</td>\n",
       "      <td>1.203475</td>\n",
       "      <td>1.124979</td>\n",
       "      <td>-0.625819</td>\n",
       "      <td>0.621014</td>\n",
       "      <td>-0.616194</td>\n",
       "      <td>0.784532</td>\n",
       "      <td>0.552441</td>\n",
       "    </tr>\n",
       "    <tr>\n",
       "      <th>101</th>\n",
       "      <td>1.195265</td>\n",
       "      <td>1.210150</td>\n",
       "      <td>1.178585</td>\n",
       "      <td>-0.390434</td>\n",
       "      <td>-3.957385</td>\n",
       "      <td>3.740473</td>\n",
       "      <td>0.204267</td>\n",
       "      <td>-0.168873</td>\n",
       "    </tr>\n",
       "    <tr>\n",
       "      <th>102</th>\n",
       "      <td>1.021280</td>\n",
       "      <td>0.961851</td>\n",
       "      <td>1.017768</td>\n",
       "      <td>-0.062830</td>\n",
       "      <td>-0.462689</td>\n",
       "      <td>0.460193</td>\n",
       "      <td>-0.088804</td>\n",
       "      <td>-0.470091</td>\n",
       "    </tr>\n",
       "    <tr>\n",
       "      <th>103</th>\n",
       "      <td>0.846892</td>\n",
       "      <td>0.683969</td>\n",
       "      <td>0.696134</td>\n",
       "      <td>-0.019407</td>\n",
       "      <td>0.540203</td>\n",
       "      <td>-0.572538</td>\n",
       "      <td>0.073099</td>\n",
       "      <td>-0.206095</td>\n",
       "    </tr>\n",
       "    <tr>\n",
       "      <th>104</th>\n",
       "      <td>-1.181044</td>\n",
       "      <td>-1.070292</td>\n",
       "      <td>-1.180063</td>\n",
       "      <td>1.098119</td>\n",
       "      <td>0.145950</td>\n",
       "      <td>-0.138684</td>\n",
       "      <td>-0.532452</td>\n",
       "      <td>-0.085906</td>\n",
       "    </tr>\n",
       "    <tr>\n",
       "      <th>105</th>\n",
       "      <td>-1.064989</td>\n",
       "      <td>-0.990825</td>\n",
       "      <td>-1.019247</td>\n",
       "      <td>0.713340</td>\n",
       "      <td>0.647497</td>\n",
       "      <td>-0.639246</td>\n",
       "      <td>-0.031866</td>\n",
       "      <td>0.104796</td>\n",
       "    </tr>\n",
       "    <tr>\n",
       "      <th>106</th>\n",
       "      <td>-1.065076</td>\n",
       "      <td>-0.990825</td>\n",
       "      <td>-1.019247</td>\n",
       "      <td>0.706215</td>\n",
       "      <td>0.644131</td>\n",
       "      <td>-0.637160</td>\n",
       "      <td>-0.087646</td>\n",
       "      <td>-0.003192</td>\n",
       "    </tr>\n",
       "    <tr>\n",
       "      <th>107</th>\n",
       "      <td>-1.065018</td>\n",
       "      <td>-0.990825</td>\n",
       "      <td>-1.019247</td>\n",
       "      <td>0.707640</td>\n",
       "      <td>0.647497</td>\n",
       "      <td>-0.639246</td>\n",
       "      <td>-0.037587</td>\n",
       "      <td>0.088713</td>\n",
       "    </tr>\n",
       "    <tr>\n",
       "      <th>108</th>\n",
       "      <td>-1.122976</td>\n",
       "      <td>-1.040252</td>\n",
       "      <td>-1.126458</td>\n",
       "      <td>-0.022015</td>\n",
       "      <td>-1.663321</td>\n",
       "      <td>1.912403</td>\n",
       "      <td>0.394347</td>\n",
       "      <td>0.644736</td>\n",
       "    </tr>\n",
       "    <tr>\n",
       "      <th>109</th>\n",
       "      <td>-1.123098</td>\n",
       "      <td>-1.037108</td>\n",
       "      <td>-1.126458</td>\n",
       "      <td>1.109520</td>\n",
       "      <td>-0.739331</td>\n",
       "      <td>0.708099</td>\n",
       "      <td>-0.930060</td>\n",
       "      <td>-0.508668</td>\n",
       "    </tr>\n",
       "    <tr>\n",
       "      <th>110</th>\n",
       "      <td>-1.123046</td>\n",
       "      <td>-1.037632</td>\n",
       "      <td>-1.126458</td>\n",
       "      <td>-0.158826</td>\n",
       "      <td>0.644972</td>\n",
       "      <td>-0.636291</td>\n",
       "      <td>0.301381</td>\n",
       "      <td>0.375915</td>\n",
       "    </tr>\n",
       "    <tr>\n",
       "      <th>111</th>\n",
       "      <td>-1.123046</td>\n",
       "      <td>-1.040252</td>\n",
       "      <td>-1.126458</td>\n",
       "      <td>0.036414</td>\n",
       "      <td>-0.459104</td>\n",
       "      <td>0.549067</td>\n",
       "      <td>0.541662</td>\n",
       "      <td>0.805570</td>\n",
       "    </tr>\n",
       "    <tr>\n",
       "      <th>112</th>\n",
       "      <td>-1.181021</td>\n",
       "      <td>-1.070292</td>\n",
       "      <td>-1.180063</td>\n",
       "      <td>1.012613</td>\n",
       "      <td>0.158573</td>\n",
       "      <td>-0.149634</td>\n",
       "      <td>-0.433765</td>\n",
       "      <td>-0.016978</td>\n",
       "    </tr>\n",
       "    <tr>\n",
       "      <th>113</th>\n",
       "      <td>-1.180946</td>\n",
       "      <td>-1.070292</td>\n",
       "      <td>-1.180063</td>\n",
       "      <td>1.041115</td>\n",
       "      <td>0.253665</td>\n",
       "      <td>-0.249225</td>\n",
       "      <td>-0.479533</td>\n",
       "      <td>-0.053740</td>\n",
       "    </tr>\n",
       "    <tr>\n",
       "      <th>114</th>\n",
       "      <td>-1.181039</td>\n",
       "      <td>-1.071165</td>\n",
       "      <td>-1.180063</td>\n",
       "      <td>-0.403944</td>\n",
       "      <td>-1.153359</td>\n",
       "      <td>1.447471</td>\n",
       "      <td>0.863467</td>\n",
       "      <td>1.363891</td>\n",
       "    </tr>\n",
       "    <tr>\n",
       "      <th>115</th>\n",
       "      <td>-1.181044</td>\n",
       "      <td>-1.070292</td>\n",
       "      <td>-1.180063</td>\n",
       "      <td>1.088143</td>\n",
       "      <td>0.245249</td>\n",
       "      <td>-0.247139</td>\n",
       "      <td>-0.542464</td>\n",
       "      <td>-0.113478</td>\n",
       "    </tr>\n",
       "    <tr>\n",
       "      <th>116</th>\n",
       "      <td>-1.122942</td>\n",
       "      <td>-1.037108</td>\n",
       "      <td>-1.126458</td>\n",
       "      <td>1.281958</td>\n",
       "      <td>-0.098091</td>\n",
       "      <td>0.078921</td>\n",
       "      <td>-1.108840</td>\n",
       "      <td>-0.598275</td>\n",
       "    </tr>\n",
       "    <tr>\n",
       "      <th>117</th>\n",
       "      <td>-1.065105</td>\n",
       "      <td>-0.999558</td>\n",
       "      <td>-1.072852</td>\n",
       "      <td>1.817798</td>\n",
       "      <td>0.609628</td>\n",
       "      <td>-0.602052</td>\n",
       "      <td>-2.358874</td>\n",
       "      <td>-1.914811</td>\n",
       "    </tr>\n",
       "    <tr>\n",
       "      <th>118</th>\n",
       "      <td>-1.123098</td>\n",
       "      <td>-1.037632</td>\n",
       "      <td>-1.126458</td>\n",
       "      <td>-0.113222</td>\n",
       "      <td>0.647497</td>\n",
       "      <td>-0.639420</td>\n",
       "      <td>0.331416</td>\n",
       "      <td>0.456332</td>\n",
       "    </tr>\n",
       "    <tr>\n",
       "      <th>119</th>\n",
       "      <td>-1.122971</td>\n",
       "      <td>-1.037108</td>\n",
       "      <td>-1.126458</td>\n",
       "      <td>1.256306</td>\n",
       "      <td>-0.146058</td>\n",
       "      <td>0.124806</td>\n",
       "      <td>-1.091677</td>\n",
       "      <td>-0.635037</td>\n",
       "    </tr>\n",
       "    <tr>\n",
       "      <th>120</th>\n",
       "      <td>-1.180923</td>\n",
       "      <td>-1.071165</td>\n",
       "      <td>-1.180063</td>\n",
       "      <td>-0.144574</td>\n",
       "      <td>-0.352231</td>\n",
       "      <td>0.388296</td>\n",
       "      <td>0.568836</td>\n",
       "      <td>1.023843</td>\n",
       "    </tr>\n",
       "    <tr>\n",
       "      <th>121</th>\n",
       "      <td>-1.123046</td>\n",
       "      <td>-1.033615</td>\n",
       "      <td>-1.126458</td>\n",
       "      <td>1.509975</td>\n",
       "      <td>0.628983</td>\n",
       "      <td>-0.615608</td>\n",
       "      <td>-1.519320</td>\n",
       "      <td>-1.179573</td>\n",
       "    </tr>\n",
       "    <tr>\n",
       "      <th>122</th>\n",
       "      <td>-1.122924</td>\n",
       "      <td>-1.037981</td>\n",
       "      <td>-1.126458</td>\n",
       "      <td>-0.003489</td>\n",
       "      <td>0.642448</td>\n",
       "      <td>-0.637682</td>\n",
       "      <td>0.424382</td>\n",
       "      <td>0.837736</td>\n",
       "    </tr>\n",
       "    <tr>\n",
       "      <th>123</th>\n",
       "      <td>-1.180992</td>\n",
       "      <td>-1.067672</td>\n",
       "      <td>-1.180063</td>\n",
       "      <td>1.846301</td>\n",
       "      <td>-0.566819</td>\n",
       "      <td>0.599471</td>\n",
       "      <td>-2.491887</td>\n",
       "      <td>-1.625311</td>\n",
       "    </tr>\n",
       "    <tr>\n",
       "      <th>124</th>\n",
       "      <td>-1.180900</td>\n",
       "      <td>-1.068545</td>\n",
       "      <td>-1.180063</td>\n",
       "      <td>0.499574</td>\n",
       "      <td>0.113131</td>\n",
       "      <td>-0.125649</td>\n",
       "      <td>-0.242112</td>\n",
       "      <td>0.295498</td>\n",
       "    </tr>\n",
       "    <tr>\n",
       "      <th>125</th>\n",
       "      <td>-1.181016</td>\n",
       "      <td>-1.071165</td>\n",
       "      <td>-1.180063</td>\n",
       "      <td>-0.550730</td>\n",
       "      <td>-2.546077</td>\n",
       "      <td>2.949678</td>\n",
       "      <td>0.834862</td>\n",
       "      <td>1.322534</td>\n",
       "    </tr>\n",
       "    <tr>\n",
       "      <th>126</th>\n",
       "      <td>-1.180969</td>\n",
       "      <td>-1.070292</td>\n",
       "      <td>-1.180063</td>\n",
       "      <td>1.088143</td>\n",
       "      <td>0.249457</td>\n",
       "      <td>-0.437457</td>\n",
       "      <td>-0.685488</td>\n",
       "      <td>-0.209978</td>\n",
       "    </tr>\n",
       "    <tr>\n",
       "      <th>127</th>\n",
       "      <td>-1.180923</td>\n",
       "      <td>-1.067672</td>\n",
       "      <td>-1.180063</td>\n",
       "      <td>1.730867</td>\n",
       "      <td>0.496864</td>\n",
       "      <td>-0.494813</td>\n",
       "      <td>-2.059953</td>\n",
       "      <td>-1.494347</td>\n",
       "    </tr>\n",
       "    <tr>\n",
       "      <th>128</th>\n",
       "      <td>-1.180946</td>\n",
       "      <td>-1.071165</td>\n",
       "      <td>-1.180063</td>\n",
       "      <td>-0.469499</td>\n",
       "      <td>-1.643125</td>\n",
       "      <td>1.848963</td>\n",
       "      <td>0.939270</td>\n",
       "      <td>1.467284</td>\n",
       "    </tr>\n",
       "    <tr>\n",
       "      <th>129</th>\n",
       "      <td>-1.123000</td>\n",
       "      <td>-1.033615</td>\n",
       "      <td>-1.126458</td>\n",
       "      <td>1.555579</td>\n",
       "      <td>0.631508</td>\n",
       "      <td>-0.622908</td>\n",
       "      <td>-1.653763</td>\n",
       "      <td>-1.347299</td>\n",
       "    </tr>\n",
       "    <tr>\n",
       "      <th>130</th>\n",
       "      <td>-1.123127</td>\n",
       "      <td>-1.037108</td>\n",
       "      <td>-1.126458</td>\n",
       "      <td>1.210703</td>\n",
       "      <td>-0.416186</td>\n",
       "      <td>0.389513</td>\n",
       "      <td>-1.050200</td>\n",
       "      <td>-0.582192</td>\n",
       "    </tr>\n",
       "    <tr>\n",
       "      <th>131</th>\n",
       "      <td>-1.180992</td>\n",
       "      <td>-1.068545</td>\n",
       "      <td>-1.180063</td>\n",
       "      <td>-0.493726</td>\n",
       "      <td>0.490974</td>\n",
       "      <td>-0.482647</td>\n",
       "      <td>0.510196</td>\n",
       "      <td>0.856117</td>\n",
       "    </tr>\n",
       "    <tr>\n",
       "      <th>132</th>\n",
       "      <td>-1.180946</td>\n",
       "      <td>-1.070292</td>\n",
       "      <td>-1.180063</td>\n",
       "      <td>1.066767</td>\n",
       "      <td>0.177086</td>\n",
       "      <td>-0.170317</td>\n",
       "      <td>-0.508138</td>\n",
       "      <td>-0.085906</td>\n",
       "    </tr>\n",
       "    <tr>\n",
       "      <th>133</th>\n",
       "      <td>-0.949247</td>\n",
       "      <td>-0.913804</td>\n",
       "      <td>-0.912035</td>\n",
       "      <td>1.196452</td>\n",
       "      <td>0.612153</td>\n",
       "      <td>-0.604832</td>\n",
       "      <td>-0.774163</td>\n",
       "      <td>-0.602871</td>\n",
       "    </tr>\n",
       "    <tr>\n",
       "      <th>134</th>\n",
       "      <td>-1.065001</td>\n",
       "      <td>-1.009862</td>\n",
       "      <td>-1.072852</td>\n",
       "      <td>-0.170226</td>\n",
       "      <td>-1.089404</td>\n",
       "      <td>0.702190</td>\n",
       "      <td>0.470150</td>\n",
       "      <td>0.736641</td>\n",
       "    </tr>\n",
       "    <tr>\n",
       "      <th>135</th>\n",
       "      <td>-1.122924</td>\n",
       "      <td>-1.037981</td>\n",
       "      <td>-1.126458</td>\n",
       "      <td>0.056366</td>\n",
       "      <td>0.646655</td>\n",
       "      <td>-0.628470</td>\n",
       "      <td>0.405789</td>\n",
       "      <td>0.817058</td>\n",
       "    </tr>\n",
       "    <tr>\n",
       "      <th>136</th>\n",
       "      <td>-1.065157</td>\n",
       "      <td>-1.000955</td>\n",
       "      <td>-1.072852</td>\n",
       "      <td>0.918556</td>\n",
       "      <td>0.609628</td>\n",
       "      <td>-0.603442</td>\n",
       "      <td>-0.684058</td>\n",
       "      <td>-0.554621</td>\n",
       "    </tr>\n",
       "    <tr>\n",
       "      <th>137</th>\n",
       "      <td>-1.123000</td>\n",
       "      <td>-1.037108</td>\n",
       "      <td>-1.126458</td>\n",
       "      <td>1.212128</td>\n",
       "      <td>-2.755616</td>\n",
       "      <td>3.313802</td>\n",
       "      <td>-1.130294</td>\n",
       "      <td>-0.550025</td>\n",
       "    </tr>\n",
       "    <tr>\n",
       "      <th>138</th>\n",
       "      <td>-1.123075</td>\n",
       "      <td>-1.037108</td>\n",
       "      <td>-1.126458</td>\n",
       "      <td>1.271982</td>\n",
       "      <td>0.273020</td>\n",
       "      <td>-0.087933</td>\n",
       "      <td>-1.136015</td>\n",
       "      <td>-0.566109</td>\n",
       "    </tr>\n",
       "    <tr>\n",
       "      <th>139</th>\n",
       "      <td>-1.123098</td>\n",
       "      <td>-1.040252</td>\n",
       "      <td>-1.126458</td>\n",
       "      <td>0.288658</td>\n",
       "      <td>-0.286592</td>\n",
       "      <td>0.284708</td>\n",
       "      <td>0.219857</td>\n",
       "      <td>0.451736</td>\n",
       "    </tr>\n",
       "    <tr>\n",
       "      <th>140</th>\n",
       "      <td>-1.123121</td>\n",
       "      <td>-1.037108</td>\n",
       "      <td>-1.126458</td>\n",
       "      <td>1.159399</td>\n",
       "      <td>-0.167938</td>\n",
       "      <td>0.119070</td>\n",
       "      <td>-1.027316</td>\n",
       "      <td>-0.552323</td>\n",
       "    </tr>\n",
       "    <tr>\n",
       "      <th>141</th>\n",
       "      <td>-1.123098</td>\n",
       "      <td>-1.034488</td>\n",
       "      <td>-1.126458</td>\n",
       "      <td>1.132322</td>\n",
       "      <td>0.559137</td>\n",
       "      <td>-0.624994</td>\n",
       "      <td>-1.287621</td>\n",
       "      <td>-1.004954</td>\n",
       "    </tr>\n",
       "    <tr>\n",
       "      <th>142</th>\n",
       "      <td>-1.065157</td>\n",
       "      <td>-1.003575</td>\n",
       "      <td>-1.072852</td>\n",
       "      <td>1.417343</td>\n",
       "      <td>-0.283226</td>\n",
       "      <td>0.275843</td>\n",
       "      <td>-1.301923</td>\n",
       "      <td>-0.919942</td>\n",
       "    </tr>\n",
       "    <tr>\n",
       "      <th>143</th>\n",
       "      <td>-1.065047</td>\n",
       "      <td>-1.001304</td>\n",
       "      <td>-1.072852</td>\n",
       "      <td>1.876228</td>\n",
       "      <td>0.640765</td>\n",
       "      <td>-0.633510</td>\n",
       "      <td>-3.158381</td>\n",
       "      <td>-2.188227</td>\n",
       "    </tr>\n",
       "    <tr>\n",
       "      <th>144</th>\n",
       "      <td>-1.064972</td>\n",
       "      <td>-1.004972</td>\n",
       "      <td>-1.072852</td>\n",
       "      <td>0.012187</td>\n",
       "      <td>0.720709</td>\n",
       "      <td>-0.572505</td>\n",
       "      <td>0.473010</td>\n",
       "      <td>0.759617</td>\n",
       "    </tr>\n",
       "  </tbody>\n",
       "</table>\n",
       "</div>"
      ],
      "text/plain": [
       "           D1        D2        D3        D4        D5        D6        D7  \\\n",
       "0   -0.311986 -0.580564 -0.429585 -0.654378 -3.232894  3.453128  0.883433   \n",
       "1   -0.543405 -0.618878 -0.536796 -1.540196  0.618624 -0.621476  1.356215   \n",
       "2   -0.079836 -0.175010 -0.054345  1.371042 -0.611293  0.989181 -1.875652   \n",
       "3   -0.311511 -0.580564 -0.429585 -0.283850 -2.361464  2.420554  0.614261   \n",
       "4   -0.253645 -0.318205 -0.215162 -1.111567 -3.701259  3.608617  0.939112   \n",
       "5   -1.007044 -0.965675 -1.019247  1.177825  0.602677 -0.595655 -0.748976   \n",
       "6   -0.427491 -0.656518 -0.536796 -1.018550 -2.014076  2.232997  1.279768   \n",
       "7   -0.717266 -0.781093 -0.751218 -1.310498 -1.603784  1.144407  0.923609   \n",
       "8   -0.601307 -0.674418 -0.590401 -1.901447  0.565777 -0.570106  1.689833   \n",
       "9    0.151759  0.051761  0.160078  0.299674 -0.453163 -0.190445 -0.677278   \n",
       "10   0.152225  0.051761  0.160078  1.162990 -2.092708  1.517520 -1.580077   \n",
       "11  -0.485722 -0.570803 -0.483190  0.737567  0.723234 -0.577023 -0.931490   \n",
       "12  -0.717531 -0.776510 -0.751218 -1.246183 -0.475934  0.492058  1.176690   \n",
       "13  -0.311894 -0.580564 -0.429585 -0.613435 -3.861376  4.327092  0.880630   \n",
       "14  -0.485519 -0.573568 -0.483190 -1.350215  0.428701 -0.465092  1.275377   \n",
       "15  -0.485461 -0.579472 -0.483190 -1.556856 -0.692205  0.524386  1.205295   \n",
       "16  -0.137817 -0.219114 -0.107951 -0.244332 -2.487171  1.802731  0.125461   \n",
       "17  -0.775506 -0.818443 -0.804824 -1.105097 -1.241719  1.010870  1.109469   \n",
       "18  -0.369684 -0.473060 -0.375979  1.576955  0.423652 -0.409474 -2.717865   \n",
       "19  -0.891109 -0.899981 -0.912035 -1.464224  0.704720 -0.574764  1.344029   \n",
       "20  -0.369499 -0.426000 -0.322373  0.971285 -0.041709 -0.066381 -1.005863   \n",
       "21  -0.312027 -0.443986 -0.322373 -2.688391  0.647497 -0.639420  2.144966   \n",
       "22  -0.138113 -0.239535 -0.107951 -0.445272 -0.564294  1.020777  0.408649   \n",
       "23  -0.659573 -0.705606 -0.644007 -0.298486 -0.313521  0.248208  0.643209   \n",
       "24  -0.311488 -0.406112 -0.268768 -2.443273  0.645814 -0.638898  1.838893   \n",
       "25  -0.485391 -0.570803 -0.483190  0.750393  0.869658 -0.459183 -1.114561   \n",
       "26  -0.601742 -0.663049 -0.590401 -1.951611  0.603738 -0.578066  1.356901   \n",
       "27  -0.137510 -0.219114 -0.107951  0.803122 -1.154201  0.606597 -1.313365   \n",
       "28  -0.485583 -0.573522 -0.483190 -1.702217  0.359696 -0.396786  1.252493   \n",
       "29  -0.833325 -0.851627 -0.858430  1.378865  0.576809 -0.406693 -1.958405   \n",
       "30  -0.543628 -0.615048 -0.536796  0.052090  0.858719 -0.527315 -0.136274   \n",
       "31  -0.543367 -0.609223 -0.536796 -0.864254  0.474143 -0.424074  0.912095   \n",
       "32  -0.485496 -0.559733 -0.483190  0.277257  0.790555 -0.567464 -0.485254   \n",
       "33  -1.007014 -0.965675 -1.019247  1.139447  0.586066 -0.579109 -0.699790   \n",
       "34  -0.485478 -0.595755 -0.483190 -2.597184  0.361379 -0.331957  1.877510   \n",
       "35  -0.137974 -0.219114 -0.107951  0.535202 -1.383095  0.489799 -0.932920   \n",
       "36  -0.427700 -0.520524 -0.429585 -0.067619  0.607104 -0.606571  0.328555   \n",
       "37  -0.543738 -0.627191 -0.536796 -1.072319 -0.010573 -0.107573  1.080864   \n",
       "38  -0.543500 -0.627191 -0.536796 -1.145000  0.014673 -0.125996  1.113760   \n",
       "39  -0.311500 -0.423816 -0.322373  0.425468  0.710611 -0.567464 -0.528161   \n",
       "40  -0.369794 -0.422482 -0.322373  1.109520 -0.735123  0.754853 -1.779625   \n",
       "41  -0.369933 -0.456845 -0.322373 -2.383418  0.622251 -0.615956  1.813149   \n",
       "42  -0.543402 -0.618878 -0.536796 -1.753521  0.642448 -0.635770  1.405529   \n",
       "43  -0.137539 -0.239535 -0.107951 -0.302761 -0.457421  0.494665  0.324265   \n",
       "44  -0.080415 -0.180826 -0.054345 -0.599184  0.107240  0.201281  0.597441   \n",
       "45   0.441662  0.322795  0.428106  0.349952  0.630759 -0.624076 -0.522683   \n",
       "46   1.369159  1.395965  1.285796 -0.126704  0.338221 -0.435789  0.149575   \n",
       "47   1.194135  1.255655  1.285796  0.326466  0.647539 -0.638035 -0.022956   \n",
       "48   1.136545  1.066726  1.124979  0.166612  0.638551 -0.629341  0.054406   \n",
       "49   0.209267  0.073392  0.213683  0.230642 -0.862883  0.672746 -0.232701   \n",
       "50   1.832789  1.813868  1.607430 -1.127927 -0.765317  0.705534  0.889669   \n",
       "51   1.251735  1.217124  1.232190  0.268792 -1.015888  1.032307 -0.435167   \n",
       "52   0.325951  0.115122  0.267289 -0.429924 -1.242779  1.329886  0.631653   \n",
       "53   0.847487  0.808575  0.910557 -0.779887  0.175891 -0.077106  0.690808   \n",
       "54   2.065516  2.335173  2.036275 -1.513048  0.627940 -0.608043  1.214949   \n",
       "55   0.789169  0.626763  0.696134 -1.679258  0.247067 -0.349781  1.504931   \n",
       "56   0.615002  0.529370  0.642528 -0.235853  0.594287 -0.573146  0.215666   \n",
       "57   1.251991  1.292864  1.285796  0.290739  0.433700 -0.527169 -0.277940   \n",
       "58   0.732182  0.728508  0.803345  0.843467  0.647059 -0.639290 -1.253738   \n",
       "59   0.731629  0.768426  0.803345  0.785265  0.641413 -0.636161 -1.221687   \n",
       "60   0.848081  0.885037  0.910557  0.586933  0.648187 -0.639274 -1.066991   \n",
       "61   1.077811  1.079855  1.071373  0.033350  0.610436 -0.620444  0.244343   \n",
       "62   1.020852  0.992003  1.071373  0.554925  0.649702 -0.628381 -0.394290   \n",
       "63   1.078393  1.048530  0.964162 -0.005142  0.647059 -0.633578  0.260333   \n",
       "64   1.309429  1.405111  1.393007  0.472241  0.644400 -0.636201 -0.267957   \n",
       "65   1.311154  1.416729  1.393007  0.479024  0.647556 -0.638874 -0.236749   \n",
       "66   0.788627  0.828193  0.856951  0.721991  0.531771 -0.539056 -0.984252   \n",
       "67   1.426030  1.563958  1.500219  0.481318  0.645906 -0.637619 -0.264796   \n",
       "68   1.427384  1.574668  1.500219  0.561523  0.645965 -0.637744 -0.391458   \n",
       "69   1.427541  1.571874  1.500219  0.472811  0.647429 -0.639359 -0.219185   \n",
       "70   1.543327  1.603902  1.500219 -0.676752  0.198259 -0.258141  0.613532   \n",
       "71   1.136593  1.154203  1.232190  0.358431  0.647396 -0.638377 -0.039575   \n",
       "72   1.657088  1.741805  1.607430 -0.840511  0.135195 -0.198927  0.733858   \n",
       "73   0.673500  0.568211  0.642528  0.204776  0.641699 -0.630245  0.049329   \n",
       "74   1.658054  1.735014  1.607430 -1.119020  0.536441 -0.536627  0.944190   \n",
       "75   1.775227  1.890624  1.714641 -0.864981  0.646176 -0.638587  0.859605   \n",
       "76   0.846638  0.749485  0.749740 -0.888922  0.639721 -0.624528  0.960738   \n",
       "77   0.790181  0.683386  0.696134  0.494672  0.645183 -0.635805 -0.355616   \n",
       "78   0.788942  0.684989  0.803345 -0.907292  0.643617 -0.636735  0.609412   \n",
       "79   0.674164  0.589204  0.696134 -0.699811  0.365141 -0.319915  0.529762   \n",
       "80   1.195728  1.186652  1.285796 -0.164027 -0.969924  0.654960 -0.027890   \n",
       "81   1.078839  1.152499  1.178585  0.568221  0.610369 -0.546129 -0.414070   \n",
       "82   1.369129  1.433814  1.393007  0.074436  0.408690 -0.489900  0.107625   \n",
       "83   1.774795  1.890624  1.714641 -0.946653  0.646967 -0.639196  0.903428   \n",
       "84   1.368675  1.303866  1.339402 -1.309543  0.146009 -0.162287  0.924595   \n",
       "85   1.137935  1.105972  1.178585 -1.004157  0.101526 -0.063906  0.717224   \n",
       "86   1.137518  1.233547  1.178585  0.506101  0.495804 -0.549367 -0.694341   \n",
       "87   0.905627  0.993546  0.964162  0.862036  0.600666 -0.602561 -1.319930   \n",
       "88   1.194986  1.160118  1.071373 -0.649077  0.633974 -0.626355  0.810991   \n",
       "89   0.788517  0.724712  0.803345 -0.685902  0.157125 -0.096310  0.605780   \n",
       "90   0.731985  0.674392  0.749740 -0.258968  0.519064 -0.462760  0.295145   \n",
       "91   1.369568  1.395965  1.285796 -0.113023  0.193816 -0.339366  0.147815   \n",
       "92   1.890034  2.104792  1.875458 -1.472860  0.645847 -0.637246  1.145239   \n",
       "93   0.673817  0.580818  0.696134 -0.551158  0.415043 -0.384173  0.441716   \n",
       "94   1.079452  1.138756  1.178585  0.373766  0.641143 -0.596067 -0.237936   \n",
       "95   1.136349  1.120717  1.124979  0.019797  0.592428 -0.605168  0.264309   \n",
       "96   1.195346  1.218089  1.178585  0.285908  0.637819 -0.631046 -0.030693   \n",
       "97   0.963506  1.001597  1.071373  0.379780  0.557496 -0.532964 -0.301010   \n",
       "98   1.078839  1.152499  1.178585  0.568221  0.610369 -0.546129 -0.414070   \n",
       "99   1.253186  1.289392  1.178585 -0.615131  0.634327 -0.622524  0.784832   \n",
       "100  1.194034  1.203475  1.124979 -0.625819  0.621014 -0.616194  0.784532   \n",
       "101  1.195265  1.210150  1.178585 -0.390434 -3.957385  3.740473  0.204267   \n",
       "102  1.021280  0.961851  1.017768 -0.062830 -0.462689  0.460193 -0.088804   \n",
       "103  0.846892  0.683969  0.696134 -0.019407  0.540203 -0.572538  0.073099   \n",
       "104 -1.181044 -1.070292 -1.180063  1.098119  0.145950 -0.138684 -0.532452   \n",
       "105 -1.064989 -0.990825 -1.019247  0.713340  0.647497 -0.639246 -0.031866   \n",
       "106 -1.065076 -0.990825 -1.019247  0.706215  0.644131 -0.637160 -0.087646   \n",
       "107 -1.065018 -0.990825 -1.019247  0.707640  0.647497 -0.639246 -0.037587   \n",
       "108 -1.122976 -1.040252 -1.126458 -0.022015 -1.663321  1.912403  0.394347   \n",
       "109 -1.123098 -1.037108 -1.126458  1.109520 -0.739331  0.708099 -0.930060   \n",
       "110 -1.123046 -1.037632 -1.126458 -0.158826  0.644972 -0.636291  0.301381   \n",
       "111 -1.123046 -1.040252 -1.126458  0.036414 -0.459104  0.549067  0.541662   \n",
       "112 -1.181021 -1.070292 -1.180063  1.012613  0.158573 -0.149634 -0.433765   \n",
       "113 -1.180946 -1.070292 -1.180063  1.041115  0.253665 -0.249225 -0.479533   \n",
       "114 -1.181039 -1.071165 -1.180063 -0.403944 -1.153359  1.447471  0.863467   \n",
       "115 -1.181044 -1.070292 -1.180063  1.088143  0.245249 -0.247139 -0.542464   \n",
       "116 -1.122942 -1.037108 -1.126458  1.281958 -0.098091  0.078921 -1.108840   \n",
       "117 -1.065105 -0.999558 -1.072852  1.817798  0.609628 -0.602052 -2.358874   \n",
       "118 -1.123098 -1.037632 -1.126458 -0.113222  0.647497 -0.639420  0.331416   \n",
       "119 -1.122971 -1.037108 -1.126458  1.256306 -0.146058  0.124806 -1.091677   \n",
       "120 -1.180923 -1.071165 -1.180063 -0.144574 -0.352231  0.388296  0.568836   \n",
       "121 -1.123046 -1.033615 -1.126458  1.509975  0.628983 -0.615608 -1.519320   \n",
       "122 -1.122924 -1.037981 -1.126458 -0.003489  0.642448 -0.637682  0.424382   \n",
       "123 -1.180992 -1.067672 -1.180063  1.846301 -0.566819  0.599471 -2.491887   \n",
       "124 -1.180900 -1.068545 -1.180063  0.499574  0.113131 -0.125649 -0.242112   \n",
       "125 -1.181016 -1.071165 -1.180063 -0.550730 -2.546077  2.949678  0.834862   \n",
       "126 -1.180969 -1.070292 -1.180063  1.088143  0.249457 -0.437457 -0.685488   \n",
       "127 -1.180923 -1.067672 -1.180063  1.730867  0.496864 -0.494813 -2.059953   \n",
       "128 -1.180946 -1.071165 -1.180063 -0.469499 -1.643125  1.848963  0.939270   \n",
       "129 -1.123000 -1.033615 -1.126458  1.555579  0.631508 -0.622908 -1.653763   \n",
       "130 -1.123127 -1.037108 -1.126458  1.210703 -0.416186  0.389513 -1.050200   \n",
       "131 -1.180992 -1.068545 -1.180063 -0.493726  0.490974 -0.482647  0.510196   \n",
       "132 -1.180946 -1.070292 -1.180063  1.066767  0.177086 -0.170317 -0.508138   \n",
       "133 -0.949247 -0.913804 -0.912035  1.196452  0.612153 -0.604832 -0.774163   \n",
       "134 -1.065001 -1.009862 -1.072852 -0.170226 -1.089404  0.702190  0.470150   \n",
       "135 -1.122924 -1.037981 -1.126458  0.056366  0.646655 -0.628470  0.405789   \n",
       "136 -1.065157 -1.000955 -1.072852  0.918556  0.609628 -0.603442 -0.684058   \n",
       "137 -1.123000 -1.037108 -1.126458  1.212128 -2.755616  3.313802 -1.130294   \n",
       "138 -1.123075 -1.037108 -1.126458  1.271982  0.273020 -0.087933 -1.136015   \n",
       "139 -1.123098 -1.040252 -1.126458  0.288658 -0.286592  0.284708  0.219857   \n",
       "140 -1.123121 -1.037108 -1.126458  1.159399 -0.167938  0.119070 -1.027316   \n",
       "141 -1.123098 -1.034488 -1.126458  1.132322  0.559137 -0.624994 -1.287621   \n",
       "142 -1.065157 -1.003575 -1.072852  1.417343 -0.283226  0.275843 -1.301923   \n",
       "143 -1.065047 -1.001304 -1.072852  1.876228  0.640765 -0.633510 -3.158381   \n",
       "144 -1.064972 -1.004972 -1.072852  0.012187  0.720709 -0.572505  0.473010   \n",
       "\n",
       "           D8  \n",
       "0    1.284370  \n",
       "1    1.373242  \n",
       "2   -1.633766  \n",
       "3    0.974238  \n",
       "4    0.729725  \n",
       "5   -0.519513  \n",
       "6    1.907485  \n",
       "7    0.961946  \n",
       "8    1.929174  \n",
       "9   -0.977107  \n",
       "10  -1.370850  \n",
       "11  -1.030228  \n",
       "12   1.251308  \n",
       "13   1.301855  \n",
       "14   1.262796  \n",
       "15   1.285772  \n",
       "16  -0.237549  \n",
       "17   1.251308  \n",
       "18  -2.179037  \n",
       "19   1.575272  \n",
       "20  -1.062394  \n",
       "21   2.707998  \n",
       "22   0.244951  \n",
       "23   0.784891  \n",
       "24   2.085343  \n",
       "25  -1.108347  \n",
       "26   1.356998  \n",
       "27  -1.338109  \n",
       "28   1.299558  \n",
       "29  -1.841287  \n",
       "30  -0.338644  \n",
       "31   0.943427  \n",
       "32  -0.885478  \n",
       "33  -0.483394  \n",
       "34   2.264558  \n",
       "35  -1.115240  \n",
       "36   0.256439  \n",
       "37   1.184677  \n",
       "38   1.221439  \n",
       "39  -0.556918  \n",
       "40  -1.652882  \n",
       "41   2.060069  \n",
       "42   1.398355  \n",
       "43   0.146153  \n",
       "44   0.506879  \n",
       "45  -0.993374  \n",
       "46  -0.242030  \n",
       "47  -0.249658  \n",
       "48  -0.258297  \n",
       "49  -0.591245  \n",
       "50   0.785305  \n",
       "51  -0.729446  \n",
       "52   0.403234  \n",
       "53   0.258828  \n",
       "54   1.037629  \n",
       "55   1.529090  \n",
       "56  -0.252713  \n",
       "57  -0.592899  \n",
       "58  -1.832510  \n",
       "59  -1.817277  \n",
       "60  -1.693045  \n",
       "61  -0.022492  \n",
       "62  -0.648846  \n",
       "63  -0.119038  \n",
       "64  -0.501637  \n",
       "65  -0.517882  \n",
       "66  -1.459974  \n",
       "67  -0.555103  \n",
       "68  -0.664837  \n",
       "69  -0.487668  \n",
       "70   0.320450  \n",
       "71  -0.234057  \n",
       "72   0.459112  \n",
       "73  -0.179718  \n",
       "74   0.588491  \n",
       "75   0.464695  \n",
       "76   0.736917  \n",
       "77  -0.771975  \n",
       "78   0.041566  \n",
       "79   0.061716  \n",
       "80  -0.337128  \n",
       "81  -0.740038  \n",
       "82  -0.118670  \n",
       "83   0.481950  \n",
       "84   0.670217  \n",
       "85   0.300231  \n",
       "86  -1.118847  \n",
       "87  -1.812038  \n",
       "88   0.572315  \n",
       "89   0.164488  \n",
       "90  -0.138958  \n",
       "91  -0.231070  \n",
       "92   0.886331  \n",
       "93  -0.054866  \n",
       "94  -0.622102  \n",
       "95   0.076535  \n",
       "96  -0.312268  \n",
       "97  -0.675039  \n",
       "98  -0.740038  \n",
       "99   0.536564  \n",
       "100  0.552441  \n",
       "101 -0.168873  \n",
       "102 -0.470091  \n",
       "103 -0.206095  \n",
       "104 -0.085906  \n",
       "105  0.104796  \n",
       "106 -0.003192  \n",
       "107  0.088713  \n",
       "108  0.644736  \n",
       "109 -0.508668  \n",
       "110  0.375915  \n",
       "111  0.805570  \n",
       "112 -0.016978  \n",
       "113 -0.053740  \n",
       "114  1.363891  \n",
       "115 -0.113478  \n",
       "116 -0.598275  \n",
       "117 -1.914811  \n",
       "118  0.456332  \n",
       "119 -0.635037  \n",
       "120  1.023843  \n",
       "121 -1.179573  \n",
       "122  0.837736  \n",
       "123 -1.625311  \n",
       "124  0.295498  \n",
       "125  1.322534  \n",
       "126 -0.209978  \n",
       "127 -1.494347  \n",
       "128  1.467284  \n",
       "129 -1.347299  \n",
       "130 -0.582192  \n",
       "131  0.856117  \n",
       "132 -0.085906  \n",
       "133 -0.602871  \n",
       "134  0.736641  \n",
       "135  0.817058  \n",
       "136 -0.554621  \n",
       "137 -0.550025  \n",
       "138 -0.566109  \n",
       "139  0.451736  \n",
       "140 -0.552323  \n",
       "141 -1.004954  \n",
       "142 -0.919942  \n",
       "143 -2.188227  \n",
       "144  0.759617  "
      ]
     },
     "execution_count": 114,
     "metadata": {},
     "output_type": "execute_result"
    }
   ],
   "source": [
    "#Initialize scaler\n",
    "std_scaler = StandardScaler(copy=True, #Ensures the original data remains unchanged\n",
    "                            with_mean=True, #Centers the data (mean = 0)\n",
    "                            with_std=True) #Scales the data to unit variance (standard deviation = 1)\n",
    "\n",
    "# Autoscale the data\n",
    "moldesc2df_autosc = std_scaler.fit_transform(moldesc2df)\n",
    "\n",
    "# Convert the autoscaled data (numpy array) into a pandas dataframe\n",
    "moldesc2df_autosc = pd.DataFrame(moldesc2df_autosc)\n",
    "moldesc2df_autosc.columns = moldesc2df.columns\n",
    "moldesc2df_autosc.index = moldesc2df.index\n",
    "moldesc2df_autosc"
   ]
  },
  {
   "cell_type": "markdown",
   "metadata": {},
   "source": [
    "The `describe()` function is used to confirm that the mean of each standardized feature is approximately **0**, and the standard deviation is **1**, indicating successful standardization"
   ]
  },
  {
   "cell_type": "code",
   "execution_count": 116,
   "metadata": {
    "scrolled": true
   },
   "outputs": [
    {
     "data": {
      "text/html": [
       "<div>\n",
       "<style scoped>\n",
       "    .dataframe tbody tr th:only-of-type {\n",
       "        vertical-align: middle;\n",
       "    }\n",
       "\n",
       "    .dataframe tbody tr th {\n",
       "        vertical-align: top;\n",
       "    }\n",
       "\n",
       "    .dataframe thead th {\n",
       "        text-align: right;\n",
       "    }\n",
       "</style>\n",
       "<table border=\"1\" class=\"dataframe\">\n",
       "  <thead>\n",
       "    <tr style=\"text-align: right;\">\n",
       "      <th></th>\n",
       "      <th>D1</th>\n",
       "      <th>D2</th>\n",
       "      <th>D3</th>\n",
       "      <th>D4</th>\n",
       "      <th>D5</th>\n",
       "      <th>D6</th>\n",
       "      <th>D7</th>\n",
       "      <th>D8</th>\n",
       "    </tr>\n",
       "  </thead>\n",
       "  <tbody>\n",
       "    <tr>\n",
       "      <th>count</th>\n",
       "      <td>1.450000e+02</td>\n",
       "      <td>145.000000</td>\n",
       "      <td>145.000000</td>\n",
       "      <td>1.450000e+02</td>\n",
       "      <td>1.450000e+02</td>\n",
       "      <td>1.450000e+02</td>\n",
       "      <td>1.450000e+02</td>\n",
       "      <td>1.450000e+02</td>\n",
       "    </tr>\n",
       "    <tr>\n",
       "      <th>mean</th>\n",
       "      <td>-1.225074e-17</td>\n",
       "      <td>0.000000</td>\n",
       "      <td>0.000000</td>\n",
       "      <td>7.350442e-17</td>\n",
       "      <td>-6.737905e-17</td>\n",
       "      <td>6.125368e-18</td>\n",
       "      <td>3.675221e-17</td>\n",
       "      <td>5.390324e-16</td>\n",
       "    </tr>\n",
       "    <tr>\n",
       "      <th>std</th>\n",
       "      <td>1.003466e+00</td>\n",
       "      <td>1.003466</td>\n",
       "      <td>1.003466</td>\n",
       "      <td>1.003466e+00</td>\n",
       "      <td>1.003466e+00</td>\n",
       "      <td>1.003466e+00</td>\n",
       "      <td>1.003466e+00</td>\n",
       "      <td>1.003466e+00</td>\n",
       "    </tr>\n",
       "    <tr>\n",
       "      <th>min</th>\n",
       "      <td>-1.181044e+00</td>\n",
       "      <td>-1.071165</td>\n",
       "      <td>-1.180063</td>\n",
       "      <td>-2.688391e+00</td>\n",
       "      <td>-3.957385e+00</td>\n",
       "      <td>-6.394199e-01</td>\n",
       "      <td>-3.158381e+00</td>\n",
       "      <td>-2.188227e+00</td>\n",
       "    </tr>\n",
       "    <tr>\n",
       "      <th>25%</th>\n",
       "      <td>-1.065018e+00</td>\n",
       "      <td>-0.999558</td>\n",
       "      <td>-1.072852</td>\n",
       "      <td>-6.543782e-01</td>\n",
       "      <td>-3.135208e-01</td>\n",
       "      <td>-6.225242e-01</td>\n",
       "      <td>-6.772783e-01</td>\n",
       "      <td>-6.028706e-01</td>\n",
       "    </tr>\n",
       "    <tr>\n",
       "      <th>50%</th>\n",
       "      <td>-3.118940e-01</td>\n",
       "      <td>-0.426000</td>\n",
       "      <td>-0.322373</td>\n",
       "      <td>3.641415e-02</td>\n",
       "      <td>4.909738e-01</td>\n",
       "      <td>-4.650923e-01</td>\n",
       "      <td>1.076255e-01</td>\n",
       "      <td>-8.590638e-02</td>\n",
       "    </tr>\n",
       "    <tr>\n",
       "      <th>75%</th>\n",
       "      <td>1.021280e+00</td>\n",
       "      <td>1.001597</td>\n",
       "      <td>1.071373</td>\n",
       "      <td>7.375670e-01</td>\n",
       "      <td>6.407646e-01</td>\n",
       "      <td>2.758435e-01</td>\n",
       "      <td>7.845316e-01</td>\n",
       "      <td>7.369168e-01</td>\n",
       "    </tr>\n",
       "    <tr>\n",
       "      <th>max</th>\n",
       "      <td>2.065516e+00</td>\n",
       "      <td>2.335173</td>\n",
       "      <td>2.036275</td>\n",
       "      <td>1.876228e+00</td>\n",
       "      <td>8.696585e-01</td>\n",
       "      <td>4.327092e+00</td>\n",
       "      <td>2.144966e+00</td>\n",
       "      <td>2.707998e+00</td>\n",
       "    </tr>\n",
       "  </tbody>\n",
       "</table>\n",
       "</div>"
      ],
      "text/plain": [
       "                 D1          D2          D3            D4            D5  \\\n",
       "count  1.450000e+02  145.000000  145.000000  1.450000e+02  1.450000e+02   \n",
       "mean  -1.225074e-17    0.000000    0.000000  7.350442e-17 -6.737905e-17   \n",
       "std    1.003466e+00    1.003466    1.003466  1.003466e+00  1.003466e+00   \n",
       "min   -1.181044e+00   -1.071165   -1.180063 -2.688391e+00 -3.957385e+00   \n",
       "25%   -1.065018e+00   -0.999558   -1.072852 -6.543782e-01 -3.135208e-01   \n",
       "50%   -3.118940e-01   -0.426000   -0.322373  3.641415e-02  4.909738e-01   \n",
       "75%    1.021280e+00    1.001597    1.071373  7.375670e-01  6.407646e-01   \n",
       "max    2.065516e+00    2.335173    2.036275  1.876228e+00  8.696585e-01   \n",
       "\n",
       "                 D6            D7            D8  \n",
       "count  1.450000e+02  1.450000e+02  1.450000e+02  \n",
       "mean   6.125368e-18  3.675221e-17  5.390324e-16  \n",
       "std    1.003466e+00  1.003466e+00  1.003466e+00  \n",
       "min   -6.394199e-01 -3.158381e+00 -2.188227e+00  \n",
       "25%   -6.225242e-01 -6.772783e-01 -6.028706e-01  \n",
       "50%   -4.650923e-01  1.076255e-01 -8.590638e-02  \n",
       "75%    2.758435e-01  7.845316e-01  7.369168e-01  \n",
       "max    4.327092e+00  2.144966e+00  2.707998e+00  "
      ]
     },
     "execution_count": 116,
     "metadata": {},
     "output_type": "execute_result"
    }
   ],
   "source": [
    "moldesc2df_autosc.describe() "
   ]
  },
  {
   "cell_type": "markdown",
   "metadata": {},
   "source": [
    "8 ) Run a PCA analysis on the auto-scaled data by selecting the maximum number of possible components for this case and produce a Scree plot"
   ]
  },
  {
   "cell_type": "code",
   "execution_count": 118,
   "metadata": {},
   "outputs": [
    {
     "name": "stdout",
     "output_type": "stream",
     "text": [
      "Explained Variance Ratio: [4.17787787e-01 3.58836934e-01 2.07432607e-01 1.09191632e-02\n",
      " 2.49743537e-03 1.96466606e-03 4.24418585e-04 1.36988099e-04]\n",
      "Cumulative variance: [0.41778779 0.77662472 0.98405733 0.99497649 0.99747393 0.99943859\n",
      " 0.99986301 1.        ]\n"
     ]
    }
   ],
   "source": [
    "# Create a pipeline object\n",
    "pipe = make_pipeline(\n",
    "    StandardScaler(), # Perform autoscaling\n",
    "    decomposition.PCA(n_components=8) # Define the PCA model (using the max number of PCs - equal to the number of variables)\n",
    ")\n",
    "\n",
    "# Train PCA model\n",
    "pipe.fit(moldesc2df)\n",
    "\n",
    "# Apply PCA on the dataset\n",
    "scores = pipe.fit_transform(moldesc2df)\n",
    "scores\n",
    "\n",
    "# Access the PCA step from the pipeline\n",
    "pca_step = pipe.named_steps['pca']\n",
    "pca_step\n",
    "\n",
    "# Get the explained variance ratio\n",
    "explained_variance = pca_step.explained_variance_ratio_\n",
    "print(\"Explained Variance Ratio:\", explained_variance)\n",
    "\n",
    "# Get the cumulative variance\n",
    "cumulative_variance = np.cumsum(explained_variance)\n",
    "print(\"Cumulative variance:\", cumulative_variance)"
   ]
  },
  {
   "cell_type": "code",
   "execution_count": 119,
   "metadata": {},
   "outputs": [
    {
     "data": {
      "application/vnd.plotly.v1+json": {
       "config": {
        "plotlyServerURL": "https://plot.ly"
       },
       "data": [
        {
         "line": {
          "color": "royalblue"
         },
         "mode": "lines+markers",
         "name": "Explained Variance",
         "type": "scatter",
         "x": [
          "PC1",
          "PC2",
          "PC3",
          "PC4",
          "PC5",
          "PC6",
          "PC7",
          "PC8"
         ],
         "y": [
          0.4177877873678196,
          0.35883693447104825,
          0.20743260688202272,
          0.010919163156536063,
          0.0024974353735060842,
          0.0019646660649687135,
          0.0004244185847167451,
          0.00013698809938209473
         ]
        },
        {
         "line": {
          "color": "firebrick"
         },
         "mode": "lines+markers",
         "name": "Cumulative Variance",
         "type": "scatter",
         "x": [
          "PC1",
          "PC2",
          "PC3",
          "PC4",
          "PC5",
          "PC6",
          "PC7",
          "PC8"
         ],
         "y": [
          0.4177877873678196,
          0.7766247218388678,
          0.9840573287208905,
          0.9949764918774265,
          0.9974739272509326,
          0.9994385933159013,
          0.9998630119006181,
          1.0000000000000002
         ]
        }
       ],
       "layout": {
        "autosize": true,
        "template": {
         "data": {
          "bar": [
           {
            "error_x": {
             "color": "#f2f5fa"
            },
            "error_y": {
             "color": "#f2f5fa"
            },
            "marker": {
             "line": {
              "color": "rgb(17,17,17)",
              "width": 0.5
             },
             "pattern": {
              "fillmode": "overlay",
              "size": 10,
              "solidity": 0.2
             }
            },
            "type": "bar"
           }
          ],
          "barpolar": [
           {
            "marker": {
             "line": {
              "color": "rgb(17,17,17)",
              "width": 0.5
             },
             "pattern": {
              "fillmode": "overlay",
              "size": 10,
              "solidity": 0.2
             }
            },
            "type": "barpolar"
           }
          ],
          "carpet": [
           {
            "aaxis": {
             "endlinecolor": "#A2B1C6",
             "gridcolor": "#506784",
             "linecolor": "#506784",
             "minorgridcolor": "#506784",
             "startlinecolor": "#A2B1C6"
            },
            "baxis": {
             "endlinecolor": "#A2B1C6",
             "gridcolor": "#506784",
             "linecolor": "#506784",
             "minorgridcolor": "#506784",
             "startlinecolor": "#A2B1C6"
            },
            "type": "carpet"
           }
          ],
          "choropleth": [
           {
            "colorbar": {
             "outlinewidth": 0,
             "ticks": ""
            },
            "type": "choropleth"
           }
          ],
          "contour": [
           {
            "colorbar": {
             "outlinewidth": 0,
             "ticks": ""
            },
            "colorscale": [
             [
              0,
              "#0d0887"
             ],
             [
              0.1111111111111111,
              "#46039f"
             ],
             [
              0.2222222222222222,
              "#7201a8"
             ],
             [
              0.3333333333333333,
              "#9c179e"
             ],
             [
              0.4444444444444444,
              "#bd3786"
             ],
             [
              0.5555555555555556,
              "#d8576b"
             ],
             [
              0.6666666666666666,
              "#ed7953"
             ],
             [
              0.7777777777777778,
              "#fb9f3a"
             ],
             [
              0.8888888888888888,
              "#fdca26"
             ],
             [
              1,
              "#f0f921"
             ]
            ],
            "type": "contour"
           }
          ],
          "contourcarpet": [
           {
            "colorbar": {
             "outlinewidth": 0,
             "ticks": ""
            },
            "type": "contourcarpet"
           }
          ],
          "heatmap": [
           {
            "colorbar": {
             "outlinewidth": 0,
             "ticks": ""
            },
            "colorscale": [
             [
              0,
              "#0d0887"
             ],
             [
              0.1111111111111111,
              "#46039f"
             ],
             [
              0.2222222222222222,
              "#7201a8"
             ],
             [
              0.3333333333333333,
              "#9c179e"
             ],
             [
              0.4444444444444444,
              "#bd3786"
             ],
             [
              0.5555555555555556,
              "#d8576b"
             ],
             [
              0.6666666666666666,
              "#ed7953"
             ],
             [
              0.7777777777777778,
              "#fb9f3a"
             ],
             [
              0.8888888888888888,
              "#fdca26"
             ],
             [
              1,
              "#f0f921"
             ]
            ],
            "type": "heatmap"
           }
          ],
          "heatmapgl": [
           {
            "colorbar": {
             "outlinewidth": 0,
             "ticks": ""
            },
            "colorscale": [
             [
              0,
              "#0d0887"
             ],
             [
              0.1111111111111111,
              "#46039f"
             ],
             [
              0.2222222222222222,
              "#7201a8"
             ],
             [
              0.3333333333333333,
              "#9c179e"
             ],
             [
              0.4444444444444444,
              "#bd3786"
             ],
             [
              0.5555555555555556,
              "#d8576b"
             ],
             [
              0.6666666666666666,
              "#ed7953"
             ],
             [
              0.7777777777777778,
              "#fb9f3a"
             ],
             [
              0.8888888888888888,
              "#fdca26"
             ],
             [
              1,
              "#f0f921"
             ]
            ],
            "type": "heatmapgl"
           }
          ],
          "histogram": [
           {
            "marker": {
             "pattern": {
              "fillmode": "overlay",
              "size": 10,
              "solidity": 0.2
             }
            },
            "type": "histogram"
           }
          ],
          "histogram2d": [
           {
            "colorbar": {
             "outlinewidth": 0,
             "ticks": ""
            },
            "colorscale": [
             [
              0,
              "#0d0887"
             ],
             [
              0.1111111111111111,
              "#46039f"
             ],
             [
              0.2222222222222222,
              "#7201a8"
             ],
             [
              0.3333333333333333,
              "#9c179e"
             ],
             [
              0.4444444444444444,
              "#bd3786"
             ],
             [
              0.5555555555555556,
              "#d8576b"
             ],
             [
              0.6666666666666666,
              "#ed7953"
             ],
             [
              0.7777777777777778,
              "#fb9f3a"
             ],
             [
              0.8888888888888888,
              "#fdca26"
             ],
             [
              1,
              "#f0f921"
             ]
            ],
            "type": "histogram2d"
           }
          ],
          "histogram2dcontour": [
           {
            "colorbar": {
             "outlinewidth": 0,
             "ticks": ""
            },
            "colorscale": [
             [
              0,
              "#0d0887"
             ],
             [
              0.1111111111111111,
              "#46039f"
             ],
             [
              0.2222222222222222,
              "#7201a8"
             ],
             [
              0.3333333333333333,
              "#9c179e"
             ],
             [
              0.4444444444444444,
              "#bd3786"
             ],
             [
              0.5555555555555556,
              "#d8576b"
             ],
             [
              0.6666666666666666,
              "#ed7953"
             ],
             [
              0.7777777777777778,
              "#fb9f3a"
             ],
             [
              0.8888888888888888,
              "#fdca26"
             ],
             [
              1,
              "#f0f921"
             ]
            ],
            "type": "histogram2dcontour"
           }
          ],
          "mesh3d": [
           {
            "colorbar": {
             "outlinewidth": 0,
             "ticks": ""
            },
            "type": "mesh3d"
           }
          ],
          "parcoords": [
           {
            "line": {
             "colorbar": {
              "outlinewidth": 0,
              "ticks": ""
             }
            },
            "type": "parcoords"
           }
          ],
          "pie": [
           {
            "automargin": true,
            "type": "pie"
           }
          ],
          "scatter": [
           {
            "marker": {
             "line": {
              "color": "#283442"
             }
            },
            "type": "scatter"
           }
          ],
          "scatter3d": [
           {
            "line": {
             "colorbar": {
              "outlinewidth": 0,
              "ticks": ""
             }
            },
            "marker": {
             "colorbar": {
              "outlinewidth": 0,
              "ticks": ""
             }
            },
            "type": "scatter3d"
           }
          ],
          "scattercarpet": [
           {
            "marker": {
             "colorbar": {
              "outlinewidth": 0,
              "ticks": ""
             }
            },
            "type": "scattercarpet"
           }
          ],
          "scattergeo": [
           {
            "marker": {
             "colorbar": {
              "outlinewidth": 0,
              "ticks": ""
             }
            },
            "type": "scattergeo"
           }
          ],
          "scattergl": [
           {
            "marker": {
             "line": {
              "color": "#283442"
             }
            },
            "type": "scattergl"
           }
          ],
          "scattermapbox": [
           {
            "marker": {
             "colorbar": {
              "outlinewidth": 0,
              "ticks": ""
             }
            },
            "type": "scattermapbox"
           }
          ],
          "scatterpolar": [
           {
            "marker": {
             "colorbar": {
              "outlinewidth": 0,
              "ticks": ""
             }
            },
            "type": "scatterpolar"
           }
          ],
          "scatterpolargl": [
           {
            "marker": {
             "colorbar": {
              "outlinewidth": 0,
              "ticks": ""
             }
            },
            "type": "scatterpolargl"
           }
          ],
          "scatterternary": [
           {
            "marker": {
             "colorbar": {
              "outlinewidth": 0,
              "ticks": ""
             }
            },
            "type": "scatterternary"
           }
          ],
          "surface": [
           {
            "colorbar": {
             "outlinewidth": 0,
             "ticks": ""
            },
            "colorscale": [
             [
              0,
              "#0d0887"
             ],
             [
              0.1111111111111111,
              "#46039f"
             ],
             [
              0.2222222222222222,
              "#7201a8"
             ],
             [
              0.3333333333333333,
              "#9c179e"
             ],
             [
              0.4444444444444444,
              "#bd3786"
             ],
             [
              0.5555555555555556,
              "#d8576b"
             ],
             [
              0.6666666666666666,
              "#ed7953"
             ],
             [
              0.7777777777777778,
              "#fb9f3a"
             ],
             [
              0.8888888888888888,
              "#fdca26"
             ],
             [
              1,
              "#f0f921"
             ]
            ],
            "type": "surface"
           }
          ],
          "table": [
           {
            "cells": {
             "fill": {
              "color": "#506784"
             },
             "line": {
              "color": "rgb(17,17,17)"
             }
            },
            "header": {
             "fill": {
              "color": "#2a3f5f"
             },
             "line": {
              "color": "rgb(17,17,17)"
             }
            },
            "type": "table"
           }
          ]
         },
         "layout": {
          "annotationdefaults": {
           "arrowcolor": "#f2f5fa",
           "arrowhead": 0,
           "arrowwidth": 1
          },
          "autotypenumbers": "strict",
          "coloraxis": {
           "colorbar": {
            "outlinewidth": 0,
            "ticks": ""
           }
          },
          "colorscale": {
           "diverging": [
            [
             0,
             "#8e0152"
            ],
            [
             0.1,
             "#c51b7d"
            ],
            [
             0.2,
             "#de77ae"
            ],
            [
             0.3,
             "#f1b6da"
            ],
            [
             0.4,
             "#fde0ef"
            ],
            [
             0.5,
             "#f7f7f7"
            ],
            [
             0.6,
             "#e6f5d0"
            ],
            [
             0.7,
             "#b8e186"
            ],
            [
             0.8,
             "#7fbc41"
            ],
            [
             0.9,
             "#4d9221"
            ],
            [
             1,
             "#276419"
            ]
           ],
           "sequential": [
            [
             0,
             "#0d0887"
            ],
            [
             0.1111111111111111,
             "#46039f"
            ],
            [
             0.2222222222222222,
             "#7201a8"
            ],
            [
             0.3333333333333333,
             "#9c179e"
            ],
            [
             0.4444444444444444,
             "#bd3786"
            ],
            [
             0.5555555555555556,
             "#d8576b"
            ],
            [
             0.6666666666666666,
             "#ed7953"
            ],
            [
             0.7777777777777778,
             "#fb9f3a"
            ],
            [
             0.8888888888888888,
             "#fdca26"
            ],
            [
             1,
             "#f0f921"
            ]
           ],
           "sequentialminus": [
            [
             0,
             "#0d0887"
            ],
            [
             0.1111111111111111,
             "#46039f"
            ],
            [
             0.2222222222222222,
             "#7201a8"
            ],
            [
             0.3333333333333333,
             "#9c179e"
            ],
            [
             0.4444444444444444,
             "#bd3786"
            ],
            [
             0.5555555555555556,
             "#d8576b"
            ],
            [
             0.6666666666666666,
             "#ed7953"
            ],
            [
             0.7777777777777778,
             "#fb9f3a"
            ],
            [
             0.8888888888888888,
             "#fdca26"
            ],
            [
             1,
             "#f0f921"
            ]
           ]
          },
          "colorway": [
           "#636efa",
           "#EF553B",
           "#00cc96",
           "#ab63fa",
           "#FFA15A",
           "#19d3f3",
           "#FF6692",
           "#B6E880",
           "#FF97FF",
           "#FECB52"
          ],
          "font": {
           "color": "#f2f5fa"
          },
          "geo": {
           "bgcolor": "rgb(17,17,17)",
           "lakecolor": "rgb(17,17,17)",
           "landcolor": "rgb(17,17,17)",
           "showlakes": true,
           "showland": true,
           "subunitcolor": "#506784"
          },
          "hoverlabel": {
           "align": "left"
          },
          "hovermode": "closest",
          "mapbox": {
           "style": "dark"
          },
          "paper_bgcolor": "rgb(17,17,17)",
          "plot_bgcolor": "rgb(17,17,17)",
          "polar": {
           "angularaxis": {
            "gridcolor": "#506784",
            "linecolor": "#506784",
            "ticks": ""
           },
           "bgcolor": "rgb(17,17,17)",
           "radialaxis": {
            "gridcolor": "#506784",
            "linecolor": "#506784",
            "ticks": ""
           }
          },
          "scene": {
           "xaxis": {
            "backgroundcolor": "rgb(17,17,17)",
            "gridcolor": "#506784",
            "gridwidth": 2,
            "linecolor": "#506784",
            "showbackground": true,
            "ticks": "",
            "zerolinecolor": "#C8D4E3"
           },
           "yaxis": {
            "backgroundcolor": "rgb(17,17,17)",
            "gridcolor": "#506784",
            "gridwidth": 2,
            "linecolor": "#506784",
            "showbackground": true,
            "ticks": "",
            "zerolinecolor": "#C8D4E3"
           },
           "zaxis": {
            "backgroundcolor": "rgb(17,17,17)",
            "gridcolor": "#506784",
            "gridwidth": 2,
            "linecolor": "#506784",
            "showbackground": true,
            "ticks": "",
            "zerolinecolor": "#C8D4E3"
           }
          },
          "shapedefaults": {
           "line": {
            "color": "#f2f5fa"
           }
          },
          "sliderdefaults": {
           "bgcolor": "#C8D4E3",
           "bordercolor": "rgb(17,17,17)",
           "borderwidth": 1,
           "tickwidth": 0
          },
          "ternary": {
           "aaxis": {
            "gridcolor": "#506784",
            "linecolor": "#506784",
            "ticks": ""
           },
           "baxis": {
            "gridcolor": "#506784",
            "linecolor": "#506784",
            "ticks": ""
           },
           "bgcolor": "rgb(17,17,17)",
           "caxis": {
            "gridcolor": "#506784",
            "linecolor": "#506784",
            "ticks": ""
           }
          },
          "title": {
           "x": 0.05
          },
          "updatemenudefaults": {
           "bgcolor": "#506784",
           "borderwidth": 0
          },
          "xaxis": {
           "automargin": true,
           "gridcolor": "#283442",
           "linecolor": "#506784",
           "ticks": "",
           "title": {
            "standoff": 15
           },
           "zerolinecolor": "#283442",
           "zerolinewidth": 2
          },
          "yaxis": {
           "automargin": true,
           "gridcolor": "#283442",
           "linecolor": "#506784",
           "ticks": "",
           "title": {
            "standoff": 15
           },
           "zerolinecolor": "#283442",
           "zerolinewidth": 2
          }
         }
        },
        "title": {
         "text": "Scree Plot with Cumulative & Explained Variance"
        },
        "xaxis": {
         "autorange": true,
         "range": [
          -0.4657444005270092,
          7.465744400527009
         ],
         "title": {
          "text": "Principal Components"
         },
         "type": "category"
        },
        "yaxis": {
         "autorange": true,
         "range": [
          -0.08237597890212524,
          1.0825129670015075
         ],
         "title": {
          "text": "Explained Variance"
         },
         "type": "linear"
        }
       }
      },
      "text/html": [
       "<div>                            <div id=\"6559c385-05ac-41bd-a1c7-b35871e62ee4\" class=\"plotly-graph-div\" style=\"height:525px; width:100%;\"></div>            <script type=\"text/javascript\">                require([\"plotly\"], function(Plotly) {                    window.PLOTLYENV=window.PLOTLYENV || {};                                    if (document.getElementById(\"6559c385-05ac-41bd-a1c7-b35871e62ee4\")) {                    Plotly.newPlot(                        \"6559c385-05ac-41bd-a1c7-b35871e62ee4\",                        [{\"line\":{\"color\":\"royalblue\"},\"mode\":\"lines+markers\",\"name\":\"Explained Variance\",\"x\":[\"PC1\",\"PC2\",\"PC3\",\"PC4\",\"PC5\",\"PC6\",\"PC7\",\"PC8\"],\"y\":[0.4177877873678196,0.35883693447104825,0.20743260688202272,0.010919163156536063,0.0024974353735060842,0.0019646660649687135,0.0004244185847167451,0.00013698809938209473],\"type\":\"scatter\"},{\"line\":{\"color\":\"firebrick\"},\"mode\":\"lines+markers\",\"name\":\"Cumulative Variance\",\"x\":[\"PC1\",\"PC2\",\"PC3\",\"PC4\",\"PC5\",\"PC6\",\"PC7\",\"PC8\"],\"y\":[0.4177877873678196,0.7766247218388678,0.9840573287208905,0.9949764918774265,0.9974739272509326,0.9994385933159013,0.9998630119006181,1.0000000000000002],\"type\":\"scatter\"}],                        {\"template\":{\"data\":{\"barpolar\":[{\"marker\":{\"line\":{\"color\":\"rgb(17,17,17)\",\"width\":0.5},\"pattern\":{\"fillmode\":\"overlay\",\"size\":10,\"solidity\":0.2}},\"type\":\"barpolar\"}],\"bar\":[{\"error_x\":{\"color\":\"#f2f5fa\"},\"error_y\":{\"color\":\"#f2f5fa\"},\"marker\":{\"line\":{\"color\":\"rgb(17,17,17)\",\"width\":0.5},\"pattern\":{\"fillmode\":\"overlay\",\"size\":10,\"solidity\":0.2}},\"type\":\"bar\"}],\"carpet\":[{\"aaxis\":{\"endlinecolor\":\"#A2B1C6\",\"gridcolor\":\"#506784\",\"linecolor\":\"#506784\",\"minorgridcolor\":\"#506784\",\"startlinecolor\":\"#A2B1C6\"},\"baxis\":{\"endlinecolor\":\"#A2B1C6\",\"gridcolor\":\"#506784\",\"linecolor\":\"#506784\",\"minorgridcolor\":\"#506784\",\"startlinecolor\":\"#A2B1C6\"},\"type\":\"carpet\"}],\"choropleth\":[{\"colorbar\":{\"outlinewidth\":0,\"ticks\":\"\"},\"type\":\"choropleth\"}],\"contourcarpet\":[{\"colorbar\":{\"outlinewidth\":0,\"ticks\":\"\"},\"type\":\"contourcarpet\"}],\"contour\":[{\"colorbar\":{\"outlinewidth\":0,\"ticks\":\"\"},\"colorscale\":[[0.0,\"#0d0887\"],[0.1111111111111111,\"#46039f\"],[0.2222222222222222,\"#7201a8\"],[0.3333333333333333,\"#9c179e\"],[0.4444444444444444,\"#bd3786\"],[0.5555555555555556,\"#d8576b\"],[0.6666666666666666,\"#ed7953\"],[0.7777777777777778,\"#fb9f3a\"],[0.8888888888888888,\"#fdca26\"],[1.0,\"#f0f921\"]],\"type\":\"contour\"}],\"heatmapgl\":[{\"colorbar\":{\"outlinewidth\":0,\"ticks\":\"\"},\"colorscale\":[[0.0,\"#0d0887\"],[0.1111111111111111,\"#46039f\"],[0.2222222222222222,\"#7201a8\"],[0.3333333333333333,\"#9c179e\"],[0.4444444444444444,\"#bd3786\"],[0.5555555555555556,\"#d8576b\"],[0.6666666666666666,\"#ed7953\"],[0.7777777777777778,\"#fb9f3a\"],[0.8888888888888888,\"#fdca26\"],[1.0,\"#f0f921\"]],\"type\":\"heatmapgl\"}],\"heatmap\":[{\"colorbar\":{\"outlinewidth\":0,\"ticks\":\"\"},\"colorscale\":[[0.0,\"#0d0887\"],[0.1111111111111111,\"#46039f\"],[0.2222222222222222,\"#7201a8\"],[0.3333333333333333,\"#9c179e\"],[0.4444444444444444,\"#bd3786\"],[0.5555555555555556,\"#d8576b\"],[0.6666666666666666,\"#ed7953\"],[0.7777777777777778,\"#fb9f3a\"],[0.8888888888888888,\"#fdca26\"],[1.0,\"#f0f921\"]],\"type\":\"heatmap\"}],\"histogram2dcontour\":[{\"colorbar\":{\"outlinewidth\":0,\"ticks\":\"\"},\"colorscale\":[[0.0,\"#0d0887\"],[0.1111111111111111,\"#46039f\"],[0.2222222222222222,\"#7201a8\"],[0.3333333333333333,\"#9c179e\"],[0.4444444444444444,\"#bd3786\"],[0.5555555555555556,\"#d8576b\"],[0.6666666666666666,\"#ed7953\"],[0.7777777777777778,\"#fb9f3a\"],[0.8888888888888888,\"#fdca26\"],[1.0,\"#f0f921\"]],\"type\":\"histogram2dcontour\"}],\"histogram2d\":[{\"colorbar\":{\"outlinewidth\":0,\"ticks\":\"\"},\"colorscale\":[[0.0,\"#0d0887\"],[0.1111111111111111,\"#46039f\"],[0.2222222222222222,\"#7201a8\"],[0.3333333333333333,\"#9c179e\"],[0.4444444444444444,\"#bd3786\"],[0.5555555555555556,\"#d8576b\"],[0.6666666666666666,\"#ed7953\"],[0.7777777777777778,\"#fb9f3a\"],[0.8888888888888888,\"#fdca26\"],[1.0,\"#f0f921\"]],\"type\":\"histogram2d\"}],\"histogram\":[{\"marker\":{\"pattern\":{\"fillmode\":\"overlay\",\"size\":10,\"solidity\":0.2}},\"type\":\"histogram\"}],\"mesh3d\":[{\"colorbar\":{\"outlinewidth\":0,\"ticks\":\"\"},\"type\":\"mesh3d\"}],\"parcoords\":[{\"line\":{\"colorbar\":{\"outlinewidth\":0,\"ticks\":\"\"}},\"type\":\"parcoords\"}],\"pie\":[{\"automargin\":true,\"type\":\"pie\"}],\"scatter3d\":[{\"line\":{\"colorbar\":{\"outlinewidth\":0,\"ticks\":\"\"}},\"marker\":{\"colorbar\":{\"outlinewidth\":0,\"ticks\":\"\"}},\"type\":\"scatter3d\"}],\"scattercarpet\":[{\"marker\":{\"colorbar\":{\"outlinewidth\":0,\"ticks\":\"\"}},\"type\":\"scattercarpet\"}],\"scattergeo\":[{\"marker\":{\"colorbar\":{\"outlinewidth\":0,\"ticks\":\"\"}},\"type\":\"scattergeo\"}],\"scattergl\":[{\"marker\":{\"line\":{\"color\":\"#283442\"}},\"type\":\"scattergl\"}],\"scattermapbox\":[{\"marker\":{\"colorbar\":{\"outlinewidth\":0,\"ticks\":\"\"}},\"type\":\"scattermapbox\"}],\"scatterpolargl\":[{\"marker\":{\"colorbar\":{\"outlinewidth\":0,\"ticks\":\"\"}},\"type\":\"scatterpolargl\"}],\"scatterpolar\":[{\"marker\":{\"colorbar\":{\"outlinewidth\":0,\"ticks\":\"\"}},\"type\":\"scatterpolar\"}],\"scatter\":[{\"marker\":{\"line\":{\"color\":\"#283442\"}},\"type\":\"scatter\"}],\"scatterternary\":[{\"marker\":{\"colorbar\":{\"outlinewidth\":0,\"ticks\":\"\"}},\"type\":\"scatterternary\"}],\"surface\":[{\"colorbar\":{\"outlinewidth\":0,\"ticks\":\"\"},\"colorscale\":[[0.0,\"#0d0887\"],[0.1111111111111111,\"#46039f\"],[0.2222222222222222,\"#7201a8\"],[0.3333333333333333,\"#9c179e\"],[0.4444444444444444,\"#bd3786\"],[0.5555555555555556,\"#d8576b\"],[0.6666666666666666,\"#ed7953\"],[0.7777777777777778,\"#fb9f3a\"],[0.8888888888888888,\"#fdca26\"],[1.0,\"#f0f921\"]],\"type\":\"surface\"}],\"table\":[{\"cells\":{\"fill\":{\"color\":\"#506784\"},\"line\":{\"color\":\"rgb(17,17,17)\"}},\"header\":{\"fill\":{\"color\":\"#2a3f5f\"},\"line\":{\"color\":\"rgb(17,17,17)\"}},\"type\":\"table\"}]},\"layout\":{\"annotationdefaults\":{\"arrowcolor\":\"#f2f5fa\",\"arrowhead\":0,\"arrowwidth\":1},\"autotypenumbers\":\"strict\",\"coloraxis\":{\"colorbar\":{\"outlinewidth\":0,\"ticks\":\"\"}},\"colorscale\":{\"diverging\":[[0,\"#8e0152\"],[0.1,\"#c51b7d\"],[0.2,\"#de77ae\"],[0.3,\"#f1b6da\"],[0.4,\"#fde0ef\"],[0.5,\"#f7f7f7\"],[0.6,\"#e6f5d0\"],[0.7,\"#b8e186\"],[0.8,\"#7fbc41\"],[0.9,\"#4d9221\"],[1,\"#276419\"]],\"sequential\":[[0.0,\"#0d0887\"],[0.1111111111111111,\"#46039f\"],[0.2222222222222222,\"#7201a8\"],[0.3333333333333333,\"#9c179e\"],[0.4444444444444444,\"#bd3786\"],[0.5555555555555556,\"#d8576b\"],[0.6666666666666666,\"#ed7953\"],[0.7777777777777778,\"#fb9f3a\"],[0.8888888888888888,\"#fdca26\"],[1.0,\"#f0f921\"]],\"sequentialminus\":[[0.0,\"#0d0887\"],[0.1111111111111111,\"#46039f\"],[0.2222222222222222,\"#7201a8\"],[0.3333333333333333,\"#9c179e\"],[0.4444444444444444,\"#bd3786\"],[0.5555555555555556,\"#d8576b\"],[0.6666666666666666,\"#ed7953\"],[0.7777777777777778,\"#fb9f3a\"],[0.8888888888888888,\"#fdca26\"],[1.0,\"#f0f921\"]]},\"colorway\":[\"#636efa\",\"#EF553B\",\"#00cc96\",\"#ab63fa\",\"#FFA15A\",\"#19d3f3\",\"#FF6692\",\"#B6E880\",\"#FF97FF\",\"#FECB52\"],\"font\":{\"color\":\"#f2f5fa\"},\"geo\":{\"bgcolor\":\"rgb(17,17,17)\",\"lakecolor\":\"rgb(17,17,17)\",\"landcolor\":\"rgb(17,17,17)\",\"showlakes\":true,\"showland\":true,\"subunitcolor\":\"#506784\"},\"hoverlabel\":{\"align\":\"left\"},\"hovermode\":\"closest\",\"mapbox\":{\"style\":\"dark\"},\"paper_bgcolor\":\"rgb(17,17,17)\",\"plot_bgcolor\":\"rgb(17,17,17)\",\"polar\":{\"angularaxis\":{\"gridcolor\":\"#506784\",\"linecolor\":\"#506784\",\"ticks\":\"\"},\"bgcolor\":\"rgb(17,17,17)\",\"radialaxis\":{\"gridcolor\":\"#506784\",\"linecolor\":\"#506784\",\"ticks\":\"\"}},\"scene\":{\"xaxis\":{\"backgroundcolor\":\"rgb(17,17,17)\",\"gridcolor\":\"#506784\",\"gridwidth\":2,\"linecolor\":\"#506784\",\"showbackground\":true,\"ticks\":\"\",\"zerolinecolor\":\"#C8D4E3\"},\"yaxis\":{\"backgroundcolor\":\"rgb(17,17,17)\",\"gridcolor\":\"#506784\",\"gridwidth\":2,\"linecolor\":\"#506784\",\"showbackground\":true,\"ticks\":\"\",\"zerolinecolor\":\"#C8D4E3\"},\"zaxis\":{\"backgroundcolor\":\"rgb(17,17,17)\",\"gridcolor\":\"#506784\",\"gridwidth\":2,\"linecolor\":\"#506784\",\"showbackground\":true,\"ticks\":\"\",\"zerolinecolor\":\"#C8D4E3\"}},\"shapedefaults\":{\"line\":{\"color\":\"#f2f5fa\"}},\"sliderdefaults\":{\"bgcolor\":\"#C8D4E3\",\"bordercolor\":\"rgb(17,17,17)\",\"borderwidth\":1,\"tickwidth\":0},\"ternary\":{\"aaxis\":{\"gridcolor\":\"#506784\",\"linecolor\":\"#506784\",\"ticks\":\"\"},\"baxis\":{\"gridcolor\":\"#506784\",\"linecolor\":\"#506784\",\"ticks\":\"\"},\"bgcolor\":\"rgb(17,17,17)\",\"caxis\":{\"gridcolor\":\"#506784\",\"linecolor\":\"#506784\",\"ticks\":\"\"}},\"title\":{\"x\":0.05},\"updatemenudefaults\":{\"bgcolor\":\"#506784\",\"borderwidth\":0},\"xaxis\":{\"automargin\":true,\"gridcolor\":\"#283442\",\"linecolor\":\"#506784\",\"ticks\":\"\",\"title\":{\"standoff\":15},\"zerolinecolor\":\"#283442\",\"zerolinewidth\":2},\"yaxis\":{\"automargin\":true,\"gridcolor\":\"#283442\",\"linecolor\":\"#506784\",\"ticks\":\"\",\"title\":{\"standoff\":15},\"zerolinecolor\":\"#283442\",\"zerolinewidth\":2}}},\"title\":{\"text\":\"Scree Plot with Cumulative & Explained Variance\"},\"xaxis\":{\"title\":{\"text\":\"Principal Components\"}},\"yaxis\":{\"title\":{\"text\":\"Explained Variance\"}}},                        {\"responsive\": true}                    ).then(function(){\n",
       "                            \n",
       "var gd = document.getElementById('6559c385-05ac-41bd-a1c7-b35871e62ee4');\n",
       "var x = new MutationObserver(function (mutations, observer) {{\n",
       "        var display = window.getComputedStyle(gd).display;\n",
       "        if (!display || display === 'none') {{\n",
       "            console.log([gd, 'removed!']);\n",
       "            Plotly.purge(gd);\n",
       "            observer.disconnect();\n",
       "        }}\n",
       "}});\n",
       "\n",
       "// Listen for the removal of the full notebook cells\n",
       "var notebookContainer = gd.closest('#notebook-container');\n",
       "if (notebookContainer) {{\n",
       "    x.observe(notebookContainer, {childList: true});\n",
       "}}\n",
       "\n",
       "// Listen for the clearing of the current output cell\n",
       "var outputEl = gd.closest('.output');\n",
       "if (outputEl) {{\n",
       "    x.observe(outputEl, {childList: true});\n",
       "}}\n",
       "\n",
       "                        })                };                });            </script>        </div>"
      ]
     },
     "metadata": {},
     "output_type": "display_data"
    }
   ],
   "source": [
    "import plotly.express as px\n",
    "import plotly.graph_objects as go\n",
    "\n",
    "# Plotly scree plot with explained variance ratio and cumulative explained variance\n",
    "fig = go.Figure()\n",
    "\n",
    "# Scree plot\n",
    "fig.add_trace(go.Scatter(\n",
    "    x=[f'PC{i+1}' for i in range(8)],\n",
    "    y=explained_variance,\n",
    "    mode='lines+markers',\n",
    "    name='Explained Variance',\n",
    "    line=dict(color='royalblue')\n",
    "))\n",
    "\n",
    "# Cumulative explained variance\n",
    "fig.add_trace(go.Scatter(\n",
    "    x=[f'PC{i+1}' for i in range(8)],\n",
    "    y=cumulative_variance,\n",
    "    mode='lines+markers',\n",
    "    name='Cumulative Variance',\n",
    "    line=dict(color='firebrick')\n",
    "))\n",
    "\n",
    "fig.update_layout(\n",
    "    title='Scree Plot with Cumulative & Explained Variance',\n",
    "    xaxis_title='Principal Components',\n",
    "    yaxis_title='Explained Variance',\n",
    "    template='plotly_dark'\n",
    ")\n",
    "\n",
    "fig.show()"
   ]
  },
  {
   "cell_type": "markdown",
   "metadata": {},
   "source": [
    "### Explained and Cumulative variance analysis\n",
    "\n",
    "1. **Explained Variance:** \n",
    "   - The explained variance ratio indicates how much variance each principal component contributes to the total variance. The explained variance (blue line) across principal components shows a steep drop after the first three components, indicating diminishing returns for additional components.\n",
    "\n",
    "2. **Cumulative Variance:**  \n",
    "   - The cumulative variance represents the total proportion of variance explained as more components are added (red line). The plot suggests that the first three components are sufficient to describe most of the data variability, while additional components contribute minimally.\n",
    "\n",
    "These insights indicate that dimensionality can be effectively reduced to three principal components without significant loss of information.\n"
   ]
  },
  {
   "cell_type": "markdown",
   "metadata": {},
   "source": [
    "9 ) Run a PCA analysis on the auto-scaled data by selecting a number of components = 3"
   ]
  },
  {
   "cell_type": "code",
   "execution_count": 122,
   "metadata": {},
   "outputs": [],
   "source": [
    "#Run a PCA analysis on the auto-scaled data by selecting a number of components = 3\n",
    "#Now re-build the model 3 PCs\n",
    "pipe = make_pipeline(\n",
    "    StandardScaler(),\n",
    "    decomposition.PCA(n_components=3) # Using 3 PCs as suitable number\n",
    ")\n",
    "\n",
    "# Get the scores of this PCA model\n",
    "scores = pipe.fit_transform(moldesc2df)"
   ]
  },
  {
   "cell_type": "markdown",
   "metadata": {},
   "source": [
    "10 ) Prepare and print the Scores matrix by concatenating it with the categorial attribute (i.e. the class)"
   ]
  },
  {
   "cell_type": "code",
   "execution_count": 124,
   "metadata": {},
   "outputs": [],
   "source": [
    "# Prepare the Scores dataframe (and concatenate the categorical attribute)\n",
    "scores = pd.DataFrame(data = scores, columns = [f'PC{i+1}' for i in range(3)])\n",
    "scores.index = moldesc_df.index\n",
    "\n",
    "categorical_data = moldesc_df[moldesc_df.columns[-1]]  # Since last column is 'Class'\n",
    "\n",
    "scores_withdata = pd.concat([scores, moldesc_df], axis = 1) #concatenate with all data including 'Class'\n",
    "\n",
    "scores_withonlyclass = pd.concat([scores, categorical_data.reset_index(drop=True)], axis=1) #concate with only class column\n"
   ]
  },
  {
   "cell_type": "code",
   "execution_count": 125,
   "metadata": {},
   "outputs": [
    {
     "data": {
      "text/html": [
       "<div>\n",
       "<style scoped>\n",
       "    .dataframe tbody tr th:only-of-type {\n",
       "        vertical-align: middle;\n",
       "    }\n",
       "\n",
       "    .dataframe tbody tr th {\n",
       "        vertical-align: top;\n",
       "    }\n",
       "\n",
       "    .dataframe thead th {\n",
       "        text-align: right;\n",
       "    }\n",
       "</style>\n",
       "<table border=\"1\" class=\"dataframe\">\n",
       "  <thead>\n",
       "    <tr style=\"text-align: right;\">\n",
       "      <th></th>\n",
       "      <th>PC1</th>\n",
       "      <th>PC2</th>\n",
       "      <th>PC3</th>\n",
       "      <th>D1</th>\n",
       "      <th>D2</th>\n",
       "      <th>D3</th>\n",
       "      <th>D4</th>\n",
       "      <th>D5</th>\n",
       "      <th>D6</th>\n",
       "      <th>D7</th>\n",
       "      <th>D8</th>\n",
       "      <th>Class</th>\n",
       "    </tr>\n",
       "  </thead>\n",
       "  <tbody>\n",
       "    <tr>\n",
       "      <th>0</th>\n",
       "      <td>-1.186065</td>\n",
       "      <td>3.687838</td>\n",
       "      <td>-3.279560</td>\n",
       "      <td>21.996307</td>\n",
       "      <td>119.300545</td>\n",
       "      <td>42</td>\n",
       "      <td>-0.129873</td>\n",
       "      <td>-0.461116</td>\n",
       "      <td>2.354662</td>\n",
       "      <td>0.739296</td>\n",
       "      <td>0.475639</td>\n",
       "      <td>1</td>\n",
       "    </tr>\n",
       "    <tr>\n",
       "      <th>1</th>\n",
       "      <td>0.366450</td>\n",
       "      <td>1.991757</td>\n",
       "      <td>1.909667</td>\n",
       "      <td>18.002651</td>\n",
       "      <td>111.988098</td>\n",
       "      <td>38</td>\n",
       "      <td>-0.192031</td>\n",
       "      <td>-0.003431</td>\n",
       "      <td>0.010324</td>\n",
       "      <td>0.772352</td>\n",
       "      <td>0.479507</td>\n",
       "      <td>1</td>\n",
       "    </tr>\n",
       "    <tr>\n",
       "      <th>2</th>\n",
       "      <td>-1.565084</td>\n",
       "      <td>-1.877515</td>\n",
       "      <td>-1.813386</td>\n",
       "      <td>26.002590</td>\n",
       "      <td>196.702667</td>\n",
       "      <td>56</td>\n",
       "      <td>0.012251</td>\n",
       "      <td>-0.149585</td>\n",
       "      <td>0.937021</td>\n",
       "      <td>0.546386</td>\n",
       "      <td>0.348632</td>\n",
       "      <td>1</td>\n",
       "    </tr>\n",
       "    <tr>\n",
       "      <th>3</th>\n",
       "      <td>-1.090178</td>\n",
       "      <td>2.634293</td>\n",
       "      <td>-2.284194</td>\n",
       "      <td>22.004517</td>\n",
       "      <td>119.300545</td>\n",
       "      <td>42</td>\n",
       "      <td>-0.103873</td>\n",
       "      <td>-0.357562</td>\n",
       "      <td>1.760567</td>\n",
       "      <td>0.720476</td>\n",
       "      <td>0.462141</td>\n",
       "      <td>1</td>\n",
       "    </tr>\n",
       "    <tr>\n",
       "      <th>4</th>\n",
       "      <td>-0.938838</td>\n",
       "      <td>3.728481</td>\n",
       "      <td>-3.820418</td>\n",
       "      <td>23.003124</td>\n",
       "      <td>169.373093</td>\n",
       "      <td>50</td>\n",
       "      <td>-0.161954</td>\n",
       "      <td>-0.516773</td>\n",
       "      <td>2.444123</td>\n",
       "      <td>0.743189</td>\n",
       "      <td>0.451499</td>\n",
       "      <td>1</td>\n",
       "    </tr>\n",
       "    <tr>\n",
       "      <th>5</th>\n",
       "      <td>-1.932183</td>\n",
       "      <td>-1.081749</td>\n",
       "      <td>0.961158</td>\n",
       "      <td>10.001482</td>\n",
       "      <td>45.800003</td>\n",
       "      <td>20</td>\n",
       "      <td>-0.001307</td>\n",
       "      <td>-0.005326</td>\n",
       "      <td>0.025180</td>\n",
       "      <td>0.625161</td>\n",
       "      <td>0.397128</td>\n",
       "      <td>1</td>\n",
       "    </tr>\n",
       "    <tr>\n",
       "      <th>6</th>\n",
       "      <td>-0.627563</td>\n",
       "      <td>3.680706</td>\n",
       "      <td>-1.454182</td>\n",
       "      <td>20.003008</td>\n",
       "      <td>104.804337</td>\n",
       "      <td>38</td>\n",
       "      <td>-0.155427</td>\n",
       "      <td>-0.316281</td>\n",
       "      <td>1.652655</td>\n",
       "      <td>0.767007</td>\n",
       "      <td>0.502759</td>\n",
       "      <td>1</td>\n",
       "    </tr>\n",
       "    <tr>\n",
       "      <th>7</th>\n",
       "      <td>-0.820877</td>\n",
       "      <td>2.764023</td>\n",
       "      <td>-0.623427</td>\n",
       "      <td>15.002267</td>\n",
       "      <td>81.028572</td>\n",
       "      <td>30</td>\n",
       "      <td>-0.175913</td>\n",
       "      <td>-0.267525</td>\n",
       "      <td>1.026331</td>\n",
       "      <td>0.742105</td>\n",
       "      <td>0.461606</td>\n",
       "      <td>1</td>\n",
       "    </tr>\n",
       "    <tr>\n",
       "      <th>8</th>\n",
       "      <td>0.536644</td>\n",
       "      <td>2.677597</td>\n",
       "      <td>2.118314</td>\n",
       "      <td>17.003408</td>\n",
       "      <td>101.388100</td>\n",
       "      <td>36</td>\n",
       "      <td>-0.217380</td>\n",
       "      <td>-0.009711</td>\n",
       "      <td>0.039880</td>\n",
       "      <td>0.795678</td>\n",
       "      <td>0.503703</td>\n",
       "      <td>1</td>\n",
       "    </tr>\n",
       "    <tr>\n",
       "      <th>9</th>\n",
       "      <td>-0.260192</td>\n",
       "      <td>-0.972099</td>\n",
       "      <td>-0.624451</td>\n",
       "      <td>29.999311</td>\n",
       "      <td>239.983139</td>\n",
       "      <td>64</td>\n",
       "      <td>-0.062927</td>\n",
       "      <td>-0.130794</td>\n",
       "      <td>0.258319</td>\n",
       "      <td>0.630174</td>\n",
       "      <td>0.377212</td>\n",
       "      <td>1</td>\n",
       "    </tr>\n",
       "    <tr>\n",
       "      <th>10</th>\n",
       "      <td>-1.382484</td>\n",
       "      <td>-0.989411</td>\n",
       "      <td>-3.058676</td>\n",
       "      <td>30.007343</td>\n",
       "      <td>239.983124</td>\n",
       "      <td>64</td>\n",
       "      <td>-0.002348</td>\n",
       "      <td>-0.325625</td>\n",
       "      <td>1.241003</td>\n",
       "      <td>0.567052</td>\n",
       "      <td>0.360075</td>\n",
       "      <td>1</td>\n",
       "    </tr>\n",
       "    <tr>\n",
       "      <th>11</th>\n",
       "      <td>-1.167464</td>\n",
       "      <td>-1.502302</td>\n",
       "      <td>0.631490</td>\n",
       "      <td>18.998100</td>\n",
       "      <td>121.163500</td>\n",
       "      <td>40</td>\n",
       "      <td>-0.032200</td>\n",
       "      <td>0.009000</td>\n",
       "      <td>0.035900</td>\n",
       "      <td>0.612400</td>\n",
       "      <td>0.374900</td>\n",
       "      <td>1</td>\n",
       "    </tr>\n",
       "    <tr>\n",
       "      <th>12</th>\n",
       "      <td>-0.433721</td>\n",
       "      <td>2.468295</td>\n",
       "      <td>0.569462</td>\n",
       "      <td>14.997700</td>\n",
       "      <td>81.903200</td>\n",
       "      <td>30</td>\n",
       "      <td>-0.171400</td>\n",
       "      <td>-0.133500</td>\n",
       "      <td>0.651000</td>\n",
       "      <td>0.759800</td>\n",
       "      <td>0.474200</td>\n",
       "      <td>1</td>\n",
       "    </tr>\n",
       "    <tr>\n",
       "      <th>13</th>\n",
       "      <td>-1.450688</td>\n",
       "      <td>4.139895</td>\n",
       "      <td>-4.203633</td>\n",
       "      <td>21.997900</td>\n",
       "      <td>119.300500</td>\n",
       "      <td>42</td>\n",
       "      <td>-0.127000</td>\n",
       "      <td>-0.535800</td>\n",
       "      <td>2.857500</td>\n",
       "      <td>0.739100</td>\n",
       "      <td>0.476400</td>\n",
       "      <td>1</td>\n",
       "    </tr>\n",
       "    <tr>\n",
       "      <th>14</th>\n",
       "      <td>0.293722</td>\n",
       "      <td>1.887651</td>\n",
       "      <td>1.594650</td>\n",
       "      <td>19.001600</td>\n",
       "      <td>120.635800</td>\n",
       "      <td>40</td>\n",
       "      <td>-0.178700</td>\n",
       "      <td>-0.026000</td>\n",
       "      <td>0.100300</td>\n",
       "      <td>0.766700</td>\n",
       "      <td>0.474700</td>\n",
       "      <td>1</td>\n",
       "    </tr>\n",
       "    <tr>\n",
       "      <th>15</th>\n",
       "      <td>-0.017949</td>\n",
       "      <td>2.609357</td>\n",
       "      <td>0.323982</td>\n",
       "      <td>19.002600</td>\n",
       "      <td>119.508900</td>\n",
       "      <td>40</td>\n",
       "      <td>-0.193200</td>\n",
       "      <td>-0.159200</td>\n",
       "      <td>0.669600</td>\n",
       "      <td>0.761800</td>\n",
       "      <td>0.475700</td>\n",
       "      <td>1</td>\n",
       "    </tr>\n",
       "    <tr>\n",
       "      <th>16</th>\n",
       "      <td>-0.875070</td>\n",
       "      <td>1.433113</td>\n",
       "      <td>-2.529276</td>\n",
       "      <td>25.002000</td>\n",
       "      <td>188.285200</td>\n",
       "      <td>54</td>\n",
       "      <td>-0.101100</td>\n",
       "      <td>-0.372500</td>\n",
       "      <td>1.405100</td>\n",
       "      <td>0.686300</td>\n",
       "      <td>0.409400</td>\n",
       "      <td>1</td>\n",
       "    </tr>\n",
       "    <tr>\n",
       "      <th>17</th>\n",
       "      <td>-0.787105</td>\n",
       "      <td>2.788590</td>\n",
       "      <td>-0.221011</td>\n",
       "      <td>13.997200</td>\n",
       "      <td>73.900000</td>\n",
       "      <td>28</td>\n",
       "      <td>-0.161500</td>\n",
       "      <td>-0.224500</td>\n",
       "      <td>0.949500</td>\n",
       "      <td>0.755100</td>\n",
       "      <td>0.474200</td>\n",
       "      <td>1</td>\n",
       "    </tr>\n",
       "    <tr>\n",
       "      <th>18</th>\n",
       "      <td>-1.975990</td>\n",
       "      <td>-3.281536</td>\n",
       "      <td>-0.422105</td>\n",
       "      <td>21.000600</td>\n",
       "      <td>139.818200</td>\n",
       "      <td>44</td>\n",
       "      <td>0.026700</td>\n",
       "      <td>-0.026600</td>\n",
       "      <td>0.132300</td>\n",
       "      <td>0.487500</td>\n",
       "      <td>0.324900</td>\n",
       "      <td>1</td>\n",
       "    </tr>\n",
       "    <tr>\n",
       "      <th>19</th>\n",
       "      <td>-0.133491</td>\n",
       "      <td>2.205766</td>\n",
       "      <td>2.184513</td>\n",
       "      <td>12.002200</td>\n",
       "      <td>58.338100</td>\n",
       "      <td>24</td>\n",
       "      <td>-0.186700</td>\n",
       "      <td>0.006800</td>\n",
       "      <td>0.037200</td>\n",
       "      <td>0.771500</td>\n",
       "      <td>0.488300</td>\n",
       "      <td>1</td>\n",
       "    </tr>\n",
       "    <tr>\n",
       "      <th>20</th>\n",
       "      <td>-1.263597</td>\n",
       "      <td>-1.338556</td>\n",
       "      <td>-0.301757</td>\n",
       "      <td>21.003800</td>\n",
       "      <td>148.800000</td>\n",
       "      <td>46</td>\n",
       "      <td>-0.015800</td>\n",
       "      <td>-0.081900</td>\n",
       "      <td>0.329700</td>\n",
       "      <td>0.607200</td>\n",
       "      <td>0.373500</td>\n",
       "      <td>1</td>\n",
       "    </tr>\n",
       "    <tr>\n",
       "      <th>21</th>\n",
       "      <td>1.420648</td>\n",
       "      <td>3.509923</td>\n",
       "      <td>2.411096</td>\n",
       "      <td>21.995600</td>\n",
       "      <td>145.367100</td>\n",
       "      <td>46</td>\n",
       "      <td>-0.272600</td>\n",
       "      <td>0.000000</td>\n",
       "      <td>0.000000</td>\n",
       "      <td>0.827500</td>\n",
       "      <td>0.537600</td>\n",
       "      <td>1</td>\n",
       "    </tr>\n",
       "    <tr>\n",
       "      <th>22</th>\n",
       "      <td>-0.234889</td>\n",
       "      <td>1.100893</td>\n",
       "      <td>-0.670522</td>\n",
       "      <td>24.996900</td>\n",
       "      <td>184.387800</td>\n",
       "      <td>54</td>\n",
       "      <td>-0.115200</td>\n",
       "      <td>-0.144000</td>\n",
       "      <td>0.955200</td>\n",
       "      <td>0.706100</td>\n",
       "      <td>0.430400</td>\n",
       "      <td>1</td>\n",
       "    </tr>\n",
       "    <tr>\n",
       "      <th>23</th>\n",
       "      <td>-0.738059</td>\n",
       "      <td>1.361279</td>\n",
       "      <td>0.423927</td>\n",
       "      <td>15.997900</td>\n",
       "      <td>95.435700</td>\n",
       "      <td>34</td>\n",
       "      <td>-0.104900</td>\n",
       "      <td>-0.114200</td>\n",
       "      <td>0.510700</td>\n",
       "      <td>0.722500</td>\n",
       "      <td>0.453900</td>\n",
       "      <td>1</td>\n",
       "    </tr>\n",
       "    <tr>\n",
       "      <th>24</th>\n",
       "      <td>1.228697</td>\n",
       "      <td>2.898618</td>\n",
       "      <td>2.161995</td>\n",
       "      <td>22.004900</td>\n",
       "      <td>152.595700</td>\n",
       "      <td>48</td>\n",
       "      <td>-0.255400</td>\n",
       "      <td>-0.000200</td>\n",
       "      <td>0.000300</td>\n",
       "      <td>0.806100</td>\n",
       "      <td>0.510500</td>\n",
       "      <td>1</td>\n",
       "    </tr>\n",
       "    <tr>\n",
       "      <th>25</th>\n",
       "      <td>-1.227944</td>\n",
       "      <td>-1.646863</td>\n",
       "      <td>0.599336</td>\n",
       "      <td>19.003800</td>\n",
       "      <td>121.163500</td>\n",
       "      <td>40</td>\n",
       "      <td>-0.031300</td>\n",
       "      <td>0.026400</td>\n",
       "      <td>0.103700</td>\n",
       "      <td>0.599600</td>\n",
       "      <td>0.371500</td>\n",
       "      <td>1</td>\n",
       "    </tr>\n",
       "    <tr>\n",
       "      <th>26</th>\n",
       "      <td>0.399752</td>\n",
       "      <td>2.213996</td>\n",
       "      <td>1.968714</td>\n",
       "      <td>16.995900</td>\n",
       "      <td>103.557900</td>\n",
       "      <td>36</td>\n",
       "      <td>-0.220900</td>\n",
       "      <td>-0.005200</td>\n",
       "      <td>0.035300</td>\n",
       "      <td>0.772400</td>\n",
       "      <td>0.478800</td>\n",
       "      <td>1</td>\n",
       "    </tr>\n",
       "    <tr>\n",
       "      <th>27</th>\n",
       "      <td>-1.302686</td>\n",
       "      <td>-1.115669</td>\n",
       "      <td>-1.631833</td>\n",
       "      <td>25.007300</td>\n",
       "      <td>188.285200</td>\n",
       "      <td>54</td>\n",
       "      <td>-0.027600</td>\n",
       "      <td>-0.214100</td>\n",
       "      <td>0.716900</td>\n",
       "      <td>0.585700</td>\n",
       "      <td>0.361500</td>\n",
       "      <td>1</td>\n",
       "    </tr>\n",
       "    <tr>\n",
       "      <th>28</th>\n",
       "      <td>0.374889</td>\n",
       "      <td>2.099664</td>\n",
       "      <td>1.569006</td>\n",
       "      <td>19.000500</td>\n",
       "      <td>120.644600</td>\n",
       "      <td>40</td>\n",
       "      <td>-0.203400</td>\n",
       "      <td>-0.034200</td>\n",
       "      <td>0.139600</td>\n",
       "      <td>0.765100</td>\n",
       "      <td>0.476300</td>\n",
       "      <td>1</td>\n",
       "    </tr>\n",
       "    <tr>\n",
       "      <th>29</th>\n",
       "      <td>-2.306227</td>\n",
       "      <td>-2.478042</td>\n",
       "      <td>0.199294</td>\n",
       "      <td>12.999400</td>\n",
       "      <td>67.566700</td>\n",
       "      <td>26</td>\n",
       "      <td>0.012800</td>\n",
       "      <td>-0.008400</td>\n",
       "      <td>0.133900</td>\n",
       "      <td>0.540600</td>\n",
       "      <td>0.339600</td>\n",
       "      <td>1</td>\n",
       "    </tr>\n",
       "    <tr>\n",
       "      <th>30</th>\n",
       "      <td>-0.718261</td>\n",
       "      <td>-0.430152</td>\n",
       "      <td>1.116870</td>\n",
       "      <td>17.998800</td>\n",
       "      <td>112.719100</td>\n",
       "      <td>38</td>\n",
       "      <td>-0.080300</td>\n",
       "      <td>0.025100</td>\n",
       "      <td>0.064500</td>\n",
       "      <td>0.668000</td>\n",
       "      <td>0.405000</td>\n",
       "      <td>1</td>\n",
       "    </tr>\n",
       "    <tr>\n",
       "      <th>31</th>\n",
       "      <td>-0.067244</td>\n",
       "      <td>1.338301</td>\n",
       "      <td>1.421007</td>\n",
       "      <td>18.003300</td>\n",
       "      <td>113.830900</td>\n",
       "      <td>38</td>\n",
       "      <td>-0.144600</td>\n",
       "      <td>-0.020600</td>\n",
       "      <td>0.123900</td>\n",
       "      <td>0.741300</td>\n",
       "      <td>0.460800</td>\n",
       "      <td>1</td>\n",
       "    </tr>\n",
       "    <tr>\n",
       "      <th>32</th>\n",
       "      <td>-0.872374</td>\n",
       "      <td>-1.016134</td>\n",
       "      <td>0.846754</td>\n",
       "      <td>19.002000</td>\n",
       "      <td>123.276200</td>\n",
       "      <td>40</td>\n",
       "      <td>-0.064500</td>\n",
       "      <td>0.017000</td>\n",
       "      <td>0.041400</td>\n",
       "      <td>0.643600</td>\n",
       "      <td>0.381200</td>\n",
       "      <td>1</td>\n",
       "    </tr>\n",
       "    <tr>\n",
       "      <th>33</th>\n",
       "      <td>-1.908016</td>\n",
       "      <td>-1.010615</td>\n",
       "      <td>0.963298</td>\n",
       "      <td>10.002000</td>\n",
       "      <td>45.800000</td>\n",
       "      <td>20</td>\n",
       "      <td>-0.004000</td>\n",
       "      <td>-0.007300</td>\n",
       "      <td>0.034700</td>\n",
       "      <td>0.628600</td>\n",
       "      <td>0.398700</td>\n",
       "      <td>1</td>\n",
       "    </tr>\n",
       "    <tr>\n",
       "      <th>34</th>\n",
       "      <td>0.917983</td>\n",
       "      <td>3.357375</td>\n",
       "      <td>1.994981</td>\n",
       "      <td>19.002300</td>\n",
       "      <td>116.401200</td>\n",
       "      <td>40</td>\n",
       "      <td>-0.266200</td>\n",
       "      <td>-0.034000</td>\n",
       "      <td>0.176900</td>\n",
       "      <td>0.808800</td>\n",
       "      <td>0.518300</td>\n",
       "      <td>1</td>\n",
       "    </tr>\n",
       "    <tr>\n",
       "      <th>35</th>\n",
       "      <td>-1.106295</td>\n",
       "      <td>-0.655060</td>\n",
       "      <td>-1.545459</td>\n",
       "      <td>24.999300</td>\n",
       "      <td>188.285200</td>\n",
       "      <td>54</td>\n",
       "      <td>-0.046400</td>\n",
       "      <td>-0.241300</td>\n",
       "      <td>0.649700</td>\n",
       "      <td>0.612300</td>\n",
       "      <td>0.371200</td>\n",
       "      <td>1</td>\n",
       "    </tr>\n",
       "    <tr>\n",
       "      <th>36</th>\n",
       "      <td>-0.345515</td>\n",
       "      <td>0.173528</td>\n",
       "      <td>1.169773</td>\n",
       "      <td>19.999400</td>\n",
       "      <td>130.759500</td>\n",
       "      <td>42</td>\n",
       "      <td>-0.088700</td>\n",
       "      <td>-0.004800</td>\n",
       "      <td>0.018900</td>\n",
       "      <td>0.700500</td>\n",
       "      <td>0.430900</td>\n",
       "      <td>1</td>\n",
       "    </tr>\n",
       "    <tr>\n",
       "      <th>37</th>\n",
       "      <td>-0.070523</td>\n",
       "      <td>1.894230</td>\n",
       "      <td>1.046546</td>\n",
       "      <td>17.996900</td>\n",
       "      <td>110.401600</td>\n",
       "      <td>38</td>\n",
       "      <td>-0.159200</td>\n",
       "      <td>-0.078200</td>\n",
       "      <td>0.306000</td>\n",
       "      <td>0.753100</td>\n",
       "      <td>0.471300</td>\n",
       "      <td>1</td>\n",
       "    </tr>\n",
       "    <tr>\n",
       "      <th>38</th>\n",
       "      <td>-0.027446</td>\n",
       "      <td>1.949898</td>\n",
       "      <td>1.098455</td>\n",
       "      <td>18.001000</td>\n",
       "      <td>110.401600</td>\n",
       "      <td>38</td>\n",
       "      <td>-0.164300</td>\n",
       "      <td>-0.075200</td>\n",
       "      <td>0.295400</td>\n",
       "      <td>0.755400</td>\n",
       "      <td>0.472900</td>\n",
       "      <td>1</td>\n",
       "    </tr>\n",
       "    <tr>\n",
       "      <th>39</th>\n",
       "      <td>-0.662754</td>\n",
       "      <td>-0.976629</td>\n",
       "      <td>0.735231</td>\n",
       "      <td>22.004700</td>\n",
       "      <td>149.216700</td>\n",
       "      <td>46</td>\n",
       "      <td>-0.054100</td>\n",
       "      <td>0.007500</td>\n",
       "      <td>0.041400</td>\n",
       "      <td>0.640600</td>\n",
       "      <td>0.395500</td>\n",
       "      <td>1</td>\n",
       "    </tr>\n",
       "    <tr>\n",
       "      <th>40</th>\n",
       "      <td>-1.847897</td>\n",
       "      <td>-1.631049</td>\n",
       "      <td>-1.518288</td>\n",
       "      <td>20.998700</td>\n",
       "      <td>149.471400</td>\n",
       "      <td>46</td>\n",
       "      <td>-0.006100</td>\n",
       "      <td>-0.164300</td>\n",
       "      <td>0.802200</td>\n",
       "      <td>0.553100</td>\n",
       "      <td>0.347800</td>\n",
       "      <td>1</td>\n",
       "    </tr>\n",
       "    <tr>\n",
       "      <th>41</th>\n",
       "      <td>1.110565</td>\n",
       "      <td>2.884856</td>\n",
       "      <td>2.149676</td>\n",
       "      <td>20.996300</td>\n",
       "      <td>142.913000</td>\n",
       "      <td>46</td>\n",
       "      <td>-0.251200</td>\n",
       "      <td>-0.003000</td>\n",
       "      <td>0.013500</td>\n",
       "      <td>0.804300</td>\n",
       "      <td>0.509400</td>\n",
       "      <td>1</td>\n",
       "    </tr>\n",
       "    <tr>\n",
       "      <th>42</th>\n",
       "      <td>0.453804</td>\n",
       "      <td>2.115213</td>\n",
       "      <td>1.980437</td>\n",
       "      <td>18.002700</td>\n",
       "      <td>111.988100</td>\n",
       "      <td>38</td>\n",
       "      <td>-0.207000</td>\n",
       "      <td>-0.000600</td>\n",
       "      <td>0.002100</td>\n",
       "      <td>0.775800</td>\n",
       "      <td>0.480600</td>\n",
       "      <td>1</td>\n",
       "    </tr>\n",
       "    <tr>\n",
       "      <th>43</th>\n",
       "      <td>-0.205113</td>\n",
       "      <td>0.744865</td>\n",
       "      <td>-0.343163</td>\n",
       "      <td>25.006800</td>\n",
       "      <td>184.387800</td>\n",
       "      <td>54</td>\n",
       "      <td>-0.105200</td>\n",
       "      <td>-0.131300</td>\n",
       "      <td>0.652500</td>\n",
       "      <td>0.700200</td>\n",
       "      <td>0.426100</td>\n",
       "      <td>1</td>\n",
       "    </tr>\n",
       "    <tr>\n",
       "      <th>44</th>\n",
       "      <td>0.234080</td>\n",
       "      <td>0.918991</td>\n",
       "      <td>0.321292</td>\n",
       "      <td>25.992600</td>\n",
       "      <td>195.592700</td>\n",
       "      <td>56</td>\n",
       "      <td>-0.126000</td>\n",
       "      <td>-0.064200</td>\n",
       "      <td>0.483700</td>\n",
       "      <td>0.719300</td>\n",
       "      <td>0.441800</td>\n",
       "      <td>1</td>\n",
       "    </tr>\n",
       "    <tr>\n",
       "      <th>45</th>\n",
       "      <td>0.435202</td>\n",
       "      <td>-1.522152</td>\n",
       "      <td>0.146241</td>\n",
       "      <td>35.002251</td>\n",
       "      <td>291.711487</td>\n",
       "      <td>74</td>\n",
       "      <td>-0.059399</td>\n",
       "      <td>-0.001989</td>\n",
       "      <td>0.008828</td>\n",
       "      <td>0.640983</td>\n",
       "      <td>0.376504</td>\n",
       "      <td>2</td>\n",
       "    </tr>\n",
       "    <tr>\n",
       "      <th>46</th>\n",
       "      <td>2.218433</td>\n",
       "      <td>-0.875127</td>\n",
       "      <td>-0.416274</td>\n",
       "      <td>51.008350</td>\n",
       "      <td>496.531738</td>\n",
       "      <td>106</td>\n",
       "      <td>-0.092846</td>\n",
       "      <td>-0.036752</td>\n",
       "      <td>0.117160</td>\n",
       "      <td>0.687986</td>\n",
       "      <td>0.409205</td>\n",
       "      <td>2</td>\n",
       "    </tr>\n",
       "    <tr>\n",
       "      <th>47</th>\n",
       "      <td>1.960403</td>\n",
       "      <td>-1.277820</td>\n",
       "      <td>-0.135109</td>\n",
       "      <td>47.987919</td>\n",
       "      <td>469.752777</td>\n",
       "      <td>106</td>\n",
       "      <td>-0.061047</td>\n",
       "      <td>0.000005</td>\n",
       "      <td>0.000797</td>\n",
       "      <td>0.675923</td>\n",
       "      <td>0.408873</td>\n",
       "      <td>2</td>\n",
       "    </tr>\n",
       "    <tr>\n",
       "      <th>48</th>\n",
       "      <td>1.820918</td>\n",
       "      <td>-1.101013</td>\n",
       "      <td>-0.021195</td>\n",
       "      <td>46.994061</td>\n",
       "      <td>433.694580</td>\n",
       "      <td>100</td>\n",
       "      <td>-0.072264</td>\n",
       "      <td>-0.001063</td>\n",
       "      <td>0.005799</td>\n",
       "      <td>0.681332</td>\n",
       "      <td>0.408497</td>\n",
       "      <td>2</td>\n",
       "    </tr>\n",
       "    <tr>\n",
       "      <th>49</th>\n",
       "      <td>-0.216608</td>\n",
       "      <td>-0.143560</td>\n",
       "      <td>-1.259213</td>\n",
       "      <td>30.991735</td>\n",
       "      <td>244.111542</td>\n",
       "      <td>66</td>\n",
       "      <td>-0.067771</td>\n",
       "      <td>-0.179482</td>\n",
       "      <td>0.754959</td>\n",
       "      <td>0.661258</td>\n",
       "      <td>0.394006</td>\n",
       "      <td>2</td>\n",
       "    </tr>\n",
       "    <tr>\n",
       "      <th>50</th>\n",
       "      <td>3.083162</td>\n",
       "      <td>0.998613</td>\n",
       "      <td>-1.547231</td>\n",
       "      <td>59.009369</td>\n",
       "      <td>576.290771</td>\n",
       "      <td>118</td>\n",
       "      <td>-0.163102</td>\n",
       "      <td>-0.167888</td>\n",
       "      <td>0.773824</td>\n",
       "      <td>0.739732</td>\n",
       "      <td>0.453918</td>\n",
       "      <td>2</td>\n",
       "    </tr>\n",
       "    <tr>\n",
       "      <th>51</th>\n",
       "      <td>1.224523</td>\n",
       "      <td>-0.680071</td>\n",
       "      <td>-2.343388</td>\n",
       "      <td>48.981926</td>\n",
       "      <td>462.398895</td>\n",
       "      <td>104</td>\n",
       "      <td>-0.065094</td>\n",
       "      <td>-0.197664</td>\n",
       "      <td>0.961834</td>\n",
       "      <td>0.647102</td>\n",
       "      <td>0.387991</td>\n",
       "      <td>2</td>\n",
       "    </tr>\n",
       "    <tr>\n",
       "      <th>52</th>\n",
       "      <td>0.278988</td>\n",
       "      <td>1.402916</td>\n",
       "      <td>-1.469121</td>\n",
       "      <td>33.005386</td>\n",
       "      <td>252.075912</td>\n",
       "      <td>68</td>\n",
       "      <td>-0.114123</td>\n",
       "      <td>-0.224626</td>\n",
       "      <td>1.133047</td>\n",
       "      <td>0.721692</td>\n",
       "      <td>0.437289</td>\n",
       "      <td>2</td>\n",
       "    </tr>\n",
       "    <tr>\n",
       "      <th>53</th>\n",
       "      <td>1.792668</td>\n",
       "      <td>0.351977</td>\n",
       "      <td>-0.105447</td>\n",
       "      <td>42.005699</td>\n",
       "      <td>384.425140</td>\n",
       "      <td>92</td>\n",
       "      <td>-0.138680</td>\n",
       "      <td>-0.056042</td>\n",
       "      <td>0.323529</td>\n",
       "      <td>0.725828</td>\n",
       "      <td>0.431004</td>\n",
       "      <td>2</td>\n",
       "    </tr>\n",
       "    <tr>\n",
       "      <th>54</th>\n",
       "      <td>4.371041</td>\n",
       "      <td>0.449005</td>\n",
       "      <td>0.030941</td>\n",
       "      <td>63.025597</td>\n",
       "      <td>675.784546</td>\n",
       "      <td>134</td>\n",
       "      <td>-0.190126</td>\n",
       "      <td>-0.002324</td>\n",
       "      <td>0.018053</td>\n",
       "      <td>0.762475</td>\n",
       "      <td>0.464900</td>\n",
       "      <td>2</td>\n",
       "    </tr>\n",
       "    <tr>\n",
       "      <th>55</th>\n",
       "      <td>2.280391</td>\n",
       "      <td>1.811107</td>\n",
       "      <td>0.763297</td>\n",
       "      <td>40.999294</td>\n",
       "      <td>349.725311</td>\n",
       "      <td>84</td>\n",
       "      <td>-0.201789</td>\n",
       "      <td>-0.047584</td>\n",
       "      <td>0.166645</td>\n",
       "      <td>0.782750</td>\n",
       "      <td>0.486290</td>\n",
       "      <td>2</td>\n",
       "    </tr>\n",
       "    <tr>\n",
       "      <th>56</th>\n",
       "      <td>1.194229</td>\n",
       "      <td>-0.562311</td>\n",
       "      <td>0.345721</td>\n",
       "      <td>37.993641</td>\n",
       "      <td>331.137482</td>\n",
       "      <td>82</td>\n",
       "      <td>-0.100505</td>\n",
       "      <td>-0.006323</td>\n",
       "      <td>0.038131</td>\n",
       "      <td>0.692607</td>\n",
       "      <td>0.408740</td>\n",
       "      <td>2</td>\n",
       "    </tr>\n",
       "    <tr>\n",
       "      <th>57</th>\n",
       "      <td>1.850590</td>\n",
       "      <td>-1.486136</td>\n",
       "      <td>-0.470197</td>\n",
       "      <td>48.986355</td>\n",
       "      <td>476.854370</td>\n",
       "      <td>106</td>\n",
       "      <td>-0.063554</td>\n",
       "      <td>-0.025406</td>\n",
       "      <td>0.064584</td>\n",
       "      <td>0.658095</td>\n",
       "      <td>0.393934</td>\n",
       "      <td>2</td>\n",
       "    </tr>\n",
       "    <tr>\n",
       "      <th>58</th>\n",
       "      <td>0.522259</td>\n",
       "      <td>-2.735404</td>\n",
       "      <td>-0.456201</td>\n",
       "      <td>40.015846</td>\n",
       "      <td>369.143921</td>\n",
       "      <td>88</td>\n",
       "      <td>-0.024769</td>\n",
       "      <td>-0.000052</td>\n",
       "      <td>0.000075</td>\n",
       "      <td>0.589869</td>\n",
       "      <td>0.339982</td>\n",
       "      <td>2</td>\n",
       "    </tr>\n",
       "    <tr>\n",
       "      <th>59</th>\n",
       "      <td>0.568818</td>\n",
       "      <td>-2.688907</td>\n",
       "      <td>-0.451915</td>\n",
       "      <td>40.006294</td>\n",
       "      <td>376.762573</td>\n",
       "      <td>88</td>\n",
       "      <td>-0.028853</td>\n",
       "      <td>-0.000723</td>\n",
       "      <td>0.001875</td>\n",
       "      <td>0.592110</td>\n",
       "      <td>0.340645</td>\n",
       "      <td>2</td>\n",
       "    </tr>\n",
       "    <tr>\n",
       "      <th>60</th>\n",
       "      <td>0.859998</td>\n",
       "      <td>-2.512421</td>\n",
       "      <td>-0.434936</td>\n",
       "      <td>42.015957</td>\n",
       "      <td>399.018341</td>\n",
       "      <td>92</td>\n",
       "      <td>-0.042770</td>\n",
       "      <td>0.000082</td>\n",
       "      <td>0.000084</td>\n",
       "      <td>0.602926</td>\n",
       "      <td>0.346052</td>\n",
       "      <td>2</td>\n",
       "    </tr>\n",
       "    <tr>\n",
       "      <th>61</th>\n",
       "      <td>1.887313</td>\n",
       "      <td>-0.794319</td>\n",
       "      <td>0.083702</td>\n",
       "      <td>45.980476</td>\n",
       "      <td>436.200439</td>\n",
       "      <td>98</td>\n",
       "      <td>-0.081615</td>\n",
       "      <td>-0.004404</td>\n",
       "      <td>0.010918</td>\n",
       "      <td>0.694612</td>\n",
       "      <td>0.418760</td>\n",
       "      <td>2</td>\n",
       "    </tr>\n",
       "    <tr>\n",
       "      <th>62</th>\n",
       "      <td>1.409124</td>\n",
       "      <td>-1.672665</td>\n",
       "      <td>-0.185964</td>\n",
       "      <td>44.997509</td>\n",
       "      <td>419.433289</td>\n",
       "      <td>98</td>\n",
       "      <td>-0.045016</td>\n",
       "      <td>0.000262</td>\n",
       "      <td>0.006351</td>\n",
       "      <td>0.649960</td>\n",
       "      <td>0.391499</td>\n",
       "      <td>2</td>\n",
       "    </tr>\n",
       "    <tr>\n",
       "      <th>63</th>\n",
       "      <td>1.829796</td>\n",
       "      <td>-0.814307</td>\n",
       "      <td>0.132196</td>\n",
       "      <td>45.990517</td>\n",
       "      <td>430.221771</td>\n",
       "      <td>94</td>\n",
       "      <td>-0.084316</td>\n",
       "      <td>-0.000052</td>\n",
       "      <td>0.003361</td>\n",
       "      <td>0.695730</td>\n",
       "      <td>0.414558</td>\n",
       "      <td>2</td>\n",
       "    </tr>\n",
       "    <tr>\n",
       "      <th>64</th>\n",
       "      <td>2.003099</td>\n",
       "      <td>-1.656866</td>\n",
       "      <td>-0.339919</td>\n",
       "      <td>49.977581</td>\n",
       "      <td>498.277222</td>\n",
       "      <td>110</td>\n",
       "      <td>-0.050818</td>\n",
       "      <td>-0.000368</td>\n",
       "      <td>0.001852</td>\n",
       "      <td>0.658793</td>\n",
       "      <td>0.397906</td>\n",
       "      <td>2</td>\n",
       "    </tr>\n",
       "    <tr>\n",
       "      <th>65</th>\n",
       "      <td>2.015258</td>\n",
       "      <td>-1.657587</td>\n",
       "      <td>-0.338280</td>\n",
       "      <td>50.007343</td>\n",
       "      <td>500.494629</td>\n",
       "      <td>110</td>\n",
       "      <td>-0.050342</td>\n",
       "      <td>0.000007</td>\n",
       "      <td>0.000314</td>\n",
       "      <td>0.660975</td>\n",
       "      <td>0.397199</td>\n",
       "      <td>2</td>\n",
       "    </tr>\n",
       "    <tr>\n",
       "      <th>66</th>\n",
       "      <td>0.750104</td>\n",
       "      <td>-2.314989</td>\n",
       "      <td>-0.486515</td>\n",
       "      <td>40.989933</td>\n",
       "      <td>388.169342</td>\n",
       "      <td>90</td>\n",
       "      <td>-0.033293</td>\n",
       "      <td>-0.013752</td>\n",
       "      <td>0.057745</td>\n",
       "      <td>0.608711</td>\n",
       "      <td>0.356196</td>\n",
       "      <td>2</td>\n",
       "    </tr>\n",
       "    <tr>\n",
       "      <th>67</th>\n",
       "      <td>2.187447</td>\n",
       "      <td>-1.749832</td>\n",
       "      <td>-0.433889</td>\n",
       "      <td>51.989788</td>\n",
       "      <td>528.593994</td>\n",
       "      <td>114</td>\n",
       "      <td>-0.050181</td>\n",
       "      <td>-0.000189</td>\n",
       "      <td>0.001036</td>\n",
       "      <td>0.659014</td>\n",
       "      <td>0.395579</td>\n",
       "      <td>2</td>\n",
       "    </tr>\n",
       "    <tr>\n",
       "      <th>68</th>\n",
       "      <td>2.120431</td>\n",
       "      <td>-1.909355</td>\n",
       "      <td>-0.495059</td>\n",
       "      <td>52.013168</td>\n",
       "      <td>530.638123</td>\n",
       "      <td>114</td>\n",
       "      <td>-0.044553</td>\n",
       "      <td>-0.000182</td>\n",
       "      <td>0.000964</td>\n",
       "      <td>0.650158</td>\n",
       "      <td>0.390803</td>\n",
       "      <td>2</td>\n",
       "    </tr>\n",
       "    <tr>\n",
       "      <th>69</th>\n",
       "      <td>2.216498</td>\n",
       "      <td>-1.689917</td>\n",
       "      <td>-0.409832</td>\n",
       "      <td>52.015873</td>\n",
       "      <td>530.104797</td>\n",
       "      <td>114</td>\n",
       "      <td>-0.050778</td>\n",
       "      <td>-0.000008</td>\n",
       "      <td>0.000035</td>\n",
       "      <td>0.662203</td>\n",
       "      <td>0.398514</td>\n",
       "      <td>2</td>\n",
       "    </tr>\n",
       "    <tr>\n",
       "      <th>70</th>\n",
       "      <td>2.830503</td>\n",
       "      <td>-0.090625</td>\n",
       "      <td>-0.451244</td>\n",
       "      <td>54.014034</td>\n",
       "      <td>536.217651</td>\n",
       "      <td>114</td>\n",
       "      <td>-0.131443</td>\n",
       "      <td>-0.053384</td>\n",
       "      <td>0.219370</td>\n",
       "      <td>0.720425</td>\n",
       "      <td>0.433686</td>\n",
       "      <td>2</td>\n",
       "    </tr>\n",
       "    <tr>\n",
       "      <th>71</th>\n",
       "      <td>1.841299</td>\n",
       "      <td>-1.258288</td>\n",
       "      <td>-0.093364</td>\n",
       "      <td>46.994884</td>\n",
       "      <td>450.390137</td>\n",
       "      <td>104</td>\n",
       "      <td>-0.058804</td>\n",
       "      <td>-0.000012</td>\n",
       "      <td>0.000600</td>\n",
       "      <td>0.674761</td>\n",
       "      <td>0.409552</td>\n",
       "      <td>2</td>\n",
       "    </tr>\n",
       "    <tr>\n",
       "      <th>72</th>\n",
       "      <td>3.090762</td>\n",
       "      <td>0.098550</td>\n",
       "      <td>-0.527648</td>\n",
       "      <td>55.977230</td>\n",
       "      <td>562.537109</td>\n",
       "      <td>118</td>\n",
       "      <td>-0.142934</td>\n",
       "      <td>-0.060878</td>\n",
       "      <td>0.253439</td>\n",
       "      <td>0.728838</td>\n",
       "      <td>0.439721</td>\n",
       "      <td>2</td>\n",
       "    </tr>\n",
       "    <tr>\n",
       "      <th>73</th>\n",
       "      <td>1.091831</td>\n",
       "      <td>-0.852502</td>\n",
       "      <td>0.306694</td>\n",
       "      <td>39.003159</td>\n",
       "      <td>338.550415</td>\n",
       "      <td>82</td>\n",
       "      <td>-0.069586</td>\n",
       "      <td>-0.000689</td>\n",
       "      <td>0.005279</td>\n",
       "      <td>0.680977</td>\n",
       "      <td>0.411917</td>\n",
       "      <td>2</td>\n",
       "    </tr>\n",
       "    <tr>\n",
       "      <th>74</th>\n",
       "      <td>3.370237</td>\n",
       "      <td>0.172254</td>\n",
       "      <td>0.036255</td>\n",
       "      <td>55.993900</td>\n",
       "      <td>561.240906</td>\n",
       "      <td>118</td>\n",
       "      <td>-0.162477</td>\n",
       "      <td>-0.013197</td>\n",
       "      <td>0.059142</td>\n",
       "      <td>0.743544</td>\n",
       "      <td>0.445352</td>\n",
       "      <td>2</td>\n",
       "    </tr>\n",
       "    <tr>\n",
       "      <th>75</th>\n",
       "      <td>3.481463</td>\n",
       "      <td>-0.177043</td>\n",
       "      <td>0.002226</td>\n",
       "      <td>58.015995</td>\n",
       "      <td>590.939941</td>\n",
       "      <td>122</td>\n",
       "      <td>-0.144651</td>\n",
       "      <td>-0.000157</td>\n",
       "      <td>0.000479</td>\n",
       "      <td>0.737630</td>\n",
       "      <td>0.439964</td>\n",
       "      <td>2</td>\n",
       "    </tr>\n",
       "    <tr>\n",
       "      <th>76</th>\n",
       "      <td>2.020541</td>\n",
       "      <td>0.515376</td>\n",
       "      <td>0.731785</td>\n",
       "      <td>41.991051</td>\n",
       "      <td>373.147583</td>\n",
       "      <td>86</td>\n",
       "      <td>-0.146331</td>\n",
       "      <td>-0.000924</td>\n",
       "      <td>0.008568</td>\n",
       "      <td>0.744701</td>\n",
       "      <td>0.451812</td>\n",
       "      <td>2</td>\n",
       "    </tr>\n",
       "    <tr>\n",
       "      <th>77</th>\n",
       "      <td>0.962383</td>\n",
       "      <td>-1.549342</td>\n",
       "      <td>0.004413</td>\n",
       "      <td>41.016750</td>\n",
       "      <td>360.532227</td>\n",
       "      <td>84</td>\n",
       "      <td>-0.049244</td>\n",
       "      <td>-0.000275</td>\n",
       "      <td>0.002080</td>\n",
       "      <td>0.652664</td>\n",
       "      <td>0.386140</td>\n",
       "      <td>2</td>\n",
       "    </tr>\n",
       "    <tr>\n",
       "      <th>78</th>\n",
       "      <td>1.808423</td>\n",
       "      <td>-0.016545</td>\n",
       "      <td>0.545668</td>\n",
       "      <td>40.995365</td>\n",
       "      <td>360.838043</td>\n",
       "      <td>88</td>\n",
       "      <td>-0.147620</td>\n",
       "      <td>-0.000461</td>\n",
       "      <td>0.001545</td>\n",
       "      <td>0.720137</td>\n",
       "      <td>0.421548</td>\n",
       "      <td>2</td>\n",
       "    </tr>\n",
       "    <tr>\n",
       "      <th>79</th>\n",
       "      <td>1.466283</td>\n",
       "      <td>0.093528</td>\n",
       "      <td>0.208007</td>\n",
       "      <td>39.014606</td>\n",
       "      <td>342.556946</td>\n",
       "      <td>84</td>\n",
       "      <td>-0.133061</td>\n",
       "      <td>-0.033553</td>\n",
       "      <td>0.183828</td>\n",
       "      <td>0.714568</td>\n",
       "      <td>0.422425</td>\n",
       "      <td>2</td>\n",
       "    </tr>\n",
       "    <tr>\n",
       "      <th>80</th>\n",
       "      <td>1.573287</td>\n",
       "      <td>-0.198999</td>\n",
       "      <td>-1.853769</td>\n",
       "      <td>48.015408</td>\n",
       "      <td>456.583130</td>\n",
       "      <td>106</td>\n",
       "      <td>-0.095465</td>\n",
       "      <td>-0.192202</td>\n",
       "      <td>0.744726</td>\n",
       "      <td>0.675578</td>\n",
       "      <td>0.405066</td>\n",
       "      <td>2</td>\n",
       "    </tr>\n",
       "    <tr>\n",
       "      <th>81</th>\n",
       "      <td>1.531121</td>\n",
       "      <td>-1.752298</td>\n",
       "      <td>-0.356282</td>\n",
       "      <td>45.998219</td>\n",
       "      <td>450.064880</td>\n",
       "      <td>102</td>\n",
       "      <td>-0.044083</td>\n",
       "      <td>-0.004412</td>\n",
       "      <td>0.053675</td>\n",
       "      <td>0.648577</td>\n",
       "      <td>0.387530</td>\n",
       "      <td>2</td>\n",
       "    </tr>\n",
       "    <tr>\n",
       "      <th>82</th>\n",
       "      <td>2.256015</td>\n",
       "      <td>-0.982234</td>\n",
       "      <td>-0.382965</td>\n",
       "      <td>51.007839</td>\n",
       "      <td>503.755432</td>\n",
       "      <td>110</td>\n",
       "      <td>-0.078732</td>\n",
       "      <td>-0.028378</td>\n",
       "      <td>0.086027</td>\n",
       "      <td>0.685053</td>\n",
       "      <td>0.414574</td>\n",
       "      <td>2</td>\n",
       "    </tr>\n",
       "    <tr>\n",
       "      <th>83</th>\n",
       "      <td>3.520339</td>\n",
       "      <td>-0.109441</td>\n",
       "      <td>0.027356</td>\n",
       "      <td>58.008533</td>\n",
       "      <td>590.939941</td>\n",
       "      <td>122</td>\n",
       "      <td>-0.150382</td>\n",
       "      <td>-0.000063</td>\n",
       "      <td>0.000129</td>\n",
       "      <td>0.740694</td>\n",
       "      <td>0.440715</td>\n",
       "      <td>2</td>\n",
       "    </tr>\n",
       "    <tr>\n",
       "      <th>84</th>\n",
       "      <td>2.806616</td>\n",
       "      <td>0.685764</td>\n",
       "      <td>-0.174619</td>\n",
       "      <td>51.000004</td>\n",
       "      <td>478.954010</td>\n",
       "      <td>108</td>\n",
       "      <td>-0.175846</td>\n",
       "      <td>-0.059593</td>\n",
       "      <td>0.274520</td>\n",
       "      <td>0.742174</td>\n",
       "      <td>0.448909</td>\n",
       "      <td>2</td>\n",
       "    </tr>\n",
       "    <tr>\n",
       "      <th>85</th>\n",
       "      <td>2.289120</td>\n",
       "      <td>0.381881</td>\n",
       "      <td>-0.297865</td>\n",
       "      <td>47.018047</td>\n",
       "      <td>441.185028</td>\n",
       "      <td>102</td>\n",
       "      <td>-0.154417</td>\n",
       "      <td>-0.064879</td>\n",
       "      <td>0.331124</td>\n",
       "      <td>0.727675</td>\n",
       "      <td>0.432806</td>\n",
       "      <td>2</td>\n",
       "    </tr>\n",
       "    <tr>\n",
       "      <th>86</th>\n",
       "      <td>1.476075</td>\n",
       "      <td>-2.053119</td>\n",
       "      <td>-0.578015</td>\n",
       "      <td>47.010860</td>\n",
       "      <td>465.533295</td>\n",
       "      <td>102</td>\n",
       "      <td>-0.048442</td>\n",
       "      <td>-0.018026</td>\n",
       "      <td>0.051812</td>\n",
       "      <td>0.628981</td>\n",
       "      <td>0.371043</td>\n",
       "      <td>2</td>\n",
       "    </tr>\n",
       "    <tr>\n",
       "      <th>87</th>\n",
       "      <td>0.788622</td>\n",
       "      <td>-2.834592</td>\n",
       "      <td>-0.647595</td>\n",
       "      <td>43.009041</td>\n",
       "      <td>419.727936</td>\n",
       "      <td>94</td>\n",
       "      <td>-0.023466</td>\n",
       "      <td>-0.005565</td>\n",
       "      <td>0.021207</td>\n",
       "      <td>0.585241</td>\n",
       "      <td>0.340873</td>\n",
       "      <td>2</td>\n",
       "    </tr>\n",
       "    <tr>\n",
       "      <th>88</th>\n",
       "      <td>2.429315</td>\n",
       "      <td>0.074748</td>\n",
       "      <td>0.394301</td>\n",
       "      <td>48.002605</td>\n",
       "      <td>451.519043</td>\n",
       "      <td>98</td>\n",
       "      <td>-0.129501</td>\n",
       "      <td>-0.001607</td>\n",
       "      <td>0.007517</td>\n",
       "      <td>0.734231</td>\n",
       "      <td>0.444648</td>\n",
       "      <td>2</td>\n",
       "    </tr>\n",
       "    <tr>\n",
       "      <th>89</th>\n",
       "      <td>1.603260</td>\n",
       "      <td>0.255947</td>\n",
       "      <td>-0.101083</td>\n",
       "      <td>40.988037</td>\n",
       "      <td>368.419434</td>\n",
       "      <td>88</td>\n",
       "      <td>-0.132085</td>\n",
       "      <td>-0.058272</td>\n",
       "      <td>0.312480</td>\n",
       "      <td>0.719883</td>\n",
       "      <td>0.426898</td>\n",
       "      <td>2</td>\n",
       "    </tr>\n",
       "    <tr>\n",
       "      <th>90</th>\n",
       "      <td>1.392108</td>\n",
       "      <td>-0.452809</td>\n",
       "      <td>0.193969</td>\n",
       "      <td>40.012447</td>\n",
       "      <td>358.815704</td>\n",
       "      <td>86</td>\n",
       "      <td>-0.102127</td>\n",
       "      <td>-0.015262</td>\n",
       "      <td>0.101642</td>\n",
       "      <td>0.698164</td>\n",
       "      <td>0.413691</td>\n",
       "      <td>2</td>\n",
       "    </tr>\n",
       "    <tr>\n",
       "      <th>91</th>\n",
       "      <td>2.175126</td>\n",
       "      <td>-0.802610</td>\n",
       "      <td>-0.564587</td>\n",
       "      <td>51.015411</td>\n",
       "      <td>496.531708</td>\n",
       "      <td>106</td>\n",
       "      <td>-0.091886</td>\n",
       "      <td>-0.053912</td>\n",
       "      <td>0.172637</td>\n",
       "      <td>0.687863</td>\n",
       "      <td>0.409682</td>\n",
       "      <td>2</td>\n",
       "    </tr>\n",
       "    <tr>\n",
       "      <th>92</th>\n",
       "      <td>4.043155</td>\n",
       "      <td>0.390114</td>\n",
       "      <td>0.131605</td>\n",
       "      <td>59.997257</td>\n",
       "      <td>631.815186</td>\n",
       "      <td>128</td>\n",
       "      <td>-0.187306</td>\n",
       "      <td>-0.000196</td>\n",
       "      <td>0.001251</td>\n",
       "      <td>0.757601</td>\n",
       "      <td>0.458315</td>\n",
       "      <td>2</td>\n",
       "    </tr>\n",
       "    <tr>\n",
       "      <th>93</th>\n",
       "      <td>1.397256</td>\n",
       "      <td>-0.113903</td>\n",
       "      <td>0.215831</td>\n",
       "      <td>39.008621</td>\n",
       "      <td>340.956604</td>\n",
       "      <td>84</td>\n",
       "      <td>-0.122630</td>\n",
       "      <td>-0.027623</td>\n",
       "      <td>0.146857</td>\n",
       "      <td>0.708412</td>\n",
       "      <td>0.417351</td>\n",
       "      <td>2</td>\n",
       "    </tr>\n",
       "    <tr>\n",
       "      <th>94</th>\n",
       "      <td>1.660360</td>\n",
       "      <td>-1.536771</td>\n",
       "      <td>-0.217104</td>\n",
       "      <td>46.008797</td>\n",
       "      <td>447.441895</td>\n",
       "      <td>102</td>\n",
       "      <td>-0.057728</td>\n",
       "      <td>-0.000755</td>\n",
       "      <td>0.024943</td>\n",
       "      <td>0.660892</td>\n",
       "      <td>0.392663</td>\n",
       "      <td>2</td>\n",
       "    </tr>\n",
       "    <tr>\n",
       "      <th>95</th>\n",
       "      <td>1.981056</td>\n",
       "      <td>-0.738563</td>\n",
       "      <td>0.056952</td>\n",
       "      <td>46.990685</td>\n",
       "      <td>443.999084</td>\n",
       "      <td>100</td>\n",
       "      <td>-0.082566</td>\n",
       "      <td>-0.006544</td>\n",
       "      <td>0.019707</td>\n",
       "      <td>0.696008</td>\n",
       "      <td>0.423070</td>\n",
       "      <td>2</td>\n",
       "    </tr>\n",
       "    <tr>\n",
       "      <th>96</th>\n",
       "      <td>1.887427</td>\n",
       "      <td>-1.268792</td>\n",
       "      <td>-0.122869</td>\n",
       "      <td>48.008808</td>\n",
       "      <td>462.583099</td>\n",
       "      <td>102</td>\n",
       "      <td>-0.063893</td>\n",
       "      <td>-0.001150</td>\n",
       "      <td>0.004818</td>\n",
       "      <td>0.675382</td>\n",
       "      <td>0.406148</td>\n",
       "      <td>2</td>\n",
       "    </tr>\n",
       "    <tr>\n",
       "      <th>97</th>\n",
       "      <td>1.428419</td>\n",
       "      <td>-1.496917</td>\n",
       "      <td>-0.252422</td>\n",
       "      <td>44.007874</td>\n",
       "      <td>421.264374</td>\n",
       "      <td>98</td>\n",
       "      <td>-0.057306</td>\n",
       "      <td>-0.010695</td>\n",
       "      <td>0.061250</td>\n",
       "      <td>0.656482</td>\n",
       "      <td>0.390359</td>\n",
       "      <td>2</td>\n",
       "    </tr>\n",
       "    <tr>\n",
       "      <th>98</th>\n",
       "      <td>1.531121</td>\n",
       "      <td>-1.752298</td>\n",
       "      <td>-0.356282</td>\n",
       "      <td>45.998219</td>\n",
       "      <td>450.064850</td>\n",
       "      <td>102</td>\n",
       "      <td>-0.044083</td>\n",
       "      <td>-0.004412</td>\n",
       "      <td>0.053675</td>\n",
       "      <td>0.648577</td>\n",
       "      <td>0.387530</td>\n",
       "      <td>2</td>\n",
       "    </tr>\n",
       "    <tr>\n",
       "      <th>99</th>\n",
       "      <td>2.554932</td>\n",
       "      <td>-0.018739</td>\n",
       "      <td>0.310582</td>\n",
       "      <td>49.006977</td>\n",
       "      <td>476.191589</td>\n",
       "      <td>102</td>\n",
       "      <td>-0.127119</td>\n",
       "      <td>-0.001565</td>\n",
       "      <td>0.009721</td>\n",
       "      <td>0.732402</td>\n",
       "      <td>0.443092</td>\n",
       "      <td>2</td>\n",
       "    </tr>\n",
       "    <tr>\n",
       "      <th>100</th>\n",
       "      <td>2.456856</td>\n",
       "      <td>0.032081</td>\n",
       "      <td>0.346737</td>\n",
       "      <td>47.986160</td>\n",
       "      <td>459.793976</td>\n",
       "      <td>100</td>\n",
       "      <td>-0.127869</td>\n",
       "      <td>-0.003147</td>\n",
       "      <td>0.013363</td>\n",
       "      <td>0.732381</td>\n",
       "      <td>0.443783</td>\n",
       "      <td>2</td>\n",
       "    </tr>\n",
       "    <tr>\n",
       "      <th>101</th>\n",
       "      <td>0.662300</td>\n",
       "      <td>1.987393</td>\n",
       "      <td>-5.450689</td>\n",
       "      <td>48.007408</td>\n",
       "      <td>461.067993</td>\n",
       "      <td>102</td>\n",
       "      <td>-0.111352</td>\n",
       "      <td>-0.547209</td>\n",
       "      <td>2.519987</td>\n",
       "      <td>0.691810</td>\n",
       "      <td>0.412389</td>\n",
       "      <td>2</td>\n",
       "    </tr>\n",
       "    <tr>\n",
       "      <th>102</th>\n",
       "      <td>1.289951</td>\n",
       "      <td>-0.455627</td>\n",
       "      <td>-1.330731</td>\n",
       "      <td>45.004894</td>\n",
       "      <td>413.678680</td>\n",
       "      <td>96</td>\n",
       "      <td>-0.088364</td>\n",
       "      <td>-0.131926</td>\n",
       "      <td>0.632666</td>\n",
       "      <td>0.671319</td>\n",
       "      <td>0.399279</td>\n",
       "      <td>2</td>\n",
       "    </tr>\n",
       "    <tr>\n",
       "      <th>103</th>\n",
       "      <td>1.308500</td>\n",
       "      <td>-0.757192</td>\n",
       "      <td>0.166867</td>\n",
       "      <td>41.995422</td>\n",
       "      <td>360.643524</td>\n",
       "      <td>84</td>\n",
       "      <td>-0.085317</td>\n",
       "      <td>-0.012750</td>\n",
       "      <td>0.038481</td>\n",
       "      <td>0.682639</td>\n",
       "      <td>0.410769</td>\n",
       "      <td>2</td>\n",
       "    </tr>\n",
       "    <tr>\n",
       "      <th>104</th>\n",
       "      <td>-2.168109</td>\n",
       "      <td>-0.356876</td>\n",
       "      <td>0.641631</td>\n",
       "      <td>6.998700</td>\n",
       "      <td>25.833300</td>\n",
       "      <td>14</td>\n",
       "      <td>-0.006900</td>\n",
       "      <td>-0.059600</td>\n",
       "      <td>0.288100</td>\n",
       "      <td>0.640300</td>\n",
       "      <td>0.416000</td>\n",
       "      <td>3</td>\n",
       "    </tr>\n",
       "    <tr>\n",
       "      <th>105</th>\n",
       "      <td>-1.541826</td>\n",
       "      <td>-0.198236</td>\n",
       "      <td>1.368424</td>\n",
       "      <td>9.001500</td>\n",
       "      <td>41.000000</td>\n",
       "      <td>20</td>\n",
       "      <td>-0.033900</td>\n",
       "      <td>0.000000</td>\n",
       "      <td>0.000100</td>\n",
       "      <td>0.675300</td>\n",
       "      <td>0.424300</td>\n",
       "      <td>3</td>\n",
       "    </tr>\n",
       "    <tr>\n",
       "      <th>106</th>\n",
       "      <td>-1.569845</td>\n",
       "      <td>-0.278714</td>\n",
       "      <td>1.332812</td>\n",
       "      <td>9.000000</td>\n",
       "      <td>41.000000</td>\n",
       "      <td>20</td>\n",
       "      <td>-0.034400</td>\n",
       "      <td>-0.000400</td>\n",
       "      <td>0.001300</td>\n",
       "      <td>0.671400</td>\n",
       "      <td>0.419600</td>\n",
       "      <td>3</td>\n",
       "    </tr>\n",
       "    <tr>\n",
       "      <th>107</th>\n",
       "      <td>-1.543763</td>\n",
       "      <td>-0.207090</td>\n",
       "      <td>1.364800</td>\n",
       "      <td>9.001000</td>\n",
       "      <td>41.000000</td>\n",
       "      <td>20</td>\n",
       "      <td>-0.034300</td>\n",
       "      <td>0.000000</td>\n",
       "      <td>0.000100</td>\n",
       "      <td>0.674900</td>\n",
       "      <td>0.423600</td>\n",
       "      <td>3</td>\n",
       "    </tr>\n",
       "    <tr>\n",
       "      <th>108</th>\n",
       "      <td>-2.061193</td>\n",
       "      <td>2.165480</td>\n",
       "      <td>-1.261681</td>\n",
       "      <td>8.000800</td>\n",
       "      <td>31.566700</td>\n",
       "      <td>16</td>\n",
       "      <td>-0.085500</td>\n",
       "      <td>-0.274600</td>\n",
       "      <td>1.468200</td>\n",
       "      <td>0.705100</td>\n",
       "      <td>0.447800</td>\n",
       "      <td>3</td>\n",
       "    </tr>\n",
       "    <tr>\n",
       "      <th>109</th>\n",
       "      <td>-2.553631</td>\n",
       "      <td>-0.274019</td>\n",
       "      <td>-0.617962</td>\n",
       "      <td>7.998700</td>\n",
       "      <td>32.166700</td>\n",
       "      <td>16</td>\n",
       "      <td>-0.006100</td>\n",
       "      <td>-0.164800</td>\n",
       "      <td>0.775300</td>\n",
       "      <td>0.612500</td>\n",
       "      <td>0.397600</td>\n",
       "      <td>3</td>\n",
       "    </tr>\n",
       "    <tr>\n",
       "      <th>110</th>\n",
       "      <td>-1.260621</td>\n",
       "      <td>0.543977</td>\n",
       "      <td>1.664856</td>\n",
       "      <td>7.999600</td>\n",
       "      <td>32.066700</td>\n",
       "      <td>16</td>\n",
       "      <td>-0.095100</td>\n",
       "      <td>-0.000300</td>\n",
       "      <td>0.001800</td>\n",
       "      <td>0.698600</td>\n",
       "      <td>0.436100</td>\n",
       "      <td>3</td>\n",
       "    </tr>\n",
       "    <tr>\n",
       "      <th>111</th>\n",
       "      <td>-1.584933</td>\n",
       "      <td>1.507599</td>\n",
       "      <td>0.365860</td>\n",
       "      <td>7.999600</td>\n",
       "      <td>31.566700</td>\n",
       "      <td>16</td>\n",
       "      <td>-0.081400</td>\n",
       "      <td>-0.131500</td>\n",
       "      <td>0.683800</td>\n",
       "      <td>0.715400</td>\n",
       "      <td>0.454800</td>\n",
       "      <td>3</td>\n",
       "    </tr>\n",
       "    <tr>\n",
       "      <th>112</th>\n",
       "      <td>-2.102381</td>\n",
       "      <td>-0.239842</td>\n",
       "      <td>0.701817</td>\n",
       "      <td>6.999100</td>\n",
       "      <td>25.833300</td>\n",
       "      <td>14</td>\n",
       "      <td>-0.012900</td>\n",
       "      <td>-0.058100</td>\n",
       "      <td>0.281800</td>\n",
       "      <td>0.647200</td>\n",
       "      <td>0.419000</td>\n",
       "      <td>3</td>\n",
       "    </tr>\n",
       "    <tr>\n",
       "      <th>113</th>\n",
       "      <td>-2.095469</td>\n",
       "      <td>-0.354807</td>\n",
       "      <td>0.800803</td>\n",
       "      <td>7.000400</td>\n",
       "      <td>25.833300</td>\n",
       "      <td>14</td>\n",
       "      <td>-0.010900</td>\n",
       "      <td>-0.046800</td>\n",
       "      <td>0.224500</td>\n",
       "      <td>0.644000</td>\n",
       "      <td>0.417400</td>\n",
       "      <td>3</td>\n",
       "    </tr>\n",
       "    <tr>\n",
       "      <th>114</th>\n",
       "      <td>-1.632893</td>\n",
       "      <td>2.679315</td>\n",
       "      <td>-0.332617</td>\n",
       "      <td>6.998800</td>\n",
       "      <td>25.666700</td>\n",
       "      <td>14</td>\n",
       "      <td>-0.112300</td>\n",
       "      <td>-0.214000</td>\n",
       "      <td>1.200700</td>\n",
       "      <td>0.737900</td>\n",
       "      <td>0.479100</td>\n",
       "      <td>3</td>\n",
       "    </tr>\n",
       "    <tr>\n",
       "      <th>115</th>\n",
       "      <td>-2.136406</td>\n",
       "      <td>-0.435938</td>\n",
       "      <td>0.762913</td>\n",
       "      <td>6.998700</td>\n",
       "      <td>25.833300</td>\n",
       "      <td>14</td>\n",
       "      <td>-0.007600</td>\n",
       "      <td>-0.047800</td>\n",
       "      <td>0.225700</td>\n",
       "      <td>0.639600</td>\n",
       "      <td>0.414800</td>\n",
       "      <td>3</td>\n",
       "    </tr>\n",
       "    <tr>\n",
       "      <th>116</th>\n",
       "      <td>-2.452494</td>\n",
       "      <td>-0.878400</td>\n",
       "      <td>0.084322</td>\n",
       "      <td>8.001400</td>\n",
       "      <td>32.166700</td>\n",
       "      <td>16</td>\n",
       "      <td>0.006000</td>\n",
       "      <td>-0.088600</td>\n",
       "      <td>0.413300</td>\n",
       "      <td>0.600000</td>\n",
       "      <td>0.393700</td>\n",
       "      <td>3</td>\n",
       "    </tr>\n",
       "    <tr>\n",
       "      <th>117</th>\n",
       "      <td>-2.818323</td>\n",
       "      <td>-2.891397</td>\n",
       "      <td>0.313863</td>\n",
       "      <td>8.999500</td>\n",
       "      <td>39.333300</td>\n",
       "      <td>18</td>\n",
       "      <td>0.043600</td>\n",
       "      <td>-0.004500</td>\n",
       "      <td>0.021500</td>\n",
       "      <td>0.512600</td>\n",
       "      <td>0.336400</td>\n",
       "      <td>3</td>\n",
       "    </tr>\n",
       "    <tr>\n",
       "      <th>118</th>\n",
       "      <td>-1.254833</td>\n",
       "      <td>0.579404</td>\n",
       "      <td>1.684084</td>\n",
       "      <td>7.998700</td>\n",
       "      <td>32.066700</td>\n",
       "      <td>16</td>\n",
       "      <td>-0.091900</td>\n",
       "      <td>0.000000</td>\n",
       "      <td>0.000000</td>\n",
       "      <td>0.700700</td>\n",
       "      <td>0.439600</td>\n",
       "      <td>3</td>\n",
       "    </tr>\n",
       "    <tr>\n",
       "      <th>119</th>\n",
       "      <td>-2.460549</td>\n",
       "      <td>-0.849363</td>\n",
       "      <td>0.025678</td>\n",
       "      <td>8.000900</td>\n",
       "      <td>32.166700</td>\n",
       "      <td>16</td>\n",
       "      <td>0.004200</td>\n",
       "      <td>-0.094300</td>\n",
       "      <td>0.439700</td>\n",
       "      <td>0.601200</td>\n",
       "      <td>0.392100</td>\n",
       "      <td>3</td>\n",
       "    </tr>\n",
       "    <tr>\n",
       "      <th>120</th>\n",
       "      <td>-1.521545</td>\n",
       "      <td>1.661152</td>\n",
       "      <td>0.641647</td>\n",
       "      <td>7.000800</td>\n",
       "      <td>25.666700</td>\n",
       "      <td>14</td>\n",
       "      <td>-0.094100</td>\n",
       "      <td>-0.118800</td>\n",
       "      <td>0.591300</td>\n",
       "      <td>0.717300</td>\n",
       "      <td>0.464300</td>\n",
       "      <td>3</td>\n",
       "    </tr>\n",
       "    <tr>\n",
       "      <th>121</th>\n",
       "      <td>-2.467947</td>\n",
       "      <td>-1.933235</td>\n",
       "      <td>0.722177</td>\n",
       "      <td>7.999600</td>\n",
       "      <td>32.833300</td>\n",
       "      <td>16</td>\n",
       "      <td>0.022000</td>\n",
       "      <td>-0.002200</td>\n",
       "      <td>0.013700</td>\n",
       "      <td>0.571300</td>\n",
       "      <td>0.368400</td>\n",
       "      <td>3</td>\n",
       "    </tr>\n",
       "    <tr>\n",
       "      <th>122</th>\n",
       "      <td>-1.214588</td>\n",
       "      <td>0.782485</td>\n",
       "      <td>1.762460</td>\n",
       "      <td>8.001700</td>\n",
       "      <td>32.000000</td>\n",
       "      <td>16</td>\n",
       "      <td>-0.084200</td>\n",
       "      <td>-0.000600</td>\n",
       "      <td>0.001000</td>\n",
       "      <td>0.707200</td>\n",
       "      <td>0.456200</td>\n",
       "      <td>3</td>\n",
       "    </tr>\n",
       "    <tr>\n",
       "      <th>123</th>\n",
       "      <td>-3.373422</td>\n",
       "      <td>-2.036646</td>\n",
       "      <td>-1.046951</td>\n",
       "      <td>6.999600</td>\n",
       "      <td>26.333300</td>\n",
       "      <td>14</td>\n",
       "      <td>0.045600</td>\n",
       "      <td>-0.144300</td>\n",
       "      <td>0.712800</td>\n",
       "      <td>0.503300</td>\n",
       "      <td>0.349000</td>\n",
       "      <td>3</td>\n",
       "    </tr>\n",
       "    <tr>\n",
       "      <th>124</th>\n",
       "      <td>-1.865864</td>\n",
       "      <td>0.277699</td>\n",
       "      <td>0.840283</td>\n",
       "      <td>7.001200</td>\n",
       "      <td>26.166700</td>\n",
       "      <td>14</td>\n",
       "      <td>-0.048900</td>\n",
       "      <td>-0.063500</td>\n",
       "      <td>0.295600</td>\n",
       "      <td>0.660600</td>\n",
       "      <td>0.432600</td>\n",
       "      <td>3</td>\n",
       "    </tr>\n",
       "    <tr>\n",
       "      <th>125</th>\n",
       "      <td>-2.089440</td>\n",
       "      <td>3.600161</td>\n",
       "      <td>-2.100772</td>\n",
       "      <td>6.999200</td>\n",
       "      <td>25.666700</td>\n",
       "      <td>14</td>\n",
       "      <td>-0.122600</td>\n",
       "      <td>-0.379500</td>\n",
       "      <td>2.065000</td>\n",
       "      <td>0.735900</td>\n",
       "      <td>0.477300</td>\n",
       "      <td>3</td>\n",
       "    </tr>\n",
       "    <tr>\n",
       "      <th>126</th>\n",
       "      <td>-2.154645</td>\n",
       "      <td>-0.618128</td>\n",
       "      <td>0.834925</td>\n",
       "      <td>7.000000</td>\n",
       "      <td>25.833300</td>\n",
       "      <td>14</td>\n",
       "      <td>-0.007600</td>\n",
       "      <td>-0.047300</td>\n",
       "      <td>0.116200</td>\n",
       "      <td>0.629600</td>\n",
       "      <td>0.410600</td>\n",
       "      <td>3</td>\n",
       "    </tr>\n",
       "    <tr>\n",
       "      <th>127</th>\n",
       "      <td>-2.839594</td>\n",
       "      <td>-2.366544</td>\n",
       "      <td>0.400507</td>\n",
       "      <td>7.000800</td>\n",
       "      <td>26.333300</td>\n",
       "      <td>14</td>\n",
       "      <td>0.037500</td>\n",
       "      <td>-0.017900</td>\n",
       "      <td>0.083200</td>\n",
       "      <td>0.533500</td>\n",
       "      <td>0.354700</td>\n",
       "      <td>3</td>\n",
       "    </tr>\n",
       "    <tr>\n",
       "      <th>128</th>\n",
       "      <td>-1.728568</td>\n",
       "      <td>3.075373</td>\n",
       "      <td>-0.834359</td>\n",
       "      <td>7.000400</td>\n",
       "      <td>25.666700</td>\n",
       "      <td>14</td>\n",
       "      <td>-0.116900</td>\n",
       "      <td>-0.272200</td>\n",
       "      <td>1.431700</td>\n",
       "      <td>0.743200</td>\n",
       "      <td>0.483600</td>\n",
       "      <td>3</td>\n",
       "    </tr>\n",
       "    <tr>\n",
       "      <th>129</th>\n",
       "      <td>-2.538513</td>\n",
       "      <td>-2.113029</td>\n",
       "      <td>0.660811</td>\n",
       "      <td>8.000400</td>\n",
       "      <td>32.833300</td>\n",
       "      <td>16</td>\n",
       "      <td>0.025200</td>\n",
       "      <td>-0.001900</td>\n",
       "      <td>0.009500</td>\n",
       "      <td>0.561900</td>\n",
       "      <td>0.361100</td>\n",
       "      <td>3</td>\n",
       "    </tr>\n",
       "    <tr>\n",
       "      <th>130</th>\n",
       "      <td>-2.518670</td>\n",
       "      <td>-0.615495</td>\n",
       "      <td>-0.276808</td>\n",
       "      <td>7.998200</td>\n",
       "      <td>32.166700</td>\n",
       "      <td>16</td>\n",
       "      <td>0.001000</td>\n",
       "      <td>-0.126400</td>\n",
       "      <td>0.592000</td>\n",
       "      <td>0.604100</td>\n",
       "      <td>0.394400</td>\n",
       "      <td>3</td>\n",
       "    </tr>\n",
       "    <tr>\n",
       "      <th>131</th>\n",
       "      <td>-1.164370</td>\n",
       "      <td>1.174646</td>\n",
       "      <td>1.700798</td>\n",
       "      <td>6.999600</td>\n",
       "      <td>26.166700</td>\n",
       "      <td>14</td>\n",
       "      <td>-0.118600</td>\n",
       "      <td>-0.018600</td>\n",
       "      <td>0.090200</td>\n",
       "      <td>0.713200</td>\n",
       "      <td>0.457000</td>\n",
       "      <td>3</td>\n",
       "    </tr>\n",
       "    <tr>\n",
       "      <th>132</th>\n",
       "      <td>-2.141361</td>\n",
       "      <td>-0.350028</td>\n",
       "      <td>0.689303</td>\n",
       "      <td>7.000400</td>\n",
       "      <td>25.833300</td>\n",
       "      <td>14</td>\n",
       "      <td>-0.009100</td>\n",
       "      <td>-0.055900</td>\n",
       "      <td>0.269900</td>\n",
       "      <td>0.642000</td>\n",
       "      <td>0.416000</td>\n",
       "      <td>3</td>\n",
       "    </tr>\n",
       "    <tr>\n",
       "      <th>133</th>\n",
       "      <td>-1.843047</td>\n",
       "      <td>-1.187259</td>\n",
       "      <td>0.899637</td>\n",
       "      <td>10.998900</td>\n",
       "      <td>55.700000</td>\n",
       "      <td>24</td>\n",
       "      <td>0.000000</td>\n",
       "      <td>-0.004200</td>\n",
       "      <td>0.019900</td>\n",
       "      <td>0.623400</td>\n",
       "      <td>0.393500</td>\n",
       "      <td>3</td>\n",
       "    </tr>\n",
       "    <tr>\n",
       "      <th>134</th>\n",
       "      <td>-1.609542</td>\n",
       "      <td>1.746685</td>\n",
       "      <td>-0.144908</td>\n",
       "      <td>9.001300</td>\n",
       "      <td>37.366700</td>\n",
       "      <td>18</td>\n",
       "      <td>-0.095900</td>\n",
       "      <td>-0.206400</td>\n",
       "      <td>0.771900</td>\n",
       "      <td>0.710400</td>\n",
       "      <td>0.451800</td>\n",
       "      <td>3</td>\n",
       "    </tr>\n",
       "    <tr>\n",
       "      <th>135</th>\n",
       "      <td>-1.241265</td>\n",
       "      <td>0.736497</td>\n",
       "      <td>1.742386</td>\n",
       "      <td>8.001700</td>\n",
       "      <td>32.000000</td>\n",
       "      <td>16</td>\n",
       "      <td>-0.080000</td>\n",
       "      <td>-0.000100</td>\n",
       "      <td>0.006300</td>\n",
       "      <td>0.705900</td>\n",
       "      <td>0.455300</td>\n",
       "      <td>3</td>\n",
       "    </tr>\n",
       "    <tr>\n",
       "      <th>136</th>\n",
       "      <td>-1.912367</td>\n",
       "      <td>-0.932239</td>\n",
       "      <td>1.046503</td>\n",
       "      <td>8.998600</td>\n",
       "      <td>39.066700</td>\n",
       "      <td>18</td>\n",
       "      <td>-0.019500</td>\n",
       "      <td>-0.004500</td>\n",
       "      <td>0.020700</td>\n",
       "      <td>0.629700</td>\n",
       "      <td>0.395600</td>\n",
       "      <td>3</td>\n",
       "    </tr>\n",
       "    <tr>\n",
       "      <th>137</th>\n",
       "      <td>-3.425083</td>\n",
       "      <td>0.982185</td>\n",
       "      <td>-3.512581</td>\n",
       "      <td>8.000400</td>\n",
       "      <td>32.166700</td>\n",
       "      <td>16</td>\n",
       "      <td>0.001100</td>\n",
       "      <td>-0.404400</td>\n",
       "      <td>2.274500</td>\n",
       "      <td>0.598500</td>\n",
       "      <td>0.395800</td>\n",
       "      <td>3</td>\n",
       "    </tr>\n",
       "    <tr>\n",
       "      <th>138</th>\n",
       "      <td>-2.363287</td>\n",
       "      <td>-1.033972</td>\n",
       "      <td>0.419739</td>\n",
       "      <td>7.999100</td>\n",
       "      <td>32.166700</td>\n",
       "      <td>16</td>\n",
       "      <td>0.005300</td>\n",
       "      <td>-0.044500</td>\n",
       "      <td>0.317300</td>\n",
       "      <td>0.598100</td>\n",
       "      <td>0.395100</td>\n",
       "      <td>3</td>\n",
       "    </tr>\n",
       "    <tr>\n",
       "      <th>139</th>\n",
       "      <td>-1.720977</td>\n",
       "      <td>0.910163</td>\n",
       "      <td>0.460481</td>\n",
       "      <td>7.998700</td>\n",
       "      <td>31.566700</td>\n",
       "      <td>16</td>\n",
       "      <td>-0.063700</td>\n",
       "      <td>-0.111000</td>\n",
       "      <td>0.531700</td>\n",
       "      <td>0.692900</td>\n",
       "      <td>0.439400</td>\n",
       "      <td>3</td>\n",
       "    </tr>\n",
       "    <tr>\n",
       "      <th>140</th>\n",
       "      <td>-2.405739</td>\n",
       "      <td>-0.724233</td>\n",
       "      <td>0.060063</td>\n",
       "      <td>7.998300</td>\n",
       "      <td>32.166700</td>\n",
       "      <td>16</td>\n",
       "      <td>-0.002600</td>\n",
       "      <td>-0.096900</td>\n",
       "      <td>0.436400</td>\n",
       "      <td>0.605700</td>\n",
       "      <td>0.395700</td>\n",
       "      <td>3</td>\n",
       "    </tr>\n",
       "    <tr>\n",
       "      <th>141</th>\n",
       "      <td>-2.278409</td>\n",
       "      <td>-1.535242</td>\n",
       "      <td>0.822333</td>\n",
       "      <td>7.998700</td>\n",
       "      <td>32.666700</td>\n",
       "      <td>16</td>\n",
       "      <td>-0.004500</td>\n",
       "      <td>-0.010500</td>\n",
       "      <td>0.008300</td>\n",
       "      <td>0.587500</td>\n",
       "      <td>0.376000</td>\n",
       "      <td>3</td>\n",
       "    </tr>\n",
       "    <tr>\n",
       "      <th>142</th>\n",
       "      <td>-2.578955</td>\n",
       "      <td>-1.112947</td>\n",
       "      <td>-0.307217</td>\n",
       "      <td>8.998600</td>\n",
       "      <td>38.566700</td>\n",
       "      <td>18</td>\n",
       "      <td>0.015500</td>\n",
       "      <td>-0.110600</td>\n",
       "      <td>0.526600</td>\n",
       "      <td>0.586500</td>\n",
       "      <td>0.379700</td>\n",
       "      <td>3</td>\n",
       "    </tr>\n",
       "    <tr>\n",
       "      <th>143</th>\n",
       "      <td>-3.081671</td>\n",
       "      <td>-3.472894</td>\n",
       "      <td>0.143067</td>\n",
       "      <td>9.000500</td>\n",
       "      <td>39.000000</td>\n",
       "      <td>18</td>\n",
       "      <td>0.047700</td>\n",
       "      <td>-0.000800</td>\n",
       "      <td>0.003400</td>\n",
       "      <td>0.456700</td>\n",
       "      <td>0.324500</td>\n",
       "      <td>3</td>\n",
       "    </tr>\n",
       "    <tr>\n",
       "      <th>144</th>\n",
       "      <td>-1.141462</td>\n",
       "      <td>0.730896</td>\n",
       "      <td>1.728759</td>\n",
       "      <td>9.001800</td>\n",
       "      <td>38.300000</td>\n",
       "      <td>18</td>\n",
       "      <td>-0.083100</td>\n",
       "      <td>0.008700</td>\n",
       "      <td>0.038500</td>\n",
       "      <td>0.710600</td>\n",
       "      <td>0.452800</td>\n",
       "      <td>3</td>\n",
       "    </tr>\n",
       "  </tbody>\n",
       "</table>\n",
       "</div>"
      ],
      "text/plain": [
       "          PC1       PC2       PC3         D1          D2   D3        D4  \\\n",
       "0   -1.186065  3.687838 -3.279560  21.996307  119.300545   42 -0.129873   \n",
       "1    0.366450  1.991757  1.909667  18.002651  111.988098   38 -0.192031   \n",
       "2   -1.565084 -1.877515 -1.813386  26.002590  196.702667   56  0.012251   \n",
       "3   -1.090178  2.634293 -2.284194  22.004517  119.300545   42 -0.103873   \n",
       "4   -0.938838  3.728481 -3.820418  23.003124  169.373093   50 -0.161954   \n",
       "5   -1.932183 -1.081749  0.961158  10.001482   45.800003   20 -0.001307   \n",
       "6   -0.627563  3.680706 -1.454182  20.003008  104.804337   38 -0.155427   \n",
       "7   -0.820877  2.764023 -0.623427  15.002267   81.028572   30 -0.175913   \n",
       "8    0.536644  2.677597  2.118314  17.003408  101.388100   36 -0.217380   \n",
       "9   -0.260192 -0.972099 -0.624451  29.999311  239.983139   64 -0.062927   \n",
       "10  -1.382484 -0.989411 -3.058676  30.007343  239.983124   64 -0.002348   \n",
       "11  -1.167464 -1.502302  0.631490  18.998100  121.163500   40 -0.032200   \n",
       "12  -0.433721  2.468295  0.569462  14.997700   81.903200   30 -0.171400   \n",
       "13  -1.450688  4.139895 -4.203633  21.997900  119.300500   42 -0.127000   \n",
       "14   0.293722  1.887651  1.594650  19.001600  120.635800   40 -0.178700   \n",
       "15  -0.017949  2.609357  0.323982  19.002600  119.508900   40 -0.193200   \n",
       "16  -0.875070  1.433113 -2.529276  25.002000  188.285200   54 -0.101100   \n",
       "17  -0.787105  2.788590 -0.221011  13.997200   73.900000   28 -0.161500   \n",
       "18  -1.975990 -3.281536 -0.422105  21.000600  139.818200   44  0.026700   \n",
       "19  -0.133491  2.205766  2.184513  12.002200   58.338100   24 -0.186700   \n",
       "20  -1.263597 -1.338556 -0.301757  21.003800  148.800000   46 -0.015800   \n",
       "21   1.420648  3.509923  2.411096  21.995600  145.367100   46 -0.272600   \n",
       "22  -0.234889  1.100893 -0.670522  24.996900  184.387800   54 -0.115200   \n",
       "23  -0.738059  1.361279  0.423927  15.997900   95.435700   34 -0.104900   \n",
       "24   1.228697  2.898618  2.161995  22.004900  152.595700   48 -0.255400   \n",
       "25  -1.227944 -1.646863  0.599336  19.003800  121.163500   40 -0.031300   \n",
       "26   0.399752  2.213996  1.968714  16.995900  103.557900   36 -0.220900   \n",
       "27  -1.302686 -1.115669 -1.631833  25.007300  188.285200   54 -0.027600   \n",
       "28   0.374889  2.099664  1.569006  19.000500  120.644600   40 -0.203400   \n",
       "29  -2.306227 -2.478042  0.199294  12.999400   67.566700   26  0.012800   \n",
       "30  -0.718261 -0.430152  1.116870  17.998800  112.719100   38 -0.080300   \n",
       "31  -0.067244  1.338301  1.421007  18.003300  113.830900   38 -0.144600   \n",
       "32  -0.872374 -1.016134  0.846754  19.002000  123.276200   40 -0.064500   \n",
       "33  -1.908016 -1.010615  0.963298  10.002000   45.800000   20 -0.004000   \n",
       "34   0.917983  3.357375  1.994981  19.002300  116.401200   40 -0.266200   \n",
       "35  -1.106295 -0.655060 -1.545459  24.999300  188.285200   54 -0.046400   \n",
       "36  -0.345515  0.173528  1.169773  19.999400  130.759500   42 -0.088700   \n",
       "37  -0.070523  1.894230  1.046546  17.996900  110.401600   38 -0.159200   \n",
       "38  -0.027446  1.949898  1.098455  18.001000  110.401600   38 -0.164300   \n",
       "39  -0.662754 -0.976629  0.735231  22.004700  149.216700   46 -0.054100   \n",
       "40  -1.847897 -1.631049 -1.518288  20.998700  149.471400   46 -0.006100   \n",
       "41   1.110565  2.884856  2.149676  20.996300  142.913000   46 -0.251200   \n",
       "42   0.453804  2.115213  1.980437  18.002700  111.988100   38 -0.207000   \n",
       "43  -0.205113  0.744865 -0.343163  25.006800  184.387800   54 -0.105200   \n",
       "44   0.234080  0.918991  0.321292  25.992600  195.592700   56 -0.126000   \n",
       "45   0.435202 -1.522152  0.146241  35.002251  291.711487   74 -0.059399   \n",
       "46   2.218433 -0.875127 -0.416274  51.008350  496.531738  106 -0.092846   \n",
       "47   1.960403 -1.277820 -0.135109  47.987919  469.752777  106 -0.061047   \n",
       "48   1.820918 -1.101013 -0.021195  46.994061  433.694580  100 -0.072264   \n",
       "49  -0.216608 -0.143560 -1.259213  30.991735  244.111542   66 -0.067771   \n",
       "50   3.083162  0.998613 -1.547231  59.009369  576.290771  118 -0.163102   \n",
       "51   1.224523 -0.680071 -2.343388  48.981926  462.398895  104 -0.065094   \n",
       "52   0.278988  1.402916 -1.469121  33.005386  252.075912   68 -0.114123   \n",
       "53   1.792668  0.351977 -0.105447  42.005699  384.425140   92 -0.138680   \n",
       "54   4.371041  0.449005  0.030941  63.025597  675.784546  134 -0.190126   \n",
       "55   2.280391  1.811107  0.763297  40.999294  349.725311   84 -0.201789   \n",
       "56   1.194229 -0.562311  0.345721  37.993641  331.137482   82 -0.100505   \n",
       "57   1.850590 -1.486136 -0.470197  48.986355  476.854370  106 -0.063554   \n",
       "58   0.522259 -2.735404 -0.456201  40.015846  369.143921   88 -0.024769   \n",
       "59   0.568818 -2.688907 -0.451915  40.006294  376.762573   88 -0.028853   \n",
       "60   0.859998 -2.512421 -0.434936  42.015957  399.018341   92 -0.042770   \n",
       "61   1.887313 -0.794319  0.083702  45.980476  436.200439   98 -0.081615   \n",
       "62   1.409124 -1.672665 -0.185964  44.997509  419.433289   98 -0.045016   \n",
       "63   1.829796 -0.814307  0.132196  45.990517  430.221771   94 -0.084316   \n",
       "64   2.003099 -1.656866 -0.339919  49.977581  498.277222  110 -0.050818   \n",
       "65   2.015258 -1.657587 -0.338280  50.007343  500.494629  110 -0.050342   \n",
       "66   0.750104 -2.314989 -0.486515  40.989933  388.169342   90 -0.033293   \n",
       "67   2.187447 -1.749832 -0.433889  51.989788  528.593994  114 -0.050181   \n",
       "68   2.120431 -1.909355 -0.495059  52.013168  530.638123  114 -0.044553   \n",
       "69   2.216498 -1.689917 -0.409832  52.015873  530.104797  114 -0.050778   \n",
       "70   2.830503 -0.090625 -0.451244  54.014034  536.217651  114 -0.131443   \n",
       "71   1.841299 -1.258288 -0.093364  46.994884  450.390137  104 -0.058804   \n",
       "72   3.090762  0.098550 -0.527648  55.977230  562.537109  118 -0.142934   \n",
       "73   1.091831 -0.852502  0.306694  39.003159  338.550415   82 -0.069586   \n",
       "74   3.370237  0.172254  0.036255  55.993900  561.240906  118 -0.162477   \n",
       "75   3.481463 -0.177043  0.002226  58.015995  590.939941  122 -0.144651   \n",
       "76   2.020541  0.515376  0.731785  41.991051  373.147583   86 -0.146331   \n",
       "77   0.962383 -1.549342  0.004413  41.016750  360.532227   84 -0.049244   \n",
       "78   1.808423 -0.016545  0.545668  40.995365  360.838043   88 -0.147620   \n",
       "79   1.466283  0.093528  0.208007  39.014606  342.556946   84 -0.133061   \n",
       "80   1.573287 -0.198999 -1.853769  48.015408  456.583130  106 -0.095465   \n",
       "81   1.531121 -1.752298 -0.356282  45.998219  450.064880  102 -0.044083   \n",
       "82   2.256015 -0.982234 -0.382965  51.007839  503.755432  110 -0.078732   \n",
       "83   3.520339 -0.109441  0.027356  58.008533  590.939941  122 -0.150382   \n",
       "84   2.806616  0.685764 -0.174619  51.000004  478.954010  108 -0.175846   \n",
       "85   2.289120  0.381881 -0.297865  47.018047  441.185028  102 -0.154417   \n",
       "86   1.476075 -2.053119 -0.578015  47.010860  465.533295  102 -0.048442   \n",
       "87   0.788622 -2.834592 -0.647595  43.009041  419.727936   94 -0.023466   \n",
       "88   2.429315  0.074748  0.394301  48.002605  451.519043   98 -0.129501   \n",
       "89   1.603260  0.255947 -0.101083  40.988037  368.419434   88 -0.132085   \n",
       "90   1.392108 -0.452809  0.193969  40.012447  358.815704   86 -0.102127   \n",
       "91   2.175126 -0.802610 -0.564587  51.015411  496.531708  106 -0.091886   \n",
       "92   4.043155  0.390114  0.131605  59.997257  631.815186  128 -0.187306   \n",
       "93   1.397256 -0.113903  0.215831  39.008621  340.956604   84 -0.122630   \n",
       "94   1.660360 -1.536771 -0.217104  46.008797  447.441895  102 -0.057728   \n",
       "95   1.981056 -0.738563  0.056952  46.990685  443.999084  100 -0.082566   \n",
       "96   1.887427 -1.268792 -0.122869  48.008808  462.583099  102 -0.063893   \n",
       "97   1.428419 -1.496917 -0.252422  44.007874  421.264374   98 -0.057306   \n",
       "98   1.531121 -1.752298 -0.356282  45.998219  450.064850  102 -0.044083   \n",
       "99   2.554932 -0.018739  0.310582  49.006977  476.191589  102 -0.127119   \n",
       "100  2.456856  0.032081  0.346737  47.986160  459.793976  100 -0.127869   \n",
       "101  0.662300  1.987393 -5.450689  48.007408  461.067993  102 -0.111352   \n",
       "102  1.289951 -0.455627 -1.330731  45.004894  413.678680   96 -0.088364   \n",
       "103  1.308500 -0.757192  0.166867  41.995422  360.643524   84 -0.085317   \n",
       "104 -2.168109 -0.356876  0.641631   6.998700   25.833300   14 -0.006900   \n",
       "105 -1.541826 -0.198236  1.368424   9.001500   41.000000   20 -0.033900   \n",
       "106 -1.569845 -0.278714  1.332812   9.000000   41.000000   20 -0.034400   \n",
       "107 -1.543763 -0.207090  1.364800   9.001000   41.000000   20 -0.034300   \n",
       "108 -2.061193  2.165480 -1.261681   8.000800   31.566700   16 -0.085500   \n",
       "109 -2.553631 -0.274019 -0.617962   7.998700   32.166700   16 -0.006100   \n",
       "110 -1.260621  0.543977  1.664856   7.999600   32.066700   16 -0.095100   \n",
       "111 -1.584933  1.507599  0.365860   7.999600   31.566700   16 -0.081400   \n",
       "112 -2.102381 -0.239842  0.701817   6.999100   25.833300   14 -0.012900   \n",
       "113 -2.095469 -0.354807  0.800803   7.000400   25.833300   14 -0.010900   \n",
       "114 -1.632893  2.679315 -0.332617   6.998800   25.666700   14 -0.112300   \n",
       "115 -2.136406 -0.435938  0.762913   6.998700   25.833300   14 -0.007600   \n",
       "116 -2.452494 -0.878400  0.084322   8.001400   32.166700   16  0.006000   \n",
       "117 -2.818323 -2.891397  0.313863   8.999500   39.333300   18  0.043600   \n",
       "118 -1.254833  0.579404  1.684084   7.998700   32.066700   16 -0.091900   \n",
       "119 -2.460549 -0.849363  0.025678   8.000900   32.166700   16  0.004200   \n",
       "120 -1.521545  1.661152  0.641647   7.000800   25.666700   14 -0.094100   \n",
       "121 -2.467947 -1.933235  0.722177   7.999600   32.833300   16  0.022000   \n",
       "122 -1.214588  0.782485  1.762460   8.001700   32.000000   16 -0.084200   \n",
       "123 -3.373422 -2.036646 -1.046951   6.999600   26.333300   14  0.045600   \n",
       "124 -1.865864  0.277699  0.840283   7.001200   26.166700   14 -0.048900   \n",
       "125 -2.089440  3.600161 -2.100772   6.999200   25.666700   14 -0.122600   \n",
       "126 -2.154645 -0.618128  0.834925   7.000000   25.833300   14 -0.007600   \n",
       "127 -2.839594 -2.366544  0.400507   7.000800   26.333300   14  0.037500   \n",
       "128 -1.728568  3.075373 -0.834359   7.000400   25.666700   14 -0.116900   \n",
       "129 -2.538513 -2.113029  0.660811   8.000400   32.833300   16  0.025200   \n",
       "130 -2.518670 -0.615495 -0.276808   7.998200   32.166700   16  0.001000   \n",
       "131 -1.164370  1.174646  1.700798   6.999600   26.166700   14 -0.118600   \n",
       "132 -2.141361 -0.350028  0.689303   7.000400   25.833300   14 -0.009100   \n",
       "133 -1.843047 -1.187259  0.899637  10.998900   55.700000   24  0.000000   \n",
       "134 -1.609542  1.746685 -0.144908   9.001300   37.366700   18 -0.095900   \n",
       "135 -1.241265  0.736497  1.742386   8.001700   32.000000   16 -0.080000   \n",
       "136 -1.912367 -0.932239  1.046503   8.998600   39.066700   18 -0.019500   \n",
       "137 -3.425083  0.982185 -3.512581   8.000400   32.166700   16  0.001100   \n",
       "138 -2.363287 -1.033972  0.419739   7.999100   32.166700   16  0.005300   \n",
       "139 -1.720977  0.910163  0.460481   7.998700   31.566700   16 -0.063700   \n",
       "140 -2.405739 -0.724233  0.060063   7.998300   32.166700   16 -0.002600   \n",
       "141 -2.278409 -1.535242  0.822333   7.998700   32.666700   16 -0.004500   \n",
       "142 -2.578955 -1.112947 -0.307217   8.998600   38.566700   18  0.015500   \n",
       "143 -3.081671 -3.472894  0.143067   9.000500   39.000000   18  0.047700   \n",
       "144 -1.141462  0.730896  1.728759   9.001800   38.300000   18 -0.083100   \n",
       "\n",
       "           D5        D6        D7        D8 Class  \n",
       "0   -0.461116  2.354662  0.739296  0.475639     1  \n",
       "1   -0.003431  0.010324  0.772352  0.479507     1  \n",
       "2   -0.149585  0.937021  0.546386  0.348632     1  \n",
       "3   -0.357562  1.760567  0.720476  0.462141     1  \n",
       "4   -0.516773  2.444123  0.743189  0.451499     1  \n",
       "5   -0.005326  0.025180  0.625161  0.397128     1  \n",
       "6   -0.316281  1.652655  0.767007  0.502759     1  \n",
       "7   -0.267525  1.026331  0.742105  0.461606     1  \n",
       "8   -0.009711  0.039880  0.795678  0.503703     1  \n",
       "9   -0.130794  0.258319  0.630174  0.377212     1  \n",
       "10  -0.325625  1.241003  0.567052  0.360075     1  \n",
       "11   0.009000  0.035900  0.612400  0.374900     1  \n",
       "12  -0.133500  0.651000  0.759800  0.474200     1  \n",
       "13  -0.535800  2.857500  0.739100  0.476400     1  \n",
       "14  -0.026000  0.100300  0.766700  0.474700     1  \n",
       "15  -0.159200  0.669600  0.761800  0.475700     1  \n",
       "16  -0.372500  1.405100  0.686300  0.409400     1  \n",
       "17  -0.224500  0.949500  0.755100  0.474200     1  \n",
       "18  -0.026600  0.132300  0.487500  0.324900     1  \n",
       "19   0.006800  0.037200  0.771500  0.488300     1  \n",
       "20  -0.081900  0.329700  0.607200  0.373500     1  \n",
       "21   0.000000  0.000000  0.827500  0.537600     1  \n",
       "22  -0.144000  0.955200  0.706100  0.430400     1  \n",
       "23  -0.114200  0.510700  0.722500  0.453900     1  \n",
       "24  -0.000200  0.000300  0.806100  0.510500     1  \n",
       "25   0.026400  0.103700  0.599600  0.371500     1  \n",
       "26  -0.005200  0.035300  0.772400  0.478800     1  \n",
       "27  -0.214100  0.716900  0.585700  0.361500     1  \n",
       "28  -0.034200  0.139600  0.765100  0.476300     1  \n",
       "29  -0.008400  0.133900  0.540600  0.339600     1  \n",
       "30   0.025100  0.064500  0.668000  0.405000     1  \n",
       "31  -0.020600  0.123900  0.741300  0.460800     1  \n",
       "32   0.017000  0.041400  0.643600  0.381200     1  \n",
       "33  -0.007300  0.034700  0.628600  0.398700     1  \n",
       "34  -0.034000  0.176900  0.808800  0.518300     1  \n",
       "35  -0.241300  0.649700  0.612300  0.371200     1  \n",
       "36  -0.004800  0.018900  0.700500  0.430900     1  \n",
       "37  -0.078200  0.306000  0.753100  0.471300     1  \n",
       "38  -0.075200  0.295400  0.755400  0.472900     1  \n",
       "39   0.007500  0.041400  0.640600  0.395500     1  \n",
       "40  -0.164300  0.802200  0.553100  0.347800     1  \n",
       "41  -0.003000  0.013500  0.804300  0.509400     1  \n",
       "42  -0.000600  0.002100  0.775800  0.480600     1  \n",
       "43  -0.131300  0.652500  0.700200  0.426100     1  \n",
       "44  -0.064200  0.483700  0.719300  0.441800     1  \n",
       "45  -0.001989  0.008828  0.640983  0.376504     2  \n",
       "46  -0.036752  0.117160  0.687986  0.409205     2  \n",
       "47   0.000005  0.000797  0.675923  0.408873     2  \n",
       "48  -0.001063  0.005799  0.681332  0.408497     2  \n",
       "49  -0.179482  0.754959  0.661258  0.394006     2  \n",
       "50  -0.167888  0.773824  0.739732  0.453918     2  \n",
       "51  -0.197664  0.961834  0.647102  0.387991     2  \n",
       "52  -0.224626  1.133047  0.721692  0.437289     2  \n",
       "53  -0.056042  0.323529  0.725828  0.431004     2  \n",
       "54  -0.002324  0.018053  0.762475  0.464900     2  \n",
       "55  -0.047584  0.166645  0.782750  0.486290     2  \n",
       "56  -0.006323  0.038131  0.692607  0.408740     2  \n",
       "57  -0.025406  0.064584  0.658095  0.393934     2  \n",
       "58  -0.000052  0.000075  0.589869  0.339982     2  \n",
       "59  -0.000723  0.001875  0.592110  0.340645     2  \n",
       "60   0.000082  0.000084  0.602926  0.346052     2  \n",
       "61  -0.004404  0.010918  0.694612  0.418760     2  \n",
       "62   0.000262  0.006351  0.649960  0.391499     2  \n",
       "63  -0.000052  0.003361  0.695730  0.414558     2  \n",
       "64  -0.000368  0.001852  0.658793  0.397906     2  \n",
       "65   0.000007  0.000314  0.660975  0.397199     2  \n",
       "66  -0.013752  0.057745  0.608711  0.356196     2  \n",
       "67  -0.000189  0.001036  0.659014  0.395579     2  \n",
       "68  -0.000182  0.000964  0.650158  0.390803     2  \n",
       "69  -0.000008  0.000035  0.662203  0.398514     2  \n",
       "70  -0.053384  0.219370  0.720425  0.433686     2  \n",
       "71  -0.000012  0.000600  0.674761  0.409552     2  \n",
       "72  -0.060878  0.253439  0.728838  0.439721     2  \n",
       "73  -0.000689  0.005279  0.680977  0.411917     2  \n",
       "74  -0.013197  0.059142  0.743544  0.445352     2  \n",
       "75  -0.000157  0.000479  0.737630  0.439964     2  \n",
       "76  -0.000924  0.008568  0.744701  0.451812     2  \n",
       "77  -0.000275  0.002080  0.652664  0.386140     2  \n",
       "78  -0.000461  0.001545  0.720137  0.421548     2  \n",
       "79  -0.033553  0.183828  0.714568  0.422425     2  \n",
       "80  -0.192202  0.744726  0.675578  0.405066     2  \n",
       "81  -0.004412  0.053675  0.648577  0.387530     2  \n",
       "82  -0.028378  0.086027  0.685053  0.414574     2  \n",
       "83  -0.000063  0.000129  0.740694  0.440715     2  \n",
       "84  -0.059593  0.274520  0.742174  0.448909     2  \n",
       "85  -0.064879  0.331124  0.727675  0.432806     2  \n",
       "86  -0.018026  0.051812  0.628981  0.371043     2  \n",
       "87  -0.005565  0.021207  0.585241  0.340873     2  \n",
       "88  -0.001607  0.007517  0.734231  0.444648     2  \n",
       "89  -0.058272  0.312480  0.719883  0.426898     2  \n",
       "90  -0.015262  0.101642  0.698164  0.413691     2  \n",
       "91  -0.053912  0.172637  0.687863  0.409682     2  \n",
       "92  -0.000196  0.001251  0.757601  0.458315     2  \n",
       "93  -0.027623  0.146857  0.708412  0.417351     2  \n",
       "94  -0.000755  0.024943  0.660892  0.392663     2  \n",
       "95  -0.006544  0.019707  0.696008  0.423070     2  \n",
       "96  -0.001150  0.004818  0.675382  0.406148     2  \n",
       "97  -0.010695  0.061250  0.656482  0.390359     2  \n",
       "98  -0.004412  0.053675  0.648577  0.387530     2  \n",
       "99  -0.001565  0.009721  0.732402  0.443092     2  \n",
       "100 -0.003147  0.013363  0.732381  0.443783     2  \n",
       "101 -0.547209  2.519987  0.691810  0.412389     2  \n",
       "102 -0.131926  0.632666  0.671319  0.399279     2  \n",
       "103 -0.012750  0.038481  0.682639  0.410769     2  \n",
       "104 -0.059600  0.288100  0.640300  0.416000     3  \n",
       "105  0.000000  0.000100  0.675300  0.424300     3  \n",
       "106 -0.000400  0.001300  0.671400  0.419600     3  \n",
       "107  0.000000  0.000100  0.674900  0.423600     3  \n",
       "108 -0.274600  1.468200  0.705100  0.447800     3  \n",
       "109 -0.164800  0.775300  0.612500  0.397600     3  \n",
       "110 -0.000300  0.001800  0.698600  0.436100     3  \n",
       "111 -0.131500  0.683800  0.715400  0.454800     3  \n",
       "112 -0.058100  0.281800  0.647200  0.419000     3  \n",
       "113 -0.046800  0.224500  0.644000  0.417400     3  \n",
       "114 -0.214000  1.200700  0.737900  0.479100     3  \n",
       "115 -0.047800  0.225700  0.639600  0.414800     3  \n",
       "116 -0.088600  0.413300  0.600000  0.393700     3  \n",
       "117 -0.004500  0.021500  0.512600  0.336400     3  \n",
       "118  0.000000  0.000000  0.700700  0.439600     3  \n",
       "119 -0.094300  0.439700  0.601200  0.392100     3  \n",
       "120 -0.118800  0.591300  0.717300  0.464300     3  \n",
       "121 -0.002200  0.013700  0.571300  0.368400     3  \n",
       "122 -0.000600  0.001000  0.707200  0.456200     3  \n",
       "123 -0.144300  0.712800  0.503300  0.349000     3  \n",
       "124 -0.063500  0.295600  0.660600  0.432600     3  \n",
       "125 -0.379500  2.065000  0.735900  0.477300     3  \n",
       "126 -0.047300  0.116200  0.629600  0.410600     3  \n",
       "127 -0.017900  0.083200  0.533500  0.354700     3  \n",
       "128 -0.272200  1.431700  0.743200  0.483600     3  \n",
       "129 -0.001900  0.009500  0.561900  0.361100     3  \n",
       "130 -0.126400  0.592000  0.604100  0.394400     3  \n",
       "131 -0.018600  0.090200  0.713200  0.457000     3  \n",
       "132 -0.055900  0.269900  0.642000  0.416000     3  \n",
       "133 -0.004200  0.019900  0.623400  0.393500     3  \n",
       "134 -0.206400  0.771900  0.710400  0.451800     3  \n",
       "135 -0.000100  0.006300  0.705900  0.455300     3  \n",
       "136 -0.004500  0.020700  0.629700  0.395600     3  \n",
       "137 -0.404400  2.274500  0.598500  0.395800     3  \n",
       "138 -0.044500  0.317300  0.598100  0.395100     3  \n",
       "139 -0.111000  0.531700  0.692900  0.439400     3  \n",
       "140 -0.096900  0.436400  0.605700  0.395700     3  \n",
       "141 -0.010500  0.008300  0.587500  0.376000     3  \n",
       "142 -0.110600  0.526600  0.586500  0.379700     3  \n",
       "143 -0.000800  0.003400  0.456700  0.324500     3  \n",
       "144  0.008700  0.038500  0.710600  0.452800     3  "
      ]
     },
     "execution_count": 125,
     "metadata": {},
     "output_type": "execute_result"
    }
   ],
   "source": [
    "scores_withdata"
   ]
  },
  {
   "cell_type": "code",
   "execution_count": 126,
   "metadata": {},
   "outputs": [
    {
     "data": {
      "text/html": [
       "<div>\n",
       "<style scoped>\n",
       "    .dataframe tbody tr th:only-of-type {\n",
       "        vertical-align: middle;\n",
       "    }\n",
       "\n",
       "    .dataframe tbody tr th {\n",
       "        vertical-align: top;\n",
       "    }\n",
       "\n",
       "    .dataframe thead th {\n",
       "        text-align: right;\n",
       "    }\n",
       "</style>\n",
       "<table border=\"1\" class=\"dataframe\">\n",
       "  <thead>\n",
       "    <tr style=\"text-align: right;\">\n",
       "      <th></th>\n",
       "      <th>PC1</th>\n",
       "      <th>PC2</th>\n",
       "      <th>PC3</th>\n",
       "      <th>Class</th>\n",
       "    </tr>\n",
       "  </thead>\n",
       "  <tbody>\n",
       "    <tr>\n",
       "      <th>0</th>\n",
       "      <td>-1.186065</td>\n",
       "      <td>3.687838</td>\n",
       "      <td>-3.279560</td>\n",
       "      <td>1</td>\n",
       "    </tr>\n",
       "    <tr>\n",
       "      <th>1</th>\n",
       "      <td>0.366450</td>\n",
       "      <td>1.991757</td>\n",
       "      <td>1.909667</td>\n",
       "      <td>1</td>\n",
       "    </tr>\n",
       "    <tr>\n",
       "      <th>2</th>\n",
       "      <td>-1.565084</td>\n",
       "      <td>-1.877515</td>\n",
       "      <td>-1.813386</td>\n",
       "      <td>1</td>\n",
       "    </tr>\n",
       "    <tr>\n",
       "      <th>3</th>\n",
       "      <td>-1.090178</td>\n",
       "      <td>2.634293</td>\n",
       "      <td>-2.284194</td>\n",
       "      <td>1</td>\n",
       "    </tr>\n",
       "    <tr>\n",
       "      <th>4</th>\n",
       "      <td>-0.938838</td>\n",
       "      <td>3.728481</td>\n",
       "      <td>-3.820418</td>\n",
       "      <td>1</td>\n",
       "    </tr>\n",
       "    <tr>\n",
       "      <th>5</th>\n",
       "      <td>-1.932183</td>\n",
       "      <td>-1.081749</td>\n",
       "      <td>0.961158</td>\n",
       "      <td>1</td>\n",
       "    </tr>\n",
       "    <tr>\n",
       "      <th>6</th>\n",
       "      <td>-0.627563</td>\n",
       "      <td>3.680706</td>\n",
       "      <td>-1.454182</td>\n",
       "      <td>1</td>\n",
       "    </tr>\n",
       "    <tr>\n",
       "      <th>7</th>\n",
       "      <td>-0.820877</td>\n",
       "      <td>2.764023</td>\n",
       "      <td>-0.623427</td>\n",
       "      <td>1</td>\n",
       "    </tr>\n",
       "    <tr>\n",
       "      <th>8</th>\n",
       "      <td>0.536644</td>\n",
       "      <td>2.677597</td>\n",
       "      <td>2.118314</td>\n",
       "      <td>1</td>\n",
       "    </tr>\n",
       "    <tr>\n",
       "      <th>9</th>\n",
       "      <td>-0.260192</td>\n",
       "      <td>-0.972099</td>\n",
       "      <td>-0.624451</td>\n",
       "      <td>1</td>\n",
       "    </tr>\n",
       "    <tr>\n",
       "      <th>10</th>\n",
       "      <td>-1.382484</td>\n",
       "      <td>-0.989411</td>\n",
       "      <td>-3.058676</td>\n",
       "      <td>1</td>\n",
       "    </tr>\n",
       "    <tr>\n",
       "      <th>11</th>\n",
       "      <td>-1.167464</td>\n",
       "      <td>-1.502302</td>\n",
       "      <td>0.631490</td>\n",
       "      <td>1</td>\n",
       "    </tr>\n",
       "    <tr>\n",
       "      <th>12</th>\n",
       "      <td>-0.433721</td>\n",
       "      <td>2.468295</td>\n",
       "      <td>0.569462</td>\n",
       "      <td>1</td>\n",
       "    </tr>\n",
       "    <tr>\n",
       "      <th>13</th>\n",
       "      <td>-1.450688</td>\n",
       "      <td>4.139895</td>\n",
       "      <td>-4.203633</td>\n",
       "      <td>1</td>\n",
       "    </tr>\n",
       "    <tr>\n",
       "      <th>14</th>\n",
       "      <td>0.293722</td>\n",
       "      <td>1.887651</td>\n",
       "      <td>1.594650</td>\n",
       "      <td>1</td>\n",
       "    </tr>\n",
       "    <tr>\n",
       "      <th>15</th>\n",
       "      <td>-0.017949</td>\n",
       "      <td>2.609357</td>\n",
       "      <td>0.323982</td>\n",
       "      <td>1</td>\n",
       "    </tr>\n",
       "    <tr>\n",
       "      <th>16</th>\n",
       "      <td>-0.875070</td>\n",
       "      <td>1.433113</td>\n",
       "      <td>-2.529276</td>\n",
       "      <td>1</td>\n",
       "    </tr>\n",
       "    <tr>\n",
       "      <th>17</th>\n",
       "      <td>-0.787105</td>\n",
       "      <td>2.788590</td>\n",
       "      <td>-0.221011</td>\n",
       "      <td>1</td>\n",
       "    </tr>\n",
       "    <tr>\n",
       "      <th>18</th>\n",
       "      <td>-1.975990</td>\n",
       "      <td>-3.281536</td>\n",
       "      <td>-0.422105</td>\n",
       "      <td>1</td>\n",
       "    </tr>\n",
       "    <tr>\n",
       "      <th>19</th>\n",
       "      <td>-0.133491</td>\n",
       "      <td>2.205766</td>\n",
       "      <td>2.184513</td>\n",
       "      <td>1</td>\n",
       "    </tr>\n",
       "    <tr>\n",
       "      <th>20</th>\n",
       "      <td>-1.263597</td>\n",
       "      <td>-1.338556</td>\n",
       "      <td>-0.301757</td>\n",
       "      <td>1</td>\n",
       "    </tr>\n",
       "    <tr>\n",
       "      <th>21</th>\n",
       "      <td>1.420648</td>\n",
       "      <td>3.509923</td>\n",
       "      <td>2.411096</td>\n",
       "      <td>1</td>\n",
       "    </tr>\n",
       "    <tr>\n",
       "      <th>22</th>\n",
       "      <td>-0.234889</td>\n",
       "      <td>1.100893</td>\n",
       "      <td>-0.670522</td>\n",
       "      <td>1</td>\n",
       "    </tr>\n",
       "    <tr>\n",
       "      <th>23</th>\n",
       "      <td>-0.738059</td>\n",
       "      <td>1.361279</td>\n",
       "      <td>0.423927</td>\n",
       "      <td>1</td>\n",
       "    </tr>\n",
       "    <tr>\n",
       "      <th>24</th>\n",
       "      <td>1.228697</td>\n",
       "      <td>2.898618</td>\n",
       "      <td>2.161995</td>\n",
       "      <td>1</td>\n",
       "    </tr>\n",
       "    <tr>\n",
       "      <th>25</th>\n",
       "      <td>-1.227944</td>\n",
       "      <td>-1.646863</td>\n",
       "      <td>0.599336</td>\n",
       "      <td>1</td>\n",
       "    </tr>\n",
       "    <tr>\n",
       "      <th>26</th>\n",
       "      <td>0.399752</td>\n",
       "      <td>2.213996</td>\n",
       "      <td>1.968714</td>\n",
       "      <td>1</td>\n",
       "    </tr>\n",
       "    <tr>\n",
       "      <th>27</th>\n",
       "      <td>-1.302686</td>\n",
       "      <td>-1.115669</td>\n",
       "      <td>-1.631833</td>\n",
       "      <td>1</td>\n",
       "    </tr>\n",
       "    <tr>\n",
       "      <th>28</th>\n",
       "      <td>0.374889</td>\n",
       "      <td>2.099664</td>\n",
       "      <td>1.569006</td>\n",
       "      <td>1</td>\n",
       "    </tr>\n",
       "    <tr>\n",
       "      <th>29</th>\n",
       "      <td>-2.306227</td>\n",
       "      <td>-2.478042</td>\n",
       "      <td>0.199294</td>\n",
       "      <td>1</td>\n",
       "    </tr>\n",
       "    <tr>\n",
       "      <th>30</th>\n",
       "      <td>-0.718261</td>\n",
       "      <td>-0.430152</td>\n",
       "      <td>1.116870</td>\n",
       "      <td>1</td>\n",
       "    </tr>\n",
       "    <tr>\n",
       "      <th>31</th>\n",
       "      <td>-0.067244</td>\n",
       "      <td>1.338301</td>\n",
       "      <td>1.421007</td>\n",
       "      <td>1</td>\n",
       "    </tr>\n",
       "    <tr>\n",
       "      <th>32</th>\n",
       "      <td>-0.872374</td>\n",
       "      <td>-1.016134</td>\n",
       "      <td>0.846754</td>\n",
       "      <td>1</td>\n",
       "    </tr>\n",
       "    <tr>\n",
       "      <th>33</th>\n",
       "      <td>-1.908016</td>\n",
       "      <td>-1.010615</td>\n",
       "      <td>0.963298</td>\n",
       "      <td>1</td>\n",
       "    </tr>\n",
       "    <tr>\n",
       "      <th>34</th>\n",
       "      <td>0.917983</td>\n",
       "      <td>3.357375</td>\n",
       "      <td>1.994981</td>\n",
       "      <td>1</td>\n",
       "    </tr>\n",
       "    <tr>\n",
       "      <th>35</th>\n",
       "      <td>-1.106295</td>\n",
       "      <td>-0.655060</td>\n",
       "      <td>-1.545459</td>\n",
       "      <td>1</td>\n",
       "    </tr>\n",
       "    <tr>\n",
       "      <th>36</th>\n",
       "      <td>-0.345515</td>\n",
       "      <td>0.173528</td>\n",
       "      <td>1.169773</td>\n",
       "      <td>1</td>\n",
       "    </tr>\n",
       "    <tr>\n",
       "      <th>37</th>\n",
       "      <td>-0.070523</td>\n",
       "      <td>1.894230</td>\n",
       "      <td>1.046546</td>\n",
       "      <td>1</td>\n",
       "    </tr>\n",
       "    <tr>\n",
       "      <th>38</th>\n",
       "      <td>-0.027446</td>\n",
       "      <td>1.949898</td>\n",
       "      <td>1.098455</td>\n",
       "      <td>1</td>\n",
       "    </tr>\n",
       "    <tr>\n",
       "      <th>39</th>\n",
       "      <td>-0.662754</td>\n",
       "      <td>-0.976629</td>\n",
       "      <td>0.735231</td>\n",
       "      <td>1</td>\n",
       "    </tr>\n",
       "    <tr>\n",
       "      <th>40</th>\n",
       "      <td>-1.847897</td>\n",
       "      <td>-1.631049</td>\n",
       "      <td>-1.518288</td>\n",
       "      <td>1</td>\n",
       "    </tr>\n",
       "    <tr>\n",
       "      <th>41</th>\n",
       "      <td>1.110565</td>\n",
       "      <td>2.884856</td>\n",
       "      <td>2.149676</td>\n",
       "      <td>1</td>\n",
       "    </tr>\n",
       "    <tr>\n",
       "      <th>42</th>\n",
       "      <td>0.453804</td>\n",
       "      <td>2.115213</td>\n",
       "      <td>1.980437</td>\n",
       "      <td>1</td>\n",
       "    </tr>\n",
       "    <tr>\n",
       "      <th>43</th>\n",
       "      <td>-0.205113</td>\n",
       "      <td>0.744865</td>\n",
       "      <td>-0.343163</td>\n",
       "      <td>1</td>\n",
       "    </tr>\n",
       "    <tr>\n",
       "      <th>44</th>\n",
       "      <td>0.234080</td>\n",
       "      <td>0.918991</td>\n",
       "      <td>0.321292</td>\n",
       "      <td>1</td>\n",
       "    </tr>\n",
       "    <tr>\n",
       "      <th>45</th>\n",
       "      <td>0.435202</td>\n",
       "      <td>-1.522152</td>\n",
       "      <td>0.146241</td>\n",
       "      <td>2</td>\n",
       "    </tr>\n",
       "    <tr>\n",
       "      <th>46</th>\n",
       "      <td>2.218433</td>\n",
       "      <td>-0.875127</td>\n",
       "      <td>-0.416274</td>\n",
       "      <td>2</td>\n",
       "    </tr>\n",
       "    <tr>\n",
       "      <th>47</th>\n",
       "      <td>1.960403</td>\n",
       "      <td>-1.277820</td>\n",
       "      <td>-0.135109</td>\n",
       "      <td>2</td>\n",
       "    </tr>\n",
       "    <tr>\n",
       "      <th>48</th>\n",
       "      <td>1.820918</td>\n",
       "      <td>-1.101013</td>\n",
       "      <td>-0.021195</td>\n",
       "      <td>2</td>\n",
       "    </tr>\n",
       "    <tr>\n",
       "      <th>49</th>\n",
       "      <td>-0.216608</td>\n",
       "      <td>-0.143560</td>\n",
       "      <td>-1.259213</td>\n",
       "      <td>2</td>\n",
       "    </tr>\n",
       "    <tr>\n",
       "      <th>50</th>\n",
       "      <td>3.083162</td>\n",
       "      <td>0.998613</td>\n",
       "      <td>-1.547231</td>\n",
       "      <td>2</td>\n",
       "    </tr>\n",
       "    <tr>\n",
       "      <th>51</th>\n",
       "      <td>1.224523</td>\n",
       "      <td>-0.680071</td>\n",
       "      <td>-2.343388</td>\n",
       "      <td>2</td>\n",
       "    </tr>\n",
       "    <tr>\n",
       "      <th>52</th>\n",
       "      <td>0.278988</td>\n",
       "      <td>1.402916</td>\n",
       "      <td>-1.469121</td>\n",
       "      <td>2</td>\n",
       "    </tr>\n",
       "    <tr>\n",
       "      <th>53</th>\n",
       "      <td>1.792668</td>\n",
       "      <td>0.351977</td>\n",
       "      <td>-0.105447</td>\n",
       "      <td>2</td>\n",
       "    </tr>\n",
       "    <tr>\n",
       "      <th>54</th>\n",
       "      <td>4.371041</td>\n",
       "      <td>0.449005</td>\n",
       "      <td>0.030941</td>\n",
       "      <td>2</td>\n",
       "    </tr>\n",
       "    <tr>\n",
       "      <th>55</th>\n",
       "      <td>2.280391</td>\n",
       "      <td>1.811107</td>\n",
       "      <td>0.763297</td>\n",
       "      <td>2</td>\n",
       "    </tr>\n",
       "    <tr>\n",
       "      <th>56</th>\n",
       "      <td>1.194229</td>\n",
       "      <td>-0.562311</td>\n",
       "      <td>0.345721</td>\n",
       "      <td>2</td>\n",
       "    </tr>\n",
       "    <tr>\n",
       "      <th>57</th>\n",
       "      <td>1.850590</td>\n",
       "      <td>-1.486136</td>\n",
       "      <td>-0.470197</td>\n",
       "      <td>2</td>\n",
       "    </tr>\n",
       "    <tr>\n",
       "      <th>58</th>\n",
       "      <td>0.522259</td>\n",
       "      <td>-2.735404</td>\n",
       "      <td>-0.456201</td>\n",
       "      <td>2</td>\n",
       "    </tr>\n",
       "    <tr>\n",
       "      <th>59</th>\n",
       "      <td>0.568818</td>\n",
       "      <td>-2.688907</td>\n",
       "      <td>-0.451915</td>\n",
       "      <td>2</td>\n",
       "    </tr>\n",
       "    <tr>\n",
       "      <th>60</th>\n",
       "      <td>0.859998</td>\n",
       "      <td>-2.512421</td>\n",
       "      <td>-0.434936</td>\n",
       "      <td>2</td>\n",
       "    </tr>\n",
       "    <tr>\n",
       "      <th>61</th>\n",
       "      <td>1.887313</td>\n",
       "      <td>-0.794319</td>\n",
       "      <td>0.083702</td>\n",
       "      <td>2</td>\n",
       "    </tr>\n",
       "    <tr>\n",
       "      <th>62</th>\n",
       "      <td>1.409124</td>\n",
       "      <td>-1.672665</td>\n",
       "      <td>-0.185964</td>\n",
       "      <td>2</td>\n",
       "    </tr>\n",
       "    <tr>\n",
       "      <th>63</th>\n",
       "      <td>1.829796</td>\n",
       "      <td>-0.814307</td>\n",
       "      <td>0.132196</td>\n",
       "      <td>2</td>\n",
       "    </tr>\n",
       "    <tr>\n",
       "      <th>64</th>\n",
       "      <td>2.003099</td>\n",
       "      <td>-1.656866</td>\n",
       "      <td>-0.339919</td>\n",
       "      <td>2</td>\n",
       "    </tr>\n",
       "    <tr>\n",
       "      <th>65</th>\n",
       "      <td>2.015258</td>\n",
       "      <td>-1.657587</td>\n",
       "      <td>-0.338280</td>\n",
       "      <td>2</td>\n",
       "    </tr>\n",
       "    <tr>\n",
       "      <th>66</th>\n",
       "      <td>0.750104</td>\n",
       "      <td>-2.314989</td>\n",
       "      <td>-0.486515</td>\n",
       "      <td>2</td>\n",
       "    </tr>\n",
       "    <tr>\n",
       "      <th>67</th>\n",
       "      <td>2.187447</td>\n",
       "      <td>-1.749832</td>\n",
       "      <td>-0.433889</td>\n",
       "      <td>2</td>\n",
       "    </tr>\n",
       "    <tr>\n",
       "      <th>68</th>\n",
       "      <td>2.120431</td>\n",
       "      <td>-1.909355</td>\n",
       "      <td>-0.495059</td>\n",
       "      <td>2</td>\n",
       "    </tr>\n",
       "    <tr>\n",
       "      <th>69</th>\n",
       "      <td>2.216498</td>\n",
       "      <td>-1.689917</td>\n",
       "      <td>-0.409832</td>\n",
       "      <td>2</td>\n",
       "    </tr>\n",
       "    <tr>\n",
       "      <th>70</th>\n",
       "      <td>2.830503</td>\n",
       "      <td>-0.090625</td>\n",
       "      <td>-0.451244</td>\n",
       "      <td>2</td>\n",
       "    </tr>\n",
       "    <tr>\n",
       "      <th>71</th>\n",
       "      <td>1.841299</td>\n",
       "      <td>-1.258288</td>\n",
       "      <td>-0.093364</td>\n",
       "      <td>2</td>\n",
       "    </tr>\n",
       "    <tr>\n",
       "      <th>72</th>\n",
       "      <td>3.090762</td>\n",
       "      <td>0.098550</td>\n",
       "      <td>-0.527648</td>\n",
       "      <td>2</td>\n",
       "    </tr>\n",
       "    <tr>\n",
       "      <th>73</th>\n",
       "      <td>1.091831</td>\n",
       "      <td>-0.852502</td>\n",
       "      <td>0.306694</td>\n",
       "      <td>2</td>\n",
       "    </tr>\n",
       "    <tr>\n",
       "      <th>74</th>\n",
       "      <td>3.370237</td>\n",
       "      <td>0.172254</td>\n",
       "      <td>0.036255</td>\n",
       "      <td>2</td>\n",
       "    </tr>\n",
       "    <tr>\n",
       "      <th>75</th>\n",
       "      <td>3.481463</td>\n",
       "      <td>-0.177043</td>\n",
       "      <td>0.002226</td>\n",
       "      <td>2</td>\n",
       "    </tr>\n",
       "    <tr>\n",
       "      <th>76</th>\n",
       "      <td>2.020541</td>\n",
       "      <td>0.515376</td>\n",
       "      <td>0.731785</td>\n",
       "      <td>2</td>\n",
       "    </tr>\n",
       "    <tr>\n",
       "      <th>77</th>\n",
       "      <td>0.962383</td>\n",
       "      <td>-1.549342</td>\n",
       "      <td>0.004413</td>\n",
       "      <td>2</td>\n",
       "    </tr>\n",
       "    <tr>\n",
       "      <th>78</th>\n",
       "      <td>1.808423</td>\n",
       "      <td>-0.016545</td>\n",
       "      <td>0.545668</td>\n",
       "      <td>2</td>\n",
       "    </tr>\n",
       "    <tr>\n",
       "      <th>79</th>\n",
       "      <td>1.466283</td>\n",
       "      <td>0.093528</td>\n",
       "      <td>0.208007</td>\n",
       "      <td>2</td>\n",
       "    </tr>\n",
       "    <tr>\n",
       "      <th>80</th>\n",
       "      <td>1.573287</td>\n",
       "      <td>-0.198999</td>\n",
       "      <td>-1.853769</td>\n",
       "      <td>2</td>\n",
       "    </tr>\n",
       "    <tr>\n",
       "      <th>81</th>\n",
       "      <td>1.531121</td>\n",
       "      <td>-1.752298</td>\n",
       "      <td>-0.356282</td>\n",
       "      <td>2</td>\n",
       "    </tr>\n",
       "    <tr>\n",
       "      <th>82</th>\n",
       "      <td>2.256015</td>\n",
       "      <td>-0.982234</td>\n",
       "      <td>-0.382965</td>\n",
       "      <td>2</td>\n",
       "    </tr>\n",
       "    <tr>\n",
       "      <th>83</th>\n",
       "      <td>3.520339</td>\n",
       "      <td>-0.109441</td>\n",
       "      <td>0.027356</td>\n",
       "      <td>2</td>\n",
       "    </tr>\n",
       "    <tr>\n",
       "      <th>84</th>\n",
       "      <td>2.806616</td>\n",
       "      <td>0.685764</td>\n",
       "      <td>-0.174619</td>\n",
       "      <td>2</td>\n",
       "    </tr>\n",
       "    <tr>\n",
       "      <th>85</th>\n",
       "      <td>2.289120</td>\n",
       "      <td>0.381881</td>\n",
       "      <td>-0.297865</td>\n",
       "      <td>2</td>\n",
       "    </tr>\n",
       "    <tr>\n",
       "      <th>86</th>\n",
       "      <td>1.476075</td>\n",
       "      <td>-2.053119</td>\n",
       "      <td>-0.578015</td>\n",
       "      <td>2</td>\n",
       "    </tr>\n",
       "    <tr>\n",
       "      <th>87</th>\n",
       "      <td>0.788622</td>\n",
       "      <td>-2.834592</td>\n",
       "      <td>-0.647595</td>\n",
       "      <td>2</td>\n",
       "    </tr>\n",
       "    <tr>\n",
       "      <th>88</th>\n",
       "      <td>2.429315</td>\n",
       "      <td>0.074748</td>\n",
       "      <td>0.394301</td>\n",
       "      <td>2</td>\n",
       "    </tr>\n",
       "    <tr>\n",
       "      <th>89</th>\n",
       "      <td>1.603260</td>\n",
       "      <td>0.255947</td>\n",
       "      <td>-0.101083</td>\n",
       "      <td>2</td>\n",
       "    </tr>\n",
       "    <tr>\n",
       "      <th>90</th>\n",
       "      <td>1.392108</td>\n",
       "      <td>-0.452809</td>\n",
       "      <td>0.193969</td>\n",
       "      <td>2</td>\n",
       "    </tr>\n",
       "    <tr>\n",
       "      <th>91</th>\n",
       "      <td>2.175126</td>\n",
       "      <td>-0.802610</td>\n",
       "      <td>-0.564587</td>\n",
       "      <td>2</td>\n",
       "    </tr>\n",
       "    <tr>\n",
       "      <th>92</th>\n",
       "      <td>4.043155</td>\n",
       "      <td>0.390114</td>\n",
       "      <td>0.131605</td>\n",
       "      <td>2</td>\n",
       "    </tr>\n",
       "    <tr>\n",
       "      <th>93</th>\n",
       "      <td>1.397256</td>\n",
       "      <td>-0.113903</td>\n",
       "      <td>0.215831</td>\n",
       "      <td>2</td>\n",
       "    </tr>\n",
       "    <tr>\n",
       "      <th>94</th>\n",
       "      <td>1.660360</td>\n",
       "      <td>-1.536771</td>\n",
       "      <td>-0.217104</td>\n",
       "      <td>2</td>\n",
       "    </tr>\n",
       "    <tr>\n",
       "      <th>95</th>\n",
       "      <td>1.981056</td>\n",
       "      <td>-0.738563</td>\n",
       "      <td>0.056952</td>\n",
       "      <td>2</td>\n",
       "    </tr>\n",
       "    <tr>\n",
       "      <th>96</th>\n",
       "      <td>1.887427</td>\n",
       "      <td>-1.268792</td>\n",
       "      <td>-0.122869</td>\n",
       "      <td>2</td>\n",
       "    </tr>\n",
       "    <tr>\n",
       "      <th>97</th>\n",
       "      <td>1.428419</td>\n",
       "      <td>-1.496917</td>\n",
       "      <td>-0.252422</td>\n",
       "      <td>2</td>\n",
       "    </tr>\n",
       "    <tr>\n",
       "      <th>98</th>\n",
       "      <td>1.531121</td>\n",
       "      <td>-1.752298</td>\n",
       "      <td>-0.356282</td>\n",
       "      <td>2</td>\n",
       "    </tr>\n",
       "    <tr>\n",
       "      <th>99</th>\n",
       "      <td>2.554932</td>\n",
       "      <td>-0.018739</td>\n",
       "      <td>0.310582</td>\n",
       "      <td>2</td>\n",
       "    </tr>\n",
       "    <tr>\n",
       "      <th>100</th>\n",
       "      <td>2.456856</td>\n",
       "      <td>0.032081</td>\n",
       "      <td>0.346737</td>\n",
       "      <td>2</td>\n",
       "    </tr>\n",
       "    <tr>\n",
       "      <th>101</th>\n",
       "      <td>0.662300</td>\n",
       "      <td>1.987393</td>\n",
       "      <td>-5.450689</td>\n",
       "      <td>2</td>\n",
       "    </tr>\n",
       "    <tr>\n",
       "      <th>102</th>\n",
       "      <td>1.289951</td>\n",
       "      <td>-0.455627</td>\n",
       "      <td>-1.330731</td>\n",
       "      <td>2</td>\n",
       "    </tr>\n",
       "    <tr>\n",
       "      <th>103</th>\n",
       "      <td>1.308500</td>\n",
       "      <td>-0.757192</td>\n",
       "      <td>0.166867</td>\n",
       "      <td>2</td>\n",
       "    </tr>\n",
       "    <tr>\n",
       "      <th>104</th>\n",
       "      <td>-2.168109</td>\n",
       "      <td>-0.356876</td>\n",
       "      <td>0.641631</td>\n",
       "      <td>3</td>\n",
       "    </tr>\n",
       "    <tr>\n",
       "      <th>105</th>\n",
       "      <td>-1.541826</td>\n",
       "      <td>-0.198236</td>\n",
       "      <td>1.368424</td>\n",
       "      <td>3</td>\n",
       "    </tr>\n",
       "    <tr>\n",
       "      <th>106</th>\n",
       "      <td>-1.569845</td>\n",
       "      <td>-0.278714</td>\n",
       "      <td>1.332812</td>\n",
       "      <td>3</td>\n",
       "    </tr>\n",
       "    <tr>\n",
       "      <th>107</th>\n",
       "      <td>-1.543763</td>\n",
       "      <td>-0.207090</td>\n",
       "      <td>1.364800</td>\n",
       "      <td>3</td>\n",
       "    </tr>\n",
       "    <tr>\n",
       "      <th>108</th>\n",
       "      <td>-2.061193</td>\n",
       "      <td>2.165480</td>\n",
       "      <td>-1.261681</td>\n",
       "      <td>3</td>\n",
       "    </tr>\n",
       "    <tr>\n",
       "      <th>109</th>\n",
       "      <td>-2.553631</td>\n",
       "      <td>-0.274019</td>\n",
       "      <td>-0.617962</td>\n",
       "      <td>3</td>\n",
       "    </tr>\n",
       "    <tr>\n",
       "      <th>110</th>\n",
       "      <td>-1.260621</td>\n",
       "      <td>0.543977</td>\n",
       "      <td>1.664856</td>\n",
       "      <td>3</td>\n",
       "    </tr>\n",
       "    <tr>\n",
       "      <th>111</th>\n",
       "      <td>-1.584933</td>\n",
       "      <td>1.507599</td>\n",
       "      <td>0.365860</td>\n",
       "      <td>3</td>\n",
       "    </tr>\n",
       "    <tr>\n",
       "      <th>112</th>\n",
       "      <td>-2.102381</td>\n",
       "      <td>-0.239842</td>\n",
       "      <td>0.701817</td>\n",
       "      <td>3</td>\n",
       "    </tr>\n",
       "    <tr>\n",
       "      <th>113</th>\n",
       "      <td>-2.095469</td>\n",
       "      <td>-0.354807</td>\n",
       "      <td>0.800803</td>\n",
       "      <td>3</td>\n",
       "    </tr>\n",
       "    <tr>\n",
       "      <th>114</th>\n",
       "      <td>-1.632893</td>\n",
       "      <td>2.679315</td>\n",
       "      <td>-0.332617</td>\n",
       "      <td>3</td>\n",
       "    </tr>\n",
       "    <tr>\n",
       "      <th>115</th>\n",
       "      <td>-2.136406</td>\n",
       "      <td>-0.435938</td>\n",
       "      <td>0.762913</td>\n",
       "      <td>3</td>\n",
       "    </tr>\n",
       "    <tr>\n",
       "      <th>116</th>\n",
       "      <td>-2.452494</td>\n",
       "      <td>-0.878400</td>\n",
       "      <td>0.084322</td>\n",
       "      <td>3</td>\n",
       "    </tr>\n",
       "    <tr>\n",
       "      <th>117</th>\n",
       "      <td>-2.818323</td>\n",
       "      <td>-2.891397</td>\n",
       "      <td>0.313863</td>\n",
       "      <td>3</td>\n",
       "    </tr>\n",
       "    <tr>\n",
       "      <th>118</th>\n",
       "      <td>-1.254833</td>\n",
       "      <td>0.579404</td>\n",
       "      <td>1.684084</td>\n",
       "      <td>3</td>\n",
       "    </tr>\n",
       "    <tr>\n",
       "      <th>119</th>\n",
       "      <td>-2.460549</td>\n",
       "      <td>-0.849363</td>\n",
       "      <td>0.025678</td>\n",
       "      <td>3</td>\n",
       "    </tr>\n",
       "    <tr>\n",
       "      <th>120</th>\n",
       "      <td>-1.521545</td>\n",
       "      <td>1.661152</td>\n",
       "      <td>0.641647</td>\n",
       "      <td>3</td>\n",
       "    </tr>\n",
       "    <tr>\n",
       "      <th>121</th>\n",
       "      <td>-2.467947</td>\n",
       "      <td>-1.933235</td>\n",
       "      <td>0.722177</td>\n",
       "      <td>3</td>\n",
       "    </tr>\n",
       "    <tr>\n",
       "      <th>122</th>\n",
       "      <td>-1.214588</td>\n",
       "      <td>0.782485</td>\n",
       "      <td>1.762460</td>\n",
       "      <td>3</td>\n",
       "    </tr>\n",
       "    <tr>\n",
       "      <th>123</th>\n",
       "      <td>-3.373422</td>\n",
       "      <td>-2.036646</td>\n",
       "      <td>-1.046951</td>\n",
       "      <td>3</td>\n",
       "    </tr>\n",
       "    <tr>\n",
       "      <th>124</th>\n",
       "      <td>-1.865864</td>\n",
       "      <td>0.277699</td>\n",
       "      <td>0.840283</td>\n",
       "      <td>3</td>\n",
       "    </tr>\n",
       "    <tr>\n",
       "      <th>125</th>\n",
       "      <td>-2.089440</td>\n",
       "      <td>3.600161</td>\n",
       "      <td>-2.100772</td>\n",
       "      <td>3</td>\n",
       "    </tr>\n",
       "    <tr>\n",
       "      <th>126</th>\n",
       "      <td>-2.154645</td>\n",
       "      <td>-0.618128</td>\n",
       "      <td>0.834925</td>\n",
       "      <td>3</td>\n",
       "    </tr>\n",
       "    <tr>\n",
       "      <th>127</th>\n",
       "      <td>-2.839594</td>\n",
       "      <td>-2.366544</td>\n",
       "      <td>0.400507</td>\n",
       "      <td>3</td>\n",
       "    </tr>\n",
       "    <tr>\n",
       "      <th>128</th>\n",
       "      <td>-1.728568</td>\n",
       "      <td>3.075373</td>\n",
       "      <td>-0.834359</td>\n",
       "      <td>3</td>\n",
       "    </tr>\n",
       "    <tr>\n",
       "      <th>129</th>\n",
       "      <td>-2.538513</td>\n",
       "      <td>-2.113029</td>\n",
       "      <td>0.660811</td>\n",
       "      <td>3</td>\n",
       "    </tr>\n",
       "    <tr>\n",
       "      <th>130</th>\n",
       "      <td>-2.518670</td>\n",
       "      <td>-0.615495</td>\n",
       "      <td>-0.276808</td>\n",
       "      <td>3</td>\n",
       "    </tr>\n",
       "    <tr>\n",
       "      <th>131</th>\n",
       "      <td>-1.164370</td>\n",
       "      <td>1.174646</td>\n",
       "      <td>1.700798</td>\n",
       "      <td>3</td>\n",
       "    </tr>\n",
       "    <tr>\n",
       "      <th>132</th>\n",
       "      <td>-2.141361</td>\n",
       "      <td>-0.350028</td>\n",
       "      <td>0.689303</td>\n",
       "      <td>3</td>\n",
       "    </tr>\n",
       "    <tr>\n",
       "      <th>133</th>\n",
       "      <td>-1.843047</td>\n",
       "      <td>-1.187259</td>\n",
       "      <td>0.899637</td>\n",
       "      <td>3</td>\n",
       "    </tr>\n",
       "    <tr>\n",
       "      <th>134</th>\n",
       "      <td>-1.609542</td>\n",
       "      <td>1.746685</td>\n",
       "      <td>-0.144908</td>\n",
       "      <td>3</td>\n",
       "    </tr>\n",
       "    <tr>\n",
       "      <th>135</th>\n",
       "      <td>-1.241265</td>\n",
       "      <td>0.736497</td>\n",
       "      <td>1.742386</td>\n",
       "      <td>3</td>\n",
       "    </tr>\n",
       "    <tr>\n",
       "      <th>136</th>\n",
       "      <td>-1.912367</td>\n",
       "      <td>-0.932239</td>\n",
       "      <td>1.046503</td>\n",
       "      <td>3</td>\n",
       "    </tr>\n",
       "    <tr>\n",
       "      <th>137</th>\n",
       "      <td>-3.425083</td>\n",
       "      <td>0.982185</td>\n",
       "      <td>-3.512581</td>\n",
       "      <td>3</td>\n",
       "    </tr>\n",
       "    <tr>\n",
       "      <th>138</th>\n",
       "      <td>-2.363287</td>\n",
       "      <td>-1.033972</td>\n",
       "      <td>0.419739</td>\n",
       "      <td>3</td>\n",
       "    </tr>\n",
       "    <tr>\n",
       "      <th>139</th>\n",
       "      <td>-1.720977</td>\n",
       "      <td>0.910163</td>\n",
       "      <td>0.460481</td>\n",
       "      <td>3</td>\n",
       "    </tr>\n",
       "    <tr>\n",
       "      <th>140</th>\n",
       "      <td>-2.405739</td>\n",
       "      <td>-0.724233</td>\n",
       "      <td>0.060063</td>\n",
       "      <td>3</td>\n",
       "    </tr>\n",
       "    <tr>\n",
       "      <th>141</th>\n",
       "      <td>-2.278409</td>\n",
       "      <td>-1.535242</td>\n",
       "      <td>0.822333</td>\n",
       "      <td>3</td>\n",
       "    </tr>\n",
       "    <tr>\n",
       "      <th>142</th>\n",
       "      <td>-2.578955</td>\n",
       "      <td>-1.112947</td>\n",
       "      <td>-0.307217</td>\n",
       "      <td>3</td>\n",
       "    </tr>\n",
       "    <tr>\n",
       "      <th>143</th>\n",
       "      <td>-3.081671</td>\n",
       "      <td>-3.472894</td>\n",
       "      <td>0.143067</td>\n",
       "      <td>3</td>\n",
       "    </tr>\n",
       "    <tr>\n",
       "      <th>144</th>\n",
       "      <td>-1.141462</td>\n",
       "      <td>0.730896</td>\n",
       "      <td>1.728759</td>\n",
       "      <td>3</td>\n",
       "    </tr>\n",
       "  </tbody>\n",
       "</table>\n",
       "</div>"
      ],
      "text/plain": [
       "          PC1       PC2       PC3 Class\n",
       "0   -1.186065  3.687838 -3.279560     1\n",
       "1    0.366450  1.991757  1.909667     1\n",
       "2   -1.565084 -1.877515 -1.813386     1\n",
       "3   -1.090178  2.634293 -2.284194     1\n",
       "4   -0.938838  3.728481 -3.820418     1\n",
       "5   -1.932183 -1.081749  0.961158     1\n",
       "6   -0.627563  3.680706 -1.454182     1\n",
       "7   -0.820877  2.764023 -0.623427     1\n",
       "8    0.536644  2.677597  2.118314     1\n",
       "9   -0.260192 -0.972099 -0.624451     1\n",
       "10  -1.382484 -0.989411 -3.058676     1\n",
       "11  -1.167464 -1.502302  0.631490     1\n",
       "12  -0.433721  2.468295  0.569462     1\n",
       "13  -1.450688  4.139895 -4.203633     1\n",
       "14   0.293722  1.887651  1.594650     1\n",
       "15  -0.017949  2.609357  0.323982     1\n",
       "16  -0.875070  1.433113 -2.529276     1\n",
       "17  -0.787105  2.788590 -0.221011     1\n",
       "18  -1.975990 -3.281536 -0.422105     1\n",
       "19  -0.133491  2.205766  2.184513     1\n",
       "20  -1.263597 -1.338556 -0.301757     1\n",
       "21   1.420648  3.509923  2.411096     1\n",
       "22  -0.234889  1.100893 -0.670522     1\n",
       "23  -0.738059  1.361279  0.423927     1\n",
       "24   1.228697  2.898618  2.161995     1\n",
       "25  -1.227944 -1.646863  0.599336     1\n",
       "26   0.399752  2.213996  1.968714     1\n",
       "27  -1.302686 -1.115669 -1.631833     1\n",
       "28   0.374889  2.099664  1.569006     1\n",
       "29  -2.306227 -2.478042  0.199294     1\n",
       "30  -0.718261 -0.430152  1.116870     1\n",
       "31  -0.067244  1.338301  1.421007     1\n",
       "32  -0.872374 -1.016134  0.846754     1\n",
       "33  -1.908016 -1.010615  0.963298     1\n",
       "34   0.917983  3.357375  1.994981     1\n",
       "35  -1.106295 -0.655060 -1.545459     1\n",
       "36  -0.345515  0.173528  1.169773     1\n",
       "37  -0.070523  1.894230  1.046546     1\n",
       "38  -0.027446  1.949898  1.098455     1\n",
       "39  -0.662754 -0.976629  0.735231     1\n",
       "40  -1.847897 -1.631049 -1.518288     1\n",
       "41   1.110565  2.884856  2.149676     1\n",
       "42   0.453804  2.115213  1.980437     1\n",
       "43  -0.205113  0.744865 -0.343163     1\n",
       "44   0.234080  0.918991  0.321292     1\n",
       "45   0.435202 -1.522152  0.146241     2\n",
       "46   2.218433 -0.875127 -0.416274     2\n",
       "47   1.960403 -1.277820 -0.135109     2\n",
       "48   1.820918 -1.101013 -0.021195     2\n",
       "49  -0.216608 -0.143560 -1.259213     2\n",
       "50   3.083162  0.998613 -1.547231     2\n",
       "51   1.224523 -0.680071 -2.343388     2\n",
       "52   0.278988  1.402916 -1.469121     2\n",
       "53   1.792668  0.351977 -0.105447     2\n",
       "54   4.371041  0.449005  0.030941     2\n",
       "55   2.280391  1.811107  0.763297     2\n",
       "56   1.194229 -0.562311  0.345721     2\n",
       "57   1.850590 -1.486136 -0.470197     2\n",
       "58   0.522259 -2.735404 -0.456201     2\n",
       "59   0.568818 -2.688907 -0.451915     2\n",
       "60   0.859998 -2.512421 -0.434936     2\n",
       "61   1.887313 -0.794319  0.083702     2\n",
       "62   1.409124 -1.672665 -0.185964     2\n",
       "63   1.829796 -0.814307  0.132196     2\n",
       "64   2.003099 -1.656866 -0.339919     2\n",
       "65   2.015258 -1.657587 -0.338280     2\n",
       "66   0.750104 -2.314989 -0.486515     2\n",
       "67   2.187447 -1.749832 -0.433889     2\n",
       "68   2.120431 -1.909355 -0.495059     2\n",
       "69   2.216498 -1.689917 -0.409832     2\n",
       "70   2.830503 -0.090625 -0.451244     2\n",
       "71   1.841299 -1.258288 -0.093364     2\n",
       "72   3.090762  0.098550 -0.527648     2\n",
       "73   1.091831 -0.852502  0.306694     2\n",
       "74   3.370237  0.172254  0.036255     2\n",
       "75   3.481463 -0.177043  0.002226     2\n",
       "76   2.020541  0.515376  0.731785     2\n",
       "77   0.962383 -1.549342  0.004413     2\n",
       "78   1.808423 -0.016545  0.545668     2\n",
       "79   1.466283  0.093528  0.208007     2\n",
       "80   1.573287 -0.198999 -1.853769     2\n",
       "81   1.531121 -1.752298 -0.356282     2\n",
       "82   2.256015 -0.982234 -0.382965     2\n",
       "83   3.520339 -0.109441  0.027356     2\n",
       "84   2.806616  0.685764 -0.174619     2\n",
       "85   2.289120  0.381881 -0.297865     2\n",
       "86   1.476075 -2.053119 -0.578015     2\n",
       "87   0.788622 -2.834592 -0.647595     2\n",
       "88   2.429315  0.074748  0.394301     2\n",
       "89   1.603260  0.255947 -0.101083     2\n",
       "90   1.392108 -0.452809  0.193969     2\n",
       "91   2.175126 -0.802610 -0.564587     2\n",
       "92   4.043155  0.390114  0.131605     2\n",
       "93   1.397256 -0.113903  0.215831     2\n",
       "94   1.660360 -1.536771 -0.217104     2\n",
       "95   1.981056 -0.738563  0.056952     2\n",
       "96   1.887427 -1.268792 -0.122869     2\n",
       "97   1.428419 -1.496917 -0.252422     2\n",
       "98   1.531121 -1.752298 -0.356282     2\n",
       "99   2.554932 -0.018739  0.310582     2\n",
       "100  2.456856  0.032081  0.346737     2\n",
       "101  0.662300  1.987393 -5.450689     2\n",
       "102  1.289951 -0.455627 -1.330731     2\n",
       "103  1.308500 -0.757192  0.166867     2\n",
       "104 -2.168109 -0.356876  0.641631     3\n",
       "105 -1.541826 -0.198236  1.368424     3\n",
       "106 -1.569845 -0.278714  1.332812     3\n",
       "107 -1.543763 -0.207090  1.364800     3\n",
       "108 -2.061193  2.165480 -1.261681     3\n",
       "109 -2.553631 -0.274019 -0.617962     3\n",
       "110 -1.260621  0.543977  1.664856     3\n",
       "111 -1.584933  1.507599  0.365860     3\n",
       "112 -2.102381 -0.239842  0.701817     3\n",
       "113 -2.095469 -0.354807  0.800803     3\n",
       "114 -1.632893  2.679315 -0.332617     3\n",
       "115 -2.136406 -0.435938  0.762913     3\n",
       "116 -2.452494 -0.878400  0.084322     3\n",
       "117 -2.818323 -2.891397  0.313863     3\n",
       "118 -1.254833  0.579404  1.684084     3\n",
       "119 -2.460549 -0.849363  0.025678     3\n",
       "120 -1.521545  1.661152  0.641647     3\n",
       "121 -2.467947 -1.933235  0.722177     3\n",
       "122 -1.214588  0.782485  1.762460     3\n",
       "123 -3.373422 -2.036646 -1.046951     3\n",
       "124 -1.865864  0.277699  0.840283     3\n",
       "125 -2.089440  3.600161 -2.100772     3\n",
       "126 -2.154645 -0.618128  0.834925     3\n",
       "127 -2.839594 -2.366544  0.400507     3\n",
       "128 -1.728568  3.075373 -0.834359     3\n",
       "129 -2.538513 -2.113029  0.660811     3\n",
       "130 -2.518670 -0.615495 -0.276808     3\n",
       "131 -1.164370  1.174646  1.700798     3\n",
       "132 -2.141361 -0.350028  0.689303     3\n",
       "133 -1.843047 -1.187259  0.899637     3\n",
       "134 -1.609542  1.746685 -0.144908     3\n",
       "135 -1.241265  0.736497  1.742386     3\n",
       "136 -1.912367 -0.932239  1.046503     3\n",
       "137 -3.425083  0.982185 -3.512581     3\n",
       "138 -2.363287 -1.033972  0.419739     3\n",
       "139 -1.720977  0.910163  0.460481     3\n",
       "140 -2.405739 -0.724233  0.060063     3\n",
       "141 -2.278409 -1.535242  0.822333     3\n",
       "142 -2.578955 -1.112947 -0.307217     3\n",
       "143 -3.081671 -3.472894  0.143067     3\n",
       "144 -1.141462  0.730896  1.728759     3"
      ]
     },
     "execution_count": 126,
     "metadata": {},
     "output_type": "execute_result"
    }
   ],
   "source": [
    "scores_withonlyclass"
   ]
  },
  {
   "cell_type": "markdown",
   "metadata": {},
   "source": [
    "The **scores matrix** provides the representation of the original data in a reduced-dimensional space defined by the principal components.\n",
    "\n",
    "The molecular classes are now represented in a reduced 3D space (PC1, PC2, PC3).\n",
    "   - Class 1 molecules tend to have negative PC1 values, whereas Class 2 molecules are predominantly located in the positive PC1 region.\n",
    "   - Class 3 molecules exhibit a distinctive pattern, occupying different regions in PC2 and PC3 space.\n",
    "\n",
    "The scores matrix reflects how well each sample is represented in the new space. PC1 contributes the most variance to the dataset, meaning it captures the largest differences between molecular classes. PC2 and PC3 also contribute to differentiation, but their impact diminishes compared to PC1.\n",
    "\n",
    "A few instances within the same class show deviations from their cluster, indicating potential outliers.\n",
    "  "
   ]
  },
  {
   "cell_type": "markdown",
   "metadata": {},
   "source": [
    "11) Prepare and print the Loadings matrix (remember to include the index with the names of the attributes and to add a last column with their names)"
   ]
  },
  {
   "cell_type": "code",
   "execution_count": 129,
   "metadata": {},
   "outputs": [
    {
     "data": {
      "text/html": [
       "<div>\n",
       "<style scoped>\n",
       "    .dataframe tbody tr th:only-of-type {\n",
       "        vertical-align: middle;\n",
       "    }\n",
       "\n",
       "    .dataframe tbody tr th {\n",
       "        vertical-align: top;\n",
       "    }\n",
       "\n",
       "    .dataframe thead th {\n",
       "        text-align: right;\n",
       "    }\n",
       "</style>\n",
       "<table border=\"1\" class=\"dataframe\">\n",
       "  <thead>\n",
       "    <tr style=\"text-align: right;\">\n",
       "      <th></th>\n",
       "      <th>PC1</th>\n",
       "      <th>PC2</th>\n",
       "      <th>PC3</th>\n",
       "    </tr>\n",
       "  </thead>\n",
       "  <tbody>\n",
       "    <tr>\n",
       "      <th>D1</th>\n",
       "      <td>0.505403</td>\n",
       "      <td>-0.146883</td>\n",
       "      <td>-0.223696</td>\n",
       "    </tr>\n",
       "    <tr>\n",
       "      <th>D2</th>\n",
       "      <td>0.501256</td>\n",
       "      <td>-0.167600</td>\n",
       "      <td>-0.211573</td>\n",
       "    </tr>\n",
       "    <tr>\n",
       "      <th>D3</th>\n",
       "      <td>0.503748</td>\n",
       "      <td>-0.156816</td>\n",
       "      <td>-0.219745</td>\n",
       "    </tr>\n",
       "    <tr>\n",
       "      <th>D4</th>\n",
       "      <td>-0.300791</td>\n",
       "      <td>-0.457599</td>\n",
       "      <td>-0.155347</td>\n",
       "    </tr>\n",
       "    <tr>\n",
       "      <th>D5</th>\n",
       "      <td>0.164025</td>\n",
       "      <td>-0.302653</td>\n",
       "      <td>0.620302</td>\n",
       "    </tr>\n",
       "    <tr>\n",
       "      <th>D6</th>\n",
       "      <td>-0.172472</td>\n",
       "      <td>0.311807</td>\n",
       "      <td>-0.607763</td>\n",
       "    </tr>\n",
       "    <tr>\n",
       "      <th>D7</th>\n",
       "      <td>0.275737</td>\n",
       "      <td>0.485412</td>\n",
       "      <td>0.176195</td>\n",
       "    </tr>\n",
       "    <tr>\n",
       "      <th>D8</th>\n",
       "      <td>0.128034</td>\n",
       "      <td>0.540278</td>\n",
       "      <td>0.218131</td>\n",
       "    </tr>\n",
       "  </tbody>\n",
       "</table>\n",
       "</div>"
      ],
      "text/plain": [
       "         PC1       PC2       PC3\n",
       "D1  0.505403 -0.146883 -0.223696\n",
       "D2  0.501256 -0.167600 -0.211573\n",
       "D3  0.503748 -0.156816 -0.219745\n",
       "D4 -0.300791 -0.457599 -0.155347\n",
       "D5  0.164025 -0.302653  0.620302\n",
       "D6 -0.172472  0.311807 -0.607763\n",
       "D7  0.275737  0.485412  0.176195\n",
       "D8  0.128034  0.540278  0.218131"
      ]
     },
     "execution_count": 129,
     "metadata": {},
     "output_type": "execute_result"
    }
   ],
   "source": [
    "# Prepare the loadings dataframe\n",
    "pca_step = pipe.named_steps['pca']\n",
    "loadings = pd.DataFrame(pca_step.components_.T,\n",
    "                        columns=[f'PC{i+1}' for i in range(3)],\n",
    "                        index=moldesc_df.columns[:-1])  # Use only numerical descriptors as the index\n",
    "\n",
    "loadings\n"
   ]
  },
  {
   "cell_type": "markdown",
   "metadata": {},
   "source": [
    "### PCA Loadings matrix analysis\n",
    "\n",
    "The **loadings matrix** represents the contribution of each original variable (molecular descriptor) to the principal components. \n",
    "\n",
    "   - Each row in the matrix corresponds to an original molecular descriptor (D1-D8).\n",
    "   - Each column (PC1, PC2, PC3) shows the contribution (or weight) of the respective descriptor to that principal component.\n",
    "   - Higher absolute values in the loadings indicate a stronger influence of that descriptor on the corresponding principal component.\n",
    "\n",
    "   - **PC1 :**  \n",
    "     - Strong positive contributions from `D1`, `D2`, and `D3`, meaning these descriptors contribute significantly to the variance captured by PC1.\n",
    "     - Negative contribution from `D4`, indicating it influences PC1 in the opposite direction.\n",
    "   - **PC2 :**  \n",
    "     - Descriptors `D7` and `D8` have the highest positive contributions, suggesting they primarily define PC2.\n",
    "     - Descriptor `D4` contributes negatively, indicating a contrasting pattern relative to the others.\n",
    "   - **PC3 :**  \n",
    "     - Descriptors `D5` and `D6` contribute in opposite directions, with `D5` having a strong positive influence and `D6` a strong negative one.\n",
    "\n",
    "   - Variables with near-zero loadings contribute minimally to that principal component.\n",
    "\n"
   ]
  },
  {
   "cell_type": "markdown",
   "metadata": {},
   "source": [
    "12 ) Prepare a plot of the Scores (using plotly) for PC1 and PC2 where the instances are colored according to their class;"
   ]
  },
  {
   "cell_type": "code",
   "execution_count": 132,
   "metadata": {},
   "outputs": [
    {
     "data": {
      "application/vnd.plotly.v1+json": {
       "config": {
        "plotlyServerURL": "https://plot.ly"
       },
       "data": [
        {
         "hovertemplate": "Class=1<br>Principal Component 1 (41.78% EV)=%{x}<br>Principal Component 2 (35.88% EV)=%{y}<extra></extra>",
         "legendgroup": "1",
         "marker": {
          "color": "#636efa",
          "symbol": "circle"
         },
         "mode": "markers",
         "name": "1",
         "orientation": "v",
         "showlegend": true,
         "type": "scatter",
         "x": [
          -1.1860645812359334,
          0.3664498915592002,
          -1.565083912567214,
          -1.0901779064375472,
          -0.9388382865112492,
          -1.9321830519374408,
          -0.6275626449615364,
          -0.820877498387842,
          0.5366443847492898,
          -0.2601922874829319,
          -1.3824836961268252,
          -1.1674643093958061,
          -0.43372064581551567,
          -1.4506883848772634,
          0.29372192779163947,
          -0.01794877664215187,
          -0.8750702007438664,
          -0.7871052496814865,
          -1.9759895590424241,
          -0.13349140461401185,
          -1.2635969729430903,
          1.4206478049420777,
          -0.23488854453301775,
          -0.738058708381245,
          1.2286970947094886,
          -1.2279435925258384,
          0.3997518688793426,
          -1.3026863228082985,
          0.37488923951104813,
          -2.3062273198915957,
          -0.7182608045190548,
          -0.06724445875370792,
          -0.8723740459077991,
          -1.9080157702981686,
          0.917982977467558,
          -1.1062950870024983,
          -0.3455154485015968,
          -0.07052320317686346,
          -0.027445759249499418,
          -0.6627535570391514,
          -1.8478968417650548,
          1.110564881110001,
          0.4538035076401313,
          -0.2051126414249883,
          0.2340797834691976
         ],
         "xaxis": "x",
         "y": [
          3.687837588778433,
          1.9917573579771624,
          -1.8775150566539762,
          2.634292732885856,
          3.7284809409317807,
          -1.081748554274988,
          3.680706185931425,
          2.764023284786289,
          2.677597010631877,
          -0.9720988615679982,
          -0.9894107226749355,
          -1.5023019249332565,
          2.4682947009008087,
          4.139894527246339,
          1.8876507145404362,
          2.609357444750279,
          1.4331125328614618,
          2.7885898457003404,
          -3.281535582811086,
          2.2057656337027787,
          -1.3385558037848357,
          3.5099229144449797,
          1.1008925498232445,
          1.3612787427591655,
          2.898618055255938,
          -1.646862900992469,
          2.2139959198003623,
          -1.1156685430252244,
          2.099664113473677,
          -2.478041521379273,
          -0.4301522499205815,
          1.3383010632075678,
          -1.0161338115781133,
          -1.0106147322703423,
          3.3573750638879845,
          -0.6550596493189276,
          0.17352765742596574,
          1.894230204520561,
          1.9498981564524749,
          -0.9766293874712045,
          -1.6310490986443498,
          2.8848557063900913,
          2.1152127661987192,
          0.7448652242651922,
          0.9189913341914875
         ],
         "yaxis": "y"
        },
        {
         "hovertemplate": "Class=2<br>Principal Component 1 (41.78% EV)=%{x}<br>Principal Component 2 (35.88% EV)=%{y}<extra></extra>",
         "legendgroup": "2",
         "marker": {
          "color": "#EF553B",
          "symbol": "circle"
         },
         "mode": "markers",
         "name": "2",
         "orientation": "v",
         "showlegend": true,
         "type": "scatter",
         "x": [
          0.43520200512399376,
          2.2184329358472215,
          1.9604029505105194,
          1.8209179907989688,
          -0.2166078511327281,
          3.0831620617284625,
          1.224523010804247,
          0.27898828786280216,
          1.7926677690852197,
          4.37104135464484,
          2.28039094156465,
          1.194228770428773,
          1.8505902243976784,
          0.5222594585881236,
          0.5688179735594513,
          0.8599983941816186,
          1.8873127161722687,
          1.4091240428707343,
          1.8297955812635371,
          2.0030993882322408,
          2.0152583255092407,
          0.7501040899513252,
          2.1874470473007963,
          2.120431480667594,
          2.2164983670593674,
          2.830502654936905,
          1.8412991896077784,
          3.0907615867441427,
          1.0918307557983635,
          3.3702374734907368,
          3.481463422002379,
          2.0205409119230957,
          0.962382548788002,
          1.808423286261792,
          1.4662834439258265,
          1.5732869722615752,
          1.5311212934515535,
          2.2560150319392562,
          3.5203387926470278,
          2.806615530948606,
          2.289120275125337,
          1.4760745075790005,
          0.7886221053549792,
          2.429315030372873,
          1.6032598270596887,
          1.3921081771103638,
          2.1751264932943206,
          4.043154642877003,
          1.397255668004299,
          1.6603601043805505,
          1.9810561289387416,
          1.8874273453719361,
          1.4284190715312972,
          1.5311212146606517,
          2.5549321245118906,
          2.4568558423248033,
          0.662300476378433,
          1.289950690702704,
          1.3085003608624421
         ],
         "xaxis": "x",
         "y": [
          -1.5221516473841235,
          -0.8751267621305031,
          -1.27782036056392,
          -1.101013140809849,
          -0.14355999958963522,
          0.9986130913292403,
          -0.6800705964412243,
          1.4029156666429958,
          0.3519769525080129,
          0.4490047496841227,
          1.8111068148393672,
          -0.5623107658360136,
          -1.4861360679287807,
          -2.735403505988447,
          -2.688906696929118,
          -2.5124213601370737,
          -0.7943192100199857,
          -1.6726649742466584,
          -0.81430742660829,
          -1.656866204279819,
          -1.6575870951133627,
          -2.3149892825648393,
          -1.7498320550885442,
          -1.9093551916955216,
          -1.6899174722769315,
          -0.09062509774350525,
          -1.258287942628674,
          0.09854986171885813,
          -0.8525016318108319,
          0.17225410057330584,
          -0.17704336161959525,
          0.5153763088525017,
          -1.549342151714671,
          -0.01654537555777947,
          0.09352787948048003,
          -0.19899851004487182,
          -1.7522982114463448,
          -0.9822338931984819,
          -0.10944087340586742,
          0.6857642918462338,
          0.3818806177160828,
          -2.0531194178929257,
          -2.83459245502784,
          0.07474817252252461,
          0.25594674169272,
          -0.4528090009262484,
          -0.8026101091417989,
          0.39011373948208933,
          -0.11390315044791824,
          -1.5367705429202938,
          -0.7385627380682925,
          -1.268792111621666,
          -1.496916964568191,
          -1.7522981851017954,
          -0.018738670339414447,
          0.032081485561718866,
          1.9873925135762585,
          -0.45562650986139686,
          -0.7571915595155606
         ],
         "yaxis": "y"
        },
        {
         "hovertemplate": "Class=3<br>Principal Component 1 (41.78% EV)=%{x}<br>Principal Component 2 (35.88% EV)=%{y}<extra></extra>",
         "legendgroup": "3",
         "marker": {
          "color": "#00cc96",
          "symbol": "circle"
         },
         "mode": "markers",
         "name": "3",
         "orientation": "v",
         "showlegend": true,
         "type": "scatter",
         "x": [
          -2.1681085106113103,
          -1.5418263900484028,
          -1.5698454687129246,
          -1.5437630913996314,
          -2.061193083782072,
          -2.5536311352114707,
          -1.2606211150836215,
          -1.5849325853684022,
          -2.102381457850213,
          -2.0954691586024596,
          -1.6328926651334013,
          -2.1364055519948737,
          -2.4524943410635416,
          -2.818323150629876,
          -1.2548330536470722,
          -2.4605490032957866,
          -1.5215454726180349,
          -2.467947155561343,
          -1.2145882367130099,
          -3.373421894577201,
          -1.8658640760142173,
          -2.0894400596407747,
          -2.154645226375719,
          -2.8395940597402767,
          -1.7285677554075747,
          -2.5385132244208304,
          -2.5186704264987263,
          -1.1643702649451286,
          -2.1413610364489415,
          -1.8430470023366414,
          -1.6095421062165025,
          -1.2412649275422853,
          -1.912366942126063,
          -3.4250827125049126,
          -2.363286749443543,
          -1.720977059759359,
          -2.4057389348156706,
          -2.278408832296863,
          -2.578954802584764,
          -3.081671283324065,
          -1.14146218048825
         ],
         "xaxis": "x",
         "y": [
          -0.35687634908024746,
          -0.19823648366609684,
          -0.27871361900174796,
          -0.2070902156543026,
          2.165480191523099,
          -0.274019119182725,
          0.5439774393470483,
          1.5075985105226004,
          -0.23984226568948874,
          -0.35480681733754704,
          2.679315470349741,
          -0.43593786458450084,
          -0.8783999474554433,
          -2.891396855438104,
          0.579404205536534,
          -0.8493634330555779,
          1.6611515180475247,
          -1.9332352537692368,
          0.7824847319523273,
          -2.036646332109436,
          0.277699499454844,
          3.600160972734295,
          -0.6181275029250176,
          -2.3665435891139723,
          3.0753734289639714,
          -2.1130293521118997,
          -0.6154951130504456,
          1.1746459838392902,
          -0.35002842431216846,
          -1.1872587291767365,
          1.7466851009243,
          0.7364966870851313,
          -0.9322391315211802,
          0.9821845124884258,
          -1.0339715175877828,
          0.9101628533291904,
          -0.7242328212623222,
          -1.5352421766197026,
          -1.1129467216824156,
          -3.4728938515181733,
          0.7308961005969233
         ],
         "yaxis": "y"
        }
       ],
       "layout": {
        "height": 600,
        "legend": {
         "title": {
          "text": "Class"
         },
         "tracegroupgap": 0
        },
        "template": {
         "data": {
          "bar": [
           {
            "error_x": {
             "color": "#2a3f5f"
            },
            "error_y": {
             "color": "#2a3f5f"
            },
            "marker": {
             "line": {
              "color": "#E5ECF6",
              "width": 0.5
             },
             "pattern": {
              "fillmode": "overlay",
              "size": 10,
              "solidity": 0.2
             }
            },
            "type": "bar"
           }
          ],
          "barpolar": [
           {
            "marker": {
             "line": {
              "color": "#E5ECF6",
              "width": 0.5
             },
             "pattern": {
              "fillmode": "overlay",
              "size": 10,
              "solidity": 0.2
             }
            },
            "type": "barpolar"
           }
          ],
          "carpet": [
           {
            "aaxis": {
             "endlinecolor": "#2a3f5f",
             "gridcolor": "white",
             "linecolor": "white",
             "minorgridcolor": "white",
             "startlinecolor": "#2a3f5f"
            },
            "baxis": {
             "endlinecolor": "#2a3f5f",
             "gridcolor": "white",
             "linecolor": "white",
             "minorgridcolor": "white",
             "startlinecolor": "#2a3f5f"
            },
            "type": "carpet"
           }
          ],
          "choropleth": [
           {
            "colorbar": {
             "outlinewidth": 0,
             "ticks": ""
            },
            "type": "choropleth"
           }
          ],
          "contour": [
           {
            "colorbar": {
             "outlinewidth": 0,
             "ticks": ""
            },
            "colorscale": [
             [
              0,
              "#0d0887"
             ],
             [
              0.1111111111111111,
              "#46039f"
             ],
             [
              0.2222222222222222,
              "#7201a8"
             ],
             [
              0.3333333333333333,
              "#9c179e"
             ],
             [
              0.4444444444444444,
              "#bd3786"
             ],
             [
              0.5555555555555556,
              "#d8576b"
             ],
             [
              0.6666666666666666,
              "#ed7953"
             ],
             [
              0.7777777777777778,
              "#fb9f3a"
             ],
             [
              0.8888888888888888,
              "#fdca26"
             ],
             [
              1,
              "#f0f921"
             ]
            ],
            "type": "contour"
           }
          ],
          "contourcarpet": [
           {
            "colorbar": {
             "outlinewidth": 0,
             "ticks": ""
            },
            "type": "contourcarpet"
           }
          ],
          "heatmap": [
           {
            "colorbar": {
             "outlinewidth": 0,
             "ticks": ""
            },
            "colorscale": [
             [
              0,
              "#0d0887"
             ],
             [
              0.1111111111111111,
              "#46039f"
             ],
             [
              0.2222222222222222,
              "#7201a8"
             ],
             [
              0.3333333333333333,
              "#9c179e"
             ],
             [
              0.4444444444444444,
              "#bd3786"
             ],
             [
              0.5555555555555556,
              "#d8576b"
             ],
             [
              0.6666666666666666,
              "#ed7953"
             ],
             [
              0.7777777777777778,
              "#fb9f3a"
             ],
             [
              0.8888888888888888,
              "#fdca26"
             ],
             [
              1,
              "#f0f921"
             ]
            ],
            "type": "heatmap"
           }
          ],
          "heatmapgl": [
           {
            "colorbar": {
             "outlinewidth": 0,
             "ticks": ""
            },
            "colorscale": [
             [
              0,
              "#0d0887"
             ],
             [
              0.1111111111111111,
              "#46039f"
             ],
             [
              0.2222222222222222,
              "#7201a8"
             ],
             [
              0.3333333333333333,
              "#9c179e"
             ],
             [
              0.4444444444444444,
              "#bd3786"
             ],
             [
              0.5555555555555556,
              "#d8576b"
             ],
             [
              0.6666666666666666,
              "#ed7953"
             ],
             [
              0.7777777777777778,
              "#fb9f3a"
             ],
             [
              0.8888888888888888,
              "#fdca26"
             ],
             [
              1,
              "#f0f921"
             ]
            ],
            "type": "heatmapgl"
           }
          ],
          "histogram": [
           {
            "marker": {
             "pattern": {
              "fillmode": "overlay",
              "size": 10,
              "solidity": 0.2
             }
            },
            "type": "histogram"
           }
          ],
          "histogram2d": [
           {
            "colorbar": {
             "outlinewidth": 0,
             "ticks": ""
            },
            "colorscale": [
             [
              0,
              "#0d0887"
             ],
             [
              0.1111111111111111,
              "#46039f"
             ],
             [
              0.2222222222222222,
              "#7201a8"
             ],
             [
              0.3333333333333333,
              "#9c179e"
             ],
             [
              0.4444444444444444,
              "#bd3786"
             ],
             [
              0.5555555555555556,
              "#d8576b"
             ],
             [
              0.6666666666666666,
              "#ed7953"
             ],
             [
              0.7777777777777778,
              "#fb9f3a"
             ],
             [
              0.8888888888888888,
              "#fdca26"
             ],
             [
              1,
              "#f0f921"
             ]
            ],
            "type": "histogram2d"
           }
          ],
          "histogram2dcontour": [
           {
            "colorbar": {
             "outlinewidth": 0,
             "ticks": ""
            },
            "colorscale": [
             [
              0,
              "#0d0887"
             ],
             [
              0.1111111111111111,
              "#46039f"
             ],
             [
              0.2222222222222222,
              "#7201a8"
             ],
             [
              0.3333333333333333,
              "#9c179e"
             ],
             [
              0.4444444444444444,
              "#bd3786"
             ],
             [
              0.5555555555555556,
              "#d8576b"
             ],
             [
              0.6666666666666666,
              "#ed7953"
             ],
             [
              0.7777777777777778,
              "#fb9f3a"
             ],
             [
              0.8888888888888888,
              "#fdca26"
             ],
             [
              1,
              "#f0f921"
             ]
            ],
            "type": "histogram2dcontour"
           }
          ],
          "mesh3d": [
           {
            "colorbar": {
             "outlinewidth": 0,
             "ticks": ""
            },
            "type": "mesh3d"
           }
          ],
          "parcoords": [
           {
            "line": {
             "colorbar": {
              "outlinewidth": 0,
              "ticks": ""
             }
            },
            "type": "parcoords"
           }
          ],
          "pie": [
           {
            "automargin": true,
            "type": "pie"
           }
          ],
          "scatter": [
           {
            "fillpattern": {
             "fillmode": "overlay",
             "size": 10,
             "solidity": 0.2
            },
            "type": "scatter"
           }
          ],
          "scatter3d": [
           {
            "line": {
             "colorbar": {
              "outlinewidth": 0,
              "ticks": ""
             }
            },
            "marker": {
             "colorbar": {
              "outlinewidth": 0,
              "ticks": ""
             }
            },
            "type": "scatter3d"
           }
          ],
          "scattercarpet": [
           {
            "marker": {
             "colorbar": {
              "outlinewidth": 0,
              "ticks": ""
             }
            },
            "type": "scattercarpet"
           }
          ],
          "scattergeo": [
           {
            "marker": {
             "colorbar": {
              "outlinewidth": 0,
              "ticks": ""
             }
            },
            "type": "scattergeo"
           }
          ],
          "scattergl": [
           {
            "marker": {
             "colorbar": {
              "outlinewidth": 0,
              "ticks": ""
             }
            },
            "type": "scattergl"
           }
          ],
          "scattermapbox": [
           {
            "marker": {
             "colorbar": {
              "outlinewidth": 0,
              "ticks": ""
             }
            },
            "type": "scattermapbox"
           }
          ],
          "scatterpolar": [
           {
            "marker": {
             "colorbar": {
              "outlinewidth": 0,
              "ticks": ""
             }
            },
            "type": "scatterpolar"
           }
          ],
          "scatterpolargl": [
           {
            "marker": {
             "colorbar": {
              "outlinewidth": 0,
              "ticks": ""
             }
            },
            "type": "scatterpolargl"
           }
          ],
          "scatterternary": [
           {
            "marker": {
             "colorbar": {
              "outlinewidth": 0,
              "ticks": ""
             }
            },
            "type": "scatterternary"
           }
          ],
          "surface": [
           {
            "colorbar": {
             "outlinewidth": 0,
             "ticks": ""
            },
            "colorscale": [
             [
              0,
              "#0d0887"
             ],
             [
              0.1111111111111111,
              "#46039f"
             ],
             [
              0.2222222222222222,
              "#7201a8"
             ],
             [
              0.3333333333333333,
              "#9c179e"
             ],
             [
              0.4444444444444444,
              "#bd3786"
             ],
             [
              0.5555555555555556,
              "#d8576b"
             ],
             [
              0.6666666666666666,
              "#ed7953"
             ],
             [
              0.7777777777777778,
              "#fb9f3a"
             ],
             [
              0.8888888888888888,
              "#fdca26"
             ],
             [
              1,
              "#f0f921"
             ]
            ],
            "type": "surface"
           }
          ],
          "table": [
           {
            "cells": {
             "fill": {
              "color": "#EBF0F8"
             },
             "line": {
              "color": "white"
             }
            },
            "header": {
             "fill": {
              "color": "#C8D4E3"
             },
             "line": {
              "color": "white"
             }
            },
            "type": "table"
           }
          ]
         },
         "layout": {
          "annotationdefaults": {
           "arrowcolor": "#2a3f5f",
           "arrowhead": 0,
           "arrowwidth": 1
          },
          "autotypenumbers": "strict",
          "coloraxis": {
           "colorbar": {
            "outlinewidth": 0,
            "ticks": ""
           }
          },
          "colorscale": {
           "diverging": [
            [
             0,
             "#8e0152"
            ],
            [
             0.1,
             "#c51b7d"
            ],
            [
             0.2,
             "#de77ae"
            ],
            [
             0.3,
             "#f1b6da"
            ],
            [
             0.4,
             "#fde0ef"
            ],
            [
             0.5,
             "#f7f7f7"
            ],
            [
             0.6,
             "#e6f5d0"
            ],
            [
             0.7,
             "#b8e186"
            ],
            [
             0.8,
             "#7fbc41"
            ],
            [
             0.9,
             "#4d9221"
            ],
            [
             1,
             "#276419"
            ]
           ],
           "sequential": [
            [
             0,
             "#0d0887"
            ],
            [
             0.1111111111111111,
             "#46039f"
            ],
            [
             0.2222222222222222,
             "#7201a8"
            ],
            [
             0.3333333333333333,
             "#9c179e"
            ],
            [
             0.4444444444444444,
             "#bd3786"
            ],
            [
             0.5555555555555556,
             "#d8576b"
            ],
            [
             0.6666666666666666,
             "#ed7953"
            ],
            [
             0.7777777777777778,
             "#fb9f3a"
            ],
            [
             0.8888888888888888,
             "#fdca26"
            ],
            [
             1,
             "#f0f921"
            ]
           ],
           "sequentialminus": [
            [
             0,
             "#0d0887"
            ],
            [
             0.1111111111111111,
             "#46039f"
            ],
            [
             0.2222222222222222,
             "#7201a8"
            ],
            [
             0.3333333333333333,
             "#9c179e"
            ],
            [
             0.4444444444444444,
             "#bd3786"
            ],
            [
             0.5555555555555556,
             "#d8576b"
            ],
            [
             0.6666666666666666,
             "#ed7953"
            ],
            [
             0.7777777777777778,
             "#fb9f3a"
            ],
            [
             0.8888888888888888,
             "#fdca26"
            ],
            [
             1,
             "#f0f921"
            ]
           ]
          },
          "colorway": [
           "#636efa",
           "#EF553B",
           "#00cc96",
           "#ab63fa",
           "#FFA15A",
           "#19d3f3",
           "#FF6692",
           "#B6E880",
           "#FF97FF",
           "#FECB52"
          ],
          "font": {
           "color": "#2a3f5f"
          },
          "geo": {
           "bgcolor": "white",
           "lakecolor": "white",
           "landcolor": "#E5ECF6",
           "showlakes": true,
           "showland": true,
           "subunitcolor": "white"
          },
          "hoverlabel": {
           "align": "left"
          },
          "hovermode": "closest",
          "mapbox": {
           "style": "light"
          },
          "paper_bgcolor": "white",
          "plot_bgcolor": "#E5ECF6",
          "polar": {
           "angularaxis": {
            "gridcolor": "white",
            "linecolor": "white",
            "ticks": ""
           },
           "bgcolor": "#E5ECF6",
           "radialaxis": {
            "gridcolor": "white",
            "linecolor": "white",
            "ticks": ""
           }
          },
          "scene": {
           "xaxis": {
            "backgroundcolor": "#E5ECF6",
            "gridcolor": "white",
            "gridwidth": 2,
            "linecolor": "white",
            "showbackground": true,
            "ticks": "",
            "zerolinecolor": "white"
           },
           "yaxis": {
            "backgroundcolor": "#E5ECF6",
            "gridcolor": "white",
            "gridwidth": 2,
            "linecolor": "white",
            "showbackground": true,
            "ticks": "",
            "zerolinecolor": "white"
           },
           "zaxis": {
            "backgroundcolor": "#E5ECF6",
            "gridcolor": "white",
            "gridwidth": 2,
            "linecolor": "white",
            "showbackground": true,
            "ticks": "",
            "zerolinecolor": "white"
           }
          },
          "shapedefaults": {
           "line": {
            "color": "#2a3f5f"
           }
          },
          "ternary": {
           "aaxis": {
            "gridcolor": "white",
            "linecolor": "white",
            "ticks": ""
           },
           "baxis": {
            "gridcolor": "white",
            "linecolor": "white",
            "ticks": ""
           },
           "bgcolor": "#E5ECF6",
           "caxis": {
            "gridcolor": "white",
            "linecolor": "white",
            "ticks": ""
           }
          },
          "title": {
           "x": 0.05
          },
          "xaxis": {
           "automargin": true,
           "gridcolor": "white",
           "linecolor": "white",
           "ticks": "",
           "title": {
            "standoff": 15
           },
           "zerolinecolor": "white",
           "zerolinewidth": 2
          },
          "yaxis": {
           "automargin": true,
           "gridcolor": "white",
           "linecolor": "white",
           "ticks": "",
           "title": {
            "standoff": 15
           },
           "zerolinecolor": "white",
           "zerolinewidth": 2
          }
         }
        },
        "title": {
         "text": "Scores Plot: PC1 vs PC2"
        },
        "width": 600,
        "xaxis": {
         "anchor": "y",
         "domain": [
          0,
          1
         ],
         "range": [
          -5,
          5
         ],
         "title": {
          "text": "Principal Component 1 (41.78% EV)"
         },
         "type": "linear",
         "zeroline": true,
         "zerolinecolor": "Black",
         "zerolinewidth": 1
        },
        "yaxis": {
         "anchor": "x",
         "domain": [
          0,
          1
         ],
         "range": [
          -5,
          5
         ],
         "title": {
          "text": "Principal Component 2 (35.88% EV)"
         },
         "type": "linear",
         "zeroline": true,
         "zerolinecolor": "Black",
         "zerolinewidth": 1
        }
       }
      },
      "text/html": [
       "<div>                            <div id=\"855d96ce-cc39-455a-9046-dfc27085f453\" class=\"plotly-graph-div\" style=\"height:600px; width:600px;\"></div>            <script type=\"text/javascript\">                require([\"plotly\"], function(Plotly) {                    window.PLOTLYENV=window.PLOTLYENV || {};                                    if (document.getElementById(\"855d96ce-cc39-455a-9046-dfc27085f453\")) {                    Plotly.newPlot(                        \"855d96ce-cc39-455a-9046-dfc27085f453\",                        [{\"hovertemplate\":\"Class=1\\u003cbr\\u003ePrincipal Component 1 (41.78% EV)=%{x}\\u003cbr\\u003ePrincipal Component 2 (35.88% EV)=%{y}\\u003cextra\\u003e\\u003c\\u002fextra\\u003e\",\"legendgroup\":\"1\",\"marker\":{\"color\":\"#636efa\",\"symbol\":\"circle\"},\"mode\":\"markers\",\"name\":\"1\",\"orientation\":\"v\",\"showlegend\":true,\"x\":[-1.1860645812359334,0.3664498915592002,-1.565083912567214,-1.0901779064375472,-0.9388382865112492,-1.9321830519374408,-0.6275626449615364,-0.820877498387842,0.5366443847492898,-0.2601922874829319,-1.3824836961268252,-1.1674643093958061,-0.43372064581551567,-1.4506883848772634,0.29372192779163947,-0.01794877664215187,-0.8750702007438664,-0.7871052496814865,-1.9759895590424241,-0.13349140461401185,-1.2635969729430903,1.4206478049420777,-0.23488854453301775,-0.738058708381245,1.2286970947094886,-1.2279435925258384,0.3997518688793426,-1.3026863228082985,0.37488923951104813,-2.3062273198915957,-0.7182608045190548,-0.06724445875370792,-0.8723740459077991,-1.9080157702981686,0.917982977467558,-1.1062950870024983,-0.3455154485015968,-0.07052320317686346,-0.027445759249499418,-0.6627535570391514,-1.8478968417650548,1.110564881110001,0.4538035076401313,-0.2051126414249883,0.2340797834691976],\"xaxis\":\"x\",\"y\":[3.687837588778433,1.9917573579771624,-1.8775150566539762,2.634292732885856,3.7284809409317807,-1.081748554274988,3.680706185931425,2.764023284786289,2.677597010631877,-0.9720988615679982,-0.9894107226749355,-1.5023019249332565,2.4682947009008087,4.139894527246339,1.8876507145404362,2.609357444750279,1.4331125328614618,2.7885898457003404,-3.281535582811086,2.2057656337027787,-1.3385558037848357,3.5099229144449797,1.1008925498232445,1.3612787427591655,2.898618055255938,-1.646862900992469,2.2139959198003623,-1.1156685430252244,2.099664113473677,-2.478041521379273,-0.4301522499205815,1.3383010632075678,-1.0161338115781133,-1.0106147322703423,3.3573750638879845,-0.6550596493189276,0.17352765742596574,1.894230204520561,1.9498981564524749,-0.9766293874712045,-1.6310490986443498,2.8848557063900913,2.1152127661987192,0.7448652242651922,0.9189913341914875],\"yaxis\":\"y\",\"type\":\"scatter\"},{\"hovertemplate\":\"Class=2\\u003cbr\\u003ePrincipal Component 1 (41.78% EV)=%{x}\\u003cbr\\u003ePrincipal Component 2 (35.88% EV)=%{y}\\u003cextra\\u003e\\u003c\\u002fextra\\u003e\",\"legendgroup\":\"2\",\"marker\":{\"color\":\"#EF553B\",\"symbol\":\"circle\"},\"mode\":\"markers\",\"name\":\"2\",\"orientation\":\"v\",\"showlegend\":true,\"x\":[0.43520200512399376,2.2184329358472215,1.9604029505105194,1.8209179907989688,-0.2166078511327281,3.0831620617284625,1.224523010804247,0.27898828786280216,1.7926677690852197,4.37104135464484,2.28039094156465,1.194228770428773,1.8505902243976784,0.5222594585881236,0.5688179735594513,0.8599983941816186,1.8873127161722687,1.4091240428707343,1.8297955812635371,2.0030993882322408,2.0152583255092407,0.7501040899513252,2.1874470473007963,2.120431480667594,2.2164983670593674,2.830502654936905,1.8412991896077784,3.0907615867441427,1.0918307557983635,3.3702374734907368,3.481463422002379,2.0205409119230957,0.962382548788002,1.808423286261792,1.4662834439258265,1.5732869722615752,1.5311212934515535,2.2560150319392562,3.5203387926470278,2.806615530948606,2.289120275125337,1.4760745075790005,0.7886221053549792,2.429315030372873,1.6032598270596887,1.3921081771103638,2.1751264932943206,4.043154642877003,1.397255668004299,1.6603601043805505,1.9810561289387416,1.8874273453719361,1.4284190715312972,1.5311212146606517,2.5549321245118906,2.4568558423248033,0.662300476378433,1.289950690702704,1.3085003608624421],\"xaxis\":\"x\",\"y\":[-1.5221516473841235,-0.8751267621305031,-1.27782036056392,-1.101013140809849,-0.14355999958963522,0.9986130913292403,-0.6800705964412243,1.4029156666429958,0.3519769525080129,0.4490047496841227,1.8111068148393672,-0.5623107658360136,-1.4861360679287807,-2.735403505988447,-2.688906696929118,-2.5124213601370737,-0.7943192100199857,-1.6726649742466584,-0.81430742660829,-1.656866204279819,-1.6575870951133627,-2.3149892825648393,-1.7498320550885442,-1.9093551916955216,-1.6899174722769315,-0.09062509774350525,-1.258287942628674,0.09854986171885813,-0.8525016318108319,0.17225410057330584,-0.17704336161959525,0.5153763088525017,-1.549342151714671,-0.01654537555777947,0.09352787948048003,-0.19899851004487182,-1.7522982114463448,-0.9822338931984819,-0.10944087340586742,0.6857642918462338,0.3818806177160828,-2.0531194178929257,-2.83459245502784,0.07474817252252461,0.25594674169272,-0.4528090009262484,-0.8026101091417989,0.39011373948208933,-0.11390315044791824,-1.5367705429202938,-0.7385627380682925,-1.268792111621666,-1.496916964568191,-1.7522981851017954,-0.018738670339414447,0.032081485561718866,1.9873925135762585,-0.45562650986139686,-0.7571915595155606],\"yaxis\":\"y\",\"type\":\"scatter\"},{\"hovertemplate\":\"Class=3\\u003cbr\\u003ePrincipal Component 1 (41.78% EV)=%{x}\\u003cbr\\u003ePrincipal Component 2 (35.88% EV)=%{y}\\u003cextra\\u003e\\u003c\\u002fextra\\u003e\",\"legendgroup\":\"3\",\"marker\":{\"color\":\"#00cc96\",\"symbol\":\"circle\"},\"mode\":\"markers\",\"name\":\"3\",\"orientation\":\"v\",\"showlegend\":true,\"x\":[-2.1681085106113103,-1.5418263900484028,-1.5698454687129246,-1.5437630913996314,-2.061193083782072,-2.5536311352114707,-1.2606211150836215,-1.5849325853684022,-2.102381457850213,-2.0954691586024596,-1.6328926651334013,-2.1364055519948737,-2.4524943410635416,-2.818323150629876,-1.2548330536470722,-2.4605490032957866,-1.5215454726180349,-2.467947155561343,-1.2145882367130099,-3.373421894577201,-1.8658640760142173,-2.0894400596407747,-2.154645226375719,-2.8395940597402767,-1.7285677554075747,-2.5385132244208304,-2.5186704264987263,-1.1643702649451286,-2.1413610364489415,-1.8430470023366414,-1.6095421062165025,-1.2412649275422853,-1.912366942126063,-3.4250827125049126,-2.363286749443543,-1.720977059759359,-2.4057389348156706,-2.278408832296863,-2.578954802584764,-3.081671283324065,-1.14146218048825],\"xaxis\":\"x\",\"y\":[-0.35687634908024746,-0.19823648366609684,-0.27871361900174796,-0.2070902156543026,2.165480191523099,-0.274019119182725,0.5439774393470483,1.5075985105226004,-0.23984226568948874,-0.35480681733754704,2.679315470349741,-0.43593786458450084,-0.8783999474554433,-2.891396855438104,0.579404205536534,-0.8493634330555779,1.6611515180475247,-1.9332352537692368,0.7824847319523273,-2.036646332109436,0.277699499454844,3.600160972734295,-0.6181275029250176,-2.3665435891139723,3.0753734289639714,-2.1130293521118997,-0.6154951130504456,1.1746459838392902,-0.35002842431216846,-1.1872587291767365,1.7466851009243,0.7364966870851313,-0.9322391315211802,0.9821845124884258,-1.0339715175877828,0.9101628533291904,-0.7242328212623222,-1.5352421766197026,-1.1129467216824156,-3.4728938515181733,0.7308961005969233],\"yaxis\":\"y\",\"type\":\"scatter\"}],                        {\"template\":{\"data\":{\"histogram2dcontour\":[{\"type\":\"histogram2dcontour\",\"colorbar\":{\"outlinewidth\":0,\"ticks\":\"\"},\"colorscale\":[[0.0,\"#0d0887\"],[0.1111111111111111,\"#46039f\"],[0.2222222222222222,\"#7201a8\"],[0.3333333333333333,\"#9c179e\"],[0.4444444444444444,\"#bd3786\"],[0.5555555555555556,\"#d8576b\"],[0.6666666666666666,\"#ed7953\"],[0.7777777777777778,\"#fb9f3a\"],[0.8888888888888888,\"#fdca26\"],[1.0,\"#f0f921\"]]}],\"choropleth\":[{\"type\":\"choropleth\",\"colorbar\":{\"outlinewidth\":0,\"ticks\":\"\"}}],\"histogram2d\":[{\"type\":\"histogram2d\",\"colorbar\":{\"outlinewidth\":0,\"ticks\":\"\"},\"colorscale\":[[0.0,\"#0d0887\"],[0.1111111111111111,\"#46039f\"],[0.2222222222222222,\"#7201a8\"],[0.3333333333333333,\"#9c179e\"],[0.4444444444444444,\"#bd3786\"],[0.5555555555555556,\"#d8576b\"],[0.6666666666666666,\"#ed7953\"],[0.7777777777777778,\"#fb9f3a\"],[0.8888888888888888,\"#fdca26\"],[1.0,\"#f0f921\"]]}],\"heatmap\":[{\"type\":\"heatmap\",\"colorbar\":{\"outlinewidth\":0,\"ticks\":\"\"},\"colorscale\":[[0.0,\"#0d0887\"],[0.1111111111111111,\"#46039f\"],[0.2222222222222222,\"#7201a8\"],[0.3333333333333333,\"#9c179e\"],[0.4444444444444444,\"#bd3786\"],[0.5555555555555556,\"#d8576b\"],[0.6666666666666666,\"#ed7953\"],[0.7777777777777778,\"#fb9f3a\"],[0.8888888888888888,\"#fdca26\"],[1.0,\"#f0f921\"]]}],\"heatmapgl\":[{\"type\":\"heatmapgl\",\"colorbar\":{\"outlinewidth\":0,\"ticks\":\"\"},\"colorscale\":[[0.0,\"#0d0887\"],[0.1111111111111111,\"#46039f\"],[0.2222222222222222,\"#7201a8\"],[0.3333333333333333,\"#9c179e\"],[0.4444444444444444,\"#bd3786\"],[0.5555555555555556,\"#d8576b\"],[0.6666666666666666,\"#ed7953\"],[0.7777777777777778,\"#fb9f3a\"],[0.8888888888888888,\"#fdca26\"],[1.0,\"#f0f921\"]]}],\"contourcarpet\":[{\"type\":\"contourcarpet\",\"colorbar\":{\"outlinewidth\":0,\"ticks\":\"\"}}],\"contour\":[{\"type\":\"contour\",\"colorbar\":{\"outlinewidth\":0,\"ticks\":\"\"},\"colorscale\":[[0.0,\"#0d0887\"],[0.1111111111111111,\"#46039f\"],[0.2222222222222222,\"#7201a8\"],[0.3333333333333333,\"#9c179e\"],[0.4444444444444444,\"#bd3786\"],[0.5555555555555556,\"#d8576b\"],[0.6666666666666666,\"#ed7953\"],[0.7777777777777778,\"#fb9f3a\"],[0.8888888888888888,\"#fdca26\"],[1.0,\"#f0f921\"]]}],\"surface\":[{\"type\":\"surface\",\"colorbar\":{\"outlinewidth\":0,\"ticks\":\"\"},\"colorscale\":[[0.0,\"#0d0887\"],[0.1111111111111111,\"#46039f\"],[0.2222222222222222,\"#7201a8\"],[0.3333333333333333,\"#9c179e\"],[0.4444444444444444,\"#bd3786\"],[0.5555555555555556,\"#d8576b\"],[0.6666666666666666,\"#ed7953\"],[0.7777777777777778,\"#fb9f3a\"],[0.8888888888888888,\"#fdca26\"],[1.0,\"#f0f921\"]]}],\"mesh3d\":[{\"type\":\"mesh3d\",\"colorbar\":{\"outlinewidth\":0,\"ticks\":\"\"}}],\"scatter\":[{\"fillpattern\":{\"fillmode\":\"overlay\",\"size\":10,\"solidity\":0.2},\"type\":\"scatter\"}],\"parcoords\":[{\"type\":\"parcoords\",\"line\":{\"colorbar\":{\"outlinewidth\":0,\"ticks\":\"\"}}}],\"scatterpolargl\":[{\"type\":\"scatterpolargl\",\"marker\":{\"colorbar\":{\"outlinewidth\":0,\"ticks\":\"\"}}}],\"bar\":[{\"error_x\":{\"color\":\"#2a3f5f\"},\"error_y\":{\"color\":\"#2a3f5f\"},\"marker\":{\"line\":{\"color\":\"#E5ECF6\",\"width\":0.5},\"pattern\":{\"fillmode\":\"overlay\",\"size\":10,\"solidity\":0.2}},\"type\":\"bar\"}],\"scattergeo\":[{\"type\":\"scattergeo\",\"marker\":{\"colorbar\":{\"outlinewidth\":0,\"ticks\":\"\"}}}],\"scatterpolar\":[{\"type\":\"scatterpolar\",\"marker\":{\"colorbar\":{\"outlinewidth\":0,\"ticks\":\"\"}}}],\"histogram\":[{\"marker\":{\"pattern\":{\"fillmode\":\"overlay\",\"size\":10,\"solidity\":0.2}},\"type\":\"histogram\"}],\"scattergl\":[{\"type\":\"scattergl\",\"marker\":{\"colorbar\":{\"outlinewidth\":0,\"ticks\":\"\"}}}],\"scatter3d\":[{\"type\":\"scatter3d\",\"line\":{\"colorbar\":{\"outlinewidth\":0,\"ticks\":\"\"}},\"marker\":{\"colorbar\":{\"outlinewidth\":0,\"ticks\":\"\"}}}],\"scattermapbox\":[{\"type\":\"scattermapbox\",\"marker\":{\"colorbar\":{\"outlinewidth\":0,\"ticks\":\"\"}}}],\"scatterternary\":[{\"type\":\"scatterternary\",\"marker\":{\"colorbar\":{\"outlinewidth\":0,\"ticks\":\"\"}}}],\"scattercarpet\":[{\"type\":\"scattercarpet\",\"marker\":{\"colorbar\":{\"outlinewidth\":0,\"ticks\":\"\"}}}],\"carpet\":[{\"aaxis\":{\"endlinecolor\":\"#2a3f5f\",\"gridcolor\":\"white\",\"linecolor\":\"white\",\"minorgridcolor\":\"white\",\"startlinecolor\":\"#2a3f5f\"},\"baxis\":{\"endlinecolor\":\"#2a3f5f\",\"gridcolor\":\"white\",\"linecolor\":\"white\",\"minorgridcolor\":\"white\",\"startlinecolor\":\"#2a3f5f\"},\"type\":\"carpet\"}],\"table\":[{\"cells\":{\"fill\":{\"color\":\"#EBF0F8\"},\"line\":{\"color\":\"white\"}},\"header\":{\"fill\":{\"color\":\"#C8D4E3\"},\"line\":{\"color\":\"white\"}},\"type\":\"table\"}],\"barpolar\":[{\"marker\":{\"line\":{\"color\":\"#E5ECF6\",\"width\":0.5},\"pattern\":{\"fillmode\":\"overlay\",\"size\":10,\"solidity\":0.2}},\"type\":\"barpolar\"}],\"pie\":[{\"automargin\":true,\"type\":\"pie\"}]},\"layout\":{\"autotypenumbers\":\"strict\",\"colorway\":[\"#636efa\",\"#EF553B\",\"#00cc96\",\"#ab63fa\",\"#FFA15A\",\"#19d3f3\",\"#FF6692\",\"#B6E880\",\"#FF97FF\",\"#FECB52\"],\"font\":{\"color\":\"#2a3f5f\"},\"hovermode\":\"closest\",\"hoverlabel\":{\"align\":\"left\"},\"paper_bgcolor\":\"white\",\"plot_bgcolor\":\"#E5ECF6\",\"polar\":{\"bgcolor\":\"#E5ECF6\",\"angularaxis\":{\"gridcolor\":\"white\",\"linecolor\":\"white\",\"ticks\":\"\"},\"radialaxis\":{\"gridcolor\":\"white\",\"linecolor\":\"white\",\"ticks\":\"\"}},\"ternary\":{\"bgcolor\":\"#E5ECF6\",\"aaxis\":{\"gridcolor\":\"white\",\"linecolor\":\"white\",\"ticks\":\"\"},\"baxis\":{\"gridcolor\":\"white\",\"linecolor\":\"white\",\"ticks\":\"\"},\"caxis\":{\"gridcolor\":\"white\",\"linecolor\":\"white\",\"ticks\":\"\"}},\"coloraxis\":{\"colorbar\":{\"outlinewidth\":0,\"ticks\":\"\"}},\"colorscale\":{\"sequential\":[[0.0,\"#0d0887\"],[0.1111111111111111,\"#46039f\"],[0.2222222222222222,\"#7201a8\"],[0.3333333333333333,\"#9c179e\"],[0.4444444444444444,\"#bd3786\"],[0.5555555555555556,\"#d8576b\"],[0.6666666666666666,\"#ed7953\"],[0.7777777777777778,\"#fb9f3a\"],[0.8888888888888888,\"#fdca26\"],[1.0,\"#f0f921\"]],\"sequentialminus\":[[0.0,\"#0d0887\"],[0.1111111111111111,\"#46039f\"],[0.2222222222222222,\"#7201a8\"],[0.3333333333333333,\"#9c179e\"],[0.4444444444444444,\"#bd3786\"],[0.5555555555555556,\"#d8576b\"],[0.6666666666666666,\"#ed7953\"],[0.7777777777777778,\"#fb9f3a\"],[0.8888888888888888,\"#fdca26\"],[1.0,\"#f0f921\"]],\"diverging\":[[0,\"#8e0152\"],[0.1,\"#c51b7d\"],[0.2,\"#de77ae\"],[0.3,\"#f1b6da\"],[0.4,\"#fde0ef\"],[0.5,\"#f7f7f7\"],[0.6,\"#e6f5d0\"],[0.7,\"#b8e186\"],[0.8,\"#7fbc41\"],[0.9,\"#4d9221\"],[1,\"#276419\"]]},\"xaxis\":{\"gridcolor\":\"white\",\"linecolor\":\"white\",\"ticks\":\"\",\"title\":{\"standoff\":15},\"zerolinecolor\":\"white\",\"automargin\":true,\"zerolinewidth\":2},\"yaxis\":{\"gridcolor\":\"white\",\"linecolor\":\"white\",\"ticks\":\"\",\"title\":{\"standoff\":15},\"zerolinecolor\":\"white\",\"automargin\":true,\"zerolinewidth\":2},\"scene\":{\"xaxis\":{\"backgroundcolor\":\"#E5ECF6\",\"gridcolor\":\"white\",\"linecolor\":\"white\",\"showbackground\":true,\"ticks\":\"\",\"zerolinecolor\":\"white\",\"gridwidth\":2},\"yaxis\":{\"backgroundcolor\":\"#E5ECF6\",\"gridcolor\":\"white\",\"linecolor\":\"white\",\"showbackground\":true,\"ticks\":\"\",\"zerolinecolor\":\"white\",\"gridwidth\":2},\"zaxis\":{\"backgroundcolor\":\"#E5ECF6\",\"gridcolor\":\"white\",\"linecolor\":\"white\",\"showbackground\":true,\"ticks\":\"\",\"zerolinecolor\":\"white\",\"gridwidth\":2}},\"shapedefaults\":{\"line\":{\"color\":\"#2a3f5f\"}},\"annotationdefaults\":{\"arrowcolor\":\"#2a3f5f\",\"arrowhead\":0,\"arrowwidth\":1},\"geo\":{\"bgcolor\":\"white\",\"landcolor\":\"#E5ECF6\",\"subunitcolor\":\"white\",\"showland\":true,\"showlakes\":true,\"lakecolor\":\"white\"},\"title\":{\"x\":0.05},\"mapbox\":{\"style\":\"light\"}}},\"xaxis\":{\"anchor\":\"y\",\"domain\":[0.0,1.0],\"title\":{\"text\":\"Principal Component 1 (41.78% EV)\"},\"zeroline\":true,\"zerolinewidth\":1,\"zerolinecolor\":\"Black\",\"range\":[-5,5]},\"yaxis\":{\"anchor\":\"x\",\"domain\":[0.0,1.0],\"title\":{\"text\":\"Principal Component 2 (35.88% EV)\"},\"zeroline\":true,\"zerolinewidth\":1,\"zerolinecolor\":\"Black\",\"range\":[-5,5]},\"legend\":{\"title\":{\"text\":\"Class\"},\"tracegroupgap\":0},\"title\":{\"text\":\"Scores Plot: PC1 vs PC2\"},\"width\":600,\"height\":600},                        {\"responsive\": true}                    ).then(function(){\n",
       "                            \n",
       "var gd = document.getElementById('855d96ce-cc39-455a-9046-dfc27085f453');\n",
       "var x = new MutationObserver(function (mutations, observer) {{\n",
       "        var display = window.getComputedStyle(gd).display;\n",
       "        if (!display || display === 'none') {{\n",
       "            console.log([gd, 'removed!']);\n",
       "            Plotly.purge(gd);\n",
       "            observer.disconnect();\n",
       "        }}\n",
       "}});\n",
       "\n",
       "// Listen for the removal of the full notebook cells\n",
       "var notebookContainer = gd.closest('#notebook-container');\n",
       "if (notebookContainer) {{\n",
       "    x.observe(notebookContainer, {childList: true});\n",
       "}}\n",
       "\n",
       "// Listen for the clearing of the current output cell\n",
       "var outputEl = gd.closest('.output');\n",
       "if (outputEl) {{\n",
       "    x.observe(outputEl, {childList: true});\n",
       "}}\n",
       "\n",
       "                        })                };                });            </script>        </div>"
      ]
     },
     "metadata": {},
     "output_type": "display_data"
    }
   ],
   "source": [
    "# Plot the scores - 2D\n",
    "\n",
    "fig = px.scatter(scores_withdata, #with complete data\n",
    "                 x='PC1',\n",
    "                 y='PC2',\n",
    "                 color= 'Class', \n",
    "                 labels={\n",
    "                     'PC1': f'Principal Component 1 ({explained_variance[0] * 100:.2f}% EV)',\n",
    "                     'PC2': f'Principal Component 2 ({explained_variance[1] * 100:.2f}% EV)'\n",
    "                 },\n",
    "                 title='Scores Plot: PC1 vs PC2')\n",
    "\n",
    "# Add zerolines\n",
    "fig.update_xaxes(zeroline=True, zerolinewidth=1, zerolinecolor='Black')\n",
    "\n",
    "fig.update_yaxes(zeroline=True, zerolinewidth=1, zerolinecolor='Black')\n",
    "\n",
    "# Set the layout to be square\n",
    "fig.update_layout(\n",
    "    width=600,\n",
    "    height=600,\n",
    "    xaxis=dict(range=[-5, 5]),  # Set x-axis range from -5 to 5\n",
    "    yaxis=dict(range=[-5, 5])   # Set y-axis range from -5 to 5\n",
    ")\n",
    "\n",
    "fig.show()"
   ]
  },
  {
   "cell_type": "markdown",
   "metadata": {},
   "source": [
    "13) Prepare a plot of the Loadings (using plotly) for PC1 and PC2."
   ]
  },
  {
   "cell_type": "code",
   "execution_count": 134,
   "metadata": {},
   "outputs": [
    {
     "data": {
      "application/vnd.plotly.v1+json": {
       "config": {
        "plotlyServerURL": "https://plot.ly"
       },
       "data": [
        {
         "hovertemplate": "Principal Component 1 (41.78% EV)=%{x}<br>Principal Component 2 (35.88% EV)=%{y}<br>index=%{text}<extra></extra>",
         "legendgroup": "",
         "marker": {
          "color": "#636efa",
          "symbol": "circle"
         },
         "mode": "markers+text",
         "name": "",
         "orientation": "v",
         "showlegend": false,
         "text": [
          "D1",
          "D2",
          "D3",
          "D4",
          "D5",
          "D6",
          "D7",
          "D8"
         ],
         "textposition": "top center",
         "type": "scatter",
         "x": [
          0.505402555918536,
          0.5012555053256793,
          0.5037478778325096,
          -0.30079098638376695,
          0.16402462898949685,
          -0.17247186866780279,
          0.27573666578492606,
          0.1280339786390288
         ],
         "xaxis": "x",
         "y": [
          -0.146883001703645,
          -0.16759993981013138,
          -0.1568156742906132,
          -0.4575988921247089,
          -0.3026527239290936,
          0.3118074774297611,
          0.48541239757064386,
          0.5402776806523614
         ],
         "yaxis": "y"
        }
       ],
       "layout": {
        "height": 600,
        "legend": {
         "tracegroupgap": 0
        },
        "template": {
         "data": {
          "bar": [
           {
            "error_x": {
             "color": "#2a3f5f"
            },
            "error_y": {
             "color": "#2a3f5f"
            },
            "marker": {
             "line": {
              "color": "#E5ECF6",
              "width": 0.5
             },
             "pattern": {
              "fillmode": "overlay",
              "size": 10,
              "solidity": 0.2
             }
            },
            "type": "bar"
           }
          ],
          "barpolar": [
           {
            "marker": {
             "line": {
              "color": "#E5ECF6",
              "width": 0.5
             },
             "pattern": {
              "fillmode": "overlay",
              "size": 10,
              "solidity": 0.2
             }
            },
            "type": "barpolar"
           }
          ],
          "carpet": [
           {
            "aaxis": {
             "endlinecolor": "#2a3f5f",
             "gridcolor": "white",
             "linecolor": "white",
             "minorgridcolor": "white",
             "startlinecolor": "#2a3f5f"
            },
            "baxis": {
             "endlinecolor": "#2a3f5f",
             "gridcolor": "white",
             "linecolor": "white",
             "minorgridcolor": "white",
             "startlinecolor": "#2a3f5f"
            },
            "type": "carpet"
           }
          ],
          "choropleth": [
           {
            "colorbar": {
             "outlinewidth": 0,
             "ticks": ""
            },
            "type": "choropleth"
           }
          ],
          "contour": [
           {
            "colorbar": {
             "outlinewidth": 0,
             "ticks": ""
            },
            "colorscale": [
             [
              0,
              "#0d0887"
             ],
             [
              0.1111111111111111,
              "#46039f"
             ],
             [
              0.2222222222222222,
              "#7201a8"
             ],
             [
              0.3333333333333333,
              "#9c179e"
             ],
             [
              0.4444444444444444,
              "#bd3786"
             ],
             [
              0.5555555555555556,
              "#d8576b"
             ],
             [
              0.6666666666666666,
              "#ed7953"
             ],
             [
              0.7777777777777778,
              "#fb9f3a"
             ],
             [
              0.8888888888888888,
              "#fdca26"
             ],
             [
              1,
              "#f0f921"
             ]
            ],
            "type": "contour"
           }
          ],
          "contourcarpet": [
           {
            "colorbar": {
             "outlinewidth": 0,
             "ticks": ""
            },
            "type": "contourcarpet"
           }
          ],
          "heatmap": [
           {
            "colorbar": {
             "outlinewidth": 0,
             "ticks": ""
            },
            "colorscale": [
             [
              0,
              "#0d0887"
             ],
             [
              0.1111111111111111,
              "#46039f"
             ],
             [
              0.2222222222222222,
              "#7201a8"
             ],
             [
              0.3333333333333333,
              "#9c179e"
             ],
             [
              0.4444444444444444,
              "#bd3786"
             ],
             [
              0.5555555555555556,
              "#d8576b"
             ],
             [
              0.6666666666666666,
              "#ed7953"
             ],
             [
              0.7777777777777778,
              "#fb9f3a"
             ],
             [
              0.8888888888888888,
              "#fdca26"
             ],
             [
              1,
              "#f0f921"
             ]
            ],
            "type": "heatmap"
           }
          ],
          "heatmapgl": [
           {
            "colorbar": {
             "outlinewidth": 0,
             "ticks": ""
            },
            "colorscale": [
             [
              0,
              "#0d0887"
             ],
             [
              0.1111111111111111,
              "#46039f"
             ],
             [
              0.2222222222222222,
              "#7201a8"
             ],
             [
              0.3333333333333333,
              "#9c179e"
             ],
             [
              0.4444444444444444,
              "#bd3786"
             ],
             [
              0.5555555555555556,
              "#d8576b"
             ],
             [
              0.6666666666666666,
              "#ed7953"
             ],
             [
              0.7777777777777778,
              "#fb9f3a"
             ],
             [
              0.8888888888888888,
              "#fdca26"
             ],
             [
              1,
              "#f0f921"
             ]
            ],
            "type": "heatmapgl"
           }
          ],
          "histogram": [
           {
            "marker": {
             "pattern": {
              "fillmode": "overlay",
              "size": 10,
              "solidity": 0.2
             }
            },
            "type": "histogram"
           }
          ],
          "histogram2d": [
           {
            "colorbar": {
             "outlinewidth": 0,
             "ticks": ""
            },
            "colorscale": [
             [
              0,
              "#0d0887"
             ],
             [
              0.1111111111111111,
              "#46039f"
             ],
             [
              0.2222222222222222,
              "#7201a8"
             ],
             [
              0.3333333333333333,
              "#9c179e"
             ],
             [
              0.4444444444444444,
              "#bd3786"
             ],
             [
              0.5555555555555556,
              "#d8576b"
             ],
             [
              0.6666666666666666,
              "#ed7953"
             ],
             [
              0.7777777777777778,
              "#fb9f3a"
             ],
             [
              0.8888888888888888,
              "#fdca26"
             ],
             [
              1,
              "#f0f921"
             ]
            ],
            "type": "histogram2d"
           }
          ],
          "histogram2dcontour": [
           {
            "colorbar": {
             "outlinewidth": 0,
             "ticks": ""
            },
            "colorscale": [
             [
              0,
              "#0d0887"
             ],
             [
              0.1111111111111111,
              "#46039f"
             ],
             [
              0.2222222222222222,
              "#7201a8"
             ],
             [
              0.3333333333333333,
              "#9c179e"
             ],
             [
              0.4444444444444444,
              "#bd3786"
             ],
             [
              0.5555555555555556,
              "#d8576b"
             ],
             [
              0.6666666666666666,
              "#ed7953"
             ],
             [
              0.7777777777777778,
              "#fb9f3a"
             ],
             [
              0.8888888888888888,
              "#fdca26"
             ],
             [
              1,
              "#f0f921"
             ]
            ],
            "type": "histogram2dcontour"
           }
          ],
          "mesh3d": [
           {
            "colorbar": {
             "outlinewidth": 0,
             "ticks": ""
            },
            "type": "mesh3d"
           }
          ],
          "parcoords": [
           {
            "line": {
             "colorbar": {
              "outlinewidth": 0,
              "ticks": ""
             }
            },
            "type": "parcoords"
           }
          ],
          "pie": [
           {
            "automargin": true,
            "type": "pie"
           }
          ],
          "scatter": [
           {
            "fillpattern": {
             "fillmode": "overlay",
             "size": 10,
             "solidity": 0.2
            },
            "type": "scatter"
           }
          ],
          "scatter3d": [
           {
            "line": {
             "colorbar": {
              "outlinewidth": 0,
              "ticks": ""
             }
            },
            "marker": {
             "colorbar": {
              "outlinewidth": 0,
              "ticks": ""
             }
            },
            "type": "scatter3d"
           }
          ],
          "scattercarpet": [
           {
            "marker": {
             "colorbar": {
              "outlinewidth": 0,
              "ticks": ""
             }
            },
            "type": "scattercarpet"
           }
          ],
          "scattergeo": [
           {
            "marker": {
             "colorbar": {
              "outlinewidth": 0,
              "ticks": ""
             }
            },
            "type": "scattergeo"
           }
          ],
          "scattergl": [
           {
            "marker": {
             "colorbar": {
              "outlinewidth": 0,
              "ticks": ""
             }
            },
            "type": "scattergl"
           }
          ],
          "scattermapbox": [
           {
            "marker": {
             "colorbar": {
              "outlinewidth": 0,
              "ticks": ""
             }
            },
            "type": "scattermapbox"
           }
          ],
          "scatterpolar": [
           {
            "marker": {
             "colorbar": {
              "outlinewidth": 0,
              "ticks": ""
             }
            },
            "type": "scatterpolar"
           }
          ],
          "scatterpolargl": [
           {
            "marker": {
             "colorbar": {
              "outlinewidth": 0,
              "ticks": ""
             }
            },
            "type": "scatterpolargl"
           }
          ],
          "scatterternary": [
           {
            "marker": {
             "colorbar": {
              "outlinewidth": 0,
              "ticks": ""
             }
            },
            "type": "scatterternary"
           }
          ],
          "surface": [
           {
            "colorbar": {
             "outlinewidth": 0,
             "ticks": ""
            },
            "colorscale": [
             [
              0,
              "#0d0887"
             ],
             [
              0.1111111111111111,
              "#46039f"
             ],
             [
              0.2222222222222222,
              "#7201a8"
             ],
             [
              0.3333333333333333,
              "#9c179e"
             ],
             [
              0.4444444444444444,
              "#bd3786"
             ],
             [
              0.5555555555555556,
              "#d8576b"
             ],
             [
              0.6666666666666666,
              "#ed7953"
             ],
             [
              0.7777777777777778,
              "#fb9f3a"
             ],
             [
              0.8888888888888888,
              "#fdca26"
             ],
             [
              1,
              "#f0f921"
             ]
            ],
            "type": "surface"
           }
          ],
          "table": [
           {
            "cells": {
             "fill": {
              "color": "#EBF0F8"
             },
             "line": {
              "color": "white"
             }
            },
            "header": {
             "fill": {
              "color": "#C8D4E3"
             },
             "line": {
              "color": "white"
             }
            },
            "type": "table"
           }
          ]
         },
         "layout": {
          "annotationdefaults": {
           "arrowcolor": "#2a3f5f",
           "arrowhead": 0,
           "arrowwidth": 1
          },
          "autotypenumbers": "strict",
          "coloraxis": {
           "colorbar": {
            "outlinewidth": 0,
            "ticks": ""
           }
          },
          "colorscale": {
           "diverging": [
            [
             0,
             "#8e0152"
            ],
            [
             0.1,
             "#c51b7d"
            ],
            [
             0.2,
             "#de77ae"
            ],
            [
             0.3,
             "#f1b6da"
            ],
            [
             0.4,
             "#fde0ef"
            ],
            [
             0.5,
             "#f7f7f7"
            ],
            [
             0.6,
             "#e6f5d0"
            ],
            [
             0.7,
             "#b8e186"
            ],
            [
             0.8,
             "#7fbc41"
            ],
            [
             0.9,
             "#4d9221"
            ],
            [
             1,
             "#276419"
            ]
           ],
           "sequential": [
            [
             0,
             "#0d0887"
            ],
            [
             0.1111111111111111,
             "#46039f"
            ],
            [
             0.2222222222222222,
             "#7201a8"
            ],
            [
             0.3333333333333333,
             "#9c179e"
            ],
            [
             0.4444444444444444,
             "#bd3786"
            ],
            [
             0.5555555555555556,
             "#d8576b"
            ],
            [
             0.6666666666666666,
             "#ed7953"
            ],
            [
             0.7777777777777778,
             "#fb9f3a"
            ],
            [
             0.8888888888888888,
             "#fdca26"
            ],
            [
             1,
             "#f0f921"
            ]
           ],
           "sequentialminus": [
            [
             0,
             "#0d0887"
            ],
            [
             0.1111111111111111,
             "#46039f"
            ],
            [
             0.2222222222222222,
             "#7201a8"
            ],
            [
             0.3333333333333333,
             "#9c179e"
            ],
            [
             0.4444444444444444,
             "#bd3786"
            ],
            [
             0.5555555555555556,
             "#d8576b"
            ],
            [
             0.6666666666666666,
             "#ed7953"
            ],
            [
             0.7777777777777778,
             "#fb9f3a"
            ],
            [
             0.8888888888888888,
             "#fdca26"
            ],
            [
             1,
             "#f0f921"
            ]
           ]
          },
          "colorway": [
           "#636efa",
           "#EF553B",
           "#00cc96",
           "#ab63fa",
           "#FFA15A",
           "#19d3f3",
           "#FF6692",
           "#B6E880",
           "#FF97FF",
           "#FECB52"
          ],
          "font": {
           "color": "#2a3f5f"
          },
          "geo": {
           "bgcolor": "white",
           "lakecolor": "white",
           "landcolor": "#E5ECF6",
           "showlakes": true,
           "showland": true,
           "subunitcolor": "white"
          },
          "hoverlabel": {
           "align": "left"
          },
          "hovermode": "closest",
          "mapbox": {
           "style": "light"
          },
          "paper_bgcolor": "white",
          "plot_bgcolor": "#E5ECF6",
          "polar": {
           "angularaxis": {
            "gridcolor": "white",
            "linecolor": "white",
            "ticks": ""
           },
           "bgcolor": "#E5ECF6",
           "radialaxis": {
            "gridcolor": "white",
            "linecolor": "white",
            "ticks": ""
           }
          },
          "scene": {
           "xaxis": {
            "backgroundcolor": "#E5ECF6",
            "gridcolor": "white",
            "gridwidth": 2,
            "linecolor": "white",
            "showbackground": true,
            "ticks": "",
            "zerolinecolor": "white"
           },
           "yaxis": {
            "backgroundcolor": "#E5ECF6",
            "gridcolor": "white",
            "gridwidth": 2,
            "linecolor": "white",
            "showbackground": true,
            "ticks": "",
            "zerolinecolor": "white"
           },
           "zaxis": {
            "backgroundcolor": "#E5ECF6",
            "gridcolor": "white",
            "gridwidth": 2,
            "linecolor": "white",
            "showbackground": true,
            "ticks": "",
            "zerolinecolor": "white"
           }
          },
          "shapedefaults": {
           "line": {
            "color": "#2a3f5f"
           }
          },
          "ternary": {
           "aaxis": {
            "gridcolor": "white",
            "linecolor": "white",
            "ticks": ""
           },
           "baxis": {
            "gridcolor": "white",
            "linecolor": "white",
            "ticks": ""
           },
           "bgcolor": "#E5ECF6",
           "caxis": {
            "gridcolor": "white",
            "linecolor": "white",
            "ticks": ""
           }
          },
          "title": {
           "x": 0.05
          },
          "xaxis": {
           "automargin": true,
           "gridcolor": "white",
           "linecolor": "white",
           "ticks": "",
           "title": {
            "standoff": 15
           },
           "zerolinecolor": "white",
           "zerolinewidth": 2
          },
          "yaxis": {
           "automargin": true,
           "gridcolor": "white",
           "linecolor": "white",
           "ticks": "",
           "title": {
            "standoff": 15
           },
           "zerolinecolor": "white",
           "zerolinewidth": 2
          }
         }
        },
        "title": {
         "text": "Scores Plot: PC1 vs PC2"
        },
        "width": 600,
        "xaxis": {
         "anchor": "y",
         "domain": [
          0,
          1
         ],
         "range": [
          -0.6,
          0.6
         ],
         "title": {
          "text": "Principal Component 1 (41.78% EV)"
         },
         "type": "linear",
         "zeroline": true,
         "zerolinecolor": "Black",
         "zerolinewidth": 1
        },
        "yaxis": {
         "anchor": "x",
         "domain": [
          0,
          1
         ],
         "range": [
          -0.6,
          0.6
         ],
         "title": {
          "text": "Principal Component 2 (35.88% EV)"
         },
         "type": "linear",
         "zeroline": true,
         "zerolinecolor": "Black",
         "zerolinewidth": 1
        }
       }
      },
      "text/html": [
       "<div>                            <div id=\"a4365a3c-35b1-4895-9dc0-e34a53709ea9\" class=\"plotly-graph-div\" style=\"height:600px; width:600px;\"></div>            <script type=\"text/javascript\">                require([\"plotly\"], function(Plotly) {                    window.PLOTLYENV=window.PLOTLYENV || {};                                    if (document.getElementById(\"a4365a3c-35b1-4895-9dc0-e34a53709ea9\")) {                    Plotly.newPlot(                        \"a4365a3c-35b1-4895-9dc0-e34a53709ea9\",                        [{\"hovertemplate\":\"Principal Component 1 (41.78% EV)=%{x}\\u003cbr\\u003ePrincipal Component 2 (35.88% EV)=%{y}\\u003cbr\\u003eindex=%{text}\\u003cextra\\u003e\\u003c\\u002fextra\\u003e\",\"legendgroup\":\"\",\"marker\":{\"color\":\"#636efa\",\"symbol\":\"circle\"},\"mode\":\"markers+text\",\"name\":\"\",\"orientation\":\"v\",\"showlegend\":false,\"text\":[\"D1\",\"D2\",\"D3\",\"D4\",\"D5\",\"D6\",\"D7\",\"D8\"],\"x\":[0.505402555918536,0.5012555053256793,0.5037478778325096,-0.30079098638376695,0.16402462898949685,-0.17247186866780279,0.27573666578492606,0.1280339786390288],\"xaxis\":\"x\",\"y\":[-0.146883001703645,-0.16759993981013138,-0.1568156742906132,-0.4575988921247089,-0.3026527239290936,0.3118074774297611,0.48541239757064386,0.5402776806523614],\"yaxis\":\"y\",\"type\":\"scatter\",\"textposition\":\"top center\"}],                        {\"template\":{\"data\":{\"histogram2dcontour\":[{\"type\":\"histogram2dcontour\",\"colorbar\":{\"outlinewidth\":0,\"ticks\":\"\"},\"colorscale\":[[0.0,\"#0d0887\"],[0.1111111111111111,\"#46039f\"],[0.2222222222222222,\"#7201a8\"],[0.3333333333333333,\"#9c179e\"],[0.4444444444444444,\"#bd3786\"],[0.5555555555555556,\"#d8576b\"],[0.6666666666666666,\"#ed7953\"],[0.7777777777777778,\"#fb9f3a\"],[0.8888888888888888,\"#fdca26\"],[1.0,\"#f0f921\"]]}],\"choropleth\":[{\"type\":\"choropleth\",\"colorbar\":{\"outlinewidth\":0,\"ticks\":\"\"}}],\"histogram2d\":[{\"type\":\"histogram2d\",\"colorbar\":{\"outlinewidth\":0,\"ticks\":\"\"},\"colorscale\":[[0.0,\"#0d0887\"],[0.1111111111111111,\"#46039f\"],[0.2222222222222222,\"#7201a8\"],[0.3333333333333333,\"#9c179e\"],[0.4444444444444444,\"#bd3786\"],[0.5555555555555556,\"#d8576b\"],[0.6666666666666666,\"#ed7953\"],[0.7777777777777778,\"#fb9f3a\"],[0.8888888888888888,\"#fdca26\"],[1.0,\"#f0f921\"]]}],\"heatmap\":[{\"type\":\"heatmap\",\"colorbar\":{\"outlinewidth\":0,\"ticks\":\"\"},\"colorscale\":[[0.0,\"#0d0887\"],[0.1111111111111111,\"#46039f\"],[0.2222222222222222,\"#7201a8\"],[0.3333333333333333,\"#9c179e\"],[0.4444444444444444,\"#bd3786\"],[0.5555555555555556,\"#d8576b\"],[0.6666666666666666,\"#ed7953\"],[0.7777777777777778,\"#fb9f3a\"],[0.8888888888888888,\"#fdca26\"],[1.0,\"#f0f921\"]]}],\"heatmapgl\":[{\"type\":\"heatmapgl\",\"colorbar\":{\"outlinewidth\":0,\"ticks\":\"\"},\"colorscale\":[[0.0,\"#0d0887\"],[0.1111111111111111,\"#46039f\"],[0.2222222222222222,\"#7201a8\"],[0.3333333333333333,\"#9c179e\"],[0.4444444444444444,\"#bd3786\"],[0.5555555555555556,\"#d8576b\"],[0.6666666666666666,\"#ed7953\"],[0.7777777777777778,\"#fb9f3a\"],[0.8888888888888888,\"#fdca26\"],[1.0,\"#f0f921\"]]}],\"contourcarpet\":[{\"type\":\"contourcarpet\",\"colorbar\":{\"outlinewidth\":0,\"ticks\":\"\"}}],\"contour\":[{\"type\":\"contour\",\"colorbar\":{\"outlinewidth\":0,\"ticks\":\"\"},\"colorscale\":[[0.0,\"#0d0887\"],[0.1111111111111111,\"#46039f\"],[0.2222222222222222,\"#7201a8\"],[0.3333333333333333,\"#9c179e\"],[0.4444444444444444,\"#bd3786\"],[0.5555555555555556,\"#d8576b\"],[0.6666666666666666,\"#ed7953\"],[0.7777777777777778,\"#fb9f3a\"],[0.8888888888888888,\"#fdca26\"],[1.0,\"#f0f921\"]]}],\"surface\":[{\"type\":\"surface\",\"colorbar\":{\"outlinewidth\":0,\"ticks\":\"\"},\"colorscale\":[[0.0,\"#0d0887\"],[0.1111111111111111,\"#46039f\"],[0.2222222222222222,\"#7201a8\"],[0.3333333333333333,\"#9c179e\"],[0.4444444444444444,\"#bd3786\"],[0.5555555555555556,\"#d8576b\"],[0.6666666666666666,\"#ed7953\"],[0.7777777777777778,\"#fb9f3a\"],[0.8888888888888888,\"#fdca26\"],[1.0,\"#f0f921\"]]}],\"mesh3d\":[{\"type\":\"mesh3d\",\"colorbar\":{\"outlinewidth\":0,\"ticks\":\"\"}}],\"scatter\":[{\"fillpattern\":{\"fillmode\":\"overlay\",\"size\":10,\"solidity\":0.2},\"type\":\"scatter\"}],\"parcoords\":[{\"type\":\"parcoords\",\"line\":{\"colorbar\":{\"outlinewidth\":0,\"ticks\":\"\"}}}],\"scatterpolargl\":[{\"type\":\"scatterpolargl\",\"marker\":{\"colorbar\":{\"outlinewidth\":0,\"ticks\":\"\"}}}],\"bar\":[{\"error_x\":{\"color\":\"#2a3f5f\"},\"error_y\":{\"color\":\"#2a3f5f\"},\"marker\":{\"line\":{\"color\":\"#E5ECF6\",\"width\":0.5},\"pattern\":{\"fillmode\":\"overlay\",\"size\":10,\"solidity\":0.2}},\"type\":\"bar\"}],\"scattergeo\":[{\"type\":\"scattergeo\",\"marker\":{\"colorbar\":{\"outlinewidth\":0,\"ticks\":\"\"}}}],\"scatterpolar\":[{\"type\":\"scatterpolar\",\"marker\":{\"colorbar\":{\"outlinewidth\":0,\"ticks\":\"\"}}}],\"histogram\":[{\"marker\":{\"pattern\":{\"fillmode\":\"overlay\",\"size\":10,\"solidity\":0.2}},\"type\":\"histogram\"}],\"scattergl\":[{\"type\":\"scattergl\",\"marker\":{\"colorbar\":{\"outlinewidth\":0,\"ticks\":\"\"}}}],\"scatter3d\":[{\"type\":\"scatter3d\",\"line\":{\"colorbar\":{\"outlinewidth\":0,\"ticks\":\"\"}},\"marker\":{\"colorbar\":{\"outlinewidth\":0,\"ticks\":\"\"}}}],\"scattermapbox\":[{\"type\":\"scattermapbox\",\"marker\":{\"colorbar\":{\"outlinewidth\":0,\"ticks\":\"\"}}}],\"scatterternary\":[{\"type\":\"scatterternary\",\"marker\":{\"colorbar\":{\"outlinewidth\":0,\"ticks\":\"\"}}}],\"scattercarpet\":[{\"type\":\"scattercarpet\",\"marker\":{\"colorbar\":{\"outlinewidth\":0,\"ticks\":\"\"}}}],\"carpet\":[{\"aaxis\":{\"endlinecolor\":\"#2a3f5f\",\"gridcolor\":\"white\",\"linecolor\":\"white\",\"minorgridcolor\":\"white\",\"startlinecolor\":\"#2a3f5f\"},\"baxis\":{\"endlinecolor\":\"#2a3f5f\",\"gridcolor\":\"white\",\"linecolor\":\"white\",\"minorgridcolor\":\"white\",\"startlinecolor\":\"#2a3f5f\"},\"type\":\"carpet\"}],\"table\":[{\"cells\":{\"fill\":{\"color\":\"#EBF0F8\"},\"line\":{\"color\":\"white\"}},\"header\":{\"fill\":{\"color\":\"#C8D4E3\"},\"line\":{\"color\":\"white\"}},\"type\":\"table\"}],\"barpolar\":[{\"marker\":{\"line\":{\"color\":\"#E5ECF6\",\"width\":0.5},\"pattern\":{\"fillmode\":\"overlay\",\"size\":10,\"solidity\":0.2}},\"type\":\"barpolar\"}],\"pie\":[{\"automargin\":true,\"type\":\"pie\"}]},\"layout\":{\"autotypenumbers\":\"strict\",\"colorway\":[\"#636efa\",\"#EF553B\",\"#00cc96\",\"#ab63fa\",\"#FFA15A\",\"#19d3f3\",\"#FF6692\",\"#B6E880\",\"#FF97FF\",\"#FECB52\"],\"font\":{\"color\":\"#2a3f5f\"},\"hovermode\":\"closest\",\"hoverlabel\":{\"align\":\"left\"},\"paper_bgcolor\":\"white\",\"plot_bgcolor\":\"#E5ECF6\",\"polar\":{\"bgcolor\":\"#E5ECF6\",\"angularaxis\":{\"gridcolor\":\"white\",\"linecolor\":\"white\",\"ticks\":\"\"},\"radialaxis\":{\"gridcolor\":\"white\",\"linecolor\":\"white\",\"ticks\":\"\"}},\"ternary\":{\"bgcolor\":\"#E5ECF6\",\"aaxis\":{\"gridcolor\":\"white\",\"linecolor\":\"white\",\"ticks\":\"\"},\"baxis\":{\"gridcolor\":\"white\",\"linecolor\":\"white\",\"ticks\":\"\"},\"caxis\":{\"gridcolor\":\"white\",\"linecolor\":\"white\",\"ticks\":\"\"}},\"coloraxis\":{\"colorbar\":{\"outlinewidth\":0,\"ticks\":\"\"}},\"colorscale\":{\"sequential\":[[0.0,\"#0d0887\"],[0.1111111111111111,\"#46039f\"],[0.2222222222222222,\"#7201a8\"],[0.3333333333333333,\"#9c179e\"],[0.4444444444444444,\"#bd3786\"],[0.5555555555555556,\"#d8576b\"],[0.6666666666666666,\"#ed7953\"],[0.7777777777777778,\"#fb9f3a\"],[0.8888888888888888,\"#fdca26\"],[1.0,\"#f0f921\"]],\"sequentialminus\":[[0.0,\"#0d0887\"],[0.1111111111111111,\"#46039f\"],[0.2222222222222222,\"#7201a8\"],[0.3333333333333333,\"#9c179e\"],[0.4444444444444444,\"#bd3786\"],[0.5555555555555556,\"#d8576b\"],[0.6666666666666666,\"#ed7953\"],[0.7777777777777778,\"#fb9f3a\"],[0.8888888888888888,\"#fdca26\"],[1.0,\"#f0f921\"]],\"diverging\":[[0,\"#8e0152\"],[0.1,\"#c51b7d\"],[0.2,\"#de77ae\"],[0.3,\"#f1b6da\"],[0.4,\"#fde0ef\"],[0.5,\"#f7f7f7\"],[0.6,\"#e6f5d0\"],[0.7,\"#b8e186\"],[0.8,\"#7fbc41\"],[0.9,\"#4d9221\"],[1,\"#276419\"]]},\"xaxis\":{\"gridcolor\":\"white\",\"linecolor\":\"white\",\"ticks\":\"\",\"title\":{\"standoff\":15},\"zerolinecolor\":\"white\",\"automargin\":true,\"zerolinewidth\":2},\"yaxis\":{\"gridcolor\":\"white\",\"linecolor\":\"white\",\"ticks\":\"\",\"title\":{\"standoff\":15},\"zerolinecolor\":\"white\",\"automargin\":true,\"zerolinewidth\":2},\"scene\":{\"xaxis\":{\"backgroundcolor\":\"#E5ECF6\",\"gridcolor\":\"white\",\"linecolor\":\"white\",\"showbackground\":true,\"ticks\":\"\",\"zerolinecolor\":\"white\",\"gridwidth\":2},\"yaxis\":{\"backgroundcolor\":\"#E5ECF6\",\"gridcolor\":\"white\",\"linecolor\":\"white\",\"showbackground\":true,\"ticks\":\"\",\"zerolinecolor\":\"white\",\"gridwidth\":2},\"zaxis\":{\"backgroundcolor\":\"#E5ECF6\",\"gridcolor\":\"white\",\"linecolor\":\"white\",\"showbackground\":true,\"ticks\":\"\",\"zerolinecolor\":\"white\",\"gridwidth\":2}},\"shapedefaults\":{\"line\":{\"color\":\"#2a3f5f\"}},\"annotationdefaults\":{\"arrowcolor\":\"#2a3f5f\",\"arrowhead\":0,\"arrowwidth\":1},\"geo\":{\"bgcolor\":\"white\",\"landcolor\":\"#E5ECF6\",\"subunitcolor\":\"white\",\"showland\":true,\"showlakes\":true,\"lakecolor\":\"white\"},\"title\":{\"x\":0.05},\"mapbox\":{\"style\":\"light\"}}},\"xaxis\":{\"anchor\":\"y\",\"domain\":[0.0,1.0],\"title\":{\"text\":\"Principal Component 1 (41.78% EV)\"},\"zeroline\":true,\"zerolinewidth\":1,\"zerolinecolor\":\"Black\",\"range\":[-0.6,0.6]},\"yaxis\":{\"anchor\":\"x\",\"domain\":[0.0,1.0],\"title\":{\"text\":\"Principal Component 2 (35.88% EV)\"},\"zeroline\":true,\"zerolinewidth\":1,\"zerolinecolor\":\"Black\",\"range\":[-0.6,0.6]},\"legend\":{\"tracegroupgap\":0},\"title\":{\"text\":\"Scores Plot: PC1 vs PC2\"},\"width\":600,\"height\":600},                        {\"responsive\": true}                    ).then(function(){\n",
       "                            \n",
       "var gd = document.getElementById('a4365a3c-35b1-4895-9dc0-e34a53709ea9');\n",
       "var x = new MutationObserver(function (mutations, observer) {{\n",
       "        var display = window.getComputedStyle(gd).display;\n",
       "        if (!display || display === 'none') {{\n",
       "            console.log([gd, 'removed!']);\n",
       "            Plotly.purge(gd);\n",
       "            observer.disconnect();\n",
       "        }}\n",
       "}});\n",
       "\n",
       "// Listen for the removal of the full notebook cells\n",
       "var notebookContainer = gd.closest('#notebook-container');\n",
       "if (notebookContainer) {{\n",
       "    x.observe(notebookContainer, {childList: true});\n",
       "}}\n",
       "\n",
       "// Listen for the clearing of the current output cell\n",
       "var outputEl = gd.closest('.output');\n",
       "if (outputEl) {{\n",
       "    x.observe(outputEl, {childList: true});\n",
       "}}\n",
       "\n",
       "                        })                };                });            </script>        </div>"
      ]
     },
     "metadata": {},
     "output_type": "display_data"
    }
   ],
   "source": [
    "# Plot the loadings - 2D\n",
    "fig = px.scatter(loadings, x='PC1', y='PC2',\n",
    "                 text=loadings.index,\n",
    "                 labels={\n",
    "                     'PC1': f'Principal Component 1 ({explained_variance[0] * 100:.2f}% EV)',\n",
    "                     'PC2': f'Principal Component 2 ({explained_variance[1] * 100:.2f}% EV)'\n",
    "                 },\n",
    "                 title='Scores Plot: PC1 vs PC2')\n",
    "\n",
    "# Add zerolines\n",
    "fig.update_xaxes(zeroline=True, zerolinewidth=1, zerolinecolor='Black')\n",
    "fig.update_yaxes(zeroline=True, zerolinewidth=1, zerolinecolor='Black')\n",
    "\n",
    "# Adjust the text position for readability (optional)\n",
    "fig.update_traces(textposition='top center')\n",
    "\n",
    "# Set the layout to be square\n",
    "fig.update_layout(\n",
    "    width=600,\n",
    "    height=600,\n",
    "    xaxis=dict(range=[-0.6, 0.6]),\n",
    "    yaxis=dict(range=[-0.6, 0.6])\n",
    ")\n",
    "\n",
    "fig.show()"
   ]
  },
  {
   "cell_type": "code",
   "execution_count": 135,
   "metadata": {},
   "outputs": [
    {
     "data": {
      "application/vnd.plotly.v1+json": {
       "config": {
        "plotlyServerURL": "https://plot.ly"
       },
       "data": [
        {
         "marker": {
          "color": [
           "rgb(229, 134, 6)",
           "rgb(229, 134, 6)",
           "rgb(229, 134, 6)",
           "rgb(229, 134, 6)",
           "rgb(229, 134, 6)",
           "rgb(229, 134, 6)",
           "rgb(229, 134, 6)",
           "rgb(229, 134, 6)",
           "rgb(229, 134, 6)",
           "rgb(229, 134, 6)",
           "rgb(229, 134, 6)",
           "rgb(229, 134, 6)",
           "rgb(229, 134, 6)",
           "rgb(229, 134, 6)",
           "rgb(229, 134, 6)",
           "rgb(229, 134, 6)",
           "rgb(229, 134, 6)",
           "rgb(229, 134, 6)",
           "rgb(229, 134, 6)",
           "rgb(229, 134, 6)",
           "rgb(229, 134, 6)",
           "rgb(229, 134, 6)",
           "rgb(229, 134, 6)",
           "rgb(229, 134, 6)",
           "rgb(229, 134, 6)",
           "rgb(229, 134, 6)",
           "rgb(229, 134, 6)",
           "rgb(229, 134, 6)",
           "rgb(229, 134, 6)",
           "rgb(229, 134, 6)",
           "rgb(229, 134, 6)",
           "rgb(229, 134, 6)",
           "rgb(229, 134, 6)",
           "rgb(229, 134, 6)",
           "rgb(229, 134, 6)",
           "rgb(229, 134, 6)",
           "rgb(229, 134, 6)",
           "rgb(229, 134, 6)",
           "rgb(229, 134, 6)",
           "rgb(229, 134, 6)",
           "rgb(229, 134, 6)",
           "rgb(229, 134, 6)",
           "rgb(229, 134, 6)",
           "rgb(229, 134, 6)",
           "rgb(229, 134, 6)",
           "rgb(93, 105, 177)",
           "rgb(93, 105, 177)",
           "rgb(93, 105, 177)",
           "rgb(93, 105, 177)",
           "rgb(93, 105, 177)",
           "rgb(93, 105, 177)",
           "rgb(93, 105, 177)",
           "rgb(93, 105, 177)",
           "rgb(93, 105, 177)",
           "rgb(93, 105, 177)",
           "rgb(93, 105, 177)",
           "rgb(93, 105, 177)",
           "rgb(93, 105, 177)",
           "rgb(93, 105, 177)",
           "rgb(93, 105, 177)",
           "rgb(93, 105, 177)",
           "rgb(93, 105, 177)",
           "rgb(93, 105, 177)",
           "rgb(93, 105, 177)",
           "rgb(93, 105, 177)",
           "rgb(93, 105, 177)",
           "rgb(93, 105, 177)",
           "rgb(93, 105, 177)",
           "rgb(93, 105, 177)",
           "rgb(93, 105, 177)",
           "rgb(93, 105, 177)",
           "rgb(93, 105, 177)",
           "rgb(93, 105, 177)",
           "rgb(93, 105, 177)",
           "rgb(93, 105, 177)",
           "rgb(93, 105, 177)",
           "rgb(93, 105, 177)",
           "rgb(93, 105, 177)",
           "rgb(93, 105, 177)",
           "rgb(93, 105, 177)",
           "rgb(93, 105, 177)",
           "rgb(93, 105, 177)",
           "rgb(93, 105, 177)",
           "rgb(93, 105, 177)",
           "rgb(93, 105, 177)",
           "rgb(93, 105, 177)",
           "rgb(93, 105, 177)",
           "rgb(93, 105, 177)",
           "rgb(93, 105, 177)",
           "rgb(93, 105, 177)",
           "rgb(93, 105, 177)",
           "rgb(93, 105, 177)",
           "rgb(93, 105, 177)",
           "rgb(93, 105, 177)",
           "rgb(93, 105, 177)",
           "rgb(93, 105, 177)",
           "rgb(93, 105, 177)",
           "rgb(93, 105, 177)",
           "rgb(93, 105, 177)",
           "rgb(93, 105, 177)",
           "rgb(93, 105, 177)",
           "rgb(93, 105, 177)",
           "rgb(93, 105, 177)",
           "rgb(93, 105, 177)",
           "rgb(82, 188, 163)",
           "rgb(82, 188, 163)",
           "rgb(82, 188, 163)",
           "rgb(82, 188, 163)",
           "rgb(82, 188, 163)",
           "rgb(82, 188, 163)",
           "rgb(82, 188, 163)",
           "rgb(82, 188, 163)",
           "rgb(82, 188, 163)",
           "rgb(82, 188, 163)",
           "rgb(82, 188, 163)",
           "rgb(82, 188, 163)",
           "rgb(82, 188, 163)",
           "rgb(82, 188, 163)",
           "rgb(82, 188, 163)",
           "rgb(82, 188, 163)",
           "rgb(82, 188, 163)",
           "rgb(82, 188, 163)",
           "rgb(82, 188, 163)",
           "rgb(82, 188, 163)",
           "rgb(82, 188, 163)",
           "rgb(82, 188, 163)",
           "rgb(82, 188, 163)",
           "rgb(82, 188, 163)",
           "rgb(82, 188, 163)",
           "rgb(82, 188, 163)",
           "rgb(82, 188, 163)",
           "rgb(82, 188, 163)",
           "rgb(82, 188, 163)",
           "rgb(82, 188, 163)",
           "rgb(82, 188, 163)",
           "rgb(82, 188, 163)",
           "rgb(82, 188, 163)",
           "rgb(82, 188, 163)",
           "rgb(82, 188, 163)",
           "rgb(82, 188, 163)",
           "rgb(82, 188, 163)",
           "rgb(82, 188, 163)",
           "rgb(82, 188, 163)",
           "rgb(82, 188, 163)",
           "rgb(82, 188, 163)"
          ],
          "showscale": false,
          "size": 8
         },
         "mode": "markers",
         "name": "scores",
         "showlegend": false,
         "text": [
          0,
          1,
          2,
          3,
          4,
          5,
          6,
          7,
          8,
          9,
          10,
          11,
          12,
          13,
          14,
          15,
          16,
          17,
          18,
          19,
          20,
          21,
          22,
          23,
          24,
          25,
          26,
          27,
          28,
          29,
          30,
          31,
          32,
          33,
          34,
          35,
          36,
          37,
          38,
          39,
          40,
          41,
          42,
          43,
          44,
          45,
          46,
          47,
          48,
          49,
          50,
          51,
          52,
          53,
          54,
          55,
          56,
          57,
          58,
          59,
          60,
          61,
          62,
          63,
          64,
          65,
          66,
          67,
          68,
          69,
          70,
          71,
          72,
          73,
          74,
          75,
          76,
          77,
          78,
          79,
          80,
          81,
          82,
          83,
          84,
          85,
          86,
          87,
          88,
          89,
          90,
          91,
          92,
          93,
          94,
          95,
          96,
          97,
          98,
          99,
          100,
          101,
          102,
          103,
          104,
          105,
          106,
          107,
          108,
          109,
          110,
          111,
          112,
          113,
          114,
          115,
          116,
          117,
          118,
          119,
          120,
          121,
          122,
          123,
          124,
          125,
          126,
          127,
          128,
          129,
          130,
          131,
          132,
          133,
          134,
          135,
          136,
          137,
          138,
          139,
          140,
          141,
          142,
          143,
          144
         ],
         "type": "scatter",
         "x": [
          -1.1860645812359334,
          0.3664498915592002,
          -1.565083912567214,
          -1.0901779064375472,
          -0.9388382865112492,
          -1.9321830519374408,
          -0.6275626449615364,
          -0.820877498387842,
          0.5366443847492898,
          -0.2601922874829319,
          -1.3824836961268252,
          -1.1674643093958061,
          -0.43372064581551567,
          -1.4506883848772634,
          0.29372192779163947,
          -0.01794877664215187,
          -0.8750702007438664,
          -0.7871052496814865,
          -1.9759895590424241,
          -0.13349140461401185,
          -1.2635969729430903,
          1.4206478049420777,
          -0.23488854453301775,
          -0.738058708381245,
          1.2286970947094886,
          -1.2279435925258384,
          0.3997518688793426,
          -1.3026863228082985,
          0.37488923951104813,
          -2.3062273198915957,
          -0.7182608045190548,
          -0.06724445875370792,
          -0.8723740459077991,
          -1.9080157702981686,
          0.917982977467558,
          -1.1062950870024983,
          -0.3455154485015968,
          -0.07052320317686346,
          -0.027445759249499418,
          -0.6627535570391514,
          -1.8478968417650548,
          1.110564881110001,
          0.4538035076401313,
          -0.2051126414249883,
          0.2340797834691976,
          0.43520200512399376,
          2.2184329358472215,
          1.9604029505105194,
          1.8209179907989688,
          -0.2166078511327281,
          3.0831620617284625,
          1.224523010804247,
          0.27898828786280216,
          1.7926677690852197,
          4.37104135464484,
          2.28039094156465,
          1.194228770428773,
          1.8505902243976784,
          0.5222594585881236,
          0.5688179735594513,
          0.8599983941816186,
          1.8873127161722687,
          1.4091240428707343,
          1.8297955812635371,
          2.0030993882322408,
          2.0152583255092407,
          0.7501040899513252,
          2.1874470473007963,
          2.120431480667594,
          2.2164983670593674,
          2.830502654936905,
          1.8412991896077784,
          3.0907615867441427,
          1.0918307557983635,
          3.3702374734907368,
          3.481463422002379,
          2.0205409119230957,
          0.962382548788002,
          1.808423286261792,
          1.4662834439258265,
          1.5732869722615752,
          1.5311212934515535,
          2.2560150319392562,
          3.5203387926470278,
          2.806615530948606,
          2.289120275125337,
          1.4760745075790005,
          0.7886221053549792,
          2.429315030372873,
          1.6032598270596887,
          1.3921081771103638,
          2.1751264932943206,
          4.043154642877003,
          1.397255668004299,
          1.6603601043805505,
          1.9810561289387416,
          1.8874273453719361,
          1.4284190715312972,
          1.5311212146606517,
          2.5549321245118906,
          2.4568558423248033,
          0.662300476378433,
          1.289950690702704,
          1.3085003608624421,
          -2.1681085106113103,
          -1.5418263900484028,
          -1.5698454687129246,
          -1.5437630913996314,
          -2.061193083782072,
          -2.5536311352114707,
          -1.2606211150836215,
          -1.5849325853684022,
          -2.102381457850213,
          -2.0954691586024596,
          -1.6328926651334013,
          -2.1364055519948737,
          -2.4524943410635416,
          -2.818323150629876,
          -1.2548330536470722,
          -2.4605490032957866,
          -1.5215454726180349,
          -2.467947155561343,
          -1.2145882367130099,
          -3.373421894577201,
          -1.8658640760142173,
          -2.0894400596407747,
          -2.154645226375719,
          -2.8395940597402767,
          -1.7285677554075747,
          -2.5385132244208304,
          -2.5186704264987263,
          -1.1643702649451286,
          -2.1413610364489415,
          -1.8430470023366414,
          -1.6095421062165025,
          -1.2412649275422853,
          -1.912366942126063,
          -3.4250827125049126,
          -2.363286749443543,
          -1.720977059759359,
          -2.4057389348156706,
          -2.278408832296863,
          -2.578954802584764,
          -3.081671283324065,
          -1.14146218048825
         ],
         "xaxis": "x",
         "y": [
          3.687837588778433,
          1.9917573579771624,
          -1.8775150566539762,
          2.634292732885856,
          3.7284809409317807,
          -1.081748554274988,
          3.680706185931425,
          2.764023284786289,
          2.677597010631877,
          -0.9720988615679982,
          -0.9894107226749355,
          -1.5023019249332565,
          2.4682947009008087,
          4.139894527246339,
          1.8876507145404362,
          2.609357444750279,
          1.4331125328614618,
          2.7885898457003404,
          -3.281535582811086,
          2.2057656337027787,
          -1.3385558037848357,
          3.5099229144449797,
          1.1008925498232445,
          1.3612787427591655,
          2.898618055255938,
          -1.646862900992469,
          2.2139959198003623,
          -1.1156685430252244,
          2.099664113473677,
          -2.478041521379273,
          -0.4301522499205815,
          1.3383010632075678,
          -1.0161338115781133,
          -1.0106147322703423,
          3.3573750638879845,
          -0.6550596493189276,
          0.17352765742596574,
          1.894230204520561,
          1.9498981564524749,
          -0.9766293874712045,
          -1.6310490986443498,
          2.8848557063900913,
          2.1152127661987192,
          0.7448652242651922,
          0.9189913341914875,
          -1.5221516473841235,
          -0.8751267621305031,
          -1.27782036056392,
          -1.101013140809849,
          -0.14355999958963522,
          0.9986130913292403,
          -0.6800705964412243,
          1.4029156666429958,
          0.3519769525080129,
          0.4490047496841227,
          1.8111068148393672,
          -0.5623107658360136,
          -1.4861360679287807,
          -2.735403505988447,
          -2.688906696929118,
          -2.5124213601370737,
          -0.7943192100199857,
          -1.6726649742466584,
          -0.81430742660829,
          -1.656866204279819,
          -1.6575870951133627,
          -2.3149892825648393,
          -1.7498320550885442,
          -1.9093551916955216,
          -1.6899174722769315,
          -0.09062509774350525,
          -1.258287942628674,
          0.09854986171885813,
          -0.8525016318108319,
          0.17225410057330584,
          -0.17704336161959525,
          0.5153763088525017,
          -1.549342151714671,
          -0.01654537555777947,
          0.09352787948048003,
          -0.19899851004487182,
          -1.7522982114463448,
          -0.9822338931984819,
          -0.10944087340586742,
          0.6857642918462338,
          0.3818806177160828,
          -2.0531194178929257,
          -2.83459245502784,
          0.07474817252252461,
          0.25594674169272,
          -0.4528090009262484,
          -0.8026101091417989,
          0.39011373948208933,
          -0.11390315044791824,
          -1.5367705429202938,
          -0.7385627380682925,
          -1.268792111621666,
          -1.496916964568191,
          -1.7522981851017954,
          -0.018738670339414447,
          0.032081485561718866,
          1.9873925135762585,
          -0.45562650986139686,
          -0.7571915595155606,
          -0.35687634908024746,
          -0.19823648366609684,
          -0.27871361900174796,
          -0.2070902156543026,
          2.165480191523099,
          -0.274019119182725,
          0.5439774393470483,
          1.5075985105226004,
          -0.23984226568948874,
          -0.35480681733754704,
          2.679315470349741,
          -0.43593786458450084,
          -0.8783999474554433,
          -2.891396855438104,
          0.579404205536534,
          -0.8493634330555779,
          1.6611515180475247,
          -1.9332352537692368,
          0.7824847319523273,
          -2.036646332109436,
          0.277699499454844,
          3.600160972734295,
          -0.6181275029250176,
          -2.3665435891139723,
          3.0753734289639714,
          -2.1130293521118997,
          -0.6154951130504456,
          1.1746459838392902,
          -0.35002842431216846,
          -1.1872587291767365,
          1.7466851009243,
          0.7364966870851313,
          -0.9322391315211802,
          0.9821845124884258,
          -1.0339715175877828,
          0.9101628533291904,
          -0.7242328212623222,
          -1.5352421766197026,
          -1.1129467216824156,
          -3.4728938515181733,
          0.7308961005969233
         ],
         "yaxis": "y"
        },
        {
         "marker": {
          "size": 8
         },
         "mode": "markers+text",
         "name": "loadings",
         "showlegend": false,
         "text": [
          "D1",
          "D2",
          "D3",
          "D4",
          "D5",
          "D6",
          "D7",
          "D8"
         ],
         "textposition": "top center",
         "type": "scatter",
         "x": [
          0.505402555918536,
          0.5012555053256793,
          0.5037478778325096,
          -0.30079098638376695,
          0.16402462898949685,
          -0.17247186866780279,
          0.27573666578492606,
          0.1280339786390288
         ],
         "xaxis": "x2",
         "y": [
          -0.146883001703645,
          -0.16759993981013138,
          -0.1568156742906132,
          -0.4575988921247089,
          -0.3026527239290936,
          0.3118074774297611,
          0.48541239757064386,
          0.5402776806523614
         ],
         "yaxis": "y2"
        },
        {
         "line": {
          "color": "gray",
          "width": 1
         },
         "mode": "lines",
         "showlegend": false,
         "type": "scatter",
         "x": [
          0,
          0.505402555918536
         ],
         "xaxis": "x2",
         "y": [
          0,
          -0.146883001703645
         ],
         "yaxis": "y2"
        },
        {
         "line": {
          "color": "gray",
          "width": 1
         },
         "mode": "lines",
         "showlegend": false,
         "type": "scatter",
         "x": [
          0,
          0.5012555053256793
         ],
         "xaxis": "x2",
         "y": [
          0,
          -0.16759993981013138
         ],
         "yaxis": "y2"
        },
        {
         "line": {
          "color": "gray",
          "width": 1
         },
         "mode": "lines",
         "showlegend": false,
         "type": "scatter",
         "x": [
          0,
          0.5037478778325096
         ],
         "xaxis": "x2",
         "y": [
          0,
          -0.1568156742906132
         ],
         "yaxis": "y2"
        },
        {
         "line": {
          "color": "gray",
          "width": 1
         },
         "mode": "lines",
         "showlegend": false,
         "type": "scatter",
         "x": [
          0,
          -0.30079098638376695
         ],
         "xaxis": "x2",
         "y": [
          0,
          -0.4575988921247089
         ],
         "yaxis": "y2"
        },
        {
         "line": {
          "color": "gray",
          "width": 1
         },
         "mode": "lines",
         "showlegend": false,
         "type": "scatter",
         "x": [
          0,
          0.16402462898949685
         ],
         "xaxis": "x2",
         "y": [
          0,
          -0.3026527239290936
         ],
         "yaxis": "y2"
        },
        {
         "line": {
          "color": "gray",
          "width": 1
         },
         "mode": "lines",
         "showlegend": false,
         "type": "scatter",
         "x": [
          0,
          -0.17247186866780279
         ],
         "xaxis": "x2",
         "y": [
          0,
          0.3118074774297611
         ],
         "yaxis": "y2"
        },
        {
         "line": {
          "color": "gray",
          "width": 1
         },
         "mode": "lines",
         "showlegend": false,
         "type": "scatter",
         "x": [
          0,
          0.27573666578492606
         ],
         "xaxis": "x2",
         "y": [
          0,
          0.48541239757064386
         ],
         "yaxis": "y2"
        },
        {
         "line": {
          "color": "gray",
          "width": 1
         },
         "mode": "lines",
         "showlegend": false,
         "type": "scatter",
         "x": [
          0,
          0.1280339786390288
         ],
         "xaxis": "x2",
         "y": [
          0,
          0.5402776806523614
         ],
         "yaxis": "y2"
        }
       ],
       "layout": {
        "annotations": [
         {
          "font": {
           "size": 16
          },
          "showarrow": false,
          "text": "Scores Plot (PC1 vs PC2)",
          "x": 0.225,
          "xanchor": "center",
          "xref": "paper",
          "y": 1,
          "yanchor": "bottom",
          "yref": "paper"
         },
         {
          "font": {
           "size": 16
          },
          "showarrow": false,
          "text": "Loadings Plot (PC1 vs PC2)",
          "x": 0.775,
          "xanchor": "center",
          "xref": "paper",
          "y": 1,
          "yanchor": "bottom",
          "yref": "paper"
         }
        ],
        "height": 600,
        "legend": {
         "title": {
          "text": "Class"
         }
        },
        "template": {
         "data": {
          "bar": [
           {
            "error_x": {
             "color": "#2a3f5f"
            },
            "error_y": {
             "color": "#2a3f5f"
            },
            "marker": {
             "line": {
              "color": "white",
              "width": 0.5
             },
             "pattern": {
              "fillmode": "overlay",
              "size": 10,
              "solidity": 0.2
             }
            },
            "type": "bar"
           }
          ],
          "barpolar": [
           {
            "marker": {
             "line": {
              "color": "white",
              "width": 0.5
             },
             "pattern": {
              "fillmode": "overlay",
              "size": 10,
              "solidity": 0.2
             }
            },
            "type": "barpolar"
           }
          ],
          "carpet": [
           {
            "aaxis": {
             "endlinecolor": "#2a3f5f",
             "gridcolor": "#C8D4E3",
             "linecolor": "#C8D4E3",
             "minorgridcolor": "#C8D4E3",
             "startlinecolor": "#2a3f5f"
            },
            "baxis": {
             "endlinecolor": "#2a3f5f",
             "gridcolor": "#C8D4E3",
             "linecolor": "#C8D4E3",
             "minorgridcolor": "#C8D4E3",
             "startlinecolor": "#2a3f5f"
            },
            "type": "carpet"
           }
          ],
          "choropleth": [
           {
            "colorbar": {
             "outlinewidth": 0,
             "ticks": ""
            },
            "type": "choropleth"
           }
          ],
          "contour": [
           {
            "colorbar": {
             "outlinewidth": 0,
             "ticks": ""
            },
            "colorscale": [
             [
              0,
              "#0d0887"
             ],
             [
              0.1111111111111111,
              "#46039f"
             ],
             [
              0.2222222222222222,
              "#7201a8"
             ],
             [
              0.3333333333333333,
              "#9c179e"
             ],
             [
              0.4444444444444444,
              "#bd3786"
             ],
             [
              0.5555555555555556,
              "#d8576b"
             ],
             [
              0.6666666666666666,
              "#ed7953"
             ],
             [
              0.7777777777777778,
              "#fb9f3a"
             ],
             [
              0.8888888888888888,
              "#fdca26"
             ],
             [
              1,
              "#f0f921"
             ]
            ],
            "type": "contour"
           }
          ],
          "contourcarpet": [
           {
            "colorbar": {
             "outlinewidth": 0,
             "ticks": ""
            },
            "type": "contourcarpet"
           }
          ],
          "heatmap": [
           {
            "colorbar": {
             "outlinewidth": 0,
             "ticks": ""
            },
            "colorscale": [
             [
              0,
              "#0d0887"
             ],
             [
              0.1111111111111111,
              "#46039f"
             ],
             [
              0.2222222222222222,
              "#7201a8"
             ],
             [
              0.3333333333333333,
              "#9c179e"
             ],
             [
              0.4444444444444444,
              "#bd3786"
             ],
             [
              0.5555555555555556,
              "#d8576b"
             ],
             [
              0.6666666666666666,
              "#ed7953"
             ],
             [
              0.7777777777777778,
              "#fb9f3a"
             ],
             [
              0.8888888888888888,
              "#fdca26"
             ],
             [
              1,
              "#f0f921"
             ]
            ],
            "type": "heatmap"
           }
          ],
          "heatmapgl": [
           {
            "colorbar": {
             "outlinewidth": 0,
             "ticks": ""
            },
            "colorscale": [
             [
              0,
              "#0d0887"
             ],
             [
              0.1111111111111111,
              "#46039f"
             ],
             [
              0.2222222222222222,
              "#7201a8"
             ],
             [
              0.3333333333333333,
              "#9c179e"
             ],
             [
              0.4444444444444444,
              "#bd3786"
             ],
             [
              0.5555555555555556,
              "#d8576b"
             ],
             [
              0.6666666666666666,
              "#ed7953"
             ],
             [
              0.7777777777777778,
              "#fb9f3a"
             ],
             [
              0.8888888888888888,
              "#fdca26"
             ],
             [
              1,
              "#f0f921"
             ]
            ],
            "type": "heatmapgl"
           }
          ],
          "histogram": [
           {
            "marker": {
             "pattern": {
              "fillmode": "overlay",
              "size": 10,
              "solidity": 0.2
             }
            },
            "type": "histogram"
           }
          ],
          "histogram2d": [
           {
            "colorbar": {
             "outlinewidth": 0,
             "ticks": ""
            },
            "colorscale": [
             [
              0,
              "#0d0887"
             ],
             [
              0.1111111111111111,
              "#46039f"
             ],
             [
              0.2222222222222222,
              "#7201a8"
             ],
             [
              0.3333333333333333,
              "#9c179e"
             ],
             [
              0.4444444444444444,
              "#bd3786"
             ],
             [
              0.5555555555555556,
              "#d8576b"
             ],
             [
              0.6666666666666666,
              "#ed7953"
             ],
             [
              0.7777777777777778,
              "#fb9f3a"
             ],
             [
              0.8888888888888888,
              "#fdca26"
             ],
             [
              1,
              "#f0f921"
             ]
            ],
            "type": "histogram2d"
           }
          ],
          "histogram2dcontour": [
           {
            "colorbar": {
             "outlinewidth": 0,
             "ticks": ""
            },
            "colorscale": [
             [
              0,
              "#0d0887"
             ],
             [
              0.1111111111111111,
              "#46039f"
             ],
             [
              0.2222222222222222,
              "#7201a8"
             ],
             [
              0.3333333333333333,
              "#9c179e"
             ],
             [
              0.4444444444444444,
              "#bd3786"
             ],
             [
              0.5555555555555556,
              "#d8576b"
             ],
             [
              0.6666666666666666,
              "#ed7953"
             ],
             [
              0.7777777777777778,
              "#fb9f3a"
             ],
             [
              0.8888888888888888,
              "#fdca26"
             ],
             [
              1,
              "#f0f921"
             ]
            ],
            "type": "histogram2dcontour"
           }
          ],
          "mesh3d": [
           {
            "colorbar": {
             "outlinewidth": 0,
             "ticks": ""
            },
            "type": "mesh3d"
           }
          ],
          "parcoords": [
           {
            "line": {
             "colorbar": {
              "outlinewidth": 0,
              "ticks": ""
             }
            },
            "type": "parcoords"
           }
          ],
          "pie": [
           {
            "automargin": true,
            "type": "pie"
           }
          ],
          "scatter": [
           {
            "fillpattern": {
             "fillmode": "overlay",
             "size": 10,
             "solidity": 0.2
            },
            "type": "scatter"
           }
          ],
          "scatter3d": [
           {
            "line": {
             "colorbar": {
              "outlinewidth": 0,
              "ticks": ""
             }
            },
            "marker": {
             "colorbar": {
              "outlinewidth": 0,
              "ticks": ""
             }
            },
            "type": "scatter3d"
           }
          ],
          "scattercarpet": [
           {
            "marker": {
             "colorbar": {
              "outlinewidth": 0,
              "ticks": ""
             }
            },
            "type": "scattercarpet"
           }
          ],
          "scattergeo": [
           {
            "marker": {
             "colorbar": {
              "outlinewidth": 0,
              "ticks": ""
             }
            },
            "type": "scattergeo"
           }
          ],
          "scattergl": [
           {
            "marker": {
             "colorbar": {
              "outlinewidth": 0,
              "ticks": ""
             }
            },
            "type": "scattergl"
           }
          ],
          "scattermapbox": [
           {
            "marker": {
             "colorbar": {
              "outlinewidth": 0,
              "ticks": ""
             }
            },
            "type": "scattermapbox"
           }
          ],
          "scatterpolar": [
           {
            "marker": {
             "colorbar": {
              "outlinewidth": 0,
              "ticks": ""
             }
            },
            "type": "scatterpolar"
           }
          ],
          "scatterpolargl": [
           {
            "marker": {
             "colorbar": {
              "outlinewidth": 0,
              "ticks": ""
             }
            },
            "type": "scatterpolargl"
           }
          ],
          "scatterternary": [
           {
            "marker": {
             "colorbar": {
              "outlinewidth": 0,
              "ticks": ""
             }
            },
            "type": "scatterternary"
           }
          ],
          "surface": [
           {
            "colorbar": {
             "outlinewidth": 0,
             "ticks": ""
            },
            "colorscale": [
             [
              0,
              "#0d0887"
             ],
             [
              0.1111111111111111,
              "#46039f"
             ],
             [
              0.2222222222222222,
              "#7201a8"
             ],
             [
              0.3333333333333333,
              "#9c179e"
             ],
             [
              0.4444444444444444,
              "#bd3786"
             ],
             [
              0.5555555555555556,
              "#d8576b"
             ],
             [
              0.6666666666666666,
              "#ed7953"
             ],
             [
              0.7777777777777778,
              "#fb9f3a"
             ],
             [
              0.8888888888888888,
              "#fdca26"
             ],
             [
              1,
              "#f0f921"
             ]
            ],
            "type": "surface"
           }
          ],
          "table": [
           {
            "cells": {
             "fill": {
              "color": "#EBF0F8"
             },
             "line": {
              "color": "white"
             }
            },
            "header": {
             "fill": {
              "color": "#C8D4E3"
             },
             "line": {
              "color": "white"
             }
            },
            "type": "table"
           }
          ]
         },
         "layout": {
          "annotationdefaults": {
           "arrowcolor": "#2a3f5f",
           "arrowhead": 0,
           "arrowwidth": 1
          },
          "autotypenumbers": "strict",
          "coloraxis": {
           "colorbar": {
            "outlinewidth": 0,
            "ticks": ""
           }
          },
          "colorscale": {
           "diverging": [
            [
             0,
             "#8e0152"
            ],
            [
             0.1,
             "#c51b7d"
            ],
            [
             0.2,
             "#de77ae"
            ],
            [
             0.3,
             "#f1b6da"
            ],
            [
             0.4,
             "#fde0ef"
            ],
            [
             0.5,
             "#f7f7f7"
            ],
            [
             0.6,
             "#e6f5d0"
            ],
            [
             0.7,
             "#b8e186"
            ],
            [
             0.8,
             "#7fbc41"
            ],
            [
             0.9,
             "#4d9221"
            ],
            [
             1,
             "#276419"
            ]
           ],
           "sequential": [
            [
             0,
             "#0d0887"
            ],
            [
             0.1111111111111111,
             "#46039f"
            ],
            [
             0.2222222222222222,
             "#7201a8"
            ],
            [
             0.3333333333333333,
             "#9c179e"
            ],
            [
             0.4444444444444444,
             "#bd3786"
            ],
            [
             0.5555555555555556,
             "#d8576b"
            ],
            [
             0.6666666666666666,
             "#ed7953"
            ],
            [
             0.7777777777777778,
             "#fb9f3a"
            ],
            [
             0.8888888888888888,
             "#fdca26"
            ],
            [
             1,
             "#f0f921"
            ]
           ],
           "sequentialminus": [
            [
             0,
             "#0d0887"
            ],
            [
             0.1111111111111111,
             "#46039f"
            ],
            [
             0.2222222222222222,
             "#7201a8"
            ],
            [
             0.3333333333333333,
             "#9c179e"
            ],
            [
             0.4444444444444444,
             "#bd3786"
            ],
            [
             0.5555555555555556,
             "#d8576b"
            ],
            [
             0.6666666666666666,
             "#ed7953"
            ],
            [
             0.7777777777777778,
             "#fb9f3a"
            ],
            [
             0.8888888888888888,
             "#fdca26"
            ],
            [
             1,
             "#f0f921"
            ]
           ]
          },
          "colorway": [
           "#636efa",
           "#EF553B",
           "#00cc96",
           "#ab63fa",
           "#FFA15A",
           "#19d3f3",
           "#FF6692",
           "#B6E880",
           "#FF97FF",
           "#FECB52"
          ],
          "font": {
           "color": "#2a3f5f"
          },
          "geo": {
           "bgcolor": "white",
           "lakecolor": "white",
           "landcolor": "white",
           "showlakes": true,
           "showland": true,
           "subunitcolor": "#C8D4E3"
          },
          "hoverlabel": {
           "align": "left"
          },
          "hovermode": "closest",
          "mapbox": {
           "style": "light"
          },
          "paper_bgcolor": "white",
          "plot_bgcolor": "white",
          "polar": {
           "angularaxis": {
            "gridcolor": "#EBF0F8",
            "linecolor": "#EBF0F8",
            "ticks": ""
           },
           "bgcolor": "white",
           "radialaxis": {
            "gridcolor": "#EBF0F8",
            "linecolor": "#EBF0F8",
            "ticks": ""
           }
          },
          "scene": {
           "xaxis": {
            "backgroundcolor": "white",
            "gridcolor": "#DFE8F3",
            "gridwidth": 2,
            "linecolor": "#EBF0F8",
            "showbackground": true,
            "ticks": "",
            "zerolinecolor": "#EBF0F8"
           },
           "yaxis": {
            "backgroundcolor": "white",
            "gridcolor": "#DFE8F3",
            "gridwidth": 2,
            "linecolor": "#EBF0F8",
            "showbackground": true,
            "ticks": "",
            "zerolinecolor": "#EBF0F8"
           },
           "zaxis": {
            "backgroundcolor": "white",
            "gridcolor": "#DFE8F3",
            "gridwidth": 2,
            "linecolor": "#EBF0F8",
            "showbackground": true,
            "ticks": "",
            "zerolinecolor": "#EBF0F8"
           }
          },
          "shapedefaults": {
           "line": {
            "color": "#2a3f5f"
           }
          },
          "ternary": {
           "aaxis": {
            "gridcolor": "#DFE8F3",
            "linecolor": "#A2B1C6",
            "ticks": ""
           },
           "baxis": {
            "gridcolor": "#DFE8F3",
            "linecolor": "#A2B1C6",
            "ticks": ""
           },
           "bgcolor": "white",
           "caxis": {
            "gridcolor": "#DFE8F3",
            "linecolor": "#A2B1C6",
            "ticks": ""
           }
          },
          "title": {
           "x": 0.05
          },
          "xaxis": {
           "automargin": true,
           "gridcolor": "#EBF0F8",
           "linecolor": "#EBF0F8",
           "ticks": "",
           "title": {
            "standoff": 15
           },
           "zerolinecolor": "#EBF0F8",
           "zerolinewidth": 2
          },
          "yaxis": {
           "automargin": true,
           "gridcolor": "#EBF0F8",
           "linecolor": "#EBF0F8",
           "ticks": "",
           "title": {
            "standoff": 15
           },
           "zerolinecolor": "#EBF0F8",
           "zerolinewidth": 2
          }
         }
        },
        "title": {
         "text": "PCA Scores and Loadings (PC1 vs PC2)"
        },
        "width": 1000,
        "xaxis": {
         "anchor": "y",
         "autorange": true,
         "domain": [
          0,
          0.45
         ],
         "range": [
          -3.989369100163541,
          4.935327742303468
         ],
         "title": {
          "text": "PC1"
         },
         "type": "linear",
         "zeroline": true,
         "zerolinecolor": "Black",
         "zerolinewidth": 1
        },
        "xaxis2": {
         "anchor": "y2",
         "autorange": true,
         "domain": [
          0.55,
          1
         ],
         "range": [
          -0.3591435777254539,
          0.563755147260223
         ],
         "title": {
          "text": "PC1 Loadings"
         },
         "type": "linear",
         "zeroline": true,
         "zerolinecolor": "Black",
         "zerolinewidth": 1
        },
        "yaxis": {
         "anchor": "x",
         "autorange": true,
         "domain": [
          0,
          1
         ],
         "range": [
          -4.01075390001784,
          4.677754575746006
         ],
         "title": {
          "text": "PC2"
         },
         "type": "linear",
         "zeroline": true,
         "zerolinecolor": "Black",
         "zerolinewidth": 1
        },
        "yaxis2": {
         "anchor": "x2",
         "autorange": true,
         "domain": [
          0,
          1
         ],
         "range": [
          -0.5281010412883063,
          0.6107798298159587
         ],
         "title": {
          "text": "PC2 Loadings"
         },
         "type": "linear",
         "zeroline": true,
         "zerolinecolor": "Black",
         "zerolinewidth": 1
        }
       }
      },
      "text/html": [
       "<div>                            <div id=\"935fae0c-1333-4bf6-845e-f539237685b4\" class=\"plotly-graph-div\" style=\"height:600px; width:1000px;\"></div>            <script type=\"text/javascript\">                require([\"plotly\"], function(Plotly) {                    window.PLOTLYENV=window.PLOTLYENV || {};                                    if (document.getElementById(\"935fae0c-1333-4bf6-845e-f539237685b4\")) {                    Plotly.newPlot(                        \"935fae0c-1333-4bf6-845e-f539237685b4\",                        [{\"marker\":{\"color\":[\"rgb(229, 134, 6)\",\"rgb(229, 134, 6)\",\"rgb(229, 134, 6)\",\"rgb(229, 134, 6)\",\"rgb(229, 134, 6)\",\"rgb(229, 134, 6)\",\"rgb(229, 134, 6)\",\"rgb(229, 134, 6)\",\"rgb(229, 134, 6)\",\"rgb(229, 134, 6)\",\"rgb(229, 134, 6)\",\"rgb(229, 134, 6)\",\"rgb(229, 134, 6)\",\"rgb(229, 134, 6)\",\"rgb(229, 134, 6)\",\"rgb(229, 134, 6)\",\"rgb(229, 134, 6)\",\"rgb(229, 134, 6)\",\"rgb(229, 134, 6)\",\"rgb(229, 134, 6)\",\"rgb(229, 134, 6)\",\"rgb(229, 134, 6)\",\"rgb(229, 134, 6)\",\"rgb(229, 134, 6)\",\"rgb(229, 134, 6)\",\"rgb(229, 134, 6)\",\"rgb(229, 134, 6)\",\"rgb(229, 134, 6)\",\"rgb(229, 134, 6)\",\"rgb(229, 134, 6)\",\"rgb(229, 134, 6)\",\"rgb(229, 134, 6)\",\"rgb(229, 134, 6)\",\"rgb(229, 134, 6)\",\"rgb(229, 134, 6)\",\"rgb(229, 134, 6)\",\"rgb(229, 134, 6)\",\"rgb(229, 134, 6)\",\"rgb(229, 134, 6)\",\"rgb(229, 134, 6)\",\"rgb(229, 134, 6)\",\"rgb(229, 134, 6)\",\"rgb(229, 134, 6)\",\"rgb(229, 134, 6)\",\"rgb(229, 134, 6)\",\"rgb(93, 105, 177)\",\"rgb(93, 105, 177)\",\"rgb(93, 105, 177)\",\"rgb(93, 105, 177)\",\"rgb(93, 105, 177)\",\"rgb(93, 105, 177)\",\"rgb(93, 105, 177)\",\"rgb(93, 105, 177)\",\"rgb(93, 105, 177)\",\"rgb(93, 105, 177)\",\"rgb(93, 105, 177)\",\"rgb(93, 105, 177)\",\"rgb(93, 105, 177)\",\"rgb(93, 105, 177)\",\"rgb(93, 105, 177)\",\"rgb(93, 105, 177)\",\"rgb(93, 105, 177)\",\"rgb(93, 105, 177)\",\"rgb(93, 105, 177)\",\"rgb(93, 105, 177)\",\"rgb(93, 105, 177)\",\"rgb(93, 105, 177)\",\"rgb(93, 105, 177)\",\"rgb(93, 105, 177)\",\"rgb(93, 105, 177)\",\"rgb(93, 105, 177)\",\"rgb(93, 105, 177)\",\"rgb(93, 105, 177)\",\"rgb(93, 105, 177)\",\"rgb(93, 105, 177)\",\"rgb(93, 105, 177)\",\"rgb(93, 105, 177)\",\"rgb(93, 105, 177)\",\"rgb(93, 105, 177)\",\"rgb(93, 105, 177)\",\"rgb(93, 105, 177)\",\"rgb(93, 105, 177)\",\"rgb(93, 105, 177)\",\"rgb(93, 105, 177)\",\"rgb(93, 105, 177)\",\"rgb(93, 105, 177)\",\"rgb(93, 105, 177)\",\"rgb(93, 105, 177)\",\"rgb(93, 105, 177)\",\"rgb(93, 105, 177)\",\"rgb(93, 105, 177)\",\"rgb(93, 105, 177)\",\"rgb(93, 105, 177)\",\"rgb(93, 105, 177)\",\"rgb(93, 105, 177)\",\"rgb(93, 105, 177)\",\"rgb(93, 105, 177)\",\"rgb(93, 105, 177)\",\"rgb(93, 105, 177)\",\"rgb(93, 105, 177)\",\"rgb(93, 105, 177)\",\"rgb(93, 105, 177)\",\"rgb(93, 105, 177)\",\"rgb(93, 105, 177)\",\"rgb(82, 188, 163)\",\"rgb(82, 188, 163)\",\"rgb(82, 188, 163)\",\"rgb(82, 188, 163)\",\"rgb(82, 188, 163)\",\"rgb(82, 188, 163)\",\"rgb(82, 188, 163)\",\"rgb(82, 188, 163)\",\"rgb(82, 188, 163)\",\"rgb(82, 188, 163)\",\"rgb(82, 188, 163)\",\"rgb(82, 188, 163)\",\"rgb(82, 188, 163)\",\"rgb(82, 188, 163)\",\"rgb(82, 188, 163)\",\"rgb(82, 188, 163)\",\"rgb(82, 188, 163)\",\"rgb(82, 188, 163)\",\"rgb(82, 188, 163)\",\"rgb(82, 188, 163)\",\"rgb(82, 188, 163)\",\"rgb(82, 188, 163)\",\"rgb(82, 188, 163)\",\"rgb(82, 188, 163)\",\"rgb(82, 188, 163)\",\"rgb(82, 188, 163)\",\"rgb(82, 188, 163)\",\"rgb(82, 188, 163)\",\"rgb(82, 188, 163)\",\"rgb(82, 188, 163)\",\"rgb(82, 188, 163)\",\"rgb(82, 188, 163)\",\"rgb(82, 188, 163)\",\"rgb(82, 188, 163)\",\"rgb(82, 188, 163)\",\"rgb(82, 188, 163)\",\"rgb(82, 188, 163)\",\"rgb(82, 188, 163)\",\"rgb(82, 188, 163)\",\"rgb(82, 188, 163)\",\"rgb(82, 188, 163)\"],\"showscale\":false,\"size\":8},\"mode\":\"markers\",\"name\":\"scores\",\"showlegend\":false,\"text\":[0.0,1.0,2.0,3.0,4.0,5.0,6.0,7.0,8.0,9.0,10.0,11.0,12.0,13.0,14.0,15.0,16.0,17.0,18.0,19.0,20.0,21.0,22.0,23.0,24.0,25.0,26.0,27.0,28.0,29.0,30.0,31.0,32.0,33.0,34.0,35.0,36.0,37.0,38.0,39.0,40.0,41.0,42.0,43.0,44.0,45.0,46.0,47.0,48.0,49.0,50.0,51.0,52.0,53.0,54.0,55.0,56.0,57.0,58.0,59.0,60.0,61.0,62.0,63.0,64.0,65.0,66.0,67.0,68.0,69.0,70.0,71.0,72.0,73.0,74.0,75.0,76.0,77.0,78.0,79.0,80.0,81.0,82.0,83.0,84.0,85.0,86.0,87.0,88.0,89.0,90.0,91.0,92.0,93.0,94.0,95.0,96.0,97.0,98.0,99.0,100.0,101.0,102.0,103.0,104.0,105.0,106.0,107.0,108.0,109.0,110.0,111.0,112.0,113.0,114.0,115.0,116.0,117.0,118.0,119.0,120.0,121.0,122.0,123.0,124.0,125.0,126.0,127.0,128.0,129.0,130.0,131.0,132.0,133.0,134.0,135.0,136.0,137.0,138.0,139.0,140.0,141.0,142.0,143.0,144.0],\"x\":[-1.1860645812359334,0.3664498915592002,-1.565083912567214,-1.0901779064375472,-0.9388382865112492,-1.9321830519374408,-0.6275626449615364,-0.820877498387842,0.5366443847492898,-0.2601922874829319,-1.3824836961268252,-1.1674643093958061,-0.43372064581551567,-1.4506883848772634,0.29372192779163947,-0.01794877664215187,-0.8750702007438664,-0.7871052496814865,-1.9759895590424241,-0.13349140461401185,-1.2635969729430903,1.4206478049420777,-0.23488854453301775,-0.738058708381245,1.2286970947094886,-1.2279435925258384,0.3997518688793426,-1.3026863228082985,0.37488923951104813,-2.3062273198915957,-0.7182608045190548,-0.06724445875370792,-0.8723740459077991,-1.9080157702981686,0.917982977467558,-1.1062950870024983,-0.3455154485015968,-0.07052320317686346,-0.027445759249499418,-0.6627535570391514,-1.8478968417650548,1.110564881110001,0.4538035076401313,-0.2051126414249883,0.2340797834691976,0.43520200512399376,2.2184329358472215,1.9604029505105194,1.8209179907989688,-0.2166078511327281,3.0831620617284625,1.224523010804247,0.27898828786280216,1.7926677690852197,4.37104135464484,2.28039094156465,1.194228770428773,1.8505902243976784,0.5222594585881236,0.5688179735594513,0.8599983941816186,1.8873127161722687,1.4091240428707343,1.8297955812635371,2.0030993882322408,2.0152583255092407,0.7501040899513252,2.1874470473007963,2.120431480667594,2.2164983670593674,2.830502654936905,1.8412991896077784,3.0907615867441427,1.0918307557983635,3.3702374734907368,3.481463422002379,2.0205409119230957,0.962382548788002,1.808423286261792,1.4662834439258265,1.5732869722615752,1.5311212934515535,2.2560150319392562,3.5203387926470278,2.806615530948606,2.289120275125337,1.4760745075790005,0.7886221053549792,2.429315030372873,1.6032598270596887,1.3921081771103638,2.1751264932943206,4.043154642877003,1.397255668004299,1.6603601043805505,1.9810561289387416,1.8874273453719361,1.4284190715312972,1.5311212146606517,2.5549321245118906,2.4568558423248033,0.662300476378433,1.289950690702704,1.3085003608624421,-2.1681085106113103,-1.5418263900484028,-1.5698454687129246,-1.5437630913996314,-2.061193083782072,-2.5536311352114707,-1.2606211150836215,-1.5849325853684022,-2.102381457850213,-2.0954691586024596,-1.6328926651334013,-2.1364055519948737,-2.4524943410635416,-2.818323150629876,-1.2548330536470722,-2.4605490032957866,-1.5215454726180349,-2.467947155561343,-1.2145882367130099,-3.373421894577201,-1.8658640760142173,-2.0894400596407747,-2.154645226375719,-2.8395940597402767,-1.7285677554075747,-2.5385132244208304,-2.5186704264987263,-1.1643702649451286,-2.1413610364489415,-1.8430470023366414,-1.6095421062165025,-1.2412649275422853,-1.912366942126063,-3.4250827125049126,-2.363286749443543,-1.720977059759359,-2.4057389348156706,-2.278408832296863,-2.578954802584764,-3.081671283324065,-1.14146218048825],\"y\":[3.687837588778433,1.9917573579771624,-1.8775150566539762,2.634292732885856,3.7284809409317807,-1.081748554274988,3.680706185931425,2.764023284786289,2.677597010631877,-0.9720988615679982,-0.9894107226749355,-1.5023019249332565,2.4682947009008087,4.139894527246339,1.8876507145404362,2.609357444750279,1.4331125328614618,2.7885898457003404,-3.281535582811086,2.2057656337027787,-1.3385558037848357,3.5099229144449797,1.1008925498232445,1.3612787427591655,2.898618055255938,-1.646862900992469,2.2139959198003623,-1.1156685430252244,2.099664113473677,-2.478041521379273,-0.4301522499205815,1.3383010632075678,-1.0161338115781133,-1.0106147322703423,3.3573750638879845,-0.6550596493189276,0.17352765742596574,1.894230204520561,1.9498981564524749,-0.9766293874712045,-1.6310490986443498,2.8848557063900913,2.1152127661987192,0.7448652242651922,0.9189913341914875,-1.5221516473841235,-0.8751267621305031,-1.27782036056392,-1.101013140809849,-0.14355999958963522,0.9986130913292403,-0.6800705964412243,1.4029156666429958,0.3519769525080129,0.4490047496841227,1.8111068148393672,-0.5623107658360136,-1.4861360679287807,-2.735403505988447,-2.688906696929118,-2.5124213601370737,-0.7943192100199857,-1.6726649742466584,-0.81430742660829,-1.656866204279819,-1.6575870951133627,-2.3149892825648393,-1.7498320550885442,-1.9093551916955216,-1.6899174722769315,-0.09062509774350525,-1.258287942628674,0.09854986171885813,-0.8525016318108319,0.17225410057330584,-0.17704336161959525,0.5153763088525017,-1.549342151714671,-0.01654537555777947,0.09352787948048003,-0.19899851004487182,-1.7522982114463448,-0.9822338931984819,-0.10944087340586742,0.6857642918462338,0.3818806177160828,-2.0531194178929257,-2.83459245502784,0.07474817252252461,0.25594674169272,-0.4528090009262484,-0.8026101091417989,0.39011373948208933,-0.11390315044791824,-1.5367705429202938,-0.7385627380682925,-1.268792111621666,-1.496916964568191,-1.7522981851017954,-0.018738670339414447,0.032081485561718866,1.9873925135762585,-0.45562650986139686,-0.7571915595155606,-0.35687634908024746,-0.19823648366609684,-0.27871361900174796,-0.2070902156543026,2.165480191523099,-0.274019119182725,0.5439774393470483,1.5075985105226004,-0.23984226568948874,-0.35480681733754704,2.679315470349741,-0.43593786458450084,-0.8783999474554433,-2.891396855438104,0.579404205536534,-0.8493634330555779,1.6611515180475247,-1.9332352537692368,0.7824847319523273,-2.036646332109436,0.277699499454844,3.600160972734295,-0.6181275029250176,-2.3665435891139723,3.0753734289639714,-2.1130293521118997,-0.6154951130504456,1.1746459838392902,-0.35002842431216846,-1.1872587291767365,1.7466851009243,0.7364966870851313,-0.9322391315211802,0.9821845124884258,-1.0339715175877828,0.9101628533291904,-0.7242328212623222,-1.5352421766197026,-1.1129467216824156,-3.4728938515181733,0.7308961005969233],\"type\":\"scatter\",\"xaxis\":\"x\",\"yaxis\":\"y\"},{\"marker\":{\"size\":8},\"mode\":\"markers+text\",\"name\":\"loadings\",\"showlegend\":false,\"text\":[\"D1\",\"D2\",\"D3\",\"D4\",\"D5\",\"D6\",\"D7\",\"D8\"],\"textposition\":\"top center\",\"x\":[0.505402555918536,0.5012555053256793,0.5037478778325096,-0.30079098638376695,0.16402462898949685,-0.17247186866780279,0.27573666578492606,0.1280339786390288],\"y\":[-0.146883001703645,-0.16759993981013138,-0.1568156742906132,-0.4575988921247089,-0.3026527239290936,0.3118074774297611,0.48541239757064386,0.5402776806523614],\"type\":\"scatter\",\"xaxis\":\"x2\",\"yaxis\":\"y2\"},{\"line\":{\"color\":\"gray\",\"width\":1},\"mode\":\"lines\",\"showlegend\":false,\"x\":[0,0.505402555918536],\"y\":[0,-0.146883001703645],\"type\":\"scatter\",\"xaxis\":\"x2\",\"yaxis\":\"y2\"},{\"line\":{\"color\":\"gray\",\"width\":1},\"mode\":\"lines\",\"showlegend\":false,\"x\":[0,0.5012555053256793],\"y\":[0,-0.16759993981013138],\"type\":\"scatter\",\"xaxis\":\"x2\",\"yaxis\":\"y2\"},{\"line\":{\"color\":\"gray\",\"width\":1},\"mode\":\"lines\",\"showlegend\":false,\"x\":[0,0.5037478778325096],\"y\":[0,-0.1568156742906132],\"type\":\"scatter\",\"xaxis\":\"x2\",\"yaxis\":\"y2\"},{\"line\":{\"color\":\"gray\",\"width\":1},\"mode\":\"lines\",\"showlegend\":false,\"x\":[0,-0.30079098638376695],\"y\":[0,-0.4575988921247089],\"type\":\"scatter\",\"xaxis\":\"x2\",\"yaxis\":\"y2\"},{\"line\":{\"color\":\"gray\",\"width\":1},\"mode\":\"lines\",\"showlegend\":false,\"x\":[0,0.16402462898949685],\"y\":[0,-0.3026527239290936],\"type\":\"scatter\",\"xaxis\":\"x2\",\"yaxis\":\"y2\"},{\"line\":{\"color\":\"gray\",\"width\":1},\"mode\":\"lines\",\"showlegend\":false,\"x\":[0,-0.17247186866780279],\"y\":[0,0.3118074774297611],\"type\":\"scatter\",\"xaxis\":\"x2\",\"yaxis\":\"y2\"},{\"line\":{\"color\":\"gray\",\"width\":1},\"mode\":\"lines\",\"showlegend\":false,\"x\":[0,0.27573666578492606],\"y\":[0,0.48541239757064386],\"type\":\"scatter\",\"xaxis\":\"x2\",\"yaxis\":\"y2\"},{\"line\":{\"color\":\"gray\",\"width\":1},\"mode\":\"lines\",\"showlegend\":false,\"x\":[0,0.1280339786390288],\"y\":[0,0.5402776806523614],\"type\":\"scatter\",\"xaxis\":\"x2\",\"yaxis\":\"y2\"}],                        {\"template\":{\"data\":{\"barpolar\":[{\"marker\":{\"line\":{\"color\":\"white\",\"width\":0.5},\"pattern\":{\"fillmode\":\"overlay\",\"size\":10,\"solidity\":0.2}},\"type\":\"barpolar\"}],\"bar\":[{\"error_x\":{\"color\":\"#2a3f5f\"},\"error_y\":{\"color\":\"#2a3f5f\"},\"marker\":{\"line\":{\"color\":\"white\",\"width\":0.5},\"pattern\":{\"fillmode\":\"overlay\",\"size\":10,\"solidity\":0.2}},\"type\":\"bar\"}],\"carpet\":[{\"aaxis\":{\"endlinecolor\":\"#2a3f5f\",\"gridcolor\":\"#C8D4E3\",\"linecolor\":\"#C8D4E3\",\"minorgridcolor\":\"#C8D4E3\",\"startlinecolor\":\"#2a3f5f\"},\"baxis\":{\"endlinecolor\":\"#2a3f5f\",\"gridcolor\":\"#C8D4E3\",\"linecolor\":\"#C8D4E3\",\"minorgridcolor\":\"#C8D4E3\",\"startlinecolor\":\"#2a3f5f\"},\"type\":\"carpet\"}],\"choropleth\":[{\"colorbar\":{\"outlinewidth\":0,\"ticks\":\"\"},\"type\":\"choropleth\"}],\"contourcarpet\":[{\"colorbar\":{\"outlinewidth\":0,\"ticks\":\"\"},\"type\":\"contourcarpet\"}],\"contour\":[{\"colorbar\":{\"outlinewidth\":0,\"ticks\":\"\"},\"colorscale\":[[0.0,\"#0d0887\"],[0.1111111111111111,\"#46039f\"],[0.2222222222222222,\"#7201a8\"],[0.3333333333333333,\"#9c179e\"],[0.4444444444444444,\"#bd3786\"],[0.5555555555555556,\"#d8576b\"],[0.6666666666666666,\"#ed7953\"],[0.7777777777777778,\"#fb9f3a\"],[0.8888888888888888,\"#fdca26\"],[1.0,\"#f0f921\"]],\"type\":\"contour\"}],\"heatmapgl\":[{\"colorbar\":{\"outlinewidth\":0,\"ticks\":\"\"},\"colorscale\":[[0.0,\"#0d0887\"],[0.1111111111111111,\"#46039f\"],[0.2222222222222222,\"#7201a8\"],[0.3333333333333333,\"#9c179e\"],[0.4444444444444444,\"#bd3786\"],[0.5555555555555556,\"#d8576b\"],[0.6666666666666666,\"#ed7953\"],[0.7777777777777778,\"#fb9f3a\"],[0.8888888888888888,\"#fdca26\"],[1.0,\"#f0f921\"]],\"type\":\"heatmapgl\"}],\"heatmap\":[{\"colorbar\":{\"outlinewidth\":0,\"ticks\":\"\"},\"colorscale\":[[0.0,\"#0d0887\"],[0.1111111111111111,\"#46039f\"],[0.2222222222222222,\"#7201a8\"],[0.3333333333333333,\"#9c179e\"],[0.4444444444444444,\"#bd3786\"],[0.5555555555555556,\"#d8576b\"],[0.6666666666666666,\"#ed7953\"],[0.7777777777777778,\"#fb9f3a\"],[0.8888888888888888,\"#fdca26\"],[1.0,\"#f0f921\"]],\"type\":\"heatmap\"}],\"histogram2dcontour\":[{\"colorbar\":{\"outlinewidth\":0,\"ticks\":\"\"},\"colorscale\":[[0.0,\"#0d0887\"],[0.1111111111111111,\"#46039f\"],[0.2222222222222222,\"#7201a8\"],[0.3333333333333333,\"#9c179e\"],[0.4444444444444444,\"#bd3786\"],[0.5555555555555556,\"#d8576b\"],[0.6666666666666666,\"#ed7953\"],[0.7777777777777778,\"#fb9f3a\"],[0.8888888888888888,\"#fdca26\"],[1.0,\"#f0f921\"]],\"type\":\"histogram2dcontour\"}],\"histogram2d\":[{\"colorbar\":{\"outlinewidth\":0,\"ticks\":\"\"},\"colorscale\":[[0.0,\"#0d0887\"],[0.1111111111111111,\"#46039f\"],[0.2222222222222222,\"#7201a8\"],[0.3333333333333333,\"#9c179e\"],[0.4444444444444444,\"#bd3786\"],[0.5555555555555556,\"#d8576b\"],[0.6666666666666666,\"#ed7953\"],[0.7777777777777778,\"#fb9f3a\"],[0.8888888888888888,\"#fdca26\"],[1.0,\"#f0f921\"]],\"type\":\"histogram2d\"}],\"histogram\":[{\"marker\":{\"pattern\":{\"fillmode\":\"overlay\",\"size\":10,\"solidity\":0.2}},\"type\":\"histogram\"}],\"mesh3d\":[{\"colorbar\":{\"outlinewidth\":0,\"ticks\":\"\"},\"type\":\"mesh3d\"}],\"parcoords\":[{\"line\":{\"colorbar\":{\"outlinewidth\":0,\"ticks\":\"\"}},\"type\":\"parcoords\"}],\"pie\":[{\"automargin\":true,\"type\":\"pie\"}],\"scatter3d\":[{\"line\":{\"colorbar\":{\"outlinewidth\":0,\"ticks\":\"\"}},\"marker\":{\"colorbar\":{\"outlinewidth\":0,\"ticks\":\"\"}},\"type\":\"scatter3d\"}],\"scattercarpet\":[{\"marker\":{\"colorbar\":{\"outlinewidth\":0,\"ticks\":\"\"}},\"type\":\"scattercarpet\"}],\"scattergeo\":[{\"marker\":{\"colorbar\":{\"outlinewidth\":0,\"ticks\":\"\"}},\"type\":\"scattergeo\"}],\"scattergl\":[{\"marker\":{\"colorbar\":{\"outlinewidth\":0,\"ticks\":\"\"}},\"type\":\"scattergl\"}],\"scattermapbox\":[{\"marker\":{\"colorbar\":{\"outlinewidth\":0,\"ticks\":\"\"}},\"type\":\"scattermapbox\"}],\"scatterpolargl\":[{\"marker\":{\"colorbar\":{\"outlinewidth\":0,\"ticks\":\"\"}},\"type\":\"scatterpolargl\"}],\"scatterpolar\":[{\"marker\":{\"colorbar\":{\"outlinewidth\":0,\"ticks\":\"\"}},\"type\":\"scatterpolar\"}],\"scatter\":[{\"fillpattern\":{\"fillmode\":\"overlay\",\"size\":10,\"solidity\":0.2},\"type\":\"scatter\"}],\"scatterternary\":[{\"marker\":{\"colorbar\":{\"outlinewidth\":0,\"ticks\":\"\"}},\"type\":\"scatterternary\"}],\"surface\":[{\"colorbar\":{\"outlinewidth\":0,\"ticks\":\"\"},\"colorscale\":[[0.0,\"#0d0887\"],[0.1111111111111111,\"#46039f\"],[0.2222222222222222,\"#7201a8\"],[0.3333333333333333,\"#9c179e\"],[0.4444444444444444,\"#bd3786\"],[0.5555555555555556,\"#d8576b\"],[0.6666666666666666,\"#ed7953\"],[0.7777777777777778,\"#fb9f3a\"],[0.8888888888888888,\"#fdca26\"],[1.0,\"#f0f921\"]],\"type\":\"surface\"}],\"table\":[{\"cells\":{\"fill\":{\"color\":\"#EBF0F8\"},\"line\":{\"color\":\"white\"}},\"header\":{\"fill\":{\"color\":\"#C8D4E3\"},\"line\":{\"color\":\"white\"}},\"type\":\"table\"}]},\"layout\":{\"annotationdefaults\":{\"arrowcolor\":\"#2a3f5f\",\"arrowhead\":0,\"arrowwidth\":1},\"autotypenumbers\":\"strict\",\"coloraxis\":{\"colorbar\":{\"outlinewidth\":0,\"ticks\":\"\"}},\"colorscale\":{\"diverging\":[[0,\"#8e0152\"],[0.1,\"#c51b7d\"],[0.2,\"#de77ae\"],[0.3,\"#f1b6da\"],[0.4,\"#fde0ef\"],[0.5,\"#f7f7f7\"],[0.6,\"#e6f5d0\"],[0.7,\"#b8e186\"],[0.8,\"#7fbc41\"],[0.9,\"#4d9221\"],[1,\"#276419\"]],\"sequential\":[[0.0,\"#0d0887\"],[0.1111111111111111,\"#46039f\"],[0.2222222222222222,\"#7201a8\"],[0.3333333333333333,\"#9c179e\"],[0.4444444444444444,\"#bd3786\"],[0.5555555555555556,\"#d8576b\"],[0.6666666666666666,\"#ed7953\"],[0.7777777777777778,\"#fb9f3a\"],[0.8888888888888888,\"#fdca26\"],[1.0,\"#f0f921\"]],\"sequentialminus\":[[0.0,\"#0d0887\"],[0.1111111111111111,\"#46039f\"],[0.2222222222222222,\"#7201a8\"],[0.3333333333333333,\"#9c179e\"],[0.4444444444444444,\"#bd3786\"],[0.5555555555555556,\"#d8576b\"],[0.6666666666666666,\"#ed7953\"],[0.7777777777777778,\"#fb9f3a\"],[0.8888888888888888,\"#fdca26\"],[1.0,\"#f0f921\"]]},\"colorway\":[\"#636efa\",\"#EF553B\",\"#00cc96\",\"#ab63fa\",\"#FFA15A\",\"#19d3f3\",\"#FF6692\",\"#B6E880\",\"#FF97FF\",\"#FECB52\"],\"font\":{\"color\":\"#2a3f5f\"},\"geo\":{\"bgcolor\":\"white\",\"lakecolor\":\"white\",\"landcolor\":\"white\",\"showlakes\":true,\"showland\":true,\"subunitcolor\":\"#C8D4E3\"},\"hoverlabel\":{\"align\":\"left\"},\"hovermode\":\"closest\",\"mapbox\":{\"style\":\"light\"},\"paper_bgcolor\":\"white\",\"plot_bgcolor\":\"white\",\"polar\":{\"angularaxis\":{\"gridcolor\":\"#EBF0F8\",\"linecolor\":\"#EBF0F8\",\"ticks\":\"\"},\"bgcolor\":\"white\",\"radialaxis\":{\"gridcolor\":\"#EBF0F8\",\"linecolor\":\"#EBF0F8\",\"ticks\":\"\"}},\"scene\":{\"xaxis\":{\"backgroundcolor\":\"white\",\"gridcolor\":\"#DFE8F3\",\"gridwidth\":2,\"linecolor\":\"#EBF0F8\",\"showbackground\":true,\"ticks\":\"\",\"zerolinecolor\":\"#EBF0F8\"},\"yaxis\":{\"backgroundcolor\":\"white\",\"gridcolor\":\"#DFE8F3\",\"gridwidth\":2,\"linecolor\":\"#EBF0F8\",\"showbackground\":true,\"ticks\":\"\",\"zerolinecolor\":\"#EBF0F8\"},\"zaxis\":{\"backgroundcolor\":\"white\",\"gridcolor\":\"#DFE8F3\",\"gridwidth\":2,\"linecolor\":\"#EBF0F8\",\"showbackground\":true,\"ticks\":\"\",\"zerolinecolor\":\"#EBF0F8\"}},\"shapedefaults\":{\"line\":{\"color\":\"#2a3f5f\"}},\"ternary\":{\"aaxis\":{\"gridcolor\":\"#DFE8F3\",\"linecolor\":\"#A2B1C6\",\"ticks\":\"\"},\"baxis\":{\"gridcolor\":\"#DFE8F3\",\"linecolor\":\"#A2B1C6\",\"ticks\":\"\"},\"bgcolor\":\"white\",\"caxis\":{\"gridcolor\":\"#DFE8F3\",\"linecolor\":\"#A2B1C6\",\"ticks\":\"\"}},\"title\":{\"x\":0.05},\"xaxis\":{\"automargin\":true,\"gridcolor\":\"#EBF0F8\",\"linecolor\":\"#EBF0F8\",\"ticks\":\"\",\"title\":{\"standoff\":15},\"zerolinecolor\":\"#EBF0F8\",\"zerolinewidth\":2},\"yaxis\":{\"automargin\":true,\"gridcolor\":\"#EBF0F8\",\"linecolor\":\"#EBF0F8\",\"ticks\":\"\",\"title\":{\"standoff\":15},\"zerolinecolor\":\"#EBF0F8\",\"zerolinewidth\":2}}},\"xaxis\":{\"anchor\":\"y\",\"domain\":[0.0,0.45],\"title\":{\"text\":\"PC1\"},\"zeroline\":true,\"zerolinewidth\":1,\"zerolinecolor\":\"Black\"},\"yaxis\":{\"anchor\":\"x\",\"domain\":[0.0,1.0],\"title\":{\"text\":\"PC2\"},\"zeroline\":true,\"zerolinewidth\":1,\"zerolinecolor\":\"Black\"},\"xaxis2\":{\"anchor\":\"y2\",\"domain\":[0.55,1.0],\"title\":{\"text\":\"PC1 Loadings\"},\"zeroline\":true,\"zerolinewidth\":1,\"zerolinecolor\":\"Black\"},\"yaxis2\":{\"anchor\":\"x2\",\"domain\":[0.0,1.0],\"title\":{\"text\":\"PC2 Loadings\"},\"zeroline\":true,\"zerolinewidth\":1,\"zerolinecolor\":\"Black\"},\"annotations\":[{\"font\":{\"size\":16},\"showarrow\":false,\"text\":\"Scores Plot (PC1 vs PC2)\",\"x\":0.225,\"xanchor\":\"center\",\"xref\":\"paper\",\"y\":1.0,\"yanchor\":\"bottom\",\"yref\":\"paper\"},{\"font\":{\"size\":16},\"showarrow\":false,\"text\":\"Loadings Plot (PC1 vs PC2)\",\"x\":0.775,\"xanchor\":\"center\",\"xref\":\"paper\",\"y\":1.0,\"yanchor\":\"bottom\",\"yref\":\"paper\"}],\"title\":{\"text\":\"PCA Scores and Loadings (PC1 vs PC2)\"},\"width\":1000,\"height\":600,\"legend\":{\"title\":{\"text\":\"Class\"}}},                        {\"responsive\": true}                    ).then(function(){\n",
       "                            \n",
       "var gd = document.getElementById('935fae0c-1333-4bf6-845e-f539237685b4');\n",
       "var x = new MutationObserver(function (mutations, observer) {{\n",
       "        var display = window.getComputedStyle(gd).display;\n",
       "        if (!display || display === 'none') {{\n",
       "            console.log([gd, 'removed!']);\n",
       "            Plotly.purge(gd);\n",
       "            observer.disconnect();\n",
       "        }}\n",
       "}});\n",
       "\n",
       "// Listen for the removal of the full notebook cells\n",
       "var notebookContainer = gd.closest('#notebook-container');\n",
       "if (notebookContainer) {{\n",
       "    x.observe(notebookContainer, {childList: true});\n",
       "}}\n",
       "\n",
       "// Listen for the clearing of the current output cell\n",
       "var outputEl = gd.closest('.output');\n",
       "if (outputEl) {{\n",
       "    x.observe(outputEl, {childList: true});\n",
       "}}\n",
       "\n",
       "                        })                };                });            </script>        </div>"
      ]
     },
     "metadata": {},
     "output_type": "display_data"
    }
   ],
   "source": [
    "# Define color mapping for categorical values (Class 1, 2, 3)\n",
    "color_map = px.colors.qualitative.Vivid  \n",
    "\n",
    "# Map each class to a color\n",
    "unique_classes = scores_withonlyclass['Class'].unique()\n",
    "color_dict = {category: color_map[i % len(color_map)] for i, category in enumerate(unique_classes)}\n",
    "\n",
    "# Create subplots with two columns: Scores plot and Loadings plot\n",
    "fig = make_subplots(rows=1, cols=2, subplot_titles=(\"Scores Plot (PC1 vs PC2)\", \"Loadings Plot (PC1 vs PC2)\"))\n",
    "\n",
    "# Plot the scores in the first subplot (PC1 vs PC2)\n",
    "fig.add_trace(\n",
    "    go.Scatter(\n",
    "        x=scores_withonlyclass['PC1'],\n",
    "        y=scores_withonlyclass['PC2'],\n",
    "        mode='markers',\n",
    "        marker=dict(\n",
    "            size=8,\n",
    "            color=[color_dict[category] for category in scores_withonlyclass['Class']],  # Map classes to colors\n",
    "            showscale=False,  # Disable color scale for categorical representation\n",
    "        ),\n",
    "        text=scores_withonlyclass.index,  # Display index values on hover\n",
    "        name='scores',\n",
    "        showlegend=False  # Hide legend for scores plot\n",
    "    ),\n",
    "    row=1, col=1  # Place in the first column\n",
    ")\n",
    "\n",
    "# Plot the loadings in the second subplot (PC1 vs PC2)\n",
    "fig.add_trace(\n",
    "    go.Scatter(\n",
    "        x=loadings['PC1'],\n",
    "        y=loadings['PC2'],\n",
    "        mode='markers+text',\n",
    "        text=loadings.index,  # Show descriptor names\n",
    "        textposition='top center',\n",
    "        marker=dict(size=8),\n",
    "        name='loadings',\n",
    "        showlegend=False  # Hide legend for loadings plot\n",
    "    ),\n",
    "    row=1, col=2  # Place in the second column\n",
    ")\n",
    "\n",
    "# Add lines from the origin to each point in the loadings plot\n",
    "for feature in loadings.index:\n",
    "    fig.add_trace(\n",
    "        go.Scatter(\n",
    "            x=[0, loadings.loc[feature, 'PC1']],\n",
    "            y=[0, loadings.loc[feature, 'PC2']],\n",
    "            mode='lines',\n",
    "            line=dict(color='gray', width=1),\n",
    "            showlegend=False  # Hide legend for the lines\n",
    "        ),\n",
    "        row=1, col=2  # Second column\n",
    "    )\n",
    "\n",
    "# Customize axes titles\n",
    "fig.update_xaxes(title_text=\"PC1\", row=1, col=1)\n",
    "fig.update_yaxes(title_text=\"PC2\", row=1, col=1)\n",
    "\n",
    "fig.update_xaxes(title_text=\"PC1 Loadings\", row=1, col=2)\n",
    "fig.update_yaxes(title_text=\"PC2 Loadings\", row=1, col=2)\n",
    "\n",
    "# Add zero lines to both subplots for better interpretation\n",
    "fig.update_xaxes(zeroline=True, zerolinewidth=1, zerolinecolor='Black', row=1, col=1)\n",
    "fig.update_yaxes(zeroline=True, zerolinewidth=1, zerolinecolor='Black', row=1, col=1)\n",
    "\n",
    "fig.update_xaxes(zeroline=True, zerolinewidth=1, zerolinecolor='Black', row=1, col=2)\n",
    "fig.update_yaxes(zeroline=True, zerolinewidth=1, zerolinecolor='Black', row=1, col=2)\n",
    "\n",
    "# Set overall layout properties\n",
    "fig.update_layout(\n",
    "    title=\"PCA Scores and Loadings (PC1 vs PC2)\",\n",
    "    width=1000,  # Adjust the width\n",
    "    height=600,  # Adjust the height\n",
    "    template='plotly_white',\n",
    "    legend_title=\"Class\"\n",
    ")\n",
    "\n",
    "# Show the final plot\n",
    "fig.show()\n"
   ]
  },
  {
   "cell_type": "markdown",
   "metadata": {},
   "source": [
    "## Principal Component Analysis (PCA) observations : \n",
    "\n",
    "PCA successfully distinguishes the three molecular classes based on their descriptor profiles.\n",
    "- Descriptors D1, D2, and D3 have high positive loadings along PC1, while D6, D7 and D8 have high positive loadings along PC2. D4 and D5 have negative contributions along PC2. \n",
    "- Descriptors closer to the origin in the loadings plot contribute less to the variance, while those further away have a stronger influence.\n",
    "- Class 1 (COX1 binders - Orange) is spread along PC2, occupying both positive and negative regions of PC1. \n",
    "- Class 2 (HIV-1 protease binders - Blue) clusters in the positive PC1 region, influenced by descriptors D1, D2, and D3 have high positive loadings along PC1.\n",
    "- Class 3 (Cytochrome C peroxidase binders - Green) clusters in the negative PC1 region, influenced by D4 & D6 with negative contributions along PC1. "
   ]
  },
  {
   "cell_type": "code",
   "execution_count": null,
   "metadata": {},
   "outputs": [],
   "source": []
  }
 ],
 "metadata": {
  "interpreter": {
   "hash": "ab0557e401f4bd7fe5a224cb1b643b2ab852dbf5ac1955aaebf95fddefe056b1"
  },
  "kernelspec": {
   "display_name": "Python 3 (ipykernel)",
   "language": "python",
   "name": "python3"
  },
  "language_info": {
   "codemirror_mode": {
    "name": "ipython",
    "version": 3
   },
   "file_extension": ".py",
   "mimetype": "text/x-python",
   "name": "python",
   "nbconvert_exporter": "python",
   "pygments_lexer": "ipython3",
   "version": "3.12.7"
  }
 },
 "nbformat": 4,
 "nbformat_minor": 4
}
